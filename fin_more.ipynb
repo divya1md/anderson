{
 "cells": [
  {
   "cell_type": "code",
   "execution_count": 1,
   "metadata": {
    "collapsed": true
   },
   "outputs": [],
   "source": [
    "from tabula import read_pdf\n",
    "df1 = read_pdf(\"base3.pdf\", pages=\"all\",spreadsheet=True)\n",
    "df2 = read_pdf(\"cycle1.pdf\", pages=\"all\",spreadsheet=True)"
   ]
  },
  {
   "cell_type": "code",
   "execution_count": 2,
   "metadata": {
    "collapsed": true
   },
   "outputs": [],
   "source": [
    "df1.to_csv(\"bbb1.csv\")\n",
    "df2.to_csv(\"ccc1.csv\")"
   ]
  },
  {
   "cell_type": "code",
   "execution_count": 3,
   "metadata": {
    "collapsed": true
   },
   "outputs": [],
   "source": [
    "import pandas as pd\n",
    "data = pd.read_csv(\"bbb1.csv\", index_col =\"UID\")\n",
    "data.drop([\"UID\"], inplace = True)\n",
    "data1 = pd.read_csv(\"ccc1.csv\", index_col =\"UID\")\n",
    "data1.drop([\"UID\"], inplace = True) "
   ]
  },
  {
   "cell_type": "code",
   "execution_count": 4,
   "metadata": {
    "collapsed": true
   },
   "outputs": [],
   "source": [
    "data.to_csv(\"bbb1.csv\")\n",
    "data1.to_csv(\"ccc1.csv\")"
   ]
  },
  {
   "cell_type": "code",
   "execution_count": 5,
   "metadata": {
    "collapsed": true
   },
   "outputs": [],
   "source": [
    "data.drop([\"Unnamed: 0\"], axis = 1, inplace = True)\n",
    "data1.drop([\"Unnamed: 0\"], axis = 1, inplace = True)"
   ]
  },
  {
   "cell_type": "code",
   "execution_count": 6,
   "metadata": {
    "collapsed": true
   },
   "outputs": [],
   "source": [
    "data.to_csv(\"bbb1.csv\")\n",
    "data1.to_csv(\"ccc1.csv\")"
   ]
  },
  {
   "cell_type": "code",
   "execution_count": 7,
   "metadata": {},
   "outputs": [
    {
     "data": {
      "text/html": [
       "<div>\n",
       "<style scoped>\n",
       "    .dataframe tbody tr th:only-of-type {\n",
       "        vertical-align: middle;\n",
       "    }\n",
       "\n",
       "    .dataframe tbody tr th {\n",
       "        vertical-align: top;\n",
       "    }\n",
       "\n",
       "    .dataframe thead th {\n",
       "        text-align: right;\n",
       "    }\n",
       "</style>\n",
       "<table border=\"1\" class=\"dataframe\">\n",
       "  <thead>\n",
       "    <tr style=\"text-align: right;\">\n",
       "      <th></th>\n",
       "      <th>Product #</th>\n",
       "      <th>Product Description</th>\n",
       "      <th>Qty</th>\n",
       "      <th>Unit Price</th>\n",
       "      <th>Total Price</th>\n",
       "    </tr>\n",
       "    <tr>\n",
       "      <th>UID</th>\n",
       "      <th></th>\n",
       "      <th></th>\n",
       "      <th></th>\n",
       "      <th></th>\n",
       "      <th></th>\n",
       "    </tr>\n",
       "  </thead>\n",
       "  <tbody>\n",
       "    <tr>\n",
       "      <th>1</th>\n",
       "      <td>100-1</td>\n",
       "      <td>400 Series Awning\\rOverall Joined Rough Openin...</td>\n",
       "      <td>1</td>\n",
       "      <td>$2,289.30</td>\n",
       "      <td>$2,289.30</td>\n",
       "    </tr>\n",
       "    <tr>\n",
       "      <th>2</th>\n",
       "      <td>100-2</td>\n",
       "      <td>400 Series Awning\\rOverall Joined Rough Openin...</td>\n",
       "      <td>2</td>\n",
       "      <td>$13.80</td>\n",
       "      <td>$27.60</td>\n",
       "    </tr>\n",
       "    <tr>\n",
       "      <th>3</th>\n",
       "      <td>100-3</td>\n",
       "      <td>400 Series Awning\\rOverall Joined Rough Openin...</td>\n",
       "      <td>1</td>\n",
       "      <td>$13.80</td>\n",
       "      <td>$13.80</td>\n",
       "    </tr>\n",
       "    <tr>\n",
       "      <th>4</th>\n",
       "      <td>100-4</td>\n",
       "      <td>400 Series Awning $13.80\\rOverall Joined Rough...</td>\n",
       "      <td>1</td>\n",
       "      <td>$13.80</td>\n",
       "      <td>$13.80</td>\n",
       "    </tr>\n",
       "    <tr>\n",
       "      <th>5</th>\n",
       "      <td>300-1</td>\n",
       "      <td>400 Series Double-Hung Bay\\rOverall Joined Rou...</td>\n",
       "      <td>1</td>\n",
       "      <td>$4,196.20</td>\n",
       "      <td>$4,196.20</td>\n",
       "    </tr>\n",
       "  </tbody>\n",
       "</table>\n",
       "</div>"
      ],
      "text/plain": [
       "    Product #                                Product Description Qty  \\\n",
       "UID                                                                    \n",
       "1       100-1  400 Series Awning\\rOverall Joined Rough Openin...   1   \n",
       "2       100-2  400 Series Awning\\rOverall Joined Rough Openin...   2   \n",
       "3       100-3  400 Series Awning\\rOverall Joined Rough Openin...   1   \n",
       "4       100-4  400 Series Awning $13.80\\rOverall Joined Rough...   1   \n",
       "5       300-1  400 Series Double-Hung Bay\\rOverall Joined Rou...   1   \n",
       "\n",
       "    Unit Price Total Price  \n",
       "UID                         \n",
       "1    $2,289.30   $2,289.30  \n",
       "2       $13.80      $27.60  \n",
       "3       $13.80      $13.80  \n",
       "4       $13.80      $13.80  \n",
       "5    $4,196.20   $4,196.20  "
      ]
     },
     "execution_count": 7,
     "metadata": {},
     "output_type": "execute_result"
    }
   ],
   "source": [
    "data.head()\n"
   ]
  },
  {
   "cell_type": "code",
   "execution_count": 8,
   "metadata": {},
   "outputs": [
    {
     "data": {
      "text/html": [
       "<div>\n",
       "<style scoped>\n",
       "    .dataframe tbody tr th:only-of-type {\n",
       "        vertical-align: middle;\n",
       "    }\n",
       "\n",
       "    .dataframe tbody tr th {\n",
       "        vertical-align: top;\n",
       "    }\n",
       "\n",
       "    .dataframe thead th {\n",
       "        text-align: right;\n",
       "    }\n",
       "</style>\n",
       "<table border=\"1\" class=\"dataframe\">\n",
       "  <thead>\n",
       "    <tr style=\"text-align: right;\">\n",
       "      <th></th>\n",
       "      <th>Product #</th>\n",
       "      <th>Product Description</th>\n",
       "      <th>Qty</th>\n",
       "      <th>Unit Price</th>\n",
       "      <th>Total Price</th>\n",
       "    </tr>\n",
       "    <tr>\n",
       "      <th>UID</th>\n",
       "      <th></th>\n",
       "      <th></th>\n",
       "      <th></th>\n",
       "      <th></th>\n",
       "      <th></th>\n",
       "    </tr>\n",
       "  </thead>\n",
       "  <tbody>\n",
       "    <tr>\n",
       "      <th>1</th>\n",
       "      <td>100-1</td>\n",
       "      <td>400 Series Awning\\rOverall Joined Rough Openin...</td>\n",
       "      <td>1</td>\n",
       "      <td>$2,299.30</td>\n",
       "      <td>$2,299.30</td>\n",
       "    </tr>\n",
       "    <tr>\n",
       "      <th>2</th>\n",
       "      <td>100-2</td>\n",
       "      <td>400 Series Awning\\rOverall Joined Rough Openin...</td>\n",
       "      <td>1</td>\n",
       "      <td>$13.80</td>\n",
       "      <td>$13.80</td>\n",
       "    </tr>\n",
       "    <tr>\n",
       "      <th>3</th>\n",
       "      <td>100-3</td>\n",
       "      <td>400 Series Awning\\rOverall Joined Rough Openin...</td>\n",
       "      <td>1</td>\n",
       "      <td>$13.80</td>\n",
       "      <td>$13.80</td>\n",
       "    </tr>\n",
       "    <tr>\n",
       "      <th>4</th>\n",
       "      <td>100-4</td>\n",
       "      <td>400 Series Awning $13.80\\rOverall Joined Rough...</td>\n",
       "      <td>1</td>\n",
       "      <td>$13.80</td>\n",
       "      <td>$13.80</td>\n",
       "    </tr>\n",
       "    <tr>\n",
       "      <th>5</th>\n",
       "      <td>300-1</td>\n",
       "      <td>400 Series Double-Hung Bay\\rOverall Joined Rou...</td>\n",
       "      <td>1</td>\n",
       "      <td>$4,376.20</td>\n",
       "      <td>$4,376.20</td>\n",
       "    </tr>\n",
       "  </tbody>\n",
       "</table>\n",
       "</div>"
      ],
      "text/plain": [
       "    Product #                                Product Description Qty  \\\n",
       "UID                                                                    \n",
       "1       100-1  400 Series Awning\\rOverall Joined Rough Openin...   1   \n",
       "2       100-2  400 Series Awning\\rOverall Joined Rough Openin...   1   \n",
       "3       100-3  400 Series Awning\\rOverall Joined Rough Openin...   1   \n",
       "4       100-4  400 Series Awning $13.80\\rOverall Joined Rough...   1   \n",
       "5       300-1  400 Series Double-Hung Bay\\rOverall Joined Rou...   1   \n",
       "\n",
       "    Unit Price Total Price  \n",
       "UID                         \n",
       "1    $2,299.30   $2,299.30  \n",
       "2       $13.80      $13.80  \n",
       "3       $13.80      $13.80  \n",
       "4       $13.80      $13.80  \n",
       "5    $4,376.20   $4,376.20  "
      ]
     },
     "execution_count": 8,
     "metadata": {},
     "output_type": "execute_result"
    }
   ],
   "source": [
    "data1.head()"
   ]
  },
  {
   "cell_type": "code",
   "execution_count": 9,
   "metadata": {
    "collapsed": true
   },
   "outputs": [],
   "source": [
    "data = data.reset_index()"
   ]
  },
  {
   "cell_type": "code",
   "execution_count": 10,
   "metadata": {
    "collapsed": true
   },
   "outputs": [],
   "source": [
    "data1 = data1.reset_index()"
   ]
  },
  {
   "cell_type": "code",
   "execution_count": 11,
   "metadata": {},
   "outputs": [
    {
     "name": "stdout",
     "output_type": "stream",
     "text": [
      "UID\n",
      "Product #\n",
      "Product Description\n",
      "Qty\n",
      "Unit Price\n",
      "Total Price\n"
     ]
    }
   ],
   "source": [
    "for col in data.columns: \n",
    "    print(col) "
   ]
  },
  {
   "cell_type": "code",
   "execution_count": 12,
   "metadata": {},
   "outputs": [
    {
     "name": "stdout",
     "output_type": "stream",
     "text": [
      "UID\n",
      "Product #\n",
      "Product Description\n",
      "Qty\n",
      "Unit Price\n",
      "Total Price\n"
     ]
    }
   ],
   "source": [
    "for col in data1.columns: \n",
    "    print(col) \n"
   ]
  },
  {
   "cell_type": "code",
   "execution_count": 13,
   "metadata": {},
   "outputs": [
    {
     "data": {
      "text/html": [
       "<div>\n",
       "<style scoped>\n",
       "    .dataframe tbody tr th:only-of-type {\n",
       "        vertical-align: middle;\n",
       "    }\n",
       "\n",
       "    .dataframe tbody tr th {\n",
       "        vertical-align: top;\n",
       "    }\n",
       "\n",
       "    .dataframe thead th {\n",
       "        text-align: right;\n",
       "    }\n",
       "</style>\n",
       "<table border=\"1\" class=\"dataframe\">\n",
       "  <thead>\n",
       "    <tr style=\"text-align: right;\">\n",
       "      <th></th>\n",
       "      <th>UID</th>\n",
       "      <th>Product #</th>\n",
       "      <th>Product Description</th>\n",
       "      <th>Qty</th>\n",
       "      <th>Unit Price</th>\n",
       "      <th>Total Price</th>\n",
       "    </tr>\n",
       "  </thead>\n",
       "  <tbody>\n",
       "    <tr>\n",
       "      <th>0</th>\n",
       "      <td>1</td>\n",
       "      <td>100-1</td>\n",
       "      <td>400 Series Awning\\rOverall Joined Rough Openin...</td>\n",
       "      <td>1</td>\n",
       "      <td>$2,289.30</td>\n",
       "      <td>$2,289.30</td>\n",
       "    </tr>\n",
       "    <tr>\n",
       "      <th>1</th>\n",
       "      <td>2</td>\n",
       "      <td>100-2</td>\n",
       "      <td>400 Series Awning\\rOverall Joined Rough Openin...</td>\n",
       "      <td>2</td>\n",
       "      <td>$13.80</td>\n",
       "      <td>$27.60</td>\n",
       "    </tr>\n",
       "    <tr>\n",
       "      <th>2</th>\n",
       "      <td>3</td>\n",
       "      <td>100-3</td>\n",
       "      <td>400 Series Awning\\rOverall Joined Rough Openin...</td>\n",
       "      <td>1</td>\n",
       "      <td>$13.80</td>\n",
       "      <td>$13.80</td>\n",
       "    </tr>\n",
       "    <tr>\n",
       "      <th>3</th>\n",
       "      <td>4</td>\n",
       "      <td>100-4</td>\n",
       "      <td>400 Series Awning $13.80\\rOverall Joined Rough...</td>\n",
       "      <td>1</td>\n",
       "      <td>$13.80</td>\n",
       "      <td>$13.80</td>\n",
       "    </tr>\n",
       "    <tr>\n",
       "      <th>4</th>\n",
       "      <td>5</td>\n",
       "      <td>300-1</td>\n",
       "      <td>400 Series Double-Hung Bay\\rOverall Joined Rou...</td>\n",
       "      <td>1</td>\n",
       "      <td>$4,196.20</td>\n",
       "      <td>$4,196.20</td>\n",
       "    </tr>\n",
       "  </tbody>\n",
       "</table>\n",
       "</div>"
      ],
      "text/plain": [
       "  UID Product #                                Product Description Qty  \\\n",
       "0   1     100-1  400 Series Awning\\rOverall Joined Rough Openin...   1   \n",
       "1   2     100-2  400 Series Awning\\rOverall Joined Rough Openin...   2   \n",
       "2   3     100-3  400 Series Awning\\rOverall Joined Rough Openin...   1   \n",
       "3   4     100-4  400 Series Awning $13.80\\rOverall Joined Rough...   1   \n",
       "4   5     300-1  400 Series Double-Hung Bay\\rOverall Joined Rou...   1   \n",
       "\n",
       "  Unit Price Total Price  \n",
       "0  $2,289.30   $2,289.30  \n",
       "1     $13.80      $27.60  \n",
       "2     $13.80      $13.80  \n",
       "3     $13.80      $13.80  \n",
       "4  $4,196.20   $4,196.20  "
      ]
     },
     "execution_count": 13,
     "metadata": {},
     "output_type": "execute_result"
    }
   ],
   "source": [
    "data"
   ]
  },
  {
   "cell_type": "code",
   "execution_count": 14,
   "metadata": {},
   "outputs": [
    {
     "data": {
      "text/html": [
       "<div>\n",
       "<style scoped>\n",
       "    .dataframe tbody tr th:only-of-type {\n",
       "        vertical-align: middle;\n",
       "    }\n",
       "\n",
       "    .dataframe tbody tr th {\n",
       "        vertical-align: top;\n",
       "    }\n",
       "\n",
       "    .dataframe thead th {\n",
       "        text-align: right;\n",
       "    }\n",
       "</style>\n",
       "<table border=\"1\" class=\"dataframe\">\n",
       "  <thead>\n",
       "    <tr style=\"text-align: right;\">\n",
       "      <th></th>\n",
       "      <th>UID</th>\n",
       "      <th>Product #</th>\n",
       "      <th>Product Description</th>\n",
       "      <th>Qty</th>\n",
       "      <th>Unit Price</th>\n",
       "      <th>Total Price</th>\n",
       "    </tr>\n",
       "  </thead>\n",
       "  <tbody>\n",
       "    <tr>\n",
       "      <th>0</th>\n",
       "      <td>1</td>\n",
       "      <td>100-1</td>\n",
       "      <td>400 Series Awning\\rOverall Joined Rough Openin...</td>\n",
       "      <td>1</td>\n",
       "      <td>$2,299.30</td>\n",
       "      <td>$2,299.30</td>\n",
       "    </tr>\n",
       "    <tr>\n",
       "      <th>1</th>\n",
       "      <td>2</td>\n",
       "      <td>100-2</td>\n",
       "      <td>400 Series Awning\\rOverall Joined Rough Openin...</td>\n",
       "      <td>1</td>\n",
       "      <td>$13.80</td>\n",
       "      <td>$13.80</td>\n",
       "    </tr>\n",
       "    <tr>\n",
       "      <th>2</th>\n",
       "      <td>3</td>\n",
       "      <td>100-3</td>\n",
       "      <td>400 Series Awning\\rOverall Joined Rough Openin...</td>\n",
       "      <td>1</td>\n",
       "      <td>$13.80</td>\n",
       "      <td>$13.80</td>\n",
       "    </tr>\n",
       "    <tr>\n",
       "      <th>3</th>\n",
       "      <td>4</td>\n",
       "      <td>100-4</td>\n",
       "      <td>400 Series Awning $13.80\\rOverall Joined Rough...</td>\n",
       "      <td>1</td>\n",
       "      <td>$13.80</td>\n",
       "      <td>$13.80</td>\n",
       "    </tr>\n",
       "    <tr>\n",
       "      <th>4</th>\n",
       "      <td>5</td>\n",
       "      <td>300-1</td>\n",
       "      <td>400 Series Double-Hung Bay\\rOverall Joined Rou...</td>\n",
       "      <td>1</td>\n",
       "      <td>$4,376.20</td>\n",
       "      <td>$4,376.20</td>\n",
       "    </tr>\n",
       "  </tbody>\n",
       "</table>\n",
       "</div>"
      ],
      "text/plain": [
       "  UID Product #                                Product Description Qty  \\\n",
       "0   1     100-1  400 Series Awning\\rOverall Joined Rough Openin...   1   \n",
       "1   2     100-2  400 Series Awning\\rOverall Joined Rough Openin...   1   \n",
       "2   3     100-3  400 Series Awning\\rOverall Joined Rough Openin...   1   \n",
       "3   4     100-4  400 Series Awning $13.80\\rOverall Joined Rough...   1   \n",
       "4   5     300-1  400 Series Double-Hung Bay\\rOverall Joined Rou...   1   \n",
       "\n",
       "  Unit Price Total Price  \n",
       "0  $2,299.30   $2,299.30  \n",
       "1     $13.80      $13.80  \n",
       "2     $13.80      $13.80  \n",
       "3     $13.80      $13.80  \n",
       "4  $4,376.20   $4,376.20  "
      ]
     },
     "execution_count": 14,
     "metadata": {},
     "output_type": "execute_result"
    }
   ],
   "source": [
    "data1.head()"
   ]
  },
  {
   "cell_type": "code",
   "execution_count": 15,
   "metadata": {
    "collapsed": true
   },
   "outputs": [],
   "source": [
    "data.to_csv(\"bbb1.csv\")\n",
    "data1.to_csv(\"ccc1.csv\")"
   ]
  },
  {
   "cell_type": "code",
   "execution_count": 16,
   "metadata": {},
   "outputs": [
    {
     "data": {
      "text/plain": [
       "(5, 6)"
      ]
     },
     "execution_count": 16,
     "metadata": {},
     "output_type": "execute_result"
    }
   ],
   "source": [
    "data.shape"
   ]
  },
  {
   "cell_type": "code",
   "execution_count": 17,
   "metadata": {},
   "outputs": [
    {
     "data": {
      "text/plain": [
       "(32, 6)"
      ]
     },
     "execution_count": 17,
     "metadata": {},
     "output_type": "execute_result"
    }
   ],
   "source": [
    "data1.shape"
   ]
  },
  {
   "cell_type": "code",
   "execution_count": 18,
   "metadata": {},
   "outputs": [
    {
     "data": {
      "text/plain": [
       "5"
      ]
     },
     "execution_count": 18,
     "metadata": {},
     "output_type": "execute_result"
    }
   ],
   "source": [
    "len(data.index)"
   ]
  },
  {
   "cell_type": "code",
   "execution_count": 19,
   "metadata": {},
   "outputs": [
    {
     "data": {
      "text/plain": [
       "32"
      ]
     },
     "execution_count": 19,
     "metadata": {},
     "output_type": "execute_result"
    }
   ],
   "source": [
    "len(data1.index)"
   ]
  },
  {
   "cell_type": "code",
   "execution_count": 20,
   "metadata": {
    "collapsed": true
   },
   "outputs": [],
   "source": [
    "c=data.iloc[:,0]\n",
    "c1=data1.iloc[:,0]"
   ]
  },
  {
   "cell_type": "code",
   "execution_count": 21,
   "metadata": {},
   "outputs": [
    {
     "data": {
      "text/plain": [
       "0    1\n",
       "1    2\n",
       "2    3\n",
       "3    4\n",
       "4    5\n",
       "Name: UID, dtype: object"
      ]
     },
     "execution_count": 21,
     "metadata": {},
     "output_type": "execute_result"
    }
   ],
   "source": [
    "c"
   ]
  },
  {
   "cell_type": "code",
   "execution_count": 22,
   "metadata": {},
   "outputs": [
    {
     "data": {
      "text/plain": [
       "0      1\n",
       "1      2\n",
       "2      3\n",
       "3      4\n",
       "4      5\n",
       "5      6\n",
       "6      7\n",
       "7      8\n",
       "8      9\n",
       "9     10\n",
       "10    11\n",
       "11    12\n",
       "12    13\n",
       "13    14\n",
       "14    15\n",
       "15    16\n",
       "16    17\n",
       "17    32\n",
       "18    33\n",
       "19    18\n",
       "20    19\n",
       "21    20\n",
       "22    21\n",
       "23    22\n",
       "24    23\n",
       "25    24\n",
       "26    25\n",
       "27    26\n",
       "28    27\n",
       "29    28\n",
       "30    29\n",
       "31    31\n",
       "Name: UID, dtype: object"
      ]
     },
     "execution_count": 22,
     "metadata": {},
     "output_type": "execute_result"
    }
   ],
   "source": [
    "c1"
   ]
  },
  {
   "cell_type": "code",
   "execution_count": 23,
   "metadata": {},
   "outputs": [
    {
     "data": {
      "text/plain": [
       "False"
      ]
     },
     "execution_count": 23,
     "metadata": {},
     "output_type": "execute_result"
    }
   ],
   "source": [
    "c.equals(c1)"
   ]
  },
  {
   "cell_type": "code",
   "execution_count": 24,
   "metadata": {
    "collapsed": true
   },
   "outputs": [],
   "source": [
    "c=c.values.tolist()\n",
    "c1=c1.values.tolist()"
   ]
  },
  {
   "cell_type": "code",
   "execution_count": 25,
   "metadata": {},
   "outputs": [
    {
     "data": {
      "text/plain": [
       "list"
      ]
     },
     "execution_count": 25,
     "metadata": {},
     "output_type": "execute_result"
    }
   ],
   "source": [
    "type(c)"
   ]
  },
  {
   "cell_type": "code",
   "execution_count": 26,
   "metadata": {
    "collapsed": true
   },
   "outputs": [],
   "source": [
    "da = data.values.tolist()"
   ]
  },
  {
   "cell_type": "code",
   "execution_count": 27,
   "metadata": {
    "scrolled": true
   },
   "outputs": [
    {
     "data": {
      "text/plain": [
       "[['1',\n",
       "  '100-1',\n",
       "  '400 Series Awning\\rOverall Joined Rough Opening = 99 1/4\" x 24 5/8\"\\rOverall Joined Unit = 98 3/4\" x 24 1/8\"\\rInstallation Zip Code = 55082\\rU.S. ENERGY STAR® Climate Zone = Northern\\rSearch by Unit Code = No\\rStandard Width = RO: 24 5/8\" | UNIT: 24 1/8\"\\rStandard Height = RO: 24 7/8\" | UNIT: 24 3/8\"\\rFrame Width = 24 1/8\\rFrame Height = 24 1/8\\rUnit Code = A21\\rFrame Option = Installation Flange\\rCombination Operation / Venting = Vent(All)\\rVenting / Handing = Vent\\rElectric Operator Prep = No\\rExterior Color = Sandtone\\rInterior Species = Pine\\rInterior Finish Color = Unfinished\\rGlass Construction Type = Dual Pane\\rGlass Option = Low-E4\\rHigh Altitude Breather Tubes = No\\rGlass Strength = Standard\\rGlass Tint = No Tint\\rSpecialty Glass = None\\rGas Fill = Argon\\rArt Glass Series = None\\rNone\\rDP/PG Upgrade = Yes\\rHardware Style = Classic Series\\rHardware Color/Finish = White\\rCorrosion Resistant Hardware = None\\rSecurity Sensor Type = None\\rInsect Screen Type = None\\rExterior Trim Style = 3 1/2\" Flat\\rExterior Trim Type = Sill Nose\\rExterior Trim Color = White\\rExterior Trim Sill Size = 1 3/4\"\\rExterior Trim Application Method = Pre-cut Trim Kit\\rExtension Jamb Type = None\\rInstallation Material Options = No\\rRe-Order Item = No\\rRoom Location = None\\rUnit U-Factor = 0.28\\rUnit Solar Heat Gain Coefficient (SHGC) = 0.31\\rU.S. ENERGY STAR Certified = No\\rHardware Part Number = 1521026\\rVertical\\rFactory\\r0.75\" thick, 24.125\" length\\rSKU = 289185\\rVendor Name = S/O ANDERSEN LOGISTICS\\rVendor Number = 60509030\\rCustomer Service = (888) 888-7020\\rCatalog Version Date = 03/26/2019',\n",
       "  '1',\n",
       "  '$2,289.30',\n",
       "  '$2,289.30'],\n",
       " ['2',\n",
       "  '100-2',\n",
       "  '400 Series Awning\\rOverall Joined Rough Opening = 99 1/4\" x 24 5/8\"\\rOverall Joined Unit = 98 3/4\" x 24 1/8\"\\rInstallation Zip Code = 55082\\rU.S. ENERGY STAR® Climate Zone = Northern\\rSearch by Unit Code = No\\rStandard Width = RO: 24 5/8\" | UNIT: 24 1/8\"\\rStandard Height = RO: 24 5/8\" | UNIT: 24 1/8\"\\rFrame Width = 24 1/8\\rFrame Height = 24 1/8\\rUnit Code = A21\\rFrame Option = Installation Flange\\rCombination Operation / Venting = Vent(All)\\rVenting / Handing = Vent\\rElectric Operator Prep = No\\rExterior Color = Sandtone\\rInterior Species = Pine\\rInterior Finish Color = Unfinished\\rGlass Construction Type = Dual Pane\\rGlass Option = Low-E4\\rHigh Altitude Breather Tubes = No\\rGlass Strength = Standard\\rGlass Tint = No Tint\\rSpecialty Glass = None\\rGas Fill = Argon\\rArt Glass Series = None\\rNone\\rDP/PG Upgrade = Yes\\rHardware Style = Classic Series\\rHardware Color/Finish = White\\rCorrosion Resistant Hardware = None\\rSecurity Sensor Type = None\\rInsect Screen Type = None\\rExterior Trim Style = 3 1/2\" Flat\\rExterior Trim Type = Sill Nose\\rExterior Trim Color = White\\rExterior Trim Sill Size = 1 3/4\"\\rExterior Trim Application Method = Pre-cut Trim Kit\\rExtension Jamb Type = None\\rInstallation Material Options = No\\rRe-Order Item = No\\rRoom Location = None\\rUnit U-Factor = 0.28\\rUnit Solar Heat Gain Coefficient (SHGC) = 0.31\\rU.S. ENERGY STAR Certified = No\\rHardware Part Number = 1521026\\rVertical\\rFactory\\r0.75\" thick, 24.125\" length\\rSKU = 289185\\rVendor Name = S/O ANDERSEN LOGISTICS\\rVendor Number = 60509030\\rCustomer Service = (888) 888-7020',\n",
       "  '2',\n",
       "  '$13.80',\n",
       "  '$27.60'],\n",
       " ['3',\n",
       "  '100-3',\n",
       "  '400 Series Awning\\rOverall Joined Rough Opening = 99 1/4\" x 24 5/8\"\\rOverall Joined Unit = 98 3/4\" x 24 1/8\"\\rInstallation Zip Code = 55082\\rU.S. ENERGY STAR® Climate Zone = Northern\\rSearch by Unit Code = No\\rStandard Width = RO: 24 5/8\" | UNIT: 24 1/8\"\\rStandard Height = RO: 24 5/8\" | UNIT: 24 1/8\"\\rFrame Width = 24 1/8\\rFrame Height = 24 1/8\\rUnit Code = A21\\rFrame Option = Installation\\rCombination Operation / Venting = Vent(All)\\rVenting / Handing = Vent\\rElectric Operator Prep = No\\rExterior Color = Sandtone\\rInterior Species = Pine\\rInterior Finish Color = Unfinished\\rGlass Construction Type = Dual Pane\\rGlass Option = Low-E4\\rHigh Altitude Breather Tubes = No\\rGlass Strength = Standard\\rGlass Tint = No Tint\\rSpecialty Glass = None\\rGas Fill = Argon\\rArt Glass Series = None\\rNone\\rDP/PG Upgrade = Yes\\rHardware Style = Classic Series\\rHardware Color/Finish = White\\rCorrosion Resistant Hardware = None\\rSecurity Type = None\\rInsect Screen Type = None\\rExterior Trim Style = 3 1/2\" Flat\\rExterior Trim Type = Sill Nose\\rExterior Trim Color = White\\rExterior Trim Sill Size = 1 3/4\"\\rExterior Trim Application Method = Pre-cut Trim Kit\\rExtension Jamb Type = None\\rInstallation Material Options = No\\rRe-Order Item = No\\rRoom Location = None\\rUnit U-Factor = 0.28\\rUnit Solar Heat Gain Coefficient (SHGC) = 0.31\\rU.S. ENERGY STAR Certified = No\\rHardware Part Number = 1521026\\rVertical\\rFactory\\r0.75\" thick, 24.125\" length\\rSKU = 289185\\rVendor Name = S/O ANDERSEN LOGISTICS\\rVendor Number = 60509030\\rCustomer Service = (888) 888-7020\\rCatalog Version Date = 03/26/2019',\n",
       "  '1',\n",
       "  '$13.80',\n",
       "  '$13.80'],\n",
       " ['4',\n",
       "  '100-4',\n",
       "  '400 Series Awning $13.80\\rOverall Joined Rough Opening = 99 1/4\" x 24 5/8\"\\rOverall Joined Unit = 98 3/4\" x 24 1/8\"\\rInstallation Zip Code = 55082\\rU.S. ENERGY STAR® Climate Zone = Northern\\rSearch by Unit Code = No\\rStandard Width = RO: 24 5/8\" | UNIT: 24 1/8\"\\rStandard Height = RO: 24 5/8\" | UNIT: 24 1/8\"\\rFrame Width = 24 1/8\\rFrame Height = 24 1/8\\rUnit Code = A22\\rFrame Option = Installation Flange\\rCombination Operation / Venting = Vent(All)\\rVenting / Handing = Vent\\rElectric Operator Prep = No\\rExterior Color = Sandtone\\rInterior Species = Pine\\rInterior Finish Color = Unfinished\\rGlass Construction Type = Dual Pane\\rGlass Option = Low-E4\\rHigh Altitude Breather Tubes = No\\rGlass Strength = Standard\\rGlass Tint = No Tint\\rSpecialty Glass = None\\rGas Fill = Argon\\rArt Glass Series = None\\rNone\\rDP/PG Upgrade = Yes\\rHardware Style = Classic Series\\rHardware Color/Finish = White\\rCorrosion Resistant Hardware = None\\rSecurity Sensor Type = None\\rInsect Screen Type = None\\rExterior Trim Style = 3 1/2\" Flat\\rExterior Trim Type = Sill Nose\\rExterior Trim Color = White\\rExterior Trim Sill Size = 1 3/4\"\\rExterior Trim Application Method = Pre-cut Trim Kit\\rExtension Jamb Type = None\\rInstallation Material Options = No\\rRe-Order Item = No\\rRoom Location = None\\rUnit U-Factor = 0.28\\rUnit Solar Heat Gain Coefficient (SHGC) = 0.31\\rU.S. ENERGY STAR Certified = No\\rHardware Part Number = 1521026\\rVertical\\rFactory\\r0.75\" thick, 24.125\" length\\rSKU = 289185\\rVendor Name = S/O ANDERSEN LOGISTICS\\rVendor Number = 60509030\\rCustomer Service = (888) 888-7020\\rCatalog Version Date = 03/26/2019',\n",
       "  '1',\n",
       "  '$13.80',\n",
       "  '$13.80'],\n",
       " ['5',\n",
       "  '300-1',\n",
       "  '400 Series Double-Hung Bay\\rOverall Joined Rough Opening = 79 1/8\" x 70 3/4\"\\rOverall Joined Unit = 80 7/16\" x 70 1/4\"\\rDimensional Entry Type = Standard Sizes (By Center\\rWidth)\\rInstallation Zip Code = 55082\\rU.S. ENERGY STAR® Climate Zone = Northern\\rSearch by Unit Code = No\\rUnit 1, 3: Frame Width = 21 5/8\\rUnit 1, 3: Frame Height = 68 7/8\\rUnit 2: Frame Width = 41 5/8\\rUnit 2: Frame Height = 74 7/8\\rUnit Code = TW45-3456-18\\rCombination Operation / Venting = Active (All)\\rVenting / Handing = AA\\rExterior Color = Dark Bronze\\rExterior Sash/Panel Color = Dark Bronze\\rInterior Species = Pine\\rInterior Finish Color = White - Painted\\rJamb Liner Color = White\\rGlass Construction Type = Dual Pane\\rGlass Option = Low-E4\\rHigh Altitude Breather Tubes = No\\rGlass Strength = Tempered\\rSpecialty Glass = Reed Vertical\\rGas Fill = Argon\\rNone\\rDP/PG Upgrade = No\\rSash Lift Type = Hand Lift\\rSash Lift Style = Traditional\\rSash Lift Color/Finish = Antique Brass\\rLock Hardware Style = Traditional\\rNumber of Sash Locks = 1\\rLock Hardware Color/Finish = White (Factory Applied)\\rWindow Opening Control Device = No\\rSecurity Sensor Type = None\\rInsect Screen Type = Half Screen\\rInsect Screen Material = TruScene\\rInsect Screen Color = Sandtone\\rBay/Bow Option Type = Standard\\rBay/Bow/Box Extension Jamb Color = White - Painted\\rHead and Seat Board Species = Pine\\rHead and Seat Board Finish Color = White - Painted\\rOverall Wall Depth = 6 9/16\"\\rPlatform Boards = Top and Bottom Platforms\\rAngle Bay/Bow Supports = w/Cable Support System\\rTop Auxiliary Casing = Top Auxiliary\\rAuxiliary Casing Colors = Dark Bronze\\rCasing Application Location = Shipped Loose\\rTrim Board = Fibrex Cellular Trim Board\\rInstallation Material Options = No\\rRe-Order Item = No\\rRoom Location = None\\rUnit 1, 3: Unit U-Factor = ---\\rUnit 1, 3: Unit Solar Heat Gain Coefficient (SHGC) = ---',\n",
       "  '1',\n",
       "  '$4,196.20',\n",
       "  '$4,196.20']]"
      ]
     },
     "execution_count": 27,
     "metadata": {},
     "output_type": "execute_result"
    }
   ],
   "source": [
    "da"
   ]
  },
  {
   "cell_type": "code",
   "execution_count": 28,
   "metadata": {
    "collapsed": true
   },
   "outputs": [],
   "source": [
    "da1 = data1.values.tolist()"
   ]
  },
  {
   "cell_type": "code",
   "execution_count": 29,
   "metadata": {
    "collapsed": true
   },
   "outputs": [],
   "source": [
    "a=set(data['UID'])\n",
    "b=set(data1['UID'])"
   ]
  },
  {
   "cell_type": "code",
   "execution_count": 30,
   "metadata": {},
   "outputs": [
    {
     "data": {
      "text/plain": [
       "set()"
      ]
     },
     "execution_count": 30,
     "metadata": {},
     "output_type": "execute_result"
    }
   ],
   "source": [
    "a-b"
   ]
  },
  {
   "cell_type": "code",
   "execution_count": 31,
   "metadata": {},
   "outputs": [
    {
     "data": {
      "text/plain": [
       "{'10',\n",
       " '11',\n",
       " '12',\n",
       " '13',\n",
       " '14',\n",
       " '15',\n",
       " '16',\n",
       " '17',\n",
       " '18',\n",
       " '19',\n",
       " '20',\n",
       " '21',\n",
       " '22',\n",
       " '23',\n",
       " '24',\n",
       " '25',\n",
       " '26',\n",
       " '27',\n",
       " '28',\n",
       " '29',\n",
       " '31',\n",
       " '32',\n",
       " '33',\n",
       " '6',\n",
       " '7',\n",
       " '8',\n",
       " '9'}"
      ]
     },
     "execution_count": 31,
     "metadata": {},
     "output_type": "execute_result"
    }
   ],
   "source": [
    "b-a"
   ]
  },
  {
   "cell_type": "code",
   "execution_count": 32,
   "metadata": {
    "collapsed": true
   },
   "outputs": [],
   "source": [
    "ui=(a-b).union(b-a)"
   ]
  },
  {
   "cell_type": "code",
   "execution_count": 33,
   "metadata": {
    "collapsed": true
   },
   "outputs": [],
   "source": [
    " li = []\n",
    "for i in da:\n",
    "    li.append(i)\n",
    "#print(li)"
   ]
  },
  {
   "cell_type": "code",
   "execution_count": 34,
   "metadata": {
    "collapsed": true
   },
   "outputs": [],
   "source": [
    " li1 = []\n",
    "for i in da1:\n",
    "    li1.append(i)\n",
    "#print(li1)"
   ]
  },
  {
   "cell_type": "code",
   "execution_count": 35,
   "metadata": {},
   "outputs": [
    {
     "name": "stdout",
     "output_type": "stream",
     "text": [
      "5\n"
     ]
    }
   ],
   "source": [
    "r = len(li)\n",
    "print(r)"
   ]
  },
  {
   "cell_type": "code",
   "execution_count": 36,
   "metadata": {},
   "outputs": [
    {
     "data": {
      "text/plain": [
       "32"
      ]
     },
     "execution_count": 36,
     "metadata": {},
     "output_type": "execute_result"
    }
   ],
   "source": [
    "t = len(li1)\n",
    "t"
   ]
  },
  {
   "cell_type": "code",
   "execution_count": 37,
   "metadata": {},
   "outputs": [
    {
     "name": "stdout",
     "output_type": "stream",
     "text": [
      "5\n"
     ]
    }
   ],
   "source": [
    "if r < t:\n",
    "    r=r\n",
    "    print(r)\n",
    "else:\n",
    "    r=t\n",
    "    print(r)"
   ]
  },
  {
   "cell_type": "code",
   "execution_count": 38,
   "metadata": {},
   "outputs": [
    {
     "name": "stdout",
     "output_type": "stream",
     "text": [
      "['- Standard Height = RO: 24 7/8\" | UNIT: 24 3/8\"', '+ Standard Height = RO: 24 5/8\" | UNIT: 24 1/8\"']\n",
      "['+ Catalog Version Date = 03/26/2019']\n",
      "['- Frame Option = Installation', '+ Frame Option = Installation Flange', '- Security Type = None', '+ Security Sensor Type = None']\n",
      "['- Unit Code = A22', '+ Unit Code = A21']\n",
      "['- Unit 2: Frame Height = 74 7/8', '+ Unit 2: Frame Height = 68 7/8']\n"
     ]
    }
   ],
   "source": [
    "import difflib\n",
    "for i in range(r):\n",
    "    for j in range(r):\n",
    "        if li[i][0] == li1[j][0]:\n",
    "            ba = li[i][2].splitlines()\n",
    "            cy = li1[j][2].splitlines()\n",
    "            di = difflib.Differ()\n",
    "            diff = di.compare(ba,cy)\n",
    "            diff2 = '\\n'.join(diff)\n",
    "#print(diff2)\n",
    "            cha = [l for l in diff2.splitlines() if l.startswith('+ ') or l.startswith('- ')]\n",
    "            print(cha)"
   ]
  },
  {
   "cell_type": "code",
   "execution_count": 92,
   "metadata": {
    "scrolled": true
   },
   "outputs": [
    {
     "name": "stdout",
     "output_type": "stream",
     "text": [
      "{'100-2': '100-4', '100-3': '100-4', '100-4': '100-4', '100-1': '100-4', '300-1': '300-15'}\n"
     ]
    }
   ],
   "source": [
    "from difflib import SequenceMatcher\n",
    "per={}\n",
    "for i in range(r):\n",
    "    for j in range(t):\n",
    "        p=SequenceMatcher(None, li[i][2], li1[j][2]).ratio()*100\n",
    "        if p > 98 :\n",
    "            per.update({li[i][1] : li1[j][1]})\n",
    "print(per)"
   ]
  },
  {
   "cell_type": "code",
   "execution_count": 103,
   "metadata": {},
   "outputs": [
    {
     "name": "stdout",
     "output_type": "stream",
     "text": [
      "{'100-1': '100-3', '100-2': '100-3', '100-4': '100-4'}\n"
     ]
    }
   ],
   "source": [
    "import jellyfish\n",
    "per={}\n",
    "for i in range(r):\n",
    "    for j in range(t):\n",
    "        p=jellyfish.jaro_distance(li[i][2], li1[j][2])*100\n",
    "        if p > 98 :\n",
    "            per.update({li[i][1] : li1[j][1]})\n",
    "print(per)\n"
   ]
  },
  {
   "cell_type": "code",
   "execution_count": 94,
   "metadata": {},
   "outputs": [
    {
     "name": "stdout",
     "output_type": "stream",
     "text": [
      "cycle: {'100-1': '+ Standard Height = RO: 24 5/8\" | UNIT: 24 1/8\"', '100-2': '+ Catalog Version Date = 03/26/2019', '100-4': '+ Unit Code = A21', '100-3': '+ Security Sensor Type = None', '300-1': '+ Unit 2: Frame Height = 68 7/8'}\n",
      "base: {'100-1': '- Standard Height = RO: 24 7/8\" | UNIT: 24 3/8\"', '100-4': '- Unit Code = A22', '100-3': '- Security Type = None', '300-1': '- Unit 2: Frame Height = 74 7/8'}\n",
      "['1', '2', '3', '4', '5']\n"
     ]
    }
   ],
   "source": [
    "import difflib\n",
    "cd1 = {}\n",
    "cd2 = {}\n",
    "a = []\n",
    "for i in range(r):\n",
    "    for j in range(t):\n",
    "        if li[i][0] == li1[j][0]:\n",
    "            ba = li[i][2].splitlines()\n",
    "            cy = li1[j][2].splitlines()\n",
    "            di = difflib.Differ()\n",
    "            diff = di.compare(ba,cy)\n",
    "            #print(li[i][0],li1[j][0])\n",
    "            #print ('\\n'.join(diff))\n",
    "            diff2 = '\\n'.join(diff)\n",
    "           # print(li[i][0],diff2)\n",
    "                    \n",
    "            cha = [l for l in diff2.splitlines() if l.startswith('+ ') or l.startswith('- ')]\n",
    "            if cha:\n",
    "                a.append(li[i][0])\n",
    "            changes = [l for l in diff2.splitlines() if l.startswith('+ ')]\n",
    "            for c in changes:\n",
    "                #a.append(li[i][0] )\n",
    "                #cd1.append(li[i][0])\n",
    "                cd1.update( {li[i][1]:c} )\n",
    "                \n",
    "            chang = [l for l in diff2.splitlines() if l.startswith('- ')]\n",
    "            for d in chang:\n",
    "                #cd1.append(li[i][0])\n",
    "                cd2.update( {li[i][1]:d} )\n",
    "                \n",
    "            #print(len(c))\n",
    "            #diff2.append('\\n'.join(diff))\n",
    "\n",
    "        #else:\n",
    "            #print(\"\")\n",
    "        j+=1\n",
    "        \n",
    "    i+=1\n",
    "\n",
    "print(\"cycle:\",cd1)\n",
    "print(\"base:\",cd2)\n",
    "print(a)\n",
    "  "
   ]
  },
  {
   "cell_type": "code",
   "execution_count": 40,
   "metadata": {
    "collapsed": true
   },
   "outputs": [],
   "source": [
    "df = pd.DataFrame({'Cycle Quote': cd1,'Baseline Quote': cd2})\n",
    "#df=df.set_index([a])\n",
    "#df.to_csv(\"report.csv\")\n",
    "df['UID'] = a \n",
    "#df=df.set_index('UID')\n",
    "df=df.to_excel(\"report1.xlsx\")"
   ]
  },
  {
   "cell_type": "code",
   "execution_count": 41,
   "metadata": {
    "collapsed": true
   },
   "outputs": [],
   "source": [
    "#print (data1.loc[data1.UID == '23', 'Product #'])\n",
    "df1=pd.read_excel(\"report1.xlsx\",dtype=str)\n",
    "df1.fillna(\"Line is missing\", inplace=True)\n",
    "df1.to_csv(\"rr.csv\")\n",
    "#df1.loc[2, 'Baseline Quote']"
   ]
  },
  {
   "cell_type": "code",
   "execution_count": 42,
   "metadata": {
    "collapsed": true
   },
   "outputs": [],
   "source": [
    "#!pip install pyexcel pyexcel-xlsx\n",
    "from pyexcel.cookbook import merge_all_to_a_book\n",
    "# import pyexcel.ext.xlsx # no longer required if you use pyexcel >= 0.2.2 \n",
    "import glob\n",
    "\n",
    "\n",
    "merge_all_to_a_book(glob.glob(\"rr.csv\"), \"report1.xlsx\")\n"
   ]
  },
  {
   "cell_type": "code",
   "execution_count": 43,
   "metadata": {},
   "outputs": [
    {
     "data": {
      "text/html": [
       "<div>\n",
       "<style scoped>\n",
       "    .dataframe tbody tr th:only-of-type {\n",
       "        vertical-align: middle;\n",
       "    }\n",
       "\n",
       "    .dataframe tbody tr th {\n",
       "        vertical-align: top;\n",
       "    }\n",
       "\n",
       "    .dataframe thead th {\n",
       "        text-align: right;\n",
       "    }\n",
       "</style>\n",
       "<table border=\"1\" class=\"dataframe\">\n",
       "  <thead>\n",
       "    <tr style=\"text-align: right;\">\n",
       "      <th></th>\n",
       "      <th>Product ID</th>\n",
       "      <th>Baseline Quote</th>\n",
       "      <th>Cycle Quote</th>\n",
       "      <th>UID</th>\n",
       "    </tr>\n",
       "  </thead>\n",
       "  <tbody>\n",
       "    <tr>\n",
       "      <th>0</th>\n",
       "      <td>100-1</td>\n",
       "      <td>- Standard Height = RO: 24 7/8\" | UNIT: 24 3/8\"</td>\n",
       "      <td>+ Standard Height = RO: 24 5/8\" | UNIT: 24 1/8\"</td>\n",
       "      <td>1</td>\n",
       "    </tr>\n",
       "    <tr>\n",
       "      <th>1</th>\n",
       "      <td>100-2</td>\n",
       "      <td>Line is missing</td>\n",
       "      <td>+ Catalog Version Date = 03/26/2019</td>\n",
       "      <td>2</td>\n",
       "    </tr>\n",
       "    <tr>\n",
       "      <th>2</th>\n",
       "      <td>100-3</td>\n",
       "      <td>- Security Type = None</td>\n",
       "      <td>+ Security Sensor Type = None</td>\n",
       "      <td>3</td>\n",
       "    </tr>\n",
       "    <tr>\n",
       "      <th>3</th>\n",
       "      <td>100-4</td>\n",
       "      <td>- Unit Code = A22</td>\n",
       "      <td>+ Unit Code = A21</td>\n",
       "      <td>4</td>\n",
       "    </tr>\n",
       "    <tr>\n",
       "      <th>4</th>\n",
       "      <td>300-1</td>\n",
       "      <td>- Unit 2: Frame Height = 74 7/8</td>\n",
       "      <td>+ Unit 2: Frame Height = 68 7/8</td>\n",
       "      <td>5</td>\n",
       "    </tr>\n",
       "  </tbody>\n",
       "</table>\n",
       "</div>"
      ],
      "text/plain": [
       "  Product ID                                   Baseline Quote  \\\n",
       "0      100-1  - Standard Height = RO: 24 7/8\" | UNIT: 24 3/8\"   \n",
       "1      100-2                                  Line is missing   \n",
       "2      100-3                           - Security Type = None   \n",
       "3      100-4                                - Unit Code = A22   \n",
       "4      300-1                  - Unit 2: Frame Height = 74 7/8   \n",
       "\n",
       "                                       Cycle Quote  UID  \n",
       "0  + Standard Height = RO: 24 5/8\" | UNIT: 24 1/8\"    1  \n",
       "1              + Catalog Version Date = 03/26/2019    2  \n",
       "2                    + Security Sensor Type = None    3  \n",
       "3                                + Unit Code = A21    4  \n",
       "4                  + Unit 2: Frame Height = 68 7/8    5  "
      ]
     },
     "execution_count": 43,
     "metadata": {},
     "output_type": "execute_result"
    }
   ],
   "source": [
    "#df1[\"Product_id\"]=df1['Unnamed: 0']\n",
    "#df1.set_index('UID')\n",
    "df1=pd.read_excel(\"report1.xlsx\")\n",
    "df1.rename(columns = {'Unnamed: 0.1':'Product ID'},inplace =True)\n",
    "df1.drop([\"Unnamed: 0\"], axis = 1, inplace = True)\n",
    "df1.set_index('UID')\n",
    "df1"
   ]
  },
  {
   "cell_type": "code",
   "execution_count": 44,
   "metadata": {},
   "outputs": [
    {
     "name": "stdout",
     "output_type": "stream",
     "text": [
      "Qty: {'5': 'No change in Qty', '1': 'No change in Qty', '3': 'No change in Qty', '2': 'Qty has increased from 1 to 2 (difference of 1)', '4': 'No change in Qty'}\n",
      "Unit Price: {'5': 'Unit Price has decreased to $4,196.20 from $4,376.20 (difference of $180.0)', '1': 'Unit Price has decreased to $2,289.30 from $2,299.30 (difference of $10.0)', '3': 'No change in Unit Price', '2': 'No change in Unit Price', '4': 'No change in Unit Price'}\n",
      "Total Price: {'5': 'Total Price has decreased to $4,196.20 from $4,376.20 (difference of $180.0)', '1': 'Total Price has decreased to $2,289.30 from $2,299.30 (difference of $10.0)', '3': 'No change in Total Price', '2': 'Total Price has increased from $13.80 to $27.60 (difference of $13.8)', '4': 'No change in Total Price'}\n"
     ]
    }
   ],
   "source": [
    "a={}\n",
    "a1={}\n",
    "a2={}\n",
    "for i in range(r):\n",
    "    for j in range(r):\n",
    "        if li[i][0]==li1[j][0]:\n",
    "            if li[i][3]==li1[j][3]:\n",
    "                a.update({li[i][0]:\"No change in \"+data.columns[3]}) \n",
    "            else:\n",
    "                if int(li[i][3]) < int(li1[i][3]):\n",
    "                    qt=int(li1[i][3]) - int(li[i][3])\n",
    "                    a.update({li[i][0]:data.columns[3]+\" has decreased to \"+li[j][3]+\" from \"+li1[j][3]+\" (difference of \"+ str(qt) +\")\"})\n",
    "                else:\n",
    "                    qt=int(li[i][3]) - int(li1[i][3])\n",
    "                    a.update({li[i][0]:data.columns[3]+\" has increased from \"+li1[j][3]+\" to \"+li[j][3]+\" (difference of \"+ str(qt) +\")\"})\n",
    "                \n",
    "            if li[i][4]==li1[j][4]:\n",
    "                a1.update({li[i][0]:\"No change in \"+data.columns[4]}) \n",
    "            else:\n",
    "                up=((li[i][4].lstrip('$')).replace(\",\",\"\"))\n",
    "                up1=((li1[i][4].lstrip('$')).replace(\",\",\"\"))\n",
    "                if up < up1:\n",
    "                    dup=float(up1)-float(up)\n",
    "                    a1.update({li[i][0]:data.columns[4]+\" has decreased to \"+li[j][4]+\" from \"+li1[j][4]+\" (difference of $\"+str(dup) +\")\"})\n",
    "                else:\n",
    "                    dup=float(up)-float(up1)\n",
    "                    a1.update({li[i][0]:data.columns[4]+\" has increased from \"+li1[j][4]+\" to \"+li[j][4]+\" (difference of $\"+ str(dup) +\")\"})\n",
    "            \n",
    "            if li[i][5]==li1[j][5]:\n",
    "                a2.update({li[i][0]:\"No change in \"+data.columns[5]}) \n",
    "            else:\n",
    "                tp=((li[i][5].lstrip('$')).replace(\",\",\"\"))\n",
    "                tp1=((li1[i][5].lstrip('$')).replace(\",\",\"\"))\n",
    "                if tp < tp1:\n",
    "                    dup=float(tp1)-float(tp)\n",
    "                    a2.update({li[i][0]:data.columns[5]+\" has decreased to \"+li[j][5]+\" from \"+li1[j][5]+\" (difference of $\"+ str(dup) +\")\"})\n",
    "                else:\n",
    "                    dup=float(tp)-float(tp1)\n",
    "                    a2.update({li[i][0]:data.columns[5]+\" has increased from \"+li1[j][5]+\" to \"+li[j][5]+\" (difference of $\"+ str(dup) +\")\"})\n",
    "\n",
    "print(\"Qty:\",a)\n",
    "print(\"Unit Price:\",a1)\n",
    "print(\"Total Price:\",a2)"
   ]
  },
  {
   "cell_type": "code",
   "execution_count": 45,
   "metadata": {
    "collapsed": true
   },
   "outputs": [],
   "source": [
    "#from collections import defaultdict\n",
    "#from itertools import chain\n",
    "#dict3 = defaultdict(list)\n",
    "#for k, v in chain(a.items(), a1.items()):\n",
    " #   dict3[k].append(v)\n",
    "#print(dict3)"
   ]
  },
  {
   "cell_type": "code",
   "execution_count": 46,
   "metadata": {},
   "outputs": [
    {
     "name": "stdout",
     "output_type": "stream",
     "text": [
      "{'5': 'Total Price has decreased to $4,196.20 from $4,376.20 (difference of $180.0) , Unit Price has decreased to $4,196.20 from $4,376.20 (difference of $180.0) and No change in Qty', '1': 'Total Price has decreased to $2,289.30 from $2,299.30 (difference of $10.0) , Unit Price has decreased to $2,289.30 from $2,299.30 (difference of $10.0) and No change in Qty', '3': 'No change in Total Price , No change in Unit Price and No change in Qty', '2': 'Total Price has increased from $13.80 to $27.60 (difference of $13.8) , No change in Unit Price and Qty has increased from 1 to 2 (difference of 1)', '4': 'No change in Total Price , No change in Unit Price and No change in Qty'}\n"
     ]
    }
   ],
   "source": [
    "for key in a1: \n",
    "    if key in a: \n",
    "        a1[key] = a1[key] + \" and \" + a[key]\n",
    "    else: \n",
    "        pass\n",
    "          \n",
    "#print(a1) \n",
    "\n",
    "for key in a2:\n",
    "    if key in a1: \n",
    "        a2[key] = a2[key] + \" , \" + a1[key]\n",
    "    else: \n",
    "        pass\n",
    "print(a2)"
   ]
  },
  {
   "cell_type": "code",
   "execution_count": 47,
   "metadata": {
    "collapsed": true
   },
   "outputs": [],
   "source": [
    "df4 = pd.DataFrame({'BaseLine and Cycle Quote Prices': a2})\n",
    "df4.to_excel(\"qty.xlsx\")\n",
    "df4=pd.read_excel(\"qty.xlsx\")\n",
    "df4.rename(columns = {'Unnamed: 0':'UID'},inplace =True)\n",
    "#print(type(df4['UID'])\n",
    "df4.to_excel(\"qty.xlsx\",index=False)"
   ]
  },
  {
   "cell_type": "code",
   "execution_count": 48,
   "metadata": {
    "collapsed": true
   },
   "outputs": [],
   "source": [
    "df1 = df1[['UID','Product ID', 'Baseline Quote','Cycle Quote']]\n",
    "df1=df1.to_excel(\"report1.xlsx\",index=False)"
   ]
  },
  {
   "cell_type": "code",
   "execution_count": 49,
   "metadata": {
    "scrolled": true
   },
   "outputs": [
    {
     "name": "stderr",
     "output_type": "stream",
     "text": [
      "c:\\python35\\lib\\site-packages\\ipykernel_launcher.py:20: SettingWithCopyWarning: \n",
      "A value is trying to be set on a copy of a slice from a DataFrame\n",
      "\n",
      "See the caveats in the documentation: http://pandas.pydata.org/pandas-docs/stable/indexing.html#indexing-view-versus-copy\n",
      "c:\\python35\\lib\\site-packages\\ipykernel_launcher.py:25: SettingWithCopyWarning: \n",
      "A value is trying to be set on a copy of a slice from a DataFrame\n",
      "\n",
      "See the caveats in the documentation: http://pandas.pydata.org/pandas-docs/stable/indexing.html#indexing-view-versus-copy\n"
     ]
    },
    {
     "name": "stdout",
     "output_type": "stream",
     "text": [
      "0     Standard Height = RO: 24 {7/8}\" | UNIT: 24 {3...\n",
      "1                                      Line is missing\n",
      "2                                 Security Type = None\n",
      "3                                    Unit Code = {A22}\n",
      "4                      Unit 2: Frame Height = {74} 7/8\n",
      "Name: Baseline Quote, dtype: object\n",
      "0     Standard Height = RO: 24 {5/8}\" | UNIT: 24 {1...\n",
      "1                    Catalog Version Date = 03/26/2019\n",
      "2                        Security {Sensor} Type = None\n",
      "3                                    Unit Code = {A21}\n",
      "4                      Unit 2: Frame Height = {68} 7/8\n",
      "Name: Cycle Quote, dtype: object\n"
     ]
    }
   ],
   "source": [
    "from nltk.tokenize import sent_tokenize, word_tokenize\n",
    "df2 = pd.read_excel(\"report1.xlsx\")\n",
    "fin2=[]\n",
    "for i in range(0,len(df2)):\n",
    "    x=df2['Baseline Quote'][i]\n",
    "    y=df2['Cycle Quote'][i]\n",
    "    if x != \"Line is missing\" and y != \"Line is missing\":\n",
    "        x1=word_tokenize(x)\n",
    "        y1=word_tokenize(y)\n",
    "        x1.pop(0)\n",
    "        y1.pop(0)\n",
    "    fin=list(set(y1)-set(x1))+list(set(x1)-set(y1))\n",
    "    fin.sort(reverse = True)\n",
    "    #print(fin)\n",
    "    for j in range(0,len(fin)):\n",
    "        if x != \"Line is missing\" and y !=\"Line is missing\":\n",
    "            if fin[j] in x:\n",
    "                x=x.replace(fin[j],'{'+fin[j]+'}')\n",
    "            #x=x.replace('-','')\n",
    "                df2['Baseline Quote'][i]=x\n",
    "                \n",
    "            elif fin[j] in y:\n",
    "                y=y.replace(fin[j],'{'+fin[j]+'}')\n",
    "            #y=y.replace('+','')\n",
    "                df2['Cycle Quote'][i]=y\n",
    "    #print(x,\"\\n\",y)\n",
    "cols = ['Baseline Quote', 'Cycle Quote']\n",
    "for col in cols:\n",
    "    df2[col] = df2[col].map(lambda x: str(x).lstrip('-').lstrip('+'))\n",
    "    print(df2[col])\n",
    "       \n",
    "    "
   ]
  },
  {
   "cell_type": "code",
   "execution_count": 50,
   "metadata": {
    "collapsed": true
   },
   "outputs": [],
   "source": [
    "df2=df2.to_excel(\"report.xlsx\",index=False)"
   ]
  },
  {
   "cell_type": "code",
   "execution_count": 51,
   "metadata": {
    "collapsed": true
   },
   "outputs": [],
   "source": [
    "df2 = pd.read_excel(\"report.xlsx\")\n",
    "df4 = pd.read_excel(\"qty.xlsx\")\n",
    "#df2.drop([\"Unnamed: 0.1\"], axis = 1, inplace = True)\n",
    "#df2.drop([\"Unnamed: 0\"], axis = 1, inplace = True)\n",
    "#df2.to_excel(\"report2.xlsx\",index=False)"
   ]
  },
  {
   "cell_type": "code",
   "execution_count": 52,
   "metadata": {},
   "outputs": [
    {
     "name": "stdout",
     "output_type": "stream",
     "text": [
      "   UID Product ID                                     Baseline Quote  \\\n",
      "0    1      100-1   Standard Height = RO: 24 {7/8}\" | UNIT: 24 {3...   \n",
      "1    2      100-2                                    Line is missing   \n",
      "2    3      100-3                               Security Type = None   \n",
      "3    4      100-4                                  Unit Code = {A22}   \n",
      "4    5      300-1                    Unit 2: Frame Height = {74} 7/8   \n",
      "\n",
      "                                         Cycle Quote  \n",
      "0   Standard Height = RO: 24 {5/8}\" | UNIT: 24 {1...  \n",
      "1                  Catalog Version Date = 03/26/2019  \n",
      "2                      Security {Sensor} Type = None  \n",
      "3                                  Unit Code = {A21}  \n",
      "4                    Unit 2: Frame Height = {68} 7/8  \n"
     ]
    }
   ],
   "source": [
    "df5=pd.merge(df2, df4, on='UID')\n",
    "print(df2)\n",
    "df5.to_excel(\"report2.xlsx\",index=False)"
   ]
  },
  {
   "cell_type": "code",
   "execution_count": 53,
   "metadata": {
    "collapsed": true
   },
   "outputs": [],
   "source": [
    "df3=pd.read_excel(\"report2.xlsx\")\n",
    "for u in ui:\n",
    "    for i in range(0,len(data)):\n",
    "        if u in data['UID'][i]:\n",
    "            df3.loc[i,['UID','Product ID', 'Baseline Quote','Cycle Quote','BaseLine and Cycle Quote Prices']]=[data['UID'][i],data['Product #'][i],\"Product present in the Baseline Quote\",\"Product not found in the Cycle Quote\",\"No Product in Cycle\"]\n",
    "        #else:\n",
    "            #df2.loc[i,['UID', 'Product_id', 'Base Line','Cycle']]=[data1['UID'][i],data1['Product #'][i],\"UID is not present in base\",\"UID found in cycle\"]\n",
    "    for i in range(0,len(data1)):\n",
    "        if u in data1['UID'][i]:\n",
    "            df3.loc[i,['UID','Product ID', 'Baseline Quote','Cycle Quote','BaseLine and Cycle Quote Prices']]=[data1['UID'][i],data1['Product #'][i],\"Product not found in the Baseline Quote\",\"Product present in the Cycle Quote\",\"No Product in BaseLine\"]\n",
    "        #else:\n",
    "            #df2.loc[i,['UID', 'Product_id', 'Base Line','Cycle']]=[data['UID'][i],data['Product #'][i],\"UID is not present in base\",\"UID found in cycle\"]\n",
    "df3.to_excel(\"report2.xlsx\",index=False)"
   ]
  },
  {
   "cell_type": "code",
   "execution_count": 54,
   "metadata": {
    "collapsed": true
   },
   "outputs": [],
   "source": [
    "df3=pd.read_excel(\"report2.xlsx\")\n",
    "df3 = df3.sort_values('UID')\n",
    "df3.to_excel(\"report2.xlsx\",index=False)"
   ]
  },
  {
   "cell_type": "code",
   "execution_count": 55,
   "metadata": {},
   "outputs": [
    {
     "name": "stdout",
     "output_type": "stream",
     "text": [
      "Sep 19,2019 - 17:49 hours\n"
     ]
    }
   ],
   "source": [
    "from datetime import datetime\n",
    "dateTimeObj = datetime.now()\n",
    "\n",
    "timestampStr = dateTimeObj.strftime(\"%b %d,%Y - %H:%M\")\n",
    "tt = timestampStr+\" hours\"\n",
    "#print(timestampStr,\"hours\")\n",
    "print(tt)"
   ]
  },
  {
   "cell_type": "code",
   "execution_count": 56,
   "metadata": {
    "collapsed": true
   },
   "outputs": [],
   "source": [
    "import pandas as pd\n",
    "\n",
    "# Create a Pandas dataframe from some data.\n",
    "df = pd.read_excel(\"report2.xlsx\")\n",
    "#df['UID'] = a \n",
    "\n",
    "# Create a Pandas Excel writer using XlsxWriter as the engine.\n",
    "writer = pd.ExcelWriter(\"report2.xlsx\", engine='xlsxwriter')\n",
    "\n",
    "# Convert the dataframe to an XlsxWriter Excel object. Note that we turn off\n",
    "# the default header and skip one row to allow us to insert a user defined\n",
    "# header.\n",
    "#df.reset_index(inplace = True) \n",
    "df.to_excel(writer, sheet_name='Sheet1',startrow=8, startcol=0, header=False,index=False)\n",
    "\n",
    "# Get the xlsxwriter workbook and worksheet objects.\n",
    "workbook  = writer.book\n",
    "worksheet = writer.sheets['Sheet1']\n",
    "\n",
    "\n",
    "# Add a header format.\n",
    "header_format = workbook.add_format({\n",
    "    'bold': True,\n",
    "    'text_wrap': True,\n",
    "    'valign': 'top',\n",
    "    'fg_color': '#C0C0C0',\n",
    "    'border': 1})\n",
    "header_format1 = workbook.add_format({\n",
    "    'bold': True,\n",
    "    'font_color':'blue',\n",
    "    'font_size' : 15,\n",
    "    'text_wrap': False,\n",
    "    'valign': 'top',\n",
    "    'border': 1})\n",
    "header_format2 = workbook.add_format({\n",
    "    'bold': True,\n",
    "    'font_color':'orange',\n",
    "    'text_wrap': False,\n",
    "    'valign': 'top',\n",
    "    'border': 1})\n",
    "\n",
    "\n",
    "worksheet.insert_image('A1', 'logo.png')\n",
    "worksheet.write('A6', 'TimeStamp:'+tt, header_format1)\n",
    "worksheet.write('C7', 'BaseLine PK:311', header_format2)\n",
    "worksheet.write('D7', 'Cycle PK:315', header_format2)\n",
    "\n",
    "# Write the column headers with the defined format.\n",
    "for col_num, value in enumerate(df.columns.values):\n",
    "    worksheet.write(7, col_num + 0, value, header_format)\n",
    "    \n",
    "    \n",
    "\n",
    "# Close the Pandas Excel writer and output the Excel file.\n",
    "writer.save()"
   ]
  },
  {
   "cell_type": "code",
   "execution_count": 97,
   "metadata": {},
   "outputs": [
    {
     "data": {
      "text/plain": [
       "96.96969696969697"
      ]
     },
     "execution_count": 97,
     "metadata": {},
     "output_type": "execute_result"
    }
   ],
   "source": [
    "from difflib import SequenceMatcher\n",
    "a=\"Hello, I am Divya\"\n",
    "b=\"Hello,I am Divya\"\n",
    "SequenceMatcher(None, a, b).ratio()*100"
   ]
  },
  {
   "cell_type": "code",
   "execution_count": 58,
   "metadata": {},
   "outputs": [],
   "source": [
    "#( 100 - (sum(i != j for i, j in zip(list(a), list(b))) / float(len(a))) * 100 )"
   ]
  },
  {
   "cell_type": "code",
   "execution_count": 99,
   "metadata": {},
   "outputs": [
    {
     "data": {
      "text/plain": [
       "93.87254901960786"
      ]
     },
     "execution_count": 99,
     "metadata": {},
     "output_type": "execute_result"
    }
   ],

  },
  {
   "cell_type": "code",
   "execution_count": null,
   "metadata": {
    "collapsed": true
   },
   "outputs": [],
   "source": []
  }
 ],
 "metadata": {
  "kernelspec": {
   "display_name": "Python 3",
   "language": "python",
   "name": "python3"
  },
  "language_info": {
   "codemirror_mode": {
    "name": "ipython",
    "version": 3
   },
   "file_extension": ".py",
   "mimetype": "text/x-python",
   "name": "python",
   "nbconvert_exporter": "python",
   "pygments_lexer": "ipython3",
   "version": "3.5.2"
  }
 },
 "nbformat": 4,
 "nbformat_minor": 2
}
