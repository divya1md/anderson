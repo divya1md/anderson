{
 "cells": [
  {
   "cell_type": "code",
   "execution_count": null,
   "metadata": {
    "collapsed": true
   },
   "outputs": [],
   "source": [
    "from tabula import read_pdf\n",
    "df1 = read_pdf(\"base3.pdf\", pages=\"all\",spreadsheet=True)\n",
    "df2 = read_pdf(\"cycle1.pdf\", pages=\"all\",spreadsheet=True)"
   ]
  },
  {
   "cell_type": "code",
   "execution_count": null,
   "metadata": {
    "collapsed": true
   },
   "outputs": [],
   "source": [
    "df1.to_csv(\"bbb1.csv\")\n",
    "df2.to_csv(\"ccc1.csv\")"
   ]
  },
  {
   "cell_type": "code",
   "execution_count": null,
   "metadata": {
    "collapsed": true
   },
   "outputs": [],
   "source": [
    "import pandas as pd\n",
    "data = pd.read_csv(\"bbb1.csv\", index_col =\"UID\")\n",
    "data.drop([\"UID\"], inplace = True)\n",
    "data1 = pd.read_csv(\"ccc1.csv\", index_col =\"UID\")\n",
    "data1.drop([\"UID\"], inplace = True) "
   ]
  },
  {
   "cell_type": "code",
   "execution_count": null,
   "metadata": {
    "collapsed": true
   },
   "outputs": [],
   "source": [
    "data.to_csv(\"bbb1.csv\")\n",
    "data1.to_csv(\"ccc1.csv\")"
   ]
  },
  {
   "cell_type": "code",
   "execution_count": null,
   "metadata": {
    "collapsed": true
   },
   "outputs": [],
   "source": [
    "data.drop([\"Unnamed: 0\"], axis = 1, inplace = True)\n",
    "data1.drop([\"Unnamed: 0\"], axis = 1, inplace = True)"
   ]
  },
  {
   "cell_type": "code",
   "execution_count": null,
   "metadata": {
    "collapsed": true
   },
   "outputs": [],
   "source": [
    "data.to_csv(\"bbb1.csv\")\n",
    "data1.to_csv(\"ccc1.csv\")"
   ]
  },
  {
   "cell_type": "code",
   "execution_count": null,
   "metadata": {},
   "outputs": [],
   "source": [
    "data.head()\n"
   ]
  },
  {
   "cell_type": "code",
   "execution_count": null,
   "metadata": {},
   "outputs": [],
   "source": [
    "data1.head()"
   ]
  },
  {
   "cell_type": "code",
   "execution_count": null,
   "metadata": {
    "collapsed": true
   },
   "outputs": [],
   "source": [
    "data = data.reset_index()"
   ]
  },
  {
   "cell_type": "code",
   "execution_count": null,
   "metadata": {
    "collapsed": true
   },
   "outputs": [],
   "source": [
    "data1 = data1.reset_index()"
   ]
  },
  {
   "cell_type": "code",
   "execution_count": null,
   "metadata": {},
   "outputs": [],
   "source": [
    "for col in data.columns: \n",
    "    print(col) "
   ]
  },
  {
   "cell_type": "code",
   "execution_count": null,
   "metadata": {},
   "outputs": [],
   "source": [
    "for col in data1.columns: \n",
    "    print(col) \n"
   ]
  },
  {
   "cell_type": "code",
   "execution_count": null,
   "metadata": {},
   "outputs": [],
   "source": [
    "data"
   ]
  },
  {
   "cell_type": "code",
   "execution_count": null,
   "metadata": {},
   "outputs": [],
   "source": [
    "data1.head()"
   ]
  },
  {
   "cell_type": "code",
   "execution_count": null,
   "metadata": {
    "collapsed": true
   },
   "outputs": [],
   "source": [
    "data.to_csv(\"bbb1.csv\")\n",
    "data1.to_csv(\"ccc1.csv\")"
   ]
  },
  {
   "cell_type": "code",
   "execution_count": null,
   "metadata": {},
   "outputs": [],
   "source": [
    "data.shape"
   ]
  },
  {
   "cell_type": "code",
   "execution_count": null,
   "metadata": {},
   "outputs": [],
   "source": [
    "data1.shape"
   ]
  },
  {
   "cell_type": "code",
   "execution_count": null,
   "metadata": {},
   "outputs": [],
   "source": [
    "len(data.index)"
   ]
  },
  {
   "cell_type": "code",
   "execution_count": null,
   "metadata": {},
   "outputs": [],
   "source": [
    "len(data1.index)"
   ]
  },
  {
   "cell_type": "code",
   "execution_count": null,
   "metadata": {
    "collapsed": true
   },
   "outputs": [],
   "source": [
    "c=data.iloc[:,0]\n",
    "c1=data1.iloc[:,0]"
   ]
  },
  {
   "cell_type": "code",
   "execution_count": null,
   "metadata": {},
   "outputs": [],
   "source": [
    "c"
   ]
  },
  {
   "cell_type": "code",
   "execution_count": null,
   "metadata": {},
   "outputs": [],
   "source": [
    "c1"
   ]
  },
  {
   "cell_type": "code",
   "execution_count": null,
   "metadata": {},
   "outputs": [],
   "source": [
    "c.equals(c1)"
   ]
  },
  {
   "cell_type": "code",
   "execution_count": null,
   "metadata": {
    "collapsed": true
   },
   "outputs": [],
   "source": [
    "c=c.values.tolist()\n",
    "c1=c1.values.tolist()"
   ]
  },
  {
   "cell_type": "code",
   "execution_count": null,
   "metadata": {},
   "outputs": [],
   "source": [
    "type(c)"
   ]
  },
  {
   "cell_type": "code",
   "execution_count": null,
   "metadata": {
    "collapsed": true
   },
   "outputs": [],
   "source": [
    "da = data.values.tolist()"
   ]
  },
  {
   "cell_type": "code",
   "execution_count": null,
   "metadata": {
    "scrolled": true
   },
   "outputs": [],
   "source": [
    "da"
   ]
  },
  {
   "cell_type": "code",
   "execution_count": null,
   "metadata": {
    "collapsed": true
   },
   "outputs": [],
   "source": [
    "da1 = data1.values.tolist()"
   ]
  },
  {
   "cell_type": "code",
   "execution_count": null,
   "metadata": {
    "collapsed": true
   },
   "outputs": [],
   "source": [
    "a=set(data['UID'])\n",
    "b=set(data1['UID'])"
   ]
  },
  {
   "cell_type": "code",
   "execution_count": null,
   "metadata": {},
   "outputs": [],
   "source": [
    "a-b"
   ]
  },
  {
   "cell_type": "code",
   "execution_count": null,
   "metadata": {},
   "outputs": [],
   "source": [
    "b-a"
   ]
  },
  {
   "cell_type": "code",
   "execution_count": null,
   "metadata": {
    "collapsed": true
   },
   "outputs": [],
   "source": [
    "ui=(a-b).union(b-a)"
   ]
  },
  {
   "cell_type": "code",
   "execution_count": null,
   "metadata": {
    "collapsed": true
   },
   "outputs": [],
   "source": [
    " li = []\n",
    "for i in da:\n",
    "    li.append(i)\n",
    "#print(li)"
   ]
  },
  {
   "cell_type": "code",
   "execution_count": null,
   "metadata": {
    "collapsed": true
   },
   "outputs": [],
   "source": [
    " li1 = []\n",
    "for i in da1:\n",
    "    li1.append(i)\n",
    "#print(li1)"
   ]
  },
  {
   "cell_type": "code",
   "execution_count": null,
   "metadata": {},
   "outputs": [],
   "source": [
    "r = len(li)\n",
    "print(r)"
   ]
  },
  {
   "cell_type": "code",
   "execution_count": null,
   "metadata": {},
   "outputs": [],
   "source": [
    "t = len(li1)\n",
    "t"
   ]
  },
  {
   "cell_type": "code",
   "execution_count": null,
   "metadata": {},
   "outputs": [],
   "source": [
    "if r < t:\n",
    "    r=r\n",
    "    print(r)\n",
    "else:\n",
    "    r=t\n",
    "    print(r)"
   ]
  },
  {
   "cell_type": "code",
   "execution_count": null,
   "metadata": {},
   "outputs": [],
   "source": [
    "import difflib\n",
    "for i in range(r):\n",
    "    for j in range(r):\n",
    "        if li[i][0] == li1[j][0]:\n",
    "            ba = li[i][2].splitlines()\n",
    "            cy = li1[j][2].splitlines()\n",
    "            di = difflib.Differ()\n",
    "            diff = di.compare(ba,cy)\n",
    "            diff2 = '\\n'.join(diff)\n",
    "#print(diff2)\n",
    "            cha = [l for l in diff2.splitlines() if l.startswith('+ ') or l.startswith('- ')]\n",
    "            print(cha)"
   ]
  },
  {
   "cell_type": "code",
   "execution_count": null,
   "metadata": {},
   "outputs": [],
   "source": [
    "import difflib\n",
    "cd1 = {}\n",
    "cd2 = {}\n",
    "a = []\n",
    "for i in range(r):\n",
    "    for j in range(r):\n",
    "        if li[i][0] == li1[j][0]:\n",
    "            ba = li[i][2].splitlines()\n",
    "            cy = li1[j][2].splitlines()\n",
    "            di = difflib.Differ()\n",
    "            diff = di.compare(ba,cy)\n",
    "            #print(li[i][0],li1[j][0])\n",
    "            #print ('\\n'.join(diff))\n",
    "            diff2 = '\\n'.join(diff)\n",
    "           # print(li[i][0],diff2)\n",
    "                    \n",
    "            cha = [l for l in diff2.splitlines() if l.startswith('+ ') or l.startswith('- ')]\n",
    "            if cha:\n",
    "                a.append(li[i][0])\n",
    "            changes = [l for l in diff2.splitlines() if l.startswith('+ ')]\n",
    "            for c in changes:\n",
    "                #a.append(li[i][0] )\n",
    "                #cd1.append(li[i][0])\n",
    "                cd1.update( {li[i][1]:c} )\n",
    "                \n",
    "            chang = [l for l in diff2.splitlines() if l.startswith('- ')]\n",
    "            for d in chang:\n",
    "                #cd1.append(li[i][0])\n",
    "                cd2.update( {li[i][1]:d} )\n",
    "                \n",
    "            #print(len(c))\n",
    "            #diff2.append('\\n'.join(diff))\n",
    "\n",
    "        #else:\n",
    "            #print(\"\")\n",
    "        j+=1\n",
    "        \n",
    "    i+=1\n",
    "\n",
    "print(\"cycle:\",cd1)\n",
    "print(\"base:\",cd2)\n",
    "print(a)\n",
    "  "
   ]
  },
  {
   "cell_type": "code",
   "execution_count": null,
   "metadata": {},
   "outputs": [],
   "source": [
    "df = pd.DataFrame({'Cycle Quote': cd1,'Baseline Quote': cd2})\n",
    "#df=df.set_index([a])\n",
    "#df.to_csv(\"report.csv\")\n",
    "df['UID'] = a \n",
    "#df=df.set_index('UID')\n",
    "df=df.to_excel(\"report1.xlsx\")"
   ]
  },
  {
   "cell_type": "code",
   "execution_count": null,
   "metadata": {},
   "outputs": [],
   "source": [
    "#print (data1.loc[data1.UID == '23', 'Product #'])\n",
    "df1=pd.read_excel(\"report1.xlsx\",dtype=str)\n",
    "df1.fillna(\"Line is missing\", inplace=True)\n",
    "df1.to_csv(\"rr.csv\")\n",
    "#df1.loc[2, 'Baseline Quote']"
   ]
  },
  {
   "cell_type": "code",
   "execution_count": null,
   "metadata": {
    "collapsed": true
   },
   "outputs": [],
   "source": [
    "#!pip install pyexcel pyexcel-xlsx\n",
    "from pyexcel.cookbook import merge_all_to_a_book\n",
    "# import pyexcel.ext.xlsx # no longer required if you use pyexcel >= 0.2.2 \n",
    "import glob\n",
    "\n",
    "\n",
    "merge_all_to_a_book(glob.glob(\"rr.csv\"), \"report1.xlsx\")\n"
   ]
  },
  {
   "cell_type": "code",
   "execution_count": null,
   "metadata": {},
   "outputs": [],
   "source": [
    "#df1[\"Product_id\"]=df1['Unnamed: 0']\n",
    "#df1.set_index('UID')\n",
    "df1=pd.read_excel(\"report1.xlsx\")\n",
    "df1.rename(columns = {'Unnamed: 0.1':'Product ID'},inplace =True)\n",
    "df1.drop([\"Unnamed: 0\"], axis = 1, inplace = True)\n",
    "df1.set_index('UID')\n",
    "df1"
   ]
  },
  {
   "cell_type": "code",
   "execution_count": null,
   "metadata": {},
   "outputs": [],
   "source": [
    "a={}\n",
    "a1={}\n",
    "a2={}\n",
    "for i in range(r):\n",
    "    for j in range(r):\n",
    "        if li[i][0]==li1[j][0]:\n",
    "            if li[i][3]==li1[j][3]:\n",
    "                a.update({li[i][0]:\"No change in \"+data.columns[3]}) \n",
    "            else:\n",
    "                if int(li[i][3]) < int(li1[i][3]):\n",
    "                    qt=int(li1[i][3]) - int(li[i][3])\n",
    "                    a.update({li[i][0]:data.columns[3]+\" has decreased to \"+li[j][3]+\" from \"+li1[j][3]+\" (difference of \"+ str(qt) +\")\"})\n",
    "                else:\n",
    "                    qt=int(li[i][3]) - int(li1[i][3])\n",
    "                    a.update({li[i][0]:data.columns[3]+\" has increased from \"+li1[j][3]+\" to \"+li[j][3]+\" (difference of \"+ str(qt) +\")\"})\n",
    "                \n",
    "            if li[i][4]==li1[j][4]:\n",
    "                a1.update({li[i][0]:\"No change in \"+data.columns[4]}) \n",
    "            else:\n",
    "                up=((li[i][4].lstrip('$')).replace(\",\",\"\"))\n",
    "                up1=((li1[i][4].lstrip('$')).replace(\",\",\"\"))\n",
    "                if up < up1:\n",
    "                    dup=float(up1)-float(up)\n",
    "                    a1.update({li[i][0]:data.columns[4]+\" has decreased to \"+li[j][4]+\" from \"+li1[j][4]+\" (difference of $\"+str(dup) +\")\"})\n",
    "                else:\n",
    "                    dup=float(up)-float(up1)\n",
    "                    a1.update({li[i][0]:data.columns[4]+\" has increased from \"+li1[j][4]+\" to \"+li[j][4]+\" (difference of $\"+ str(dup) +\")\"})\n",
    "            \n",
    "            if li[i][5]==li1[j][5]:\n",
    "                a2.update({li[i][0]:\"No change in \"+data.columns[5]}) \n",
    "            else:\n",
    "                tp=((li[i][5].lstrip('$')).replace(\",\",\"\"))\n",
    "                tp1=((li1[i][5].lstrip('$')).replace(\",\",\"\"))\n",
    "                if tp < tp1:\n",
    "                    dup=float(tp1)-float(tp)\n",
    "                    a2.update({li[i][0]:data.columns[5]+\" has decreased to \"+li[j][5]+\" from \"+li1[j][5]+\" (difference of $\"+ str(dup) +\")\"})\n",
    "                else:\n",
    "                    dup=float(tp)-float(tp1)\n",
    "                    a2.update({li[i][0]:data.columns[5]+\" has increased from \"+li1[j][5]+\" to \"+li[j][5]+\" (difference of $\"+ str(dup) +\")\"})\n",
    "\n",
    "print(\"Qty:\",a)\n",
    "print(\"Unit Price:\",a1)\n",
    "print(\"Total Price:\",a2)"
   ]
  },
  {
   "cell_type": "code",
   "execution_count": null,
   "metadata": {},
   "outputs": [],
   "source": [
    "#from collections import defaultdict\n",
    "#from itertools import chain\n",
    "#dict3 = defaultdict(list)\n",
    "#for k, v in chain(a.items(), a1.items()):\n",
    " #   dict3[k].append(v)\n",
    "#print(dict3)"
   ]
  },
  {
   "cell_type": "code",
   "execution_count": null,
   "metadata": {},
   "outputs": [],
   "source": [
    "for key in a1: \n",
    "    if key in a: \n",
    "        a1[key] = a1[key] + \" and \" + a[key]\n",
    "    else: \n",
    "        pass\n",
    "          \n",
    "#print(a1) \n",
    "\n",
    "for key in a2:\n",
    "    if key in a1: \n",
    "        a2[key] = a2[key] + \" , \" + a1[key]\n",
    "    else: \n",
    "        pass\n",
    "print(a2)"
   ]
  },
  {
   "cell_type": "code",
   "execution_count": null,
   "metadata": {},
   "outputs": [],
   "source": [
    "df4 = pd.DataFrame({'BaseLine and Cycle Quote Prices': a2})\n",
    "df4.to_excel(\"qty.xlsx\")\n",
    "df4=pd.read_excel(\"qty.xlsx\")\n",
    "df4.rename(columns = {'Unnamed: 0':'UID'},inplace =True)\n",
    "#print(type(df4['UID'])\n",
    "df4.to_excel(\"qty.xlsx\",index=False)"
   ]
  },
  {
   "cell_type": "code",
   "execution_count": null,
   "metadata": {},
   "outputs": [],
   "source": [
    "df1 = df1[['UID','Product ID', 'Baseline Quote','Cycle Quote']]\n",
    "df1=df1.to_excel(\"report1.xlsx\",index=False)"
   ]
  },
  {
   "cell_type": "code",
   "execution_count": null,
   "metadata": {
    "scrolled": true
   },
   "outputs": [],
   "source": [
    "from nltk.tokenize import sent_tokenize, word_tokenize\n",
    "df2 = pd.read_excel(\"report1.xlsx\")\n",
    "fin2=[]\n",
    "for i in range(0,len(df2)):\n",
    "    x=df2['Baseline Quote'][i]\n",
    "    y=df2['Cycle Quote'][i]\n",
    "    if x != \"Line is missing\" and y != \"Line is missing\":\n",
    "        x1=word_tokenize(x)\n",
    "        y1=word_tokenize(y)\n",
    "        x1.pop(0)\n",
    "        y1.pop(0)\n",
    "    fin=list(set(y1)-set(x1))+list(set(x1)-set(y1))\n",
    "    fin.sort(reverse = True)\n",
    "    #print(fin)\n",
    "    for j in range(0,len(fin)):\n",
    "        if x != \"Line is missing\" and y !=\"Line is missing\":\n",
    "            if fin[j] in x:\n",
    "                x=x.replace(fin[j],'{'+fin[j]+'}')\n",
    "            #x=x.replace('-','')\n",
    "                df2['Baseline Quote'][i]=x\n",
    "                \n",
    "            elif fin[j] in y:\n",
    "                y=y.replace(fin[j],'{'+fin[j]+'}')\n",
    "            #y=y.replace('+','')\n",
    "                df2['Cycle Quote'][i]=y\n",
    "    #print(x,\"\\n\",y)\n",
    "cols = ['Baseline Quote', 'Cycle Quote']\n",
    "for col in cols:\n",
    "    df2[col] = df2[col].map(lambda x: str(x).lstrip('-').lstrip('+'))\n",
    "    print(df2[col])\n",
    "       \n",
    "    "
   ]
  },
  {
   "cell_type": "code",
   "execution_count": null,
   "metadata": {},
   "outputs": [],
   "source": [
    "df2=df2.to_excel(\"report.xlsx\",index=False)"
   ]
  },
  {
   "cell_type": "code",
   "execution_count": null,
   "metadata": {},
   "outputs": [],
   "source": [
    "df2 = pd.read_excel(\"report.xlsx\")\n",
    "df4 = pd.read_excel(\"qty.xlsx\")\n",
    "#df2.drop([\"Unnamed: 0.1\"], axis = 1, inplace = True)\n",
    "#df2.drop([\"Unnamed: 0\"], axis = 1, inplace = True)\n",
    "#df2.to_excel(\"report2.xlsx\",index=False)"
   ]
  },
  {
   "cell_type": "code",
   "execution_count": null,
   "metadata": {},
   "outputs": [],
   "source": [
    "df5=pd.merge(df2, df4, on='UID')\n",
    "print(df2)\n",
    "df5.to_excel(\"report2.xlsx\",index=False)"
   ]
  },
  {
   "cell_type": "code",
   "execution_count": null,
   "metadata": {},
   "outputs": [],
   "source": [
    "df3=pd.read_excel(\"report2.xlsx\")\n",
    "for u in ui:\n",
    "    for i in range(0,len(data)):\n",
    "        if u in data['UID'][i]:\n",
    "            df3.loc[i,['UID','Product ID', 'Baseline Quote','Cycle Quote','BaseLine and Cycle Quote Prices']]=[data['UID'][i],data['Product #'][i],\"Product present in the Baseline Quote\",\"Product not found in the Cycle Quote\",\"No Product in Cycle\"]\n",
    "        #else:\n",
    "            #df2.loc[i,['UID', 'Product_id', 'Base Line','Cycle']]=[data1['UID'][i],data1['Product #'][i],\"UID is not present in base\",\"UID found in cycle\"]\n",
    "    for i in range(0,len(data1)):\n",
    "        if u in data1['UID'][i]:\n",
    "            df3.loc[i,['UID','Product ID', 'Baseline Quote','Cycle Quote','BaseLine and Cycle Quote Prices']]=[data1['UID'][i],data1['Product #'][i],\"Product not found in the Baseline Quote\",\"Product present in the Cycle Quote\",\"No Product in BaseLine\"]\n",
    "        #else:\n",
    "            #df2.loc[i,['UID', 'Product_id', 'Base Line','Cycle']]=[data['UID'][i],data['Product #'][i],\"UID is not present in base\",\"UID found in cycle\"]\n",
    "df3.to_excel(\"report2.xlsx\",index=False)"
   ]
  },
  {
   "cell_type": "code",
   "execution_count": null,
   "metadata": {},
   "outputs": [],
   "source": [
    "df3=pd.read_excel(\"report2.xlsx\")\n",
    "df3 = df3.sort_values('UID')\n",
    "df3.to_excel(\"report2.xlsx\",index=False)"
   ]
  },
  {
   "cell_type": "code",
   "execution_count": 5,
   "metadata": {},
   "outputs": [
    {
     "name": "stdout",
     "output_type": "stream",
     "text": [
      "Sep 12,2019 - 21:20 hours\n"
     ]
    }
   ],
   "source": [
    "from datetime import datetime\n",
    "dateTimeObj = datetime.now()\n",
    "\n",
    "timestampStr = dateTimeObj.strftime(\"%b %d,%Y - %H:%M\")\n",
    "tt = timestampStr+\" hours\"\n",
    "#print(timestampStr,\"hours\")\n",
    "print(tt)"
   ]
  },
  {
   "cell_type": "code",
   "execution_count": null,
   "metadata": {},
   "outputs": [],
   "source": [
    "import pandas as pd\n",
    "\n",
    "# Create a Pandas dataframe from some data.\n",
    "df = pd.read_excel(\"report2.xlsx\")\n",
    "#df['UID'] = a \n",
    "\n",
    "# Create a Pandas Excel writer using XlsxWriter as the engine.\n",
    "writer = pd.ExcelWriter(\"report2.xlsx\", engine='xlsxwriter')\n",
    "\n",
    "# Convert the dataframe to an XlsxWriter Excel object. Note that we turn off\n",
    "# the default header and skip one row to allow us to insert a user defined\n",
    "# header.\n",
    "#df.reset_index(inplace = True) \n",
    "df.to_excel(writer, sheet_name='Sheet1',startrow=8, startcol=0, header=False,index=False)\n",
    "\n",
    "# Get the xlsxwriter workbook and worksheet objects.\n",
    "workbook  = writer.book\n",
    "worksheet = writer.sheets['Sheet1']\n",
    "\n",
    "\n",
    "# Add a header format.\n",
    "header_format = workbook.add_format({\n",
    "    'bold': True,\n",
    "    'text_wrap': True,\n",
    "    'valign': 'top',\n",
    "    'fg_color': '#C0C0C0',\n",
    "    'border': 1})\n",
    "header_format1 = workbook.add_format({\n",
    "    'bold': True,\n",
    "    'font_color':'blue',\n",
    "    'font_size' : 15,\n",
    "    'text_wrap': False,\n",
    "    'valign': 'top',\n",
    "    'border': 1})\n",
    "header_format2 = workbook.add_format({\n",
    "    'bold': True,\n",
    "    'font_color':'orange',\n",
    "    'text_wrap': False,\n",
    "    'valign': 'top',\n",
    "    'border': 1})\n",
    "\n",
    "\n",
    "worksheet.insert_image('A1', 'logo.png')\n",
    "worksheet.write('A6', 'TimeStamp:'+tt, header_format1)\n",
    "worksheet.write('C7', 'BaseLine PK:311', header_format2)\n",
    "worksheet.write('D7', 'Cycle PK:315', header_format2)\n",
    "\n",
    "# Write the column headers with the defined format.\n",
    "for col_num, value in enumerate(df.columns.values):\n",
    "    worksheet.write(7, col_num + 0, value, header_format)\n",
    "    \n",
    "    \n",
    "\n",
    "# Close the Pandas Excel writer and output the Excel file.\n",
    "writer.save()"
   ]
  },
  {
   "cell_type": "code",
   "execution_count": null,
   "metadata": {
    "collapsed": true
   },
   "outputs": [],
   "source": []
  }
 ],
 "metadata": {
  "kernelspec": {
   "display_name": "Python 3",
   "language": "python",
   "name": "python3"
  },
  "language_info": {
   "codemirror_mode": {
    "name": "ipython",
    "version": 3
   },
   "file_extension": ".py",
   "mimetype": "text/x-python",
   "name": "python",
   "nbconvert_exporter": "python",
   "pygments_lexer": "ipython3",
   "version": "3.5.2"
  }
 },
 "nbformat": 4,
 "nbformat_minor": 2
}
