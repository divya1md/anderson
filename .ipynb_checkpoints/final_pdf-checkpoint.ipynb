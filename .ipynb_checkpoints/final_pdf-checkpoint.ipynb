{
 "cells": [
  {
   "cell_type": "code",
   "execution_count": 1,
   "metadata": {
    "collapsed": true
   },
   "outputs": [],
   "source": [
    "from tabula import read_pdf\n",
    "df1 = read_pdf(\"base1.pdf\", pages=\"all\",spreadsheet=True)\n",
    "df2 = read_pdf(\"cycle1.pdf\", pages=\"all\",spreadsheet=True)"
   ]
  },
  {
   "cell_type": "code",
   "execution_count": 2,
   "metadata": {
    "collapsed": true
   },
   "outputs": [],
   "source": [
    "df1.to_csv(\"bbb.csv\")\n",
    "df2.to_csv(\"ccc.csv\")"
   ]
  },
  {
   "cell_type": "code",
   "execution_count": 3,
   "metadata": {
    "collapsed": true
   },
   "outputs": [],
   "source": [
    "import pandas as pd\n",
    "data = pd.read_csv(\"bbb.csv\", index_col =\"UID\")\n",
    "data.drop([\"UID\"], inplace = True)\n",
    "data1 = pd.read_csv(\"ccc.csv\", index_col =\"UID\")\n",
    "data1.drop([\"UID\"], inplace = True) "
   ]
  },
  {
   "cell_type": "code",
   "execution_count": 4,
   "metadata": {
    "collapsed": true
   },
   "outputs": [],
   "source": [
    "data.to_csv(\"bbb.csv\")\n",
    "data1.to_csv(\"ccc.csv\")"
   ]
  },
  {
   "cell_type": "code",
   "execution_count": 5,
   "metadata": {
    "collapsed": true
   },
   "outputs": [],
   "source": [
    "data.drop([\"Unnamed: 0\"], axis = 1, inplace = True)\n",
    "data1.drop([\"Unnamed: 0\"], axis = 1, inplace = True)"
   ]
  },
  {
   "cell_type": "code",
   "execution_count": 6,
   "metadata": {
    "collapsed": true
   },
   "outputs": [],
   "source": [
    "data.to_csv(\"bbb.csv\")\n",
    "data1.to_csv(\"ccc.csv\")"
   ]
  },
  {
   "cell_type": "code",
   "execution_count": 7,
   "metadata": {},
   "outputs": [
    {
     "data": {
      "text/html": [
       "<div>\n",
       "<style scoped>\n",
       "    .dataframe tbody tr th:only-of-type {\n",
       "        vertical-align: middle;\n",
       "    }\n",
       "\n",
       "    .dataframe tbody tr th {\n",
       "        vertical-align: top;\n",
       "    }\n",
       "\n",
       "    .dataframe thead th {\n",
       "        text-align: right;\n",
       "    }\n",
       "</style>\n",
       "<table border=\"1\" class=\"dataframe\">\n",
       "  <thead>\n",
       "    <tr style=\"text-align: right;\">\n",
       "      <th></th>\n",
       "      <th>Product #</th>\n",
       "      <th>Product Description</th>\n",
       "      <th>Qty</th>\n",
       "      <th>Unit Price</th>\n",
       "      <th>Total Price</th>\n",
       "    </tr>\n",
       "    <tr>\n",
       "      <th>UID</th>\n",
       "      <th></th>\n",
       "      <th></th>\n",
       "      <th></th>\n",
       "      <th></th>\n",
       "      <th></th>\n",
       "    </tr>\n",
       "  </thead>\n",
       "  <tbody>\n",
       "    <tr>\n",
       "      <th>1</th>\n",
       "      <td>100-1</td>\n",
       "      <td>400 Series Awning\\rOverall Joined Rough Openin...</td>\n",
       "      <td>1</td>\n",
       "      <td>$2,299.30</td>\n",
       "      <td>$2,299.30</td>\n",
       "    </tr>\n",
       "    <tr>\n",
       "      <th>2</th>\n",
       "      <td>100-2</td>\n",
       "      <td>400 Series Awning\\rOverall Joined Rough Openin...</td>\n",
       "      <td>1</td>\n",
       "      <td>$13.80</td>\n",
       "      <td>$13.80</td>\n",
       "    </tr>\n",
       "    <tr>\n",
       "      <th>3</th>\n",
       "      <td>100-3</td>\n",
       "      <td>400 Series Awning\\rOverall Joined Rough Openin...</td>\n",
       "      <td>1</td>\n",
       "      <td>$13.80</td>\n",
       "      <td>$13.80</td>\n",
       "    </tr>\n",
       "    <tr>\n",
       "      <th>4</th>\n",
       "      <td>100-4</td>\n",
       "      <td>400 Series Awning $13.80\\rOverall Joined Rough...</td>\n",
       "      <td>1</td>\n",
       "      <td>$13.80</td>\n",
       "      <td>$13.80</td>\n",
       "    </tr>\n",
       "    <tr>\n",
       "      <th>5</th>\n",
       "      <td>300-1</td>\n",
       "      <td>400 Series Double-Hung Bay\\rOverall Joined Rou...</td>\n",
       "      <td>1</td>\n",
       "      <td>$4,186.20</td>\n",
       "      <td>$4,186.20</td>\n",
       "    </tr>\n",
       "  </tbody>\n",
       "</table>\n",
       "</div>"
      ],
      "text/plain": [
       "    Product #                                Product Description Qty  \\\n",
       "UID                                                                    \n",
       "1       100-1  400 Series Awning\\rOverall Joined Rough Openin...   1   \n",
       "2       100-2  400 Series Awning\\rOverall Joined Rough Openin...   1   \n",
       "3       100-3  400 Series Awning\\rOverall Joined Rough Openin...   1   \n",
       "4       100-4  400 Series Awning $13.80\\rOverall Joined Rough...   1   \n",
       "5       300-1  400 Series Double-Hung Bay\\rOverall Joined Rou...   1   \n",
       "\n",
       "    Unit Price Total Price  \n",
       "UID                         \n",
       "1    $2,299.30   $2,299.30  \n",
       "2       $13.80      $13.80  \n",
       "3       $13.80      $13.80  \n",
       "4       $13.80      $13.80  \n",
       "5    $4,186.20   $4,186.20  "
      ]
     },
     "execution_count": 7,
     "metadata": {},
     "output_type": "execute_result"
    }
   ],
   "source": [
    "data.head()\n"
   ]
  },
  {
   "cell_type": "code",
   "execution_count": 8,
   "metadata": {},
   "outputs": [
    {
     "data": {
      "text/html": [
       "<div>\n",
       "<style scoped>\n",
       "    .dataframe tbody tr th:only-of-type {\n",
       "        vertical-align: middle;\n",
       "    }\n",
       "\n",
       "    .dataframe tbody tr th {\n",
       "        vertical-align: top;\n",
       "    }\n",
       "\n",
       "    .dataframe thead th {\n",
       "        text-align: right;\n",
       "    }\n",
       "</style>\n",
       "<table border=\"1\" class=\"dataframe\">\n",
       "  <thead>\n",
       "    <tr style=\"text-align: right;\">\n",
       "      <th></th>\n",
       "      <th>Product #</th>\n",
       "      <th>Product Description</th>\n",
       "      <th>Qty</th>\n",
       "      <th>Unit Price</th>\n",
       "      <th>Total Price</th>\n",
       "    </tr>\n",
       "    <tr>\n",
       "      <th>UID</th>\n",
       "      <th></th>\n",
       "      <th></th>\n",
       "      <th></th>\n",
       "      <th></th>\n",
       "      <th></th>\n",
       "    </tr>\n",
       "  </thead>\n",
       "  <tbody>\n",
       "    <tr>\n",
       "      <th>1</th>\n",
       "      <td>100-1</td>\n",
       "      <td>400 Series Awning\\rOverall Joined Rough Openin...</td>\n",
       "      <td>1</td>\n",
       "      <td>$2,299.30</td>\n",
       "      <td>$2,299.30</td>\n",
       "    </tr>\n",
       "    <tr>\n",
       "      <th>2</th>\n",
       "      <td>100-2</td>\n",
       "      <td>400 Series Awning\\rOverall Joined Rough Openin...</td>\n",
       "      <td>1</td>\n",
       "      <td>$13.80</td>\n",
       "      <td>$13.80</td>\n",
       "    </tr>\n",
       "    <tr>\n",
       "      <th>3</th>\n",
       "      <td>100-3</td>\n",
       "      <td>400 Series Awning\\rOverall Joined Rough Openin...</td>\n",
       "      <td>1</td>\n",
       "      <td>$13.80</td>\n",
       "      <td>$13.80</td>\n",
       "    </tr>\n",
       "    <tr>\n",
       "      <th>4</th>\n",
       "      <td>100-4</td>\n",
       "      <td>400 Series Awning $13.80\\rOverall Joined Rough...</td>\n",
       "      <td>1</td>\n",
       "      <td>$13.80</td>\n",
       "      <td>$13.80</td>\n",
       "    </tr>\n",
       "    <tr>\n",
       "      <th>5</th>\n",
       "      <td>300-1</td>\n",
       "      <td>400 Series Double-Hung Bay\\rOverall Joined Rou...</td>\n",
       "      <td>1</td>\n",
       "      <td>$4,376.20</td>\n",
       "      <td>$4,376.20</td>\n",
       "    </tr>\n",
       "  </tbody>\n",
       "</table>\n",
       "</div>"
      ],
      "text/plain": [
       "    Product #                                Product Description Qty  \\\n",
       "UID                                                                    \n",
       "1       100-1  400 Series Awning\\rOverall Joined Rough Openin...   1   \n",
       "2       100-2  400 Series Awning\\rOverall Joined Rough Openin...   1   \n",
       "3       100-3  400 Series Awning\\rOverall Joined Rough Openin...   1   \n",
       "4       100-4  400 Series Awning $13.80\\rOverall Joined Rough...   1   \n",
       "5       300-1  400 Series Double-Hung Bay\\rOverall Joined Rou...   1   \n",
       "\n",
       "    Unit Price Total Price  \n",
       "UID                         \n",
       "1    $2,299.30   $2,299.30  \n",
       "2       $13.80      $13.80  \n",
       "3       $13.80      $13.80  \n",
       "4       $13.80      $13.80  \n",
       "5    $4,376.20   $4,376.20  "
      ]
     },
     "execution_count": 8,
     "metadata": {},
     "output_type": "execute_result"
    }
   ],
   "source": [
    "data1.head()"
   ]
  },
  {
   "cell_type": "code",
   "execution_count": 9,
   "metadata": {
    "collapsed": true
   },
   "outputs": [],
   "source": [
    "data = data.reset_index()"
   ]
  },
  {
   "cell_type": "code",
   "execution_count": 10,
   "metadata": {
    "collapsed": true
   },
   "outputs": [],
   "source": [
    "data1 = data1.reset_index()"
   ]
  },
  {
   "cell_type": "code",
   "execution_count": 11,
   "metadata": {},
   "outputs": [
    {
     "name": "stdout",
     "output_type": "stream",
     "text": [
      "UID\n",
      "Product #\n",
      "Product Description\n",
      "Qty\n",
      "Unit Price\n",
      "Total Price\n"
     ]
    }
   ],
   "source": [
    "for col in data.columns: \n",
    "    print(col) "
   ]
  },
  {
   "cell_type": "code",
   "execution_count": 12,
   "metadata": {},
   "outputs": [
    {
     "name": "stdout",
     "output_type": "stream",
     "text": [
      "UID\n",
      "Product #\n",
      "Product Description\n",
      "Qty\n",
      "Unit Price\n",
      "Total Price\n"
     ]
    }
   ],
   "source": [
    "for col in data1.columns: \n",
    "    print(col) "
   ]
  },
  {
   "cell_type": "code",
   "execution_count": 13,
   "metadata": {},
   "outputs": [
    {
     "data": {
      "text/html": [
       "<div>\n",
       "<style scoped>\n",
       "    .dataframe tbody tr th:only-of-type {\n",
       "        vertical-align: middle;\n",
       "    }\n",
       "\n",
       "    .dataframe tbody tr th {\n",
       "        vertical-align: top;\n",
       "    }\n",
       "\n",
       "    .dataframe thead th {\n",
       "        text-align: right;\n",
       "    }\n",
       "</style>\n",
       "<table border=\"1\" class=\"dataframe\">\n",
       "  <thead>\n",
       "    <tr style=\"text-align: right;\">\n",
       "      <th></th>\n",
       "      <th>UID</th>\n",
       "      <th>Product #</th>\n",
       "      <th>Product Description</th>\n",
       "      <th>Qty</th>\n",
       "      <th>Unit Price</th>\n",
       "      <th>Total Price</th>\n",
       "    </tr>\n",
       "  </thead>\n",
       "  <tbody>\n",
       "    <tr>\n",
       "      <th>0</th>\n",
       "      <td>1</td>\n",
       "      <td>100-1</td>\n",
       "      <td>400 Series Awning\\rOverall Joined Rough Openin...</td>\n",
       "      <td>1</td>\n",
       "      <td>$2,299.30</td>\n",
       "      <td>$2,299.30</td>\n",
       "    </tr>\n",
       "    <tr>\n",
       "      <th>1</th>\n",
       "      <td>2</td>\n",
       "      <td>100-2</td>\n",
       "      <td>400 Series Awning\\rOverall Joined Rough Openin...</td>\n",
       "      <td>1</td>\n",
       "      <td>$13.80</td>\n",
       "      <td>$13.80</td>\n",
       "    </tr>\n",
       "    <tr>\n",
       "      <th>2</th>\n",
       "      <td>3</td>\n",
       "      <td>100-3</td>\n",
       "      <td>400 Series Awning\\rOverall Joined Rough Openin...</td>\n",
       "      <td>1</td>\n",
       "      <td>$13.80</td>\n",
       "      <td>$13.80</td>\n",
       "    </tr>\n",
       "    <tr>\n",
       "      <th>3</th>\n",
       "      <td>4</td>\n",
       "      <td>100-4</td>\n",
       "      <td>400 Series Awning $13.80\\rOverall Joined Rough...</td>\n",
       "      <td>1</td>\n",
       "      <td>$13.80</td>\n",
       "      <td>$13.80</td>\n",
       "    </tr>\n",
       "    <tr>\n",
       "      <th>4</th>\n",
       "      <td>5</td>\n",
       "      <td>300-1</td>\n",
       "      <td>400 Series Double-Hung Bay\\rOverall Joined Rou...</td>\n",
       "      <td>1</td>\n",
       "      <td>$4,186.20</td>\n",
       "      <td>$4,186.20</td>\n",
       "    </tr>\n",
       "  </tbody>\n",
       "</table>\n",
       "</div>"
      ],
      "text/plain": [
       "  UID Product #                                Product Description Qty  \\\n",
       "0   1     100-1  400 Series Awning\\rOverall Joined Rough Openin...   1   \n",
       "1   2     100-2  400 Series Awning\\rOverall Joined Rough Openin...   1   \n",
       "2   3     100-3  400 Series Awning\\rOverall Joined Rough Openin...   1   \n",
       "3   4     100-4  400 Series Awning $13.80\\rOverall Joined Rough...   1   \n",
       "4   5     300-1  400 Series Double-Hung Bay\\rOverall Joined Rou...   1   \n",
       "\n",
       "  Unit Price Total Price  \n",
       "0  $2,299.30   $2,299.30  \n",
       "1     $13.80      $13.80  \n",
       "2     $13.80      $13.80  \n",
       "3     $13.80      $13.80  \n",
       "4  $4,186.20   $4,186.20  "
      ]
     },
     "execution_count": 13,
     "metadata": {},
     "output_type": "execute_result"
    }
   ],
   "source": [
    "data.head()"
   ]
  },
  {
   "cell_type": "code",
   "execution_count": 14,
   "metadata": {},
   "outputs": [
    {
     "data": {
      "text/html": [
       "<div>\n",
       "<style scoped>\n",
       "    .dataframe tbody tr th:only-of-type {\n",
       "        vertical-align: middle;\n",
       "    }\n",
       "\n",
       "    .dataframe tbody tr th {\n",
       "        vertical-align: top;\n",
       "    }\n",
       "\n",
       "    .dataframe thead th {\n",
       "        text-align: right;\n",
       "    }\n",
       "</style>\n",
       "<table border=\"1\" class=\"dataframe\">\n",
       "  <thead>\n",
       "    <tr style=\"text-align: right;\">\n",
       "      <th></th>\n",
       "      <th>UID</th>\n",
       "      <th>Product #</th>\n",
       "      <th>Product Description</th>\n",
       "      <th>Qty</th>\n",
       "      <th>Unit Price</th>\n",
       "      <th>Total Price</th>\n",
       "    </tr>\n",
       "  </thead>\n",
       "  <tbody>\n",
       "    <tr>\n",
       "      <th>0</th>\n",
       "      <td>1</td>\n",
       "      <td>100-1</td>\n",
       "      <td>400 Series Awning\\rOverall Joined Rough Openin...</td>\n",
       "      <td>1</td>\n",
       "      <td>$2,299.30</td>\n",
       "      <td>$2,299.30</td>\n",
       "    </tr>\n",
       "    <tr>\n",
       "      <th>1</th>\n",
       "      <td>2</td>\n",
       "      <td>100-2</td>\n",
       "      <td>400 Series Awning\\rOverall Joined Rough Openin...</td>\n",
       "      <td>1</td>\n",
       "      <td>$13.80</td>\n",
       "      <td>$13.80</td>\n",
       "    </tr>\n",
       "    <tr>\n",
       "      <th>2</th>\n",
       "      <td>3</td>\n",
       "      <td>100-3</td>\n",
       "      <td>400 Series Awning\\rOverall Joined Rough Openin...</td>\n",
       "      <td>1</td>\n",
       "      <td>$13.80</td>\n",
       "      <td>$13.80</td>\n",
       "    </tr>\n",
       "    <tr>\n",
       "      <th>3</th>\n",
       "      <td>4</td>\n",
       "      <td>100-4</td>\n",
       "      <td>400 Series Awning $13.80\\rOverall Joined Rough...</td>\n",
       "      <td>1</td>\n",
       "      <td>$13.80</td>\n",
       "      <td>$13.80</td>\n",
       "    </tr>\n",
       "    <tr>\n",
       "      <th>4</th>\n",
       "      <td>5</td>\n",
       "      <td>300-1</td>\n",
       "      <td>400 Series Double-Hung Bay\\rOverall Joined Rou...</td>\n",
       "      <td>1</td>\n",
       "      <td>$4,376.20</td>\n",
       "      <td>$4,376.20</td>\n",
       "    </tr>\n",
       "  </tbody>\n",
       "</table>\n",
       "</div>"
      ],
      "text/plain": [
       "  UID Product #                                Product Description Qty  \\\n",
       "0   1     100-1  400 Series Awning\\rOverall Joined Rough Openin...   1   \n",
       "1   2     100-2  400 Series Awning\\rOverall Joined Rough Openin...   1   \n",
       "2   3     100-3  400 Series Awning\\rOverall Joined Rough Openin...   1   \n",
       "3   4     100-4  400 Series Awning $13.80\\rOverall Joined Rough...   1   \n",
       "4   5     300-1  400 Series Double-Hung Bay\\rOverall Joined Rou...   1   \n",
       "\n",
       "  Unit Price Total Price  \n",
       "0  $2,299.30   $2,299.30  \n",
       "1     $13.80      $13.80  \n",
       "2     $13.80      $13.80  \n",
       "3     $13.80      $13.80  \n",
       "4  $4,376.20   $4,376.20  "
      ]
     },
     "execution_count": 14,
     "metadata": {},
     "output_type": "execute_result"
    }
   ],
   "source": [
    "data1.head()"
   ]
  },
  {
   "cell_type": "code",
   "execution_count": 15,
   "metadata": {
    "collapsed": true
   },
   "outputs": [],
   "source": [
    "data.to_csv(\"bbb.csv\")\n",
    "data1.to_csv(\"ccc.csv\")"
   ]
  },
  {
   "cell_type": "code",
   "execution_count": 16,
   "metadata": {},
   "outputs": [
    {
     "data": {
      "text/plain": [
       "True"
      ]
     },
     "execution_count": 16,
     "metadata": {},
     "output_type": "execute_result"
    }
   ],
   "source": [
    "data.equals(data) "
   ]
  },
  {
   "cell_type": "code",
   "execution_count": 17,
   "metadata": {},
   "outputs": [
    {
     "data": {
      "text/plain": [
       "(31, 6)"
      ]
     },
     "execution_count": 17,
     "metadata": {},
     "output_type": "execute_result"
    }
   ],
   "source": [
    "data.shape"
   ]
  },
  {
   "cell_type": "code",
   "execution_count": 18,
   "metadata": {},
   "outputs": [
    {
     "data": {
      "text/plain": [
       "(32, 6)"
      ]
     },
     "execution_count": 18,
     "metadata": {},
     "output_type": "execute_result"
    }
   ],
   "source": [
    "data1.shape"
   ]
  },
  {
   "cell_type": "code",
   "execution_count": 19,
   "metadata": {},
   "outputs": [
    {
     "data": {
      "text/plain": [
       "31"
      ]
     },
     "execution_count": 19,
     "metadata": {},
     "output_type": "execute_result"
    }
   ],
   "source": [
    "len(data.index)"
   ]
  },
  {
   "cell_type": "code",
   "execution_count": 20,
   "metadata": {},
   "outputs": [
    {
     "data": {
      "text/plain": [
       "32"
      ]
     },
     "execution_count": 20,
     "metadata": {},
     "output_type": "execute_result"
    }
   ],
   "source": [
    "len(data1.index)"
   ]
  },
  {
   "cell_type": "code",
   "execution_count": 21,
   "metadata": {
    "collapsed": true
   },
   "outputs": [],
   "source": [
    "c=data.iloc[:,0]\n",
    "c1=data1.iloc[:,0]"
   ]
  },
  {
   "cell_type": "code",
   "execution_count": 22,
   "metadata": {},
   "outputs": [
    {
     "data": {
      "text/plain": [
       "0      1\n",
       "1      2\n",
       "2      3\n",
       "3      4\n",
       "4      5\n",
       "5      6\n",
       "6      7\n",
       "7      8\n",
       "8      9\n",
       "9     10\n",
       "10    11\n",
       "11    12\n",
       "12    13\n",
       "13    14\n",
       "14    15\n",
       "15    16\n",
       "16    17\n",
       "17    18\n",
       "18    19\n",
       "19    20\n",
       "20    21\n",
       "21    22\n",
       "22    23\n",
       "23    24\n",
       "24    25\n",
       "25    26\n",
       "26    27\n",
       "27    28\n",
       "28    29\n",
       "29    30\n",
       "30    31\n",
       "Name: UID, dtype: object"
      ]
     },
     "execution_count": 22,
     "metadata": {},
     "output_type": "execute_result"
    }
   ],
   "source": [
    "c"
   ]
  },
  {
   "cell_type": "code",
   "execution_count": 23,
   "metadata": {},
   "outputs": [
    {
     "data": {
      "text/plain": [
       "0      1\n",
       "1      2\n",
       "2      3\n",
       "3      4\n",
       "4      5\n",
       "5      6\n",
       "6      7\n",
       "7      8\n",
       "8      9\n",
       "9     10\n",
       "10    11\n",
       "11    12\n",
       "12    13\n",
       "13    14\n",
       "14    15\n",
       "15    16\n",
       "16    17\n",
       "17    32\n",
       "18    33\n",
       "19    18\n",
       "20    19\n",
       "21    20\n",
       "22    21\n",
       "23    22\n",
       "24    23\n",
       "25    24\n",
       "26    25\n",
       "27    26\n",
       "28    27\n",
       "29    28\n",
       "30    29\n",
       "31    31\n",
       "Name: UID, dtype: object"
      ]
     },
     "execution_count": 23,
     "metadata": {},
     "output_type": "execute_result"
    }
   ],
   "source": [
    "c1"
   ]
  },
  {
   "cell_type": "code",
   "execution_count": 24,
   "metadata": {},
   "outputs": [
    {
     "data": {
      "text/plain": [
       "False"
      ]
     },
     "execution_count": 24,
     "metadata": {},
     "output_type": "execute_result"
    }
   ],
   "source": [
    "c.equals(c1)"
   ]
  },
  {
   "cell_type": "code",
   "execution_count": 25,
   "metadata": {
    "collapsed": true
   },
   "outputs": [],
   "source": [
    "c=c.values.tolist()\n",
    "c1=c1.values.tolist()"
   ]
  },
  {
   "cell_type": "code",
   "execution_count": 26,
   "metadata": {},
   "outputs": [
    {
     "data": {
      "text/plain": [
       "list"
      ]
     },
     "execution_count": 26,
     "metadata": {},
     "output_type": "execute_result"
    }
   ],
   "source": [
    "type(c)"
   ]
  },
  {
   "cell_type": "code",
   "execution_count": 27,
   "metadata": {
    "collapsed": true
   },
   "outputs": [],
   "source": [
    "d=(list(set(c) - set(c1))) "
   ]
  },
  {
   "cell_type": "code",
   "execution_count": 28,
   "metadata": {},
   "outputs": [
    {
     "data": {
      "text/plain": [
       "['30']"
      ]
     },
     "execution_count": 28,
     "metadata": {},
     "output_type": "execute_result"
    }
   ],
   "source": [
    "d"
   ]
  },
  {
   "cell_type": "code",
   "execution_count": 29,
   "metadata": {
    "collapsed": true
   },
   "outputs": [],
   "source": [
    "d1=(list(set(c1) - set(c))) "
   ]
  },
  {
   "cell_type": "code",
   "execution_count": 30,
   "metadata": {},
   "outputs": [
    {
     "data": {
      "text/plain": [
       "['33', '32']"
      ]
     },
     "execution_count": 30,
     "metadata": {},
     "output_type": "execute_result"
    }
   ],
   "source": [
    "d1"
   ]
  },
  {
   "cell_type": "code",
   "execution_count": 31,
   "metadata": {
    "collapsed": true
   },
   "outputs": [],
   "source": [
    "da = data.values.tolist()"
   ]
  },
  {
   "cell_type": "code",
   "execution_count": 32,
   "metadata": {},
   "outputs": [
    {
     "data": {
      "text/plain": [
       "[['1',\n",
       "  '100-1',\n",
       "  '400 Series Awning\\rOverall Joined Rough Opening = 99 1/4\" x 24 5/8\"\\rOverall Joined Unit = 98 3/4\" x 24 1/8\"\\rInstallation Zip Code = 55082\\rU.S. ENERGY STAR® Climate Zone = Northern\\rSearch by Unit Code = No\\rStandard Width = RO: 24 5/8\" | UNIT: 24 1/8\"\\rStandard Height = RO: 24 5/8\" | UNIT: 24 1/8\"\\rFrame Width = 24 1/8\\rFrame Height = 24 1/8\\rUnit Code = A21\\rFrame Option = Installation Flange\\rCombination Operation / Venting = Vent(All)\\rVenting / Handing = Vent\\rElectric Operator Prep = No\\rExterior Color = Sandtone\\rInterior Species = Pine\\rInterior Finish Color = Unfinished\\rGlass Construction Type = Dual Pane\\rGlass Option = Low-E4\\rHigh Altitude Breather Tubes = No\\rGlass Strength = Standard\\rGlass Tint = No Tint\\rSpecialty Glass = None\\rGas Fill = Argon\\rArt Glass Series = None\\rNone\\rDP/PG Upgrade = Yes\\rHardware Style = Classic Series\\rHardware Color/Finish = White\\rCorrosion Resistant Hardware = None\\rSecurity Sensor Type = None\\rInsect Screen Type = None\\rExterior Trim Style = 3 1/2\" Flat\\rExterior Trim Type = Sill Nose\\rExterior Trim Color = White\\rExterior Trim Sill Size = 1 3/4\"\\rExterior Trim Application Method = Pre-cut Trim Kit\\rExtension Jamb Type = None\\rInstallation Material Options = No\\rRe-Order Item = No\\rRoom Location = None\\rUnit U-Factor = 0.28\\rUnit Solar Heat Gain Coefficient (SHGC) = 0.31\\rU.S. ENERGY STAR Certified = No\\rHardware Part Number = 1521026\\rVertical\\rFactory\\r0.75\" thick, 24.125\" length\\rSKU = 289185\\rVendor Name = S/O ANDERSEN LOGISTICS\\rVendor Number = 60509030\\rCustomer Service = (888) 888-7020\\rCatalog Version Date = 03/26/2019',\n",
       "  '1',\n",
       "  '$2,299.30',\n",
       "  '$2,299.30'],\n",
       " ['2',\n",
       "  '100-2',\n",
       "  '400 Series Awning\\rOverall Joined Rough Opening = 99 1/4\" x 24 5/8\"\\rOverall Joined Unit = 98 3/4\" x 24 1/8\"\\rInstallation Zip Code = 55082\\rU.S. ENERGY STAR® Climate Zone = Northern\\rSearch by Unit Code = No\\rStandard Width = RO: 24 5/8\" | UNIT: 24 1/8\"\\rStandard Height = RO: 24 5/8\" | UNIT: 24 1/8\"\\rFrame Width = 24 1/8\\rFrame Height = 24 1/8\\rUnit Code = A21\\rFrame Option = Installation Flange\\rCombination Operation / Venting = Vent(All)\\rVenting / Handing = Vent\\rElectric Operator Prep = No\\rExterior Color = Sandtone\\rInterior Species = Pine\\rInterior Finish Color = Unfinished\\rGlass Construction Type = Dual Pane\\rGlass Option = Low-E4\\rHigh Altitude Breather Tubes = No\\rGlass Strength = Standard\\rGlass Tint = No Tint\\rSpecialty Glass = None\\rGas Fill = Argon\\rArt Glass Series = None\\rNone\\rDP/PG Upgrade = Yes\\rHardware Style = Classic Series\\rHardware Color/Finish = White\\rCorrosion Resistant Hardware = None\\rSecurity Sensor Type = None\\rInsect Screen Type = None\\rExterior Trim Style = 3 1/2\" Flat\\rExterior Trim Type = Sill Nose\\rExterior Trim Color = White\\rExterior Trim Sill Size = 1 3/4\"\\rExterior Trim Application Method = Pre-cut Trim Kit\\rExtension Jamb Type = None\\rInstallation Material Options = No\\rRe-Order Item = No\\rRoom Location = None\\rUnit U-Factor = 0.28\\rUnit Solar Heat Gain Coefficient (SHGC) = 0.31\\rU.S. ENERGY STAR Certified = No\\rHardware Part Number = 1521026\\rVertical\\rFactory\\r0.75\" thick, 24.125\" length\\rSKU = 289185\\rVendor Name = S/O ANDERSEN LOGISTICS\\rVendor Number = 60509030\\rCustomer Service = (888) 888-7020\\rCatalog Version Date = 03/26/2019',\n",
       "  '1',\n",
       "  '$13.80',\n",
       "  '$13.80'],\n",
       " ['3',\n",
       "  '100-3',\n",
       "  '400 Series Awning\\rOverall Joined Rough Opening = 99 1/4\" x 24 5/8\"\\rOverall Joined Unit = 98 3/4\" x 24 1/8\"\\rInstallation Zip Code = 55082\\rU.S. ENERGY STAR® Climate Zone = Northern\\rSearch by Unit Code = No\\rStandard Width = RO: 24 5/8\" | UNIT: 24 1/8\"\\rStandard Height = RO: 24 5/8\" | UNIT: 24 1/8\"\\rFrame Width = 24 1/8\\rFrame Height = 24 1/8\\rUnit Code = A21\\rFrame Option = Installation Flange\\rCombination Operation / Venting = Vent(All)\\rVenting / Handing = Vent\\rElectric Operator Prep = No\\rExterior Color = Sandtone\\rInterior Species = Pine\\rInterior Finish Color = Unfinished\\rGlass Construction Type = Dual Pane\\rGlass Option = Low-E4\\rHigh Altitude Breather Tubes = No\\rGlass Strength = Standard\\rGlass Tint = No Tint\\rSpecialty Glass = None\\rGas Fill = Argon\\rArt Glass Series = None\\rNone\\rDP/PG Upgrade = Yes\\rHardware Style = Classic Series\\rHardware Color/Finish = White\\rCorrosion Resistant Hardware = None\\rSecurity Sensor Type = None\\rInsect Screen Type = None\\rExterior Trim Style = 3 1/2\" Flat\\rExterior Trim Type = Sill Nose\\rExterior Trim Color = White\\rExterior Trim Sill Size = 1 3/4\"\\rExterior Trim Application Method = Pre-cut Trim Kit\\rExtension Jamb Type = None\\rInstallation Material Options = No\\rRe-Order Item = No\\rRoom Location = None\\rUnit U-Factor = 0.28\\rUnit Solar Heat Gain Coefficient (SHGC) = 0.31\\rU.S. ENERGY STAR Certified = No\\rHardware Part Number = 1521026\\rVertical\\rFactory\\r0.75\" thick, 24.125\" length\\rSKU = 289185\\rVendor Name = S/O ANDERSEN LOGISTICS\\rVendor Number = 60509030\\rCustomer Service = (888) 888-7020\\rCatalog Version Date = 03/26/2019',\n",
       "  '1',\n",
       "  '$13.80',\n",
       "  '$13.80'],\n",
       " ['4',\n",
       "  '100-4',\n",
       "  '400 Series Awning $13.80\\rOverall Joined Rough Opening = 99 1/4\" x 24 5/8\"\\rOverall Joined Unit = 98 3/4\" x 24 1/8\"\\rInstallation Zip Code = 55082\\rU.S. ENERGY STAR® Climate Zone = Northern\\rSearch by Unit Code = No\\rStandard Width = RO: 24 5/8\" | UNIT: 24 1/8\"\\rStandard Height = RO: 24 5/8\" | UNIT: 24 1/8\"\\rFrame Width = 24 1/8\\rFrame Height = 24 1/8\\rUnit Code = A21\\rFrame Option = Installation Flange\\rCombination Operation / Venting = Vent(All)\\rVenting / Handing = Vent\\rElectric Operator Prep = No\\rExterior Color = Sandtone\\rInterior Species = Pine\\rInterior Finish Color = Unfinished\\rGlass Construction Type = Dual Pane\\rGlass Option = Low-E4\\rHigh Altitude Breather Tubes = No\\rGlass Strength = Standard\\rGlass Tint = No Tint\\rSpecialty Glass = None\\rGas Fill = Argon\\rArt Glass Series = None\\rNone\\rDP/PG Upgrade = Yes\\rHardware Style = Classic Series\\rHardware Color/Finish = White\\rCorrosion Resistant Hardware = None\\rSecurity Sensor Type = None\\rInsect Screen Type = None\\rExterior Trim Style = 3 1/2\" Flat\\rExterior Trim Type = Sill Nose\\rExterior Trim Color = White\\rExterior Trim Sill Size = 1 3/4\"\\rExterior Trim Application Method = Pre-cut Trim Kit\\rExtension Jamb Type = None\\rInstallation Material Options = No\\rRe-Order Item = No\\rRoom Location = None\\rUnit U-Factor = 0.28\\rUnit Solar Heat Gain Coefficient (SHGC) = 0.31\\rU.S. ENERGY STAR Certified = No\\rHardware Part Number = 1521026\\rVertical\\rFactory\\r0.75\" thick, 24.125\" length\\rSKU = 289185\\rVendor Name = S/O ANDERSEN LOGISTICS\\rVendor Number = 60509030\\rCustomer Service = (888) 888-7020\\rCatalog Version Date = 03/26/2019',\n",
       "  '1',\n",
       "  '$13.80',\n",
       "  '$13.80'],\n",
       " ['5',\n",
       "  '300-1',\n",
       "  '400 Series Double-Hung Bay\\rOverall Joined Rough Opening = 79 1/8\" x 70 3/4\"\\rOverall Joined Unit = 80 7/16\" x 70 1/4\"\\rDimensional Entry Type = Standard Sizes (By Center\\rWidth)\\rInstallation Zip Code = 55082\\rU.S. ENERGY STAR® Climate Zone = Northern\\rSearch by Unit Code = No\\rUnit 1, 3: Frame Width = 21 5/8\\rUnit 1, 3: Frame Height = 68 7/8\\rUnit 2: Frame Width = 41 5/8\\rUnit 2: Frame Height = 68 7/8\\rUnit Code = TW45-3456-18\\rCombination Operation / Venting = Active (All)\\rVenting / Handing = AA\\rExterior Color = Dark Bronze\\rExterior Sash/Panel Color = Dark Bronze\\rInterior Species = Pine\\rInterior Finish Color = White - Painted\\rJamb Liner Color = White\\rGlass Construction Type = Dual Pane\\rGlass Option = Low-E4\\rHigh Altitude Breather Tubes = No\\rGlass Strength = Tempered\\rSpecialty Glass = Reed Vertical\\rGas Fill = Argon\\rNone\\rDP/PG Upgrade = No\\rSash Lift Type = Hand Lift\\rSash Lift Style = Traditional\\rSash Lift Color/Finish = Antique Brass\\rLock Hardware Style = Traditional\\rNumber of Sash Locks = 1\\rLock Hardware Color/Finish = White (Factory Applied)\\rWindow Opening Control Device = No\\rSecurity Sensor Type = None\\rInsect Screen Type = Half Screen\\rInsect Screen Material = TruScene\\rInsect Screen Color = Sandtone\\rBay/Bow Option Type = Standard\\rBay/Bow/Box Extension Jamb Color = White - Painted\\rHead and Seat Board Species = Pine\\rHead and Seat Board Finish Color = White - Painted\\rOverall Wall Depth = 6 9/16\"\\rPlatform Boards = Top and Bottom Platforms\\rAngle Bay/Bow Supports = w/Cable Support System\\rTop Auxiliary Casing = Top Auxiliary\\rAuxiliary Casing Colors = Dark Bronze\\rCasing Application Location = Shipped Loose\\rTrim Board = Fibrex Cellular Trim Board\\rInstallation Material Options = No\\rRe-Order Item = No\\rRoom Location = None\\rUnit 1, 3: Unit U-Factor = ---\\rUnit 1, 3: Unit Solar Heat Gain Coefficient (SHGC) = ---',\n",
       "  '1',\n",
       "  '$4,186.20',\n",
       "  '$4,186.20'],\n",
       " ['6',\n",
       "  '300-2',\n",
       "  '400 Series Double-Hung Bay\\rOverall Joined Rough Opening = 79 1/8\" x 70 3/4\"\\rOverall Joined Unit = 80 7/16\" x 70 1/4\"\\rDimensional Entry Type = Standard Sizes (By Center\\rWidth)\\rInstallation Zip Code = 55082\\rU.S. ENERGY STAR® Climate Zone = Northern\\rSearch by Unit Code = No\\rUnit 1, 3: Frame Width = 21 5/8\\rUnit 1, 3: Frame Height = 68 7/8\\rUnit 2: Frame Width = 41 5/8\\rUnit 2: Frame Height = 68 7/8\\rUnit Code = TW45-3456-18\\rCombination Operation / Venting = Active (All)\\rVenting / Handing = AA\\rExterior Color = Dark Bronze\\rExterior Sash/Panel Color = Dark Bronze\\rInterior Species = Pine\\rInterior Finish Color = White - Painted\\rJamb Liner Color = White\\rGlass Construction Type = Dual Pane\\rGlass Option = Low-E4\\rHigh Altitude Breather Tubes = No\\rGlass Strength = Tempered\\rSpecialty Glass = Reed Vertical\\rGas Fill = Argon\\rNone\\rDP/PG Upgrade = No\\rSash Lift Type = Hand Lift\\rSash Lift Style = Traditional\\rSash Lift Color/Finish = Antique Brass\\rLock Hardware Style = Traditional\\rNumber of Sash Locks = 1\\rLock Hardware Color/Finish = White (Factory Applied)\\rWindow Opening Control Device = No\\rSecurity Sensor Type = None\\rInsect Screen Type = Half Screen\\rInsect Screen Material = TruScene\\rInsect Screen Color = Sandtone\\rBay/Bow Option Type = Standard\\rBay/Bow/Box Extension Jamb Color = White - Painted\\rHead and Seat Board Species = Pine\\rHead and Seat Board Finish Color = White - Painted\\rOverall Wall Depth = 6 9/16\"\\rPlatform Boards = Top and Bottom Platforms\\rAngle Bay/Bow Supports = w/Cable Support System\\rTop Auxiliary Casing = Top Auxiliary\\rAuxiliary Casing Colors = Dark Bronze\\rCasing Application Location = Shipped Loose\\rTrim Board = Fibrex Cellular Trim Board\\rInstallation Material Options = No\\rRe-Order Item = No\\rRoom Location = None\\rUnit 1, 3: Unit U-Factor = ---\\rUnit 1, 3: Unit Solar Heat Gain Coefficient (SHGC) = ---',\n",
       "  '1',\n",
       "  '$32.00',\n",
       "  '$32.00'],\n",
       " ['7',\n",
       "  '300-3',\n",
       "  '400 Series Double-Hung Bay\\rOverall Joined Rough Opening = 79 1/8\" x 70 3/4\"\\rOverall Joined Unit = 80 7/16\" x 70 1/4\"\\rDimensional Entry Type = Standard Sizes (By Center\\rWidth)\\rInstallation Zip Code = 55082\\rU.S. ENERGY STAR® Climate Zone = Northern\\rSearch by Unit Code = No\\rUnit 1, 3: Frame Width = 21 5/8\\rUnit 1, 3: Frame Height = 68 7/8\\rUnit 2: Frame Width = 41 5/8\\rUnit 2: Frame Height = 68 7/8\\rUnit Code = TW45-3456-18\\rCombination Operation / Venting = Active (All)\\rVenting / Handing = AA\\rExterior Color = Dark Bronze\\rExterior Sash/Panel Color = Dark Bronze\\rInterior Species = Pine\\rInterior Finish Color = White - Painted\\rJamb Liner Color = White\\rGlass Construction Type = Dual Pane\\rGlass Option = Low-E4\\rHigh Altitude Breather Tubes = No\\rGlass Strength = Tempered\\rSpecialty Glass = Reed Vertical\\rGas Fill = Argon\\rNone\\rDP/PG Upgrade = No\\rSash Lift Type = Hand Lift\\rSash Lift Style = Traditional\\rSash Lift Color/Finish = Antique Brass\\rLock Hardware Style = Traditional\\rNumber of Sash Locks = 1\\rLock Hardware Color/Finish = White (Factory Applied)\\rWindow Opening Control Device = No\\rSecurity Sensor Type = None\\rInsect Screen Type = Half Screen\\rInsect Screen Material = TruScene\\rInsect Screen Color = Sandtone\\rBay/Bow Option Type = Standard\\rBay/Bow/Box Extension Jamb Color = White - Painted\\rHead and Seat Board Species = Pine\\rHead and Seat Board Finish Color = White - Painted\\rOverall Wall Depth = 6 9/16\"\\rPlatform Boards = Top and Bottom Platforms\\rAngle Bay/Bow Supports = w/Cable Support System\\rTop Auxiliary Casing = Top Auxiliary\\rAuxiliary Casing Colors = Dark Bronze\\rCasing Application Location = Shipped Loose\\rTrim Board = Fibrex Cellular Trim Board\\rInstallation Material Options = No\\rRe-Order Item = No\\rRoom Location = None\\rUnit 1, 3: Unit U-Factor = ---\\rUnit 1, 3: Unit Solar Heat Gain Coefficient (SHGC) = ---',\n",
       "  '1',\n",
       "  '$175.00',\n",
       "  '$175.00'],\n",
       " ['8',\n",
       "  '300-4',\n",
       "  '400 Series Double-Hung Bay\\rOverall Joined Rough Opening = 79 1/8\" x 70 3/4\"\\rOverall Joined Unit = 80 7/16\" x 70 1/4\"\\rDimensional Entry Type = Standard Sizes (By Center\\rWidth)\\rInstallation Zip Code = 55082\\rU.S. ENERGY STAR® Climate Zone = Northern\\rSearch by Unit Code = No\\rUnit 1, 3: Frame Width = 21 5/8\\rUnit 1, 3: Frame Height = 68 7/8\\rUnit 2: Frame Width = 41 5/8\\rUnit 2: Frame Height = 68 7/8\\rUnit Code = TW45-3456-18\\rCombination Operation / Venting = Active (All)\\rVenting / Handing = AA\\rExterior Color = Dark Bronze\\rExterior Sash/Panel Color = Dark Bronze\\rInterior Species = Pine\\rInterior Finish Color = White - Painted\\rJamb Liner Color = White\\rGlass Construction Type = Dual Pane\\rGlass Option = Low-E4\\rHigh Altitude Breather Tubes = No\\rGlass Strength = Tempered\\rSpecialty Glass = Reed Vertical\\rGas Fill = Argon\\rNone\\rDP/PG Upgrade = No\\rSash Lift Type = Hand Lift\\rSash Lift Style = Traditional\\rSash Lift Color/Finish = Antique Brass\\rLock Hardware Style = Traditional\\rNumber of Sash Locks = 1\\rLock Hardware Color/Finish = White (Factory Applied)\\rWindow Opening Control Device = No\\rSecurity Sensor Type = None\\rInsect Screen Type = Half Screen\\rInsect Screen Material = TruScene\\rInsect Screen Color = Sandtone\\rBay/Bow Option Type = Standard\\rBay/Bow/Box Extension Jamb Color = White - Painted\\rHead and Seat Board Species = Pine\\rHead and Seat Board Finish Color = White - Painted\\rOverall Wall Depth = 6 9/16\"\\rPlatform Boards = Top and Bottom Platforms\\rAngle Bay/Bow Supports = w/Cable Support System\\rTop Auxiliary Casing = Top Auxiliary\\rAuxiliary Casing Colors = Dark Bronze\\rCasing Application Location = Shipped Loose\\rTrim Board = Fibrex Cellular Trim Board\\rInstallation Material Options = No\\rRe-Order Item = No\\rRoom Location = None\\rUnit 1, 3: Unit U-Factor = ---\\rUnit 1, 3: Unit Solar Heat Gain Coefficient (SHGC) = ---',\n",
       "  '1',\n",
       "  '$32.00',\n",
       "  '$32.00'],\n",
       " ['9',\n",
       "  '300-5',\n",
       "  '400 Series Double-Hung Bay\\rOverall Joined Rough Opening = 79 1/8\" x 70 3/4\"\\rOverall Joined Unit = 80 7/16\" x 70 1/4\"\\rDimensional Entry Type = Standard Sizes (By Center\\rWidth)\\rInstallation Zip Code = 55082\\rU.S. ENERGY STAR® Climate Zone = Northern\\rSearch by Unit Code = No\\rUnit 1, 3: Frame Width = 21 5/8\\rUnit 1, 3: Frame Height = 68 7/8\\rUnit 2: Frame Width = 41 5/8\\rUnit 2: Frame Height = 68 7/8\\rUnit Code = TW45-3456-18\\rCombination Operation / Venting = Active (All)\\rVenting / Handing = AA\\rExterior Color = Dark Bronze\\rExterior Sash/Panel Color = Dark Bronze\\rInterior Species = Pine\\rInterior Finish Color = White - Painted\\rJamb Liner Color = White\\rGlass Construction Type = Dual Pane\\rGlass Option = Low-E4\\rHigh Altitude Breather Tubes = No\\rGlass Strength = Tempered\\rSpecialty Glass = Reed Vertical\\rGas Fill = Argon\\rNone\\rDP/PG Upgrade = No\\rSash Lift Type = Hand Lift\\rSash Lift Style = Traditional\\rSash Lift Color/Finish = Antique Brass\\rLock Hardware Style = Traditional\\rNumber of Sash Locks = 1\\rLock Hardware Color/Finish = White (Factory Applied)\\rWindow Opening Control Device = No\\rSecurity Sensor Type = None\\rInsect Screen Type = Half Screen\\rInsect Screen Material = TruScene\\rInsect Screen Color = Sandtone\\rBay/Bow Option Type = Standard\\rBay/Bow/Box Extension Jamb Color = White - Painted\\rHead and Seat Board Species = Pine\\rHead and Seat Board Finish Color = White - Painted\\rOverall Wall Depth = 6 9/16\"\\rPlatform Boards = Top and Bottom Platforms\\rAngle Bay/Bow Supports = w/Cable Support System\\rTop Auxiliary Casing = Top Auxiliary\\rAuxiliary Casing Colors = Dark Bronze\\rCasing Application Location = Shipped Loose\\rTrim Board = Fibrex Cellular Trim Board\\rInstallation Material Options = No\\rRe-Order Item = No\\rRoom Location = None\\rUnit 1, 3: Unit U-Factor = ---\\rUnit 1, 3: Unit Solar Heat Gain Coefficient (SHGC) = ---',\n",
       "  '1',\n",
       "  '$201.80',\n",
       "  '$201.80'],\n",
       " ['10',\n",
       "  '300-6',\n",
       "  '400 Series Double-Hung Bay\\rOverall Joined Rough Opening = 79 1/8\" x 70 3/4\"\\rOverall Joined Unit = 80 7/16\" x 70 1/4\"\\rDimensional Entry Type = Standard Sizes (By Center\\rWidth)\\rInstallation Zip Code = 55082\\rU.S. ENERGY STAR® Climate Zone = Northern\\rSearch by Unit Code = No\\rUnit 1, 3: Frame Width = 21 5/8\\rUnit 1, 3: Frame Height = 68 7/8\\rUnit 2: Frame Width = 41 5/8\\rUnit 2: Frame Height = 68 7/8\\rUnit Code = TW45-3456-18\\rCombination Operation / Venting = Active (All)\\rVenting / Handing = AA\\rExterior Color = Dark Bronze\\rExterior Sash/Panel Color = Dark Bronze\\rInterior Species = Pine\\rInterior Finish Color = White - Painted\\rJamb Liner Color = White\\rGlass Construction Type = Dual Pane\\rGlass Option = Low-E4\\rHigh Altitude Breather Tubes = No\\rGlass Strength = Tempered\\rSpecialty Glass = Reed Vertical\\rGas Fill = Argon\\rNone\\rDP/PG Upgrade = No\\rSash Lift Type = Hand Lift\\rSash Lift Style = Traditional\\rSash Lift Color/Finish = Antique Brass\\rLock Hardware Style = Traditional\\rNumber of Sash Locks = 1\\rLock Hardware Color/Finish = White (Factory Applied)\\rWindow Opening Control Device = No\\rSecurity Sensor Type = None\\rInsect Screen Type = Half Screen\\rInsect Screen Material = TruScene\\rInsect Screen Color = Sandtone\\rBay/Bow Option Type = Standard\\rBay/Bow/Box Extension Jamb Color = White - Painted\\rHead and Seat Board Species = Pine\\rHead and Seat Board Finish Color = White - Painted\\rOverall Wall Depth = 6 9/16\"\\rPlatform Boards = Top and Bottom Platforms\\rAngle Bay/Bow Supports = w/Cable Support System\\rTop Auxiliary Casing = Top Auxiliary\\rAuxiliary Casing Colors = Dark Bronze\\rCasing Application Location = Shipped Loose\\rTrim Board = Fibrex Cellular Trim Board\\rInstallation Material Options = No\\rRe-Order Item = No\\rRoom Location = None\\rUnit 1, 3: Unit U-Factor = ---\\rUnit 1, 3: Unit Solar Heat Gain Coefficient (SHGC) = ---',\n",
       "  '1',\n",
       "  '$32.00',\n",
       "  '$32.00'],\n",
       " ['11',\n",
       "  '300-7',\n",
       "  '400 Series Double-Hung Bay\\rOverall Joined Rough Opening = 79 1/8\" x 70 3/4\"\\rOverall Joined Unit = 80 7/16\" x 70 1/4\"\\rDimensional Entry Type = Standard Sizes (By Center\\rWidth)\\rInstallation Zip Code = 55082\\rU.S. ENERGY STAR® Climate Zone = Northern\\rSearch by Unit Code = No\\rUnit 1, 3: Frame Width = 21 5/8\\rUnit 1, 3: Frame Height = 68 7/8\\rUnit 2: Frame Width = 41 5/8\\rUnit 2: Frame Height = 68 7/8\\rUnit Code = TW45-3456-18\\rCombination Operation / Venting = Active (All)\\rVenting / Handing = AA\\rExterior Color = Dark Bronze\\rExterior Sash/Panel Color = Dark Bronze\\rInterior Species = Pine\\rInterior Finish Color = White - Painted\\rJamb Liner Color = White\\rGlass Construction Type = Dual Pane\\rGlass Option = Low-E4\\rHigh Altitude Breather Tubes = No\\rGlass Strength = Tempered\\rSpecialty Glass = Reed Vertical\\rGas Fill = Argon\\rNone\\rDP/PG Upgrade = No\\rSash Lift Type = Hand Lift\\rSash Lift Style = Traditional\\rSash Lift Color/Finish = Antique Brass\\rLock Hardware Style = Traditional\\rNumber of Sash Locks = 1\\rLock Hardware Color/Finish = White (Factory Applied)\\rWindow Opening Control Device = No\\rSecurity Sensor Type = None\\rInsect Screen Type = Half Screen\\rInsect Screen Material = TruScene\\rInsect Screen Color = Sandtone\\rBay/Bow Option Type = Standard\\rBay/Bow/Box Extension Jamb Color = White - Painted\\rHead and Seat Board Species = Pine\\rHead and Seat Board Finish Color = White - Painted\\rOverall Wall Depth = 6 9/16\"\\rPlatform Boards = Top and Bottom Platforms\\rAngle Bay/Bow Supports = w/Cable Support System\\rTop Auxiliary Casing = Top Auxiliary\\rAuxiliary Casing Colors = Dark Bronze\\rCasing Application Location = Shipped Loose\\rTrim Board = Fibrex Cellular Trim Board\\rInstallation Material Options = No\\rRe-Order Item = No\\rRoom Location = None\\rUnit 1, 3: Unit U-Factor = ---\\rUnit 1, 3: Unit Solar Heat Gain Coefficient (SHGC) = ---',\n",
       "  '1',\n",
       "  '$175.00',\n",
       "  '$175.00'],\n",
       " ['12',\n",
       "  '300-8',\n",
       "  '400 Series Double-Hung Bay $66.50\\rOverall Joined Rough Opening = 79 1/8\" x 70 3/4\"\\rOverall Joined Unit = 80 7/16\" x 70 1/4\"\\rDimensional Entry Type = Standard Sizes (By Center\\rWidth)\\rInstallation Zip Code = 55082\\rU.S. ENERGY STAR® Climate Zone = Northern\\rSearch by Unit Code = No\\rUnit 1, 3: Frame Width = 21 5/8\\rUnit 1, 3: Frame Height = 68 7/8\\rUnit 2: Frame Width = 41 5/8\\rUnit 2: Frame Height = 68 7/8\\rUnit Code = TW45-3456-18\\rCombination Operation / Venting = Active (All)\\rVenting / Handing = AA\\rExterior Color = Dark Bronze\\rExterior Sash/Panel Color = Dark Bronze\\rInterior Species = Pine\\rInterior Finish Color = White - Painted\\rJamb Liner Color = White\\rGlass Construction Type = Dual Pane\\rGlass Option = Low-E4\\rHigh Altitude Breather Tubes = No\\rGlass Strength = Tempered\\rSpecialty Glass = Reed Vertical\\rGas Fill = Argon\\rNone\\rDP/PG Upgrade = No\\rSash Lift Type = Hand Lift\\rSash Lift Style = Traditional\\rSash Lift Color/Finish = Antique Brass\\rLock Hardware Style = Traditional\\rNumber of Sash Locks = 1\\rLock Hardware Color/Finish = White (Factory Applied)\\rWindow Opening Control Device = No\\rSecurity Sensor Type = None\\rInsect Screen Type = Half Screen\\rInsect Screen Material = TruScene\\rInsect Screen Color = Sandtone\\rBay/Bow Option Type = Standard\\rBay/Bow/Box Extension Jamb Color = White - Painted\\rHead and Seat Board Species = Pine\\rHead and Seat Board Finish Color = White - Painted\\rOverall Wall Depth = 6 9/16\"\\rPlatform Boards = Top and Bottom Platforms\\rAngle Bay/Bow Supports = w/Cable Support System\\rTop Auxiliary Casing = Top Auxiliary\\rAuxiliary Casing Colors = Dark Bronze\\rCasing Application Location = Shipped Loose\\rTrim Board = Fibrex Cellular Trim Board\\rInstallation Material Options = No\\rRe-Order Item = No\\rRoom Location = None\\rUnit 1, 3: Unit U-Factor = ---\\rUnit 1, 3: Unit Solar Heat Gain Coefficient (SHGC) = ---',\n",
       "  '1',\n",
       "  '$66.50',\n",
       "  '$66.50'],\n",
       " ['13',\n",
       "  '300-9',\n",
       "  '400 Series Double-Hung Bay\\rOverall Joined Rough Opening = 79 1/8\" x 70 3/4\"\\rOverall Joined Unit = 80 7/16\" x 70 1/4\"\\rDimensional Entry Type = Standard Sizes (By Center\\rWidth)\\rInstallation Zip Code = 55082\\rU.S. ENERGY STAR® Climate Zone = Northern\\rSearch by Unit Code = No\\rUnit 1, 3: Frame Width = 21 5/8\\rUnit 1, 3: Frame Height = 68 7/8\\rUnit 2: Frame Width = 41 5/8\\rUnit 2: Frame Height = 68 7/8\\rUnit Code = TW45-3456-18\\rCombination Operation / Venting = Active (All)\\rVenting / Handing = AA\\rExterior Color = Dark Bronze\\rExterior Sash/Panel Color = Dark Bronze\\rInterior Species = Pine\\rInterior Finish Color = White - Painted\\rJamb Liner Color = White\\rGlass Construction Type = Dual Pane\\rGlass Option = Low-E4\\rHigh Altitude Breather Tubes = No\\rGlass Strength = Tempered\\rSpecialty Glass = Reed Vertical\\rGas Fill = Argon\\rNone\\rDP/PG Upgrade = No\\rSash Lift Type = Hand Lift\\rSash Lift Style = Traditional\\rSash Lift Color/Finish = Antique Brass\\rLock Hardware Style = Traditional\\rNumber of Sash Locks = 1\\rLock Hardware Color/Finish = White (Factory Applied)\\rWindow Opening Control Device = No\\rSecurity Sensor Type = None\\rInsect Screen Type = Half Screen\\rInsect Screen Material = TruScene\\rInsect Screen Color = Sandtone\\rBay/Bow Option Type = Standard\\rBay/Bow/Box Extension Jamb Color = White - Painted\\rHead and Seat Board Species = Pine\\rHead and Seat Board Finish Color = White - Painted\\rOverall Wall Depth = 6 9/16\"\\rPlatform Boards = Top and Bottom Platforms\\rAngle Bay/Bow Supports = w/Cable Support System\\rTop Auxiliary Casing = Top Auxiliary\\rAuxiliary Casing Colors = Dark Bronze\\rCasing Application Location = Shipped Loose\\rTrim Board = Fibrex Cellular Trim Board\\rInstallation Material Options = No\\rRe-Order Item = No\\rRoom Location = None\\rUnit 1, 3: Unit U-Factor = ---\\rUnit 1, 3: Unit Solar Heat Gain Coefficient (SHGC) = ---',\n",
       "  '1',\n",
       "  '$499.60',\n",
       "  '$499.60'],\n",
       " ['14',\n",
       "  '300-10',\n",
       "  '400 Series Double-Hung Bay\\rOverall Joined Rough Opening = 79 1/8\" x 70 3/4\"\\rOverall Joined Unit = 80 7/16\" x 70 1/4\"\\rDimensional Entry Type = Standard Sizes (By Center\\rWidth)\\rInstallation Zip Code = 55082\\rU.S. ENERGY STAR® Climate Zone = Northern\\rSearch by Unit Code = No\\rUnit 1, 3: Frame Width = 21 5/8\\rUnit 1, 3: Frame Height = 68 7/8\\rUnit 2: Frame Width = 41 5/8\\rUnit 2: Frame Height = 68 7/8\\rUnit Code = TW45-3456-18\\rCombination Operation / Venting = Active (All)\\rVenting / Handing = AA\\rExterior Color = Dark Bronze\\rExterior Sash/Panel Color = Dark Bronze\\rInterior Species = Pine\\rInterior Finish Color = White - Painted\\rJamb Liner Color = White\\rGlass Construction Type = Dual Pane\\rGlass Option = Low-E4\\rHigh Altitude Breather Tubes = No\\rGlass Strength = Tempered\\rSpecialty Glass = Reed Vertical\\rGas Fill = Argon\\rNone\\rDP/PG Upgrade = No\\rSash Lift Type = Hand Lift\\rSash Lift Style = Traditional\\rSash Lift Color/Finish = Antique Brass\\rLock Hardware Style = Traditional\\rNumber of Sash Locks = 1\\rLock Hardware Color/Finish = White (Factory Applied)\\rWindow Opening Control Device = No\\rSecurity Sensor Type = None\\rInsect Screen Type = Half Screen\\rInsect Screen Material = TruScene\\rInsect Screen Color = Sandtone\\rBay/Bow Option Type = Standard\\rBay/Bow/Box Extension Jamb Color = White - Painted\\rHead and Seat Board Species = Pine\\rHead and Seat Board Finish Color = White - Painted\\rOverall Wall Depth = 6 9/16\"\\rPlatform Boards = Top and Bottom Platforms\\rAngle Bay/Bow Supports = w/Cable Support System\\rTop Auxiliary Casing = Top Auxiliary\\rAuxiliary Casing Colors = Dark Bronze\\rCasing Application Location = Shipped Loose\\rTrim Board = Fibrex Cellular Trim Board\\rInstallation Material Options = No\\rRe-Order Item = No\\rRoom Location = None\\rUnit 1, 3: Unit U-Factor = ---\\rUnit 1, 3: Unit Solar Heat Gain Coefficient (SHGC) = ---',\n",
       "  '1',\n",
       "  '$190.00',\n",
       "  '$190.00'],\n",
       " ['15',\n",
       "  '300-11',\n",
       "  '400 Series Double-Hung Bay\\rOverall Joined Rough Opening = 79 1/8\" x 70 3/4\"\\rOverall Joined Unit = 80 7/16\" x 70 1/4\"\\rDimensional Entry Type = Standard Sizes (By Center\\rWidth)\\rInstallation Zip Code = 55082\\rU.S. ENERGY STAR® Climate Zone = Northern\\rSearch by Unit Code = No\\rUnit 1, 3: Frame Width = 21 5/8\\rUnit 1, 3: Frame Height = 68 7/8\\rUnit 2: Frame Width = 41 5/8\\rUnit 2: Frame Height = 68 7/8\\rUnit Code = TW45-3456-18\\rCombination Operation / Venting = Active (All)\\rVenting / Handing = AA\\rExterior Color = Dark Bronze\\rExterior Sash/Panel Color = Dark Bronze\\rInterior Species = Pine\\rInterior Finish Color = White - Painted\\rJamb Liner Color = White\\rGlass Construction Type = Dual Pane\\rGlass Option = Low-E4\\rHigh Altitude Breather Tubes = No\\rGlass Strength = Tempered\\rSpecialty Glass = Reed Vertical\\rGas Fill = Argon\\rNone\\rDP/PG Upgrade = No\\rSash Lift Type = Hand Lift\\rSash Lift Style = Traditional\\rSash Lift Color/Finish = Antique Brass\\rLock Hardware Style = Traditional\\rNumber of Sash Locks = 1\\rLock Hardware Color/Finish = White (Factory Applied)\\rWindow Opening Control Device = No\\rSecurity Sensor Type = None\\rInsect Screen Type = Half Screen\\rInsect Screen Material = TruScene\\rInsect Screen Color = Sandtone\\rBay/Bow Option Type = Standard\\rBay/Bow/Box Extension Jamb Color = White - Painted\\rHead and Seat Board Species = Pine\\rHead and Seat Board Finish Color = White - Painted\\rOverall Wall Depth = 6 9/16\"\\rPlatform Boards = Top and Bottom Platforms\\rAngle Bay/Bow Supports = w/Cable Support System\\rTop Auxiliary Casing = Top Auxiliary\\rAuxiliary Casing Colors = Dark Bronze\\rCasing Application Location = Shipped Loose\\rTrim Board = Fibrex Cellular Trim Board\\rInstallation Material Options = No\\rRe-Order Item = No\\rRoom Location = None\\rUnit 1, 3: Unit U-Factor = ---\\rUnit 1, 3: Unit Solar Heat Gain Coefficient (SHGC) = ---',\n",
       "  '1',\n",
       "  '$51.40',\n",
       "  '$51.40'],\n",
       " ['16',\n",
       "  '300-12',\n",
       "  '400 Series Double-Hung Bay\\rOverall Joined Rough Opening = 79 1/8\" x 70 3/4\"\\rOverall Joined Unit = 80 7/16\" x 70 1/4\"\\rDimensional Entry Type = Standard Sizes (By Center\\rWidth)\\rInstallation Zip Code = 55082\\rU.S. ENERGY STAR® Climate Zone = Northern\\rSearch by Unit Code = No\\rUnit 1, 3: Frame Width = 21 5/8\\rUnit 1, 3: Frame Height = 68 7/8\\rUnit 2: Frame Width = 41 5/8\\rUnit 2: Frame Height = 68 7/8\\rUnit Code = TW45-3456-18\\rCombination Operation / Venting = Active (All)\\rVenting / Handing = AA\\rExterior Color = Dark Bronze\\rExterior Sash/Panel Color = Dark Bronze\\rInterior Species = Pine\\rInterior Finish Color = White - Painted\\rJamb Liner Color = White\\rGlass Construction Type = Dual Pane\\rGlass Option = Low-E4\\rHigh Altitude Breather Tubes = No\\rGlass Strength = Tempered\\rSpecialty Glass = Reed Vertical\\rGas Fill = Argon\\rNone\\rDP/PG Upgrade = No\\rSash Lift Type = Hand Lift\\rSash Lift Style = Traditional\\rSash Lift Color/Finish = Antique Brass\\rLock Hardware Style = Traditional\\rNumber of Sash Locks = 1\\rLock Hardware Color/Finish = White (Factory Applied)\\rWindow Opening Control Device = No\\rSecurity Sensor Type = None\\rInsect Screen Type = Half Screen\\rInsect Screen Material = TruScene\\rInsect Screen Color = Sandtone\\rBay/Bow Option Type = Standard\\rBay/Bow/Box Extension Jamb Color = White - Painted\\rHead and Seat Board Species = Pine\\rHead and Seat Board Finish Color = White - Painted\\rOverall Wall Depth = 6 9/16\"\\rPlatform Boards = Top and Bottom Platforms\\rAngle Bay/Bow Supports = w/Cable Support System\\rTop Auxiliary Casing = Top Auxiliary\\rAuxiliary Casing Colors = Dark Bronze\\rCasing Application Location = Shipped Loose\\rTrim Board = Fibrex Cellular Trim Board\\rInstallation Material Options = No\\rRe-Order Item = No\\rRoom Location = None\\rUnit 1, 3: Unit U-Factor = ---\\rUnit 1, 3: Unit Solar Heat Gain Coefficient (SHGC) = ---',\n",
       "  '1',\n",
       "  '$95.00',\n",
       "  '$95.00'],\n",
       " ['17',\n",
       "  '300-13',\n",
       "  '400 Series Double-Hung Bay\\rOverall Joined Rough Opening = 79 1/8\" x 70 3/4\"\\rOverall Joined Unit = 80 7/16\" x 70 1/4\"\\rDimensional Entry Type = Standard Sizes (By Center\\rWidth)\\rInstallation Zip Code = 55082\\rU.S. ENERGY STAR® Climate Zone = Northern\\rSearch by Unit Code = No\\rUnit 1, 3: Frame Width = 21 5/8\\rUnit 1, 3: Frame Height = 68 7/8\\rUnit 2: Frame Width = 41 5/8\\rUnit 2: Frame Height = 68 7/8\\rUnit Code = TW45-3456-18\\rCombination Operation / Venting = Active (All)\\rVenting / Handing = AA\\rExterior Color = Dark Bronze\\rExterior Sash/Panel Color = Dark Bronze\\rInterior Species = Pine\\rInterior Finish Color = White - Painted\\rJamb Liner Color = White\\rGlass Construction Type = Dual Pane\\rGlass Option = Low-E4\\rHigh Altitude Breather Tubes = No\\rGlass Strength = Tempered\\rSpecialty Glass = Reed Vertical\\rGas Fill = Argon\\rNone\\rDP/PG Upgrade = No\\rSash Lift Type = Hand Lift\\rSash Lift Style = Traditional\\rSash Lift Color/Finish = Antique Brass\\rLock Hardware Style = Traditional\\rNumber of Sash Locks = 1\\rLock Hardware Color/Finish = White (Factory Applied)\\rWindow Opening Control Device = No\\rSecurity Sensor Type = None\\rInsect Screen Type = Half Screen\\rInsect Screen Material = TruScene\\rInsect Screen Color = Sandtone\\rBay/Bow Option Type = Standard\\rBay/Bow/Box Extension Jamb Color = White - Painted\\rHead and Seat Board Species = Pine\\rHead and Seat Board Finish Color = White - Painted\\rOverall Wall Depth = 6 9/16\"\\rPlatform Boards = Top and Bottom Platforms\\rAngle Bay/Bow Supports = w/Cable Support System\\rTop Auxiliary Casing = Top Auxiliary\\rAuxiliary Casing Colors = Dark Bronze\\rCasing Application Location = Shipped Loose\\rTrim Board = Fibrex Cellular Trim Board\\rInstallation Material Options = No\\rRe-Order Item = No\\rRoom Location = None\\rUnit 1, 3: Unit U-Factor = ---\\rUnit 1, 3: Unit Solar Heat Gain Coefficient (SHGC) = ---',\n",
       "  '1',\n",
       "  '$135.80',\n",
       "  '$135.80'],\n",
       " ['18',\n",
       "  '400-1',\n",
       "  '400 Series Casement Bow\\rOverall Joined Rough Opening = 120 3/8\" x 73 7/8\"\\rOverall Joined Unit = 120 3/4\" x 73 3/8\"\\rDimensional Entry Type = Overall Width, Angle\\rInstallation Zip Code = 55082\\rU.S. ENERGY STAR® Climate Zone = Northern\\rSearch by Unit Code = No\\rFrame Width = 24 1/8\\rFrame Height = 71 7/8\\rUnit 1, 2, 4, 5: Unit Code = C56-BOW\\rUnit 1, 2, 4, 5: Combination Operation / Venting =\\rStationary-Stationary-Left-Stationary-Stationary\\rUnit 1, 2, 4, 5: Venting / Handing = Stationary\\rUnit 3: Unit Code = C56-BOW\\rUnit 3: Combination Operation / Venting =\\rStationary-Stationary-Left-Stationary-Stationary\\rUnit 3: Venting / Handing = Left\\rUnit 3: Hinge Style = Hinge with Wash Mode\\rExterior Color = White\\rExterior Sash/Panel Color = White\\rInterior Species = Pine\\rInterior Finish Color = White - Vinyl Wrapped\\rGlass Construction Type = Dual Pane\\rGlass Option = Low-E4 SmartSun\\rHigh Altitude Breather Tubes = No\\rGlass Strength = Tempered\\rGlass Tint = No Tint\\rSpecialty Glass = Fern\\rGas Fill = Argon\\rArt Glass Series = None\\rRemovable Interior Grille\\rColonial\\rGrille Pattern = Colonial\\rGrille Bar Width = 7/8\"\\rExterior Grille Color = White\\rInterior Grille Species = Maple\\rInterior Grille Color = White\\r2W6H\\rGrille Alignment Type = Standard Grille Alignment\\rDP/PG Upgrade = No\\rHardware Style = Contemporary Folding\\rHardware Color/Finish = Bright Brass\\rCorrosion Resistant Hardware = None\\rWindow Opening Control Device = No\\rSecurity Sensor Type = None\\rInsect Screen Type = Full Screen\\rInsect Screen Material = Aluminum\\rInsect Screen Color = White\\rBay/Bow Option Type = Walkout\\rBay/Bow/Box Extension Jamb Color = White - Painted\\rHead and Seat Board Species = Pine\\rHead and Seat Board Finish Color = White - Painted\\rOverall Wall Depth = 5 1/4\"\\rPlatform Boards = Top and Bottom Platforms\\rAngle Bay/Bow Supports = w/Cable Support System',\n",
       "  '1',\n",
       "  '$6,609.40',\n",
       "  '$6,609.40'],\n",
       " ['19',\n",
       "  '400-2',\n",
       "  '400 Series Casement Bow\\rOverall Joined Rough Opening = 120 3/8\" x 73 7/8\"\\rOverall Joined Unit = 120 3/4\" x 73 3/8\"\\rDimensional Entry Type = Overall Width, Angle\\rInstallation Zip Code = 55082\\rU.S. ENERGY STAR® Climate Zone = Northern\\rSearch by Unit Code = No\\rFrame Width = 24 1/8\\rFrame Height = 71 7/8\\rUnit 1, 2, 4, 5: Unit Code = C56-BOW\\rUnit 1, 2, 4, 5: Combination Operation / Venting =\\rStationary-Stationary-Left-Stationary-Stationary\\rUnit 1, 2, 4, 5: Venting / Handing = Stationary\\rUnit 3: Unit Code = C56-BOW\\rUnit 3: Combination Operation / Venting =\\rStationary-Stationary-Left-Stationary-Stationary\\rUnit 3: Venting / Handing = Left\\rUnit 3: Hinge Style = Hinge with Wash Mode\\rExterior Color = White\\rExterior Sash/Panel Color = White\\rInterior Species = Pine\\rInterior Finish Color = White - Vinyl Wrapped\\rGlass Construction Type = Dual Pane\\rGlass Option = Low-E4 SmartSun\\rHigh Altitude Breather Tubes = No\\rGlass Strength = Tempered\\rGlass Tint = No Tint\\rSpecialty Glass = Fern\\rGas Fill = Argon\\rArt Glass Series = None\\rRemovable Interior Grille\\rColonial\\rGrille Pattern = Colonial\\rGrille Bar Width = 7/8\"\\rExterior Grille Color = White\\rInterior Grille Species = Maple\\rInterior Grille Color = White\\r2W6H\\rGrille Alignment Type = Standard Grille Alignment\\rDP/PG Upgrade = No\\rHardware Style = Contemporary Folding\\rHardware Color/Finish = Bright Brass\\rCorrosion Resistant Hardware = None\\rWindow Opening Control Device = No\\rSecurity Sensor Type = None\\rInsect Screen Type = Full Screen\\rInsect Screen Material = Aluminum\\rInsect Screen Color = White\\rBay/Bow Option Type = Walkout\\rBay/Bow/Box Extension Jamb Color = White - Painted\\rHead and Seat Board Species = Pine\\rHead and Seat Board Finish Color = White - Painted\\rOverall Wall Depth = 5 1/4\"\\rPlatform Boards = Top and Bottom Platforms\\rAngle Bay/Bow Supports = w/Cable Support System',\n",
       "  '1',\n",
       "  '$75.60',\n",
       "  '$75.60'],\n",
       " ['20',\n",
       "  '400-3',\n",
       "  '400 Series Casement Bow\\rOverall Joined Rough Opening = 120 3/8\" x 73 7/8\"\\rOverall Joined Unit = 120 3/4\" x 73 3/8\"\\rDimensional Entry Type = Overall Width, Angle\\rInstallation Zip Code = 55082\\rU.S. ENERGY STAR® Climate Zone = Northern\\rSearch by Unit Code = No\\rFrame Width = 24 1/8\\rFrame Height = 71 7/8\\rUnit 1, 2, 4, 5: Unit Code = C56-BOW\\rUnit 1, 2, 4, 5: Combination Operation / Venting =\\rStationary-Stationary-Left-Stationary-Stationary\\rUnit 1, 2, 4, 5: Venting / Handing = Stationary\\rUnit 3: Unit Code = C56-BOW\\rUnit 3: Combination Operation / Venting =\\rStationary-Stationary-Left-Stationary-Stationary\\rUnit 3: Venting / Handing = Left\\rUnit 3: Hinge Style = Hinge with Wash Mode\\rExterior Color = White\\rExterior Sash/Panel Color = White\\rInterior Species = Pine\\rInterior Finish Color = White - Vinyl Wrapped\\rGlass Construction Type = Dual Pane\\rGlass Option = Low-E4 SmartSun\\rHigh Altitude Breather Tubes = No\\rGlass Strength = Tempered\\rGlass Tint = No Tint\\rSpecialty Glass = Fern\\rGas Fill = Argon\\rArt Glass Series = None\\rRemovable Interior Grille\\rColonial\\rGrille Pattern = Colonial\\rGrille Bar Width = 7/8\"\\rExterior Grille Color = White\\rInterior Grille Species = Maple\\rInterior Grille Color = White\\r2W6H\\rGrille Alignment Type = Standard Grille Alignment\\rDP/PG Upgrade = No\\rHardware Style = Contemporary Folding\\rHardware Color/Finish = Bright Brass\\rCorrosion Resistant Hardware = None\\rWindow Opening Control Device = No\\rSecurity Sensor Type = None\\rInsect Screen Type = Full Screen\\rInsect Screen Material = Aluminum\\rInsect Screen Color = White\\rBay/Bow Option Type = Walkout\\rBay/Bow/Box Extension Jamb Color = White - Painted\\rHead and Seat Board Species = Pine\\rHead and Seat Board Finish Color = White - Painted\\rOverall Wall Depth = 5 1/4\"\\rPlatform Boards = Top and Bottom Platforms\\rAngle Bay/Bow Supports = w/Cable Support System',\n",
       "  '1',\n",
       "  '$75.60',\n",
       "  '$75.60'],\n",
       " ['21',\n",
       "  '400-4',\n",
       "  '400 Series Casement Bow\\rOverall Joined Rough Opening = 120 3/8\" x 73 7/8\"\\rOverall Joined Unit = 120 3/4\" x 73 3/8\"\\rDimensional Entry Type = Overall Width, Angle\\rInstallation Zip Code = 55082\\rU.S. ENERGY STAR® Climate Zone = Northern\\rSearch by Unit Code = No\\rFrame Width = 24 1/8\\rFrame Height = 71 7/8\\rUnit 1, 2, 4, 5: Unit Code = C56-BOW\\rUnit 1, 2, 4, 5: Combination Operation / Venting =\\rStationary-Stationary-Left-Stationary-Stationary\\rUnit 1, 2, 4, 5: Venting / Handing = Stationary\\rUnit 3: Unit Code = C56-BOW\\rUnit 3: Combination Operation / Venting =\\rStationary-Stationary-Left-Stationary-Stationary\\rUnit 3: Venting / Handing = Left\\rUnit 3: Hinge Style = Hinge with Wash Mode\\rExterior Color = White\\rExterior Sash/Panel Color = White\\rInterior Species = Pine\\rInterior Finish Color = White - Vinyl Wrapped\\rGlass Construction Type = Dual Pane\\rGlass Option = Low-E4 SmartSun\\rHigh Altitude Breather Tubes = No\\rGlass Strength = Tempered\\rGlass Tint = No Tint\\rSpecialty Glass = Fern\\rGas Fill = Argon\\rArt Glass Series = None\\rRemovable Interior Grille\\rColonial\\rGrille Pattern = Colonial\\rGrille Bar Width = 7/8\"\\rExterior Grille Color = White\\rInterior Grille Species = Maple\\rInterior Grille Color = White\\r2W6H\\rGrille Alignment Type = Standard Grille Alignment\\rDP/PG Upgrade = No\\rHardware Style = Contemporary Folding\\rHardware Color/Finish = Bright Brass\\rCorrosion Resistant Hardware = None\\rWindow Opening Control Device = No\\rSecurity Sensor Type = None\\rInsect Screen Type = Full Screen\\rInsect Screen Material = Aluminum\\rInsect Screen Color = White\\rBay/Bow Option Type = Walkout\\rBay/Bow/Box Extension Jamb Color = White - Painted\\rHead and Seat Board Species = Pine\\rHead and Seat Board Finish Color = White - Painted\\rOverall Wall Depth = 5 1/4\"\\rPlatform Boards = Top and Bottom Platforms\\rAngle Bay/Bow Supports = w/Cable Support System',\n",
       "  '1',\n",
       "  '$76.70',\n",
       "  '$76.70'],\n",
       " ['22',\n",
       "  '400-5',\n",
       "  '400 Series Casement Bow\\rOverall Joined Rough Opening = 120 3/8\" x 73 7/8\"\\rOverall Joined Unit = 120 3/4\" x 73 3/8\"\\rDimensional Entry Type = Overall Width, Angle\\rInstallation Zip Code = 55082\\rU.S. ENERGY STAR® Climate Zone = Northern\\rSearch by Unit Code = No\\rFrame Width = 24 1/8\\rFrame Height = 71 7/8\\rUnit 1, 2, 4, 5: Unit Code = C56-BOW\\rUnit 1, 2, 4, 5: Combination Operation / Venting =\\rStationary-Stationary-Left-Stationary-Stationary\\rUnit 1, 2, 4, 5: Venting / Handing = Stationary\\rUnit 3: Unit Code = C56-BOW\\rUnit 3: Combination Operation / Venting =\\rStationary-Stationary-Left-Stationary-Stationary\\rUnit 3: Venting / Handing = Left\\rUnit 3: Hinge Style = Hinge with Wash Mode\\rExterior Color = White\\rExterior Sash/Panel Color = White\\rInterior Species = Pine\\rInterior Finish Color = White - Vinyl Wrapped\\rGlass Construction Type = Dual Pane\\rGlass Option = Low-E4 SmartSun\\rHigh Altitude Breather Tubes = No\\rGlass Strength = Tempered\\rGlass Tint = No Tint\\rSpecialty Glass = Fern\\rGas Fill = Argon\\rArt Glass Series = None\\rRemovable Interior Grille\\rColonial\\rGrille Pattern = Colonial\\rGrille Bar Width = 7/8\"\\rExterior Grille Color = White\\rInterior Grille Species = Maple\\rInterior Grille Color = White\\r2W6H\\rGrille Alignment Type = Standard Grille Alignment\\rDP/PG Upgrade = No\\rHardware Style = Contemporary Folding\\rHardware Color/Finish = Bright Brass\\rCorrosion Resistant Hardware = None\\rWindow Opening Control Device = No\\rSecurity Sensor Type = None\\rInsect Screen Type = Full Screen\\rInsect Screen Material = Aluminum\\rInsect Screen Color = White\\rBay/Bow Option Type = Walkout\\rBay/Bow/Box Extension Jamb Color = White - Painted\\rHead and Seat Board Species = Pine\\rHead and Seat Board Finish Color = White - Painted\\rOverall Wall Depth = 5 1/4\"\\rPlatform Boards = Top and Bottom Platforms\\rAngle Bay/Bow Supports = w/Cable Support System',\n",
       "  '1',\n",
       "  '$51.60',\n",
       "  '$51.60'],\n",
       " ['23',\n",
       "  '400-6',\n",
       "  '400 Series Casement Bow\\rOverall Joined Rough Opening = 120 3/8\" x 73 7/8\"\\rOverall Joined Unit = 120 3/4\" x 73 3/8\"\\rDimensional Entry Type = Overall Width, Angle\\rInstallation Zip Code = 55082\\rU.S. ENERGY STAR® Climate Zone = Northern\\rSearch by Unit Code = No\\rFrame Width = 24 1/8\\rFrame Height = 71 7/8\\rUnit 1, 2, 4, 5: Unit Code = C56-BOW\\rUnit 1, 2, 4, 5: Combination Operation / Venting =\\rStationary-Stationary-Left-Stationary-Stationary\\rUnit 1, 2, 4, 5: Venting / Handing = Stationary\\rUnit 3: Unit Code = C56-BOW\\rUnit 3: Combination Operation / Venting =\\rStationary-Stationary-Left-Stationary-Stationary\\rUnit 3: Venting / Handing = Left\\rUnit 3: Hinge Style = Hinge with Wash Mode\\rExterior Color = White\\rExterior Sash/Panel Color = White\\rInterior Species = Pine\\rInterior Finish Color = White - Vinyl Wrapped\\rGlass Construction Type = Dual Pane\\rGlass Option = Low-E4 SmartSun\\rHigh Altitude Breather Tubes = No\\rGlass Strength = Tempered\\rGlass Tint = No Tint\\rSpecialty Glass = Fern\\rGas Fill = Argon\\rArt Glass Series = None\\rRemovable Interior Grille\\rColonial\\rGrille Pattern = Colonial\\rGrille Bar Width = 7/8\"\\rExterior Grille Color = White\\rInterior Grille Species = Maple\\rInterior Grille Color = White\\r2W6H\\rGrille Alignment Type = Standard Grille Alignment\\rDP/PG Upgrade = No\\rHardware Style = Contemporary Folding\\rHardware Color/Finish = Bright Brass\\rCorrosion Resistant Hardware = None\\rWindow Opening Control Device = No\\rSecurity Sensor Type = None\\rInsect Screen Type = Full Screen\\rInsect Screen Material = Aluminum\\rInsect Screen Color = White\\rBay/Bow Option Type = Walkout\\rBay/Bow/Box Extension Jamb Color = White - Painted\\rHead and Seat Board Species = Pine\\rHead and Seat Board Finish Color = White - Painted\\rOverall Wall Depth = 5 1/4\"\\rPlatform Boards = Top and Bottom Platforms\\rAngle Bay/Bow Supports = w/Cable Support System',\n",
       "  '1',\n",
       "  '$75.60',\n",
       "  '$75.60'],\n",
       " ['24',\n",
       "  '400-7',\n",
       "  '400 Series Casement Bow\\rOverall Joined Rough Opening = 120 3/8\" x 73 7/8\"\\rOverall Joined Unit = 120 3/4\" x 73 3/8\"\\rDimensional Entry Type = Overall Width, Angle\\rInstallation Zip Code = 55082\\rU.S. ENERGY STAR® Climate Zone = Northern\\rSearch by Unit Code = No\\rFrame Width = 24 1/8\\rFrame Height = 71 7/8\\rUnit 1, 2, 4, 5: Unit Code = C56-BOW\\rUnit 1, 2, 4, 5: Combination Operation / Venting =\\rStationary-Stationary-Left-Stationary-Stationary\\rUnit 1, 2, 4, 5: Venting / Handing = Stationary\\rUnit 3: Unit Code = C56-BOW\\rUnit 3: Combination Operation / Venting =\\rStationary-Stationary-Left-Stationary-Stationary\\rUnit 3: Venting / Handing = Left\\rUnit 3: Hinge Style = Hinge with Wash Mode\\rExterior Color = White\\rExterior Sash/Panel Color = White\\rInterior Species = Pine\\rInterior Finish Color = White - Vinyl Wrapped\\rGlass Construction Type = Dual Pane\\rGlass Option = Low-E4 SmartSun\\rHigh Altitude Breather Tubes = No\\rGlass Strength = Tempered\\rGlass Tint = No Tint\\rSpecialty Glass = Fern\\rGas Fill = Argon\\rArt Glass Series = None\\rRemovable Interior Grille\\rColonial\\rGrille Pattern = Colonial\\rGrille Bar Width = 7/8\"\\rExterior Grille Color = White\\rInterior Grille Species = Maple\\rInterior Grille Color = White\\r2W6H\\rGrille Alignment Type = Standard Grille Alignment\\rDP/PG Upgrade = No\\rHardware Style = Contemporary Folding\\rHardware Color/Finish = Bright Brass\\rCorrosion Resistant Hardware = None\\rWindow Opening Control Device = No\\rSecurity Sensor Type = None\\rInsect Screen Type = Full Screen\\rInsect Screen Material = Aluminum\\rInsect Screen Color = White\\rBay/Bow Option Type = Walkout\\rBay/Bow/Box Extension Jamb Color = White - Painted\\rHead and Seat Board Species = Pine\\rHead and Seat Board Finish Color = White - Painted\\rOverall Wall Depth = 5 1/4\"\\rPlatform Boards = Top and Bottom Platforms\\rAngle Bay/Bow Supports = w/Cable Support System',\n",
       "  '1',\n",
       "  '$75.60',\n",
       "  '$75.60'],\n",
       " ['25',\n",
       "  '400-8',\n",
       "  '400 Series Casement Bow\\rOverall Joined Rough Opening = 120 3/8\" x 73 7/8\"\\rOverall Joined Unit = 120 3/4\" x 73 3/8\"\\rDimensional Entry Type = Overall Width, Angle\\rInstallation Zip Code = 55082\\rU.S. ENERGY STAR® Climate Zone = Northern\\rSearch by Unit Code = No\\rFrame Width = 24 1/8\\rFrame Height = 71 7/8\\rUnit 1, 2, 4, 5: Unit Code = C56-BOW\\rUnit 1, 2, 4, 5: Combination Operation / Venting =\\rStationary-Stationary-Left-Stationary-Stationary\\rUnit 1, 2, 4, 5: Venting / Handing = Stationary\\rUnit 3: Unit Code = C56-BOW\\rUnit 3: Combination Operation / Venting =\\rStationary-Stationary-Left-Stationary-Stationary\\rUnit 3: Venting / Handing = Left\\rUnit 3: Hinge Style = Hinge with Wash Mode\\rExterior Color = White\\rExterior Sash/Panel Color = White\\rInterior Species = Pine\\rInterior Finish Color = White - Vinyl Wrapped\\rGlass Construction Type = Dual Pane\\rGlass Option = Low-E4 SmartSun\\rHigh Altitude Breather Tubes = No\\rGlass Strength = Tempered\\rGlass Tint = No Tint\\rSpecialty Glass = Fern\\rGas Fill = Argon\\rArt Glass Series = None\\rRemovable Interior Grille\\rColonial\\rGrille Pattern = Colonial\\rGrille Bar Width = 7/8\"\\rExterior Grille Color = White\\rInterior Grille Species = Maple\\rInterior Grille Color = White\\r2W6H\\rGrille Alignment Type = Standard Grille Alignment\\rDP/PG Upgrade = No\\rHardware Style = Contemporary Folding\\rHardware Color/Finish = Bright Brass\\rCorrosion Resistant Hardware = None\\rWindow Opening Control Device = No\\rSecurity Sensor Type = None\\rInsect Screen Type = Full Screen\\rInsect Screen Material = Aluminum\\rInsect Screen Color = White\\rBay/Bow Option Type = Walkout\\rBay/Bow/Box Extension Jamb Color = White - Painted\\rHead and Seat Board Species = Pine\\rHead and Seat Board Finish Color = White - Painted\\rOverall Wall Depth = 5 1/4\"\\rPlatform Boards = Top and Bottom Platforms\\rAngle Bay/Bow Supports = w/Cable Support System',\n",
       "  '1',\n",
       "  '$75.60',\n",
       "  '$75.60'],\n",
       " ['26',\n",
       "  '400-9',\n",
       "  '400 Series Casement Bow\\rOverall Joined Rough Opening = 120 3/8\" x 73 7/8\"\\rOverall Joined Unit = 120 3/4\" x 73 3/8\"\\rDimensional Entry Type = Overall Width, Angle\\rInstallation Zip Code = 55082\\rU.S. ENERGY STAR® Climate Zone = Northern\\rSearch by Unit Code = No\\rFrame Width = 24 1/8\\rFrame Height = 71 7/8\\rUnit 1, 2, 4, 5: Unit Code = C56-BOW\\rUnit 1, 2, 4, 5: Combination Operation / Venting =\\rStationary-Stationary-Left-Stationary-Stationary\\rUnit 1, 2, 4, 5: Venting / Handing = Stationary\\rUnit 3: Unit Code = C56-BOW\\rUnit 3: Combination Operation / Venting =\\rStationary-Stationary-Left-Stationary-Stationary\\rUnit 3: Venting / Handing = Left\\rUnit 3: Hinge Style = Hinge with Wash Mode\\rExterior Color = White\\rExterior Sash/Panel Color = White\\rInterior Species = Pine\\rInterior Finish Color = White - Vinyl Wrapped\\rGlass Construction Type = Dual Pane\\rGlass Option = Low-E4 SmartSun\\rHigh Altitude Breather Tubes = No\\rGlass Strength = Tempered\\rGlass Tint = No Tint\\rSpecialty Glass = Fern\\rGas Fill = Argon\\rArt Glass Series = None\\rRemovable Interior Grille\\rColonial\\rGrille Pattern = Colonial\\rGrille Bar Width = 7/8\"\\rExterior Grille Color = White\\rInterior Grille Species = Maple\\rInterior Grille Color = White\\r2W6H\\rGrille Alignment Type = Standard Grille Alignment\\rDP/PG Upgrade = No\\rHardware Style = Contemporary Folding\\rHardware Color/Finish = Bright Brass\\rCorrosion Resistant Hardware = None\\rWindow Opening Control Device = No\\rSecurity Sensor Type = None\\rInsect Screen Type = Full Screen\\rInsect Screen Material = Aluminum\\rInsect Screen Color = White\\rBay/Bow Option Type = Walkout\\rBay/Bow/Box Extension Jamb Color = White - Painted\\rHead and Seat Board Species = Pine\\rHead and Seat Board Finish Color = White - Painted\\rOverall Wall Depth = 5 1/4\"\\rPlatform Boards = Top and Bottom Platforms\\rAngle Bay/Bow Supports = w/Cable Support System',\n",
       "  nan,\n",
       "  '$89.40',\n",
       "  '$89.40'],\n",
       " ['27',\n",
       "  '400-10',\n",
       "  '400 Series Casement Bow\\rOverall Joined Rough Opening = 120 3/8\" x 73 7/8\"\\rOverall Joined Unit = 120 3/4\" x 73 3/8\"\\rDimensional Entry Type = Overall Width, Angle\\rInstallation Zip Code = 55082\\rU.S. ENERGY STAR® Climate Zone = Northern\\rSearch by Unit Code = No\\rFrame Width = 24 1/8\\rFrame Height = 71 7/8\\rUnit 1, 2, 4, 5: Unit Code = C56-BOW\\rUnit 1, 2, 4, 5: Combination Operation / Venting =\\rStationary-Stationary-Left-Stationary-Stationary\\rUnit 1, 2, 4, 5: Venting / Handing = Stationary\\rUnit 3: Unit Code = C56-BOW\\rUnit 3: Combination Operation / Venting =\\rStationary-Stationary-Left-Stationary-Stationary\\rUnit 3: Venting / Handing = Left\\rUnit 3: Hinge Style = Hinge with Wash Mode\\rExterior Color = White\\rExterior Sash/Panel Color = White\\rInterior Species = Pine\\rInterior Finish Color = White - Vinyl Wrapped\\rGlass Construction Type = Dual Pane\\rGlass Option = Low-E4 SmartSun\\rHigh Altitude Breather Tubes = No\\rGlass Strength = Tempered\\rGlass Tint = No Tint\\rSpecialty Glass = Fern\\rGas Fill = Argon\\rArt Glass Series = None\\rRemovable Interior Grille\\rColonial\\rGrille Pattern = Colonial\\rGrille Bar Width = 7/8\"\\rExterior Grille Color = White\\rInterior Grille Species = Maple\\rInterior Grille Color = White\\r2W6H\\rGrille Alignment Type = Standard Grille Alignment\\rDP/PG Upgrade = No\\rHardware Style = Contemporary Folding\\rHardware Color/Finish = Bright Brass\\rCorrosion Resistant Hardware = None\\rWindow Opening Control Device = No\\rSecurity Sensor Type = None\\rInsect Screen Type = Full Screen\\rInsect Screen Material = Aluminum\\rInsect Screen Color = White\\rBay/Bow Option Type = Walkout\\rBay/Bow/Box Extension Jamb Color = White - Painted\\rHead and Seat Board Species = Pine\\rHead and Seat Board Finish Color = White - Painted\\rOverall Wall Depth = 5 1/4\"\\rPlatform Boards = Top and Bottom Platforms\\rAngle Bay/Bow Supports = w/Cable Support System',\n",
       "  '1',\n",
       "  '$303.50',\n",
       "  '$303.50'],\n",
       " ['28',\n",
       "  '400-11',\n",
       "  '400 Series Casement Bow\\rOverall Joined Rough Opening = 120 3/8\" x 73 7/8\"\\rOverall Joined Unit = 120 3/4\" x 73 3/8\"\\rDimensional Entry Type = Overall Width, Angle\\rInstallation Zip Code = 55082\\rU.S. ENERGY STAR® Climate Zone = Northern\\rSearch by Unit Code = No\\rFrame Width = 24 1/8\\rFrame Height = 71 7/8\\rUnit 1, 2, 4, 5: Unit Code = C56-BOW\\rUnit 1, 2, 4, 5: Combination Operation / Venting =\\rStationary-Stationary-Left-Stationary-Stationary\\rUnit 1, 2, 4, 5: Venting / Handing = Stationary\\rUnit 3: Unit Code = C56-BOW\\rUnit 3: Combination Operation / Venting =\\rStationary-Stationary-Left-Stationary-Stationary\\rUnit 3: Venting / Handing = Left\\rUnit 3: Hinge Style = Hinge with Wash Mode\\rExterior Color = White\\rExterior Sash/Panel Color = White\\rInterior Species = Pine\\rInterior Finish Color = White - Vinyl Wrapped\\rGlass Construction Type = Dual Pane\\rGlass Option = Low-E4 SmartSun\\rHigh Altitude Breather Tubes = No\\rGlass Strength = Tempered\\rGlass Tint = No Tint\\rSpecialty Glass = Fern\\rGas Fill = Argon\\rArt Glass Series = None\\rRemovable Interior Grille\\rColonial\\rGrille Pattern = Colonial\\rGrille Bar Width = 7/8\"\\rExterior Grille Color = White\\rInterior Grille Species = Maple\\rInterior Grille Color = White\\r2W6H\\rGrille Alignment Type = Standard Grille Alignment\\rDP/PG Upgrade = No\\rHardware Style = Contemporary Folding\\rHardware Color/Finish = Bright Brass\\rCorrosion Resistant Hardware = None\\rWindow Opening Control Device = No\\rSecurity Sensor Type = None\\rInsect Screen Type = Full Screen\\rInsect Screen Material = Aluminum\\rInsect Screen Color = White\\rBay/Bow Option Type = Walkout\\rBay/Bow/Box Extension Jamb Color = White - Painted\\rHead and Seat Board Species = Pine\\rHead and Seat Board Finish Color = White - Painted\\rOverall Wall Depth = 5 1/4\"\\rPlatform Boards = Top and Bottom Platforms\\rAngle Bay/Bow Supports = w/Cable Support System',\n",
       "  '1',\n",
       "  '$191.60',\n",
       "  '$191.60'],\n",
       " ['29',\n",
       "  '400-12',\n",
       "  '400 Series Casement Bow\\rOverall Joined Rough Opening = 120 3/8\" x 73 7/8\"\\rOverall Joined Unit = 120 3/4\" x 73 3/8\"\\rDimensional Entry Type = Overall Width, Angle\\rInstallation Zip Code = 55082\\rU.S. ENERGY STAR® Climate Zone = Northern\\rSearch by Unit Code = No\\rFrame Width = 24 1/8\\rFrame Height = 71 7/8\\rUnit 1, 2, 4, 5: Unit Code = C56-BOW\\rUnit 1, 2, 4, 5: Combination Operation / Venting =\\rStationary-Stationary-Left-Stationary-Stationary\\rUnit 1, 2, 4, 5: Venting / Handing = Stationary\\rUnit 3: Unit Code = C56-BOW\\rUnit 3: Combination Operation / Venting =\\rStationary-Stationary-Left-Stationary-Stationary\\rUnit 3: Venting / Handing = Left\\rUnit 3: Hinge Style = Hinge with Wash Mode\\rExterior Color = White\\rExterior Sash/Panel Color = White\\rInterior Species = Pine\\rInterior Finish Color = White - Vinyl Wrapped\\rGlass Construction Type = Dual Pane\\rGlass Option = Low-E4 SmartSun\\rHigh Altitude Breather Tubes = No\\rGlass Strength = Tempered\\rGlass Tint = No Tint\\rSpecialty Glass = Fern\\rGas Fill = Argon\\rArt Glass Series = None\\rRemovable Interior Grille\\rColonial\\rGrille Pattern = Colonial\\rGrille Bar Width = 7/8\"\\rExterior Grille Color = White\\rInterior Grille Species = Maple\\rInterior Grille Color = White\\r2W6H\\rGrille Alignment Type = Standard Grille Alignment\\rDP/PG Upgrade = No\\rHardware Style = Contemporary Folding\\rHardware Color/Finish = Bright Brass\\rCorrosion Resistant Hardware = None\\rWindow Opening Control Device = No\\rSecurity Sensor Type = None\\rInsect Screen Type = Full Screen\\rInsect Screen Material = Aluminum\\rInsect Screen Color = White\\rBay/Bow Option Type = Walkout\\rBay/Bow/Box Extension Jamb Color = White - Painted\\rHead and Seat Board Species = Pine\\rHead and Seat Board Finish Color = White - Painted\\rOverall Wall Depth = 5 1/4\"\\rPlatform Boards = Top and Bottom Platforms\\rAngle Bay/Bow Supports = w/Cable Support System',\n",
       "  '1',\n",
       "  '$51.40',\n",
       "  '$51.40'],\n",
       " ['30',\n",
       "  '400-13',\n",
       "  '400 Series Casement Bow\\rOverall Joined Rough Opening = 120 3/8\" x 73 7/8\"\\rOverall Joined Unit = 120 3/4\" x 73 3/8\"\\rDimensional Entry Type = Overall Width, Angle\\rInstallation Zip Code = 55082\\rU.S. ENERGY STAR® Climate Zone = Northern\\rSearch by Unit Code = No\\rFrame Width = 24 1/8\\rFrame Height = 71 7/8\\rUnit 1, 2, 4, 5: Unit Code = C56-BOW\\rUnit 1, 2, 4, 5: Combination Operation / Venting =\\rStationary-Stationary-Left-Stationary-Stationary\\rUnit 1, 2, 4, 5: Venting / Handing = Stationary\\rUnit 3: Unit Code = C56-BOW\\rUnit 3: Combination Operation / Venting =\\rStationary-Stationary-Left-Stationary-Stationary\\rUnit 3: Venting / Handing = Left\\rUnit 3: Hinge Style = Hinge with Wash Mode\\rExterior Color = White\\rExterior Sash/Panel Color = White\\rInterior Species = Pine\\rInterior Finish Color = White - Vinyl Wrapped\\rGlass Construction Type = Dual Pane\\rGlass Option = Low-E4 SmartSun\\rHigh Altitude Breather Tubes = No\\rGlass Strength = Tempered\\rGlass Tint = No Tint\\rSpecialty Glass = Fern\\rGas Fill = Argon\\rArt Glass Series = None\\rRemovable Interior Grille\\rColonial\\rGrille Pattern = Colonial\\rGrille Bar Width = 7/8\"\\rExterior Grille Color = White\\rInterior Grille Species = Maple\\rInterior Grille Color = White\\r2W6H\\rGrille Alignment Type = Standard Grille Alignment\\rDP/PG Upgrade = No\\rHardware Style = Contemporary Folding\\rHardware Color/Finish = Bright Brass\\rCorrosion Resistant Hardware = None\\rWindow Opening Control Device = No\\rSecurity Sensor Type = None\\rInsect Screen Type = Full Screen\\rInsect Screen Material = Aluminum\\rInsect Screen Color = White\\rBay/Bow Option Type = Walkout\\rBay/Bow/Box Extension Jamb Color = White - Painted\\rHead and Seat Board Species = Pine\\rHead and Seat Board Finish Color = White - Painted\\rOverall Wall Depth = 5 1/4\"\\rPlatform Boards = Top and Bottom Platforms\\rAngle Bay/Bow Supports = w/Cable Support System',\n",
       "  '1',\n",
       "  '$95.00',\n",
       "  '$95.00'],\n",
       " ['31',\n",
       "  '500-1',\n",
       "  '100 Series Single Casement-CW\\rParts and Accessory Group = Hardware Components\\rHardware Component Type = Handle\\rHardware Handing = Left\\rHardware Color/Finish = White\\rRe-Order Item = No\\rRoom Location = None\\rHardware Component Part Number = 9123321\\rSKU = 288537\\rVendor Name = S/O ANDERSEN LOGISTICS\\rVendor Number = 60509030\\rCustomer Service = (888) 888-7020\\rCatalog Version Date = 03/26/2019',\n",
       "  nan,\n",
       "  '$7.70',\n",
       "  '$7.70']]"
      ]
     },
     "execution_count": 32,
     "metadata": {},
     "output_type": "execute_result"
    }
   ],
   "source": [
    "da"
   ]
  },
  {
   "cell_type": "code",
   "execution_count": 33,
   "metadata": {
    "collapsed": true
   },
   "outputs": [],
   "source": [
    "da1 = data1.values.tolist()"
   ]
  },
  {
   "cell_type": "code",
   "execution_count": 34,
   "metadata": {},
   "outputs": [
    {
     "data": {
      "text/plain": [
       "[['1',\n",
       "  '100-1',\n",
       "  '400 Series Awning\\rOverall Joined Rough Opening = 99 1/4\" x 24 5/8\"\\rOverall Joined Unit = 98 3/4\" x 24 1/8\"\\rInstallation Zip Code = 55082\\rU.S. ENERGY STAR® Climate Zone = Northern\\rSearch by Unit Code = No\\rStandard Width = RO: 24 5/8\" | UNIT: 24 1/8\"\\rStandard Height = RO: 24 5/8\" | UNIT: 24 1/8\"\\rFrame Width = 24 1/8\\rFrame Height = 24 1/8\\rUnit Code = A21\\rFrame Option = Installation Flange\\rCombination Operation / Venting = Vent(All)\\rVenting / Handing = Vent\\rElectric Operator Prep = No\\rExterior Color = Sandtone\\rInterior Species = Pine\\rInterior Finish Color = Unfinished\\rGlass Construction Type = Dual Pane\\rGlass Option = Low-E4\\rHigh Altitude Breather Tubes = No\\rGlass Strength = Standard\\rGlass Tint = No Tint\\rSpecialty Glass = None\\rGas Fill = Argon\\rArt Glass Series = None\\rNone\\rDP/PG Upgrade = Yes\\rHardware Style = Classic Series\\rHardware Color/Finish = White\\rCorrosion Resistant Hardware = None\\rSecurity Sensor Type = None\\rInsect Screen Type = None\\rExterior Trim Style = 3 1/2\" Flat\\rExterior Trim Type = Sill Nose\\rExterior Trim Color = White\\rExterior Trim Sill Size = 1 3/4\"\\rExterior Trim Application Method = Pre-cut Trim Kit\\rExtension Jamb Type = None\\rInstallation Material Options = No\\rRe-Order Item = No\\rRoom Location = None\\rUnit U-Factor = 0.28\\rUnit Solar Heat Gain Coefficient (SHGC) = 0.31\\rU.S. ENERGY STAR Certified = No\\rHardware Part Number = 1521026\\rVertical\\rFactory\\r0.75\" thick, 24.125\" length\\rSKU = 289185\\rVendor Name = S/O ANDERSEN LOGISTICS\\rVendor Number = 60509030\\rCustomer Service = (888) 888-7020\\rCatalog Version Date = 03/26/2019',\n",
       "  '1',\n",
       "  '$2,299.30',\n",
       "  '$2,299.30'],\n",
       " ['2',\n",
       "  '100-2',\n",
       "  '400 Series Awning\\rOverall Joined Rough Opening = 99 1/4\" x 24 5/8\"\\rOverall Joined Unit = 98 3/4\" x 24 1/8\"\\rInstallation Zip Code = 55082\\rU.S. ENERGY STAR® Climate Zone = Northern\\rSearch by Unit Code = No\\rStandard Width = RO: 24 5/8\" | UNIT: 24 1/8\"\\rStandard Height = RO: 24 5/8\" | UNIT: 24 1/8\"\\rFrame Width = 24 1/8\\rFrame Height = 24 1/8\\rUnit Code = A21\\rFrame Option = Installation Flange\\rCombination Operation / Venting = Vent(All)\\rVenting / Handing = Vent\\rElectric Operator Prep = No\\rExterior Color = Sandtone\\rInterior Species = Pine\\rInterior Finish Color = Unfinished\\rGlass Construction Type = Dual Pane\\rGlass Option = Low-E4\\rHigh Altitude Breather Tubes = No\\rGlass Strength = Standard\\rGlass Tint = No Tint\\rSpecialty Glass = None\\rGas Fill = Argon\\rArt Glass Series = None\\rNone\\rDP/PG Upgrade = Yes\\rHardware Style = Classic Series\\rHardware Color/Finish = White\\rCorrosion Resistant Hardware = None\\rSecurity Sensor Type = None\\rInsect Screen Type = None\\rExterior Trim Style = 3 1/2\" Flat\\rExterior Trim Type = Sill Nose\\rExterior Trim Color = White\\rExterior Trim Sill Size = 1 3/4\"\\rExterior Trim Application Method = Pre-cut Trim Kit\\rExtension Jamb Type = None\\rInstallation Material Options = No\\rRe-Order Item = No\\rRoom Location = None\\rUnit U-Factor = 0.28\\rUnit Solar Heat Gain Coefficient (SHGC) = 0.31\\rU.S. ENERGY STAR Certified = No\\rHardware Part Number = 1521026\\rVertical\\rFactory\\r0.75\" thick, 24.125\" length\\rSKU = 289185\\rVendor Name = S/O ANDERSEN LOGISTICS\\rVendor Number = 60509030\\rCustomer Service = (888) 888-7020\\rCatalog Version Date = 03/26/2019',\n",
       "  '1',\n",
       "  '$13.80',\n",
       "  '$13.80'],\n",
       " ['3',\n",
       "  '100-3',\n",
       "  '400 Series Awning\\rOverall Joined Rough Opening = 99 1/4\" x 24 5/8\"\\rOverall Joined Unit = 98 3/4\" x 24 1/8\"\\rInstallation Zip Code = 55082\\rU.S. ENERGY STAR® Climate Zone = Northern\\rSearch by Unit Code = No\\rStandard Width = RO: 24 5/8\" | UNIT: 24 1/8\"\\rStandard Height = RO: 24 5/8\" | UNIT: 24 1/8\"\\rFrame Width = 24 1/8\\rFrame Height = 24 1/8\\rUnit Code = A21\\rFrame Option = Installation Flange\\rCombination Operation / Venting = Vent(All)\\rVenting / Handing = Vent\\rElectric Operator Prep = No\\rExterior Color = Sandtone\\rInterior Species = Pine\\rInterior Finish Color = Unfinished\\rGlass Construction Type = Dual Pane\\rGlass Option = Low-E4\\rHigh Altitude Breather Tubes = No\\rGlass Strength = Standard\\rGlass Tint = No Tint\\rSpecialty Glass = None\\rGas Fill = Argon\\rArt Glass Series = None\\rNone\\rDP/PG Upgrade = Yes\\rHardware Style = Classic Series\\rHardware Color/Finish = White\\rCorrosion Resistant Hardware = None\\rSecurity Sensor Type = None\\rInsect Screen Type = None\\rExterior Trim Style = 3 1/2\" Flat\\rExterior Trim Type = Sill Nose\\rExterior Trim Color = White\\rExterior Trim Sill Size = 1 3/4\"\\rExterior Trim Application Method = Pre-cut Trim Kit\\rExtension Jamb Type = None\\rInstallation Material Options = No\\rRe-Order Item = No\\rRoom Location = None\\rUnit U-Factor = 0.28\\rUnit Solar Heat Gain Coefficient (SHGC) = 0.31\\rU.S. ENERGY STAR Certified = No\\rHardware Part Number = 1521026\\rVertical\\rFactory\\r0.75\" thick, 24.125\" length\\rSKU = 289185\\rVendor Name = S/O ANDERSEN LOGISTICS\\rVendor Number = 60509030\\rCustomer Service = (888) 888-7020\\rCatalog Version Date = 03/26/2019',\n",
       "  '1',\n",
       "  '$13.80',\n",
       "  '$13.80'],\n",
       " ['4',\n",
       "  '100-4',\n",
       "  '400 Series Awning $13.80\\rOverall Joined Rough Opening = 99 1/4\" x 24 5/8\"\\rOverall Joined Unit = 98 3/4\" x 24 1/8\"\\rInstallation Zip Code = 55082\\rU.S. ENERGY STAR® Climate Zone = Northern\\rSearch by Unit Code = No\\rStandard Width = RO: 24 5/8\" | UNIT: 24 1/8\"\\rStandard Height = RO: 24 5/8\" | UNIT: 24 1/8\"\\rFrame Width = 24 1/8\\rFrame Height = 24 1/8\\rUnit Code = A21\\rFrame Option = Installation Flange\\rCombination Operation / Venting = Vent(All)\\rVenting / Handing = Vent\\rElectric Operator Prep = No\\rExterior Color = Sandtone\\rInterior Species = Pine\\rInterior Finish Color = Unfinished\\rGlass Construction Type = Dual Pane\\rGlass Option = Low-E4\\rHigh Altitude Breather Tubes = No\\rGlass Strength = Standard\\rGlass Tint = No Tint\\rSpecialty Glass = None\\rGas Fill = Argon\\rArt Glass Series = None\\rNone\\rDP/PG Upgrade = Yes\\rHardware Style = Classic Series\\rHardware Color/Finish = White\\rCorrosion Resistant Hardware = None\\rSecurity Sensor Type = None\\rInsect Screen Type = None\\rExterior Trim Style = 3 1/2\" Flat\\rExterior Trim Type = Sill Nose\\rExterior Trim Color = White\\rExterior Trim Sill Size = 1 3/4\"\\rExterior Trim Application Method = Pre-cut Trim Kit\\rExtension Jamb Type = None\\rInstallation Material Options = No\\rRe-Order Item = No\\rRoom Location = None\\rUnit U-Factor = 0.28\\rUnit Solar Heat Gain Coefficient (SHGC) = 0.31\\rU.S. ENERGY STAR Certified = No\\rHardware Part Number = 1521026\\rVertical\\rFactory\\r0.75\" thick, 24.125\" length\\rSKU = 289185\\rVendor Name = S/O ANDERSEN LOGISTICS\\rVendor Number = 60509030\\rCustomer Service = (888) 888-7020\\rCatalog Version Date = 03/26/2019',\n",
       "  '1',\n",
       "  '$13.80',\n",
       "  '$13.80'],\n",
       " ['5',\n",
       "  '300-1',\n",
       "  '400 Series Double-Hung Bay\\rOverall Joined Rough Opening = 79 1/8\" x 70 3/4\"\\rOverall Joined Unit = 80 7/16\" x 70 1/4\"\\rDimensional Entry Type = Standard Sizes (By Center\\rWidth)\\rInstallation Zip Code = 55082\\rU.S. ENERGY STAR® Climate Zone = Northern\\rSearch by Unit Code = No\\rUnit 1, 3: Frame Width = 21 5/8\\rUnit 1, 3: Frame Height = 68 7/8\\rUnit 2: Frame Width = 41 5/8\\rUnit 2: Frame Height = 68 7/8\\rUnit Code = TW45-3456-18\\rCombination Operation / Venting = Active (All)\\rVenting / Handing = AA\\rExterior Color = Dark Bronze\\rExterior Sash/Panel Color = Dark Bronze\\rInterior Species = Pine\\rInterior Finish Color = White - Painted\\rJamb Liner Color = White\\rGlass Construction Type = Dual Pane\\rGlass Option = Low-E4\\rHigh Altitude Breather Tubes = No\\rGlass Strength = Tempered\\rSpecialty Glass = Reed Vertical\\rGas Fill = Argon\\rNone\\rDP/PG Upgrade = No\\rSash Lift Type = Hand Lift\\rSash Lift Style = Traditional\\rSash Lift Color/Finish = Antique Brass\\rLock Hardware Style = Traditional\\rNumber of Sash Locks = 1\\rLock Hardware Color/Finish = White (Factory Applied)\\rWindow Opening Control Device = No\\rSecurity Sensor Type = None\\rInsect Screen Type = Half Screen\\rInsect Screen Material = TruScene\\rInsect Screen Color = Sandtone\\rBay/Bow Option Type = Standard\\rBay/Bow/Box Extension Jamb Color = White - Painted\\rHead and Seat Board Species = Pine\\rHead and Seat Board Finish Color = White - Painted\\rOverall Wall Depth = 6 9/16\"\\rPlatform Boards = Top and Bottom Platforms\\rAngle Bay/Bow Supports = w/Cable Support System\\rTop Auxiliary Casing = Top Auxiliary\\rAuxiliary Casing Colors = Dark Bronze\\rCasing Application Location = Shipped Loose\\rTrim Board = Fibrex Cellular Trim Board\\rInstallation Material Options = No\\rRe-Order Item = No\\rRoom Location = None\\rUnit 1, 3: Unit U-Factor = ---\\rUnit 1, 3: Unit Solar Heat Gain Coefficient (SHGC) = ---',\n",
       "  '1',\n",
       "  '$4,376.20',\n",
       "  '$4,376.20'],\n",
       " ['6',\n",
       "  '300-2',\n",
       "  '400 Series Double-Hung Bay\\rOverall Joined Rough Opening = 79 1/8\" x 70 3/4\"\\rOverall Joined Unit = 80 7/16\" x 70 1/4\"\\rDimensional Entry Type = Standard Sizes (By Center\\rWidth)\\rInstallation Zip Code = 55082\\rU.S. ENERGY STAR® Climate Zone = Northern\\rSearch by Unit Code = No\\rUnit 1, 3: Frame Width = 21 5/8\\rUnit 1, 3: Frame Height = 68 7/8\\rUnit 2: Frame Width = 41 5/8\\rUnit 2: Frame Height = 68 7/8\\rUnit Code = TW45-3456-18\\rCombination Operation / Venting = Active (All)\\rVenting / Handing = AA\\rExterior Color = Dark Bronze\\rExterior Sash/Panel Color = Dark Bronze\\rInterior Species = Pine\\rInterior Finish Color = White - Painted\\rJamb Liner Color = White\\rGlass Construction Type = Dual Pane\\rGlass Option = Low-E4\\rHigh Altitude Breather Tubes = No\\rGlass Strength = Tempered\\rSpecialty Glass = Reed Vertical\\rGas Fill = Argon\\rNone\\rDP/PG Upgrade = No\\rSash Lift Type = Hand Lift\\rSash Lift Style = Traditional\\rSash Lift Color/Finish = Antique Brass\\rLock Hardware Style = Traditional\\rNumber of Sash Locks = 1\\rLock Hardware Color/Finish = White (Factory Applied)\\rWindow Opening Control Device = No\\rSecurity Sensor Type = None\\rInsect Screen Type = Half Screen\\rInsect Screen Material = TruScene\\rInsect Screen Color = Sandtone\\rBay/Bow Option Type = Standard\\rBay/Bow/Box Extension Jamb Color = White - Painted\\rHead and Seat Board Species = Pine\\rHead and Seat Board Finish Color = White - Painted\\rOverall Wall Depth = 6 9/16\"\\rPlatform Boards = Top and Bottom Platforms\\rAngle Bay/Bow Supports = w/Cable Support System\\rTop Auxiliary Casing = Top Auxiliary\\rAuxiliary Casing Colors = Dark Bronze\\rCasing Application Location = Shipped Loose\\rTrim Board = Fibrex Cellular Trim Board\\rInstallation Material Options = No\\rRe-Order Item = No\\rRoom Location = None\\rUnit 1, 3: Unit U-Factor = ---\\rUnit 1, 3: Unit Solar Heat Gain Coefficient (SHGC) = ---',\n",
       "  '1',\n",
       "  '$32.00',\n",
       "  '$32.00'],\n",
       " ['7',\n",
       "  '300-3',\n",
       "  '400 Series Double-Hung Bay\\rOverall Joined Rough Opening = 79 1/8\" x 70 3/4\"\\rOverall Joined Unit = 80 7/16\" x 70 1/4\"\\rDimensional Entry Type = Standard Sizes (By Center\\rWidth)\\rInstallation Zip Code = 55082\\rU.S. ENERGY STAR® Climate Zone = Northern\\rSearch by Unit Code = No\\rUnit 1, 3: Frame Width = 21 5/8\\rUnit 1, 3: Frame Height = 68 7/8\\rUnit 2: Frame Width = 41 5/8\\rUnit 2: Frame Height = 68 7/8\\rUnit Code = TW45-3456-18\\rCombination Operation / Venting = Active (All)\\rVenting / Handing = AA\\rExterior Color = Dark Bronze\\rExterior Sash/Panel Color = Dark Bronze\\rInterior Species = Pine\\rInterior Finish Color = White - Painted\\rJamb Liner Color = White\\rGlass Construction Type = Dual Pane\\rGlass Option = Low-E4\\rHigh Altitude Breather Tubes = No\\rGlass Strength = Tempered\\rSpecialty Glass = Reed Vertical\\rGas Fill = Argon\\rNone\\rDP/PG Upgrade = No\\rSash Lift Type = Hand Lift\\rSash Lift Style = Traditional\\rSash Lift Color/Finish = Antique Brass\\rLock Hardware Style = Traditional\\rNumber of Sash Locks = 1\\rLock Hardware Color/Finish = White (Factory Applied)\\rWindow Opening Control Device = No\\rSecurity Sensor Type = None\\rInsect Screen Type = Half Screen\\rInsect Screen Material = TruScene\\rInsect Screen Color = Sandtone\\rBay/Bow Option Type = Standard\\rBay/Bow/Box Extension Jamb Color = White - Painted\\rHead and Seat Board Species = Pine\\rHead and Seat Board Finish Color = White - Painted\\rOverall Wall Depth = 6 9/16\"\\rPlatform Boards = Top and Bottom Platforms\\rAngle Bay/Bow Supports = w/Cable Support System\\rTop Auxiliary Casing = Top Auxiliary\\rAuxiliary Casing Colors = Dark Bronze\\rCasing Application Location = Shipped Loose\\rTrim Board = Fibrex Cellular Trim Board\\rInstallation Material Options = No\\rRe-Order Item = No\\rRoom Location = None\\rUnit 1, 3: Unit U-Factor = ---\\rUnit 1, 3: Unit Solar Heat Gain Coefficient (SHGC) = ---',\n",
       "  '1',\n",
       "  '$175.00',\n",
       "  '$175.00'],\n",
       " ['8',\n",
       "  '300-4',\n",
       "  '400 Series Double-Hung Bay\\rOverall Joined Rough Opening = 79 1/8\" x 70 3/4\"\\rOverall Joined Unit = 80 7/16\" x 70 1/4\"\\rDimensional Entry Type = Standard Sizes (By Center\\rWidth)\\rInstallation Zip Code = 55082\\rU.S. ENERGY STAR® Climate Zone = Northern\\rSearch by Unit Code = No\\rUnit 1, 3: Frame Width = 21 5/8\\rUnit 1, 3: Frame Height = 68 7/8\\rUnit 2: Frame Width = 41 5/8\\rUnit 2: Frame Height = 68 7/8\\rUnit Code = TW45-3456-18\\rCombination Operation / Venting = Active (All)\\rVenting / Handing = AA\\rExterior Color = Dark Bronze\\rExterior Sash/Panel Color = Dark Bronze\\rInterior Species = Pine\\rInterior Finish Color = White - Painted\\rJamb Liner Color = White\\rGlass Construction Type = Dual Pane\\rGlass Option = Low-E4\\rHigh Altitude Breather Tubes = No\\rGlass Strength = Tempered\\rSpecialty Glass = Reed Vertical\\rGas Fill = Argon\\rNone\\rDP/PG Upgrade = No\\rSash Lift Type = Hand Lift\\rSash Lift Style = Traditional\\rSash Lift Color/Finish = Antique Brass\\rLock Hardware Style = Traditional\\rNumber of Sash Locks = 1\\rLock Hardware Color/Finish = White (Factory Applied)\\rWindow Opening Control Device = No\\rSecurity Sensor Type = None\\rInsect Screen Type = Half Screen\\rInsect Screen Material = TruScene\\rInsect Screen Color = Sandtone\\rBay/Bow Option Type = Standard\\rBay/Bow/Box Extension Jamb Color = White - Painted\\rHead and Seat Board Species = Pine\\rHead and Seat Board Finish Color = White - Painted\\rOverall Wall Depth = 6 9/16\"\\rPlatform Boards = Top and Bottom Platforms\\rAngle Bay/Bow Supports = w/Cable Support System\\rTop Auxiliary Casing = Top Auxiliary\\rAuxiliary Casing Colors = Dark Bronze\\rCasing Application Location = Shipped Loose\\rTrim Board = Fibrex Cellular Trim Board\\rInstallation Material Options = No\\rRe-Order Item = No\\rRoom Location = None\\rUnit 1, 3: Unit U-Factor = ---\\rUnit 1, 3: Unit Solar Heat Gain Coefficient (SHGC) = ---',\n",
       "  '1',\n",
       "  '$8.00',\n",
       "  '$8.00'],\n",
       " ['9',\n",
       "  '300-5',\n",
       "  '400 Series Double-Hung Bay\\rOverall Joined Rough Opening = 79 1/8\" x 70 3/4\"\\rOverall Joined Unit = 80 7/16\" x 70 1/4\"\\rDimensional Entry Type = Standard Sizes (By Center\\rWidth)\\rInstallation Zip Code = 55082\\rU.S. ENERGY STAR® Climate Zone = Northern\\rSearch by Unit Code = No\\rUnit 1, 3: Frame Width = 21 5/8\\rUnit 1, 3: Frame Height = 68 7/8\\rUnit 2: Frame Width = 41 5/8\\rUnit 2: Frame Height = 68 7/8\\rUnit Code = TW45-3456-18\\rCombination Operation / Venting = Active (All)\\rVenting / Handing = AA\\rExterior Color = Dark Bronze\\rExterior Sash/Panel Color = Dark Bronze\\rInterior Species = Pine\\rInterior Finish Color = White - Painted\\rJamb Liner Color = White\\rGlass Construction Type = Dual Pane\\rGlass Option = Low-E4\\rHigh Altitude Breather Tubes = No\\rGlass Strength = Tempered\\rSpecialty Glass = Reed Vertical\\rGas Fill = Argon\\rNone\\rDP/PG Upgrade = No\\rSash Lift Type = Hand Lift\\rSash Lift Style = Traditional\\rSash Lift Color/Finish = Antique Brass\\rLock Hardware Style = Traditional\\rNumber of Sash Locks = 1\\rLock Hardware Color/Finish = White (Factory Applied)\\rWindow Opening Control Device = No\\rSecurity Sensor Type = None\\rInsect Screen Type = Half Screen\\rInsect Screen Material = TruScene\\rInsect Screen Color = Sandtone\\rBay/Bow Option Type = Standard\\rBay/Bow/Box Extension Jamb Color = White - Painted\\rHead and Seat Board Species = Pine\\rHead and Seat Board Finish Color = White - Painted\\rOverall Wall Depth = 6 9/16\"\\rPlatform Boards = Top and Bottom Platforms\\rAngle Bay/Bow Supports = w/Cable Support System\\rTop Auxiliary Casing = Top Auxiliary\\rAuxiliary Casing Colors = Dark Bronze\\rCasing Application Location = Shipped Loose\\rTrim Board = Fibrex Cellular Trim Board\\rInstallation Material Options = No\\rRe-Order Item = No\\rRoom Location = None\\rUnit 1, 3: Unit U-Factor = ---\\rUnit 1, 3: Unit Solar Heat Gain Coefficient (SHGC) = ---',\n",
       "  '1',\n",
       "  '$32.00',\n",
       "  '$32.00'],\n",
       " ['10',\n",
       "  '300-6',\n",
       "  '400 Series Double-Hung Bay\\rOverall Joined Rough Opening = 79 1/8\" x 70 3/4\"\\rOverall Joined Unit = 80 7/16\" x 70 1/4\"\\rDimensional Entry Type = Standard Sizes (By Center\\rWidth)\\rInstallation Zip Code = 55082\\rU.S. ENERGY STAR® Climate Zone = Northern\\rSearch by Unit Code = No\\rUnit 1, 3: Frame Width = 21 5/8\\rUnit 1, 3: Frame Height = 68 7/8\\rUnit 2: Frame Width = 41 5/8\\rUnit 2: Frame Height = 68 7/8\\rUnit Code = TW45-3456-18\\rCombination Operation / Venting = Active (All)\\rVenting / Handing = AA\\rExterior Color = Dark Bronze\\rExterior Sash/Panel Color = Dark Bronze\\rInterior Species = Pine\\rInterior Finish Color = White - Painted\\rJamb Liner Color = White\\rGlass Construction Type = Dual Pane\\rGlass Option = Low-E4\\rHigh Altitude Breather Tubes = No\\rGlass Strength = Tempered\\rSpecialty Glass = Reed Vertical\\rGas Fill = Argon\\rNone\\rDP/PG Upgrade = No\\rSash Lift Type = Hand Lift\\rSash Lift Style = Traditional\\rSash Lift Color/Finish = Antique Brass\\rLock Hardware Style = Traditional\\rNumber of Sash Locks = 1\\rLock Hardware Color/Finish = White (Factory Applied)\\rWindow Opening Control Device = No\\rSecurity Sensor Type = None\\rInsect Screen Type = Half Screen\\rInsect Screen Material = TruScene\\rInsect Screen Color = Sandtone\\rBay/Bow Option Type = Standard\\rBay/Bow/Box Extension Jamb Color = White - Painted\\rHead and Seat Board Species = Pine\\rHead and Seat Board Finish Color = White - Painted\\rOverall Wall Depth = 6 9/16\"\\rPlatform Boards = Top and Bottom Platforms\\rAngle Bay/Bow Supports = w/Cable Support System\\rTop Auxiliary Casing = Top Auxiliary\\rAuxiliary Casing Colors = Dark Bronze\\rCasing Application Location = Shipped Loose\\rTrim Board = Fibrex Cellular Trim Board\\rInstallation Material Options = No\\rRe-Order Item = No\\rRoom Location = None\\rUnit 1, 3: Unit U-Factor = ---\\rUnit 1, 3: Unit Solar Heat Gain Coefficient (SHGC) = ---',\n",
       "  '1',\n",
       "  '$201.80',\n",
       "  '$201.80'],\n",
       " ['11',\n",
       "  '300-7',\n",
       "  '400 Series Double-Hung Bay\\rOverall Joined Rough Opening = 79 1/8\" x 70 3/4\"\\rOverall Joined Unit = 80 7/16\" x 70 1/4\"\\rDimensional Entry Type = Standard Sizes (By Center\\rWidth)\\rInstallation Zip Code = 55082\\rU.S. ENERGY STAR® Climate Zone = Northern\\rSearch by Unit Code = No\\rUnit 1, 3: Frame Width = 21 5/8\\rUnit 1, 3: Frame Height = 68 7/8\\rUnit 2: Frame Width = 41 5/8\\rUnit 2: Frame Height = 68 7/8\\rUnit Code = TW45-3456-18\\rCombination Operation / Venting = Active (All)\\rVenting / Handing = AA\\rExterior Color = Dark Bronze\\rExterior Sash/Panel Color = Dark Bronze\\rInterior Species = Pine\\rInterior Finish Color = White - Painted\\rJamb Liner Color = White\\rGlass Construction Type = Dual Pane\\rGlass Option = Low-E4\\rHigh Altitude Breather Tubes = No\\rGlass Strength = Tempered\\rSpecialty Glass = Reed Vertical\\rGas Fill = Argon\\rNone\\rDP/PG Upgrade = No\\rSash Lift Type = Hand Lift\\rSash Lift Style = Traditional\\rSash Lift Color/Finish = Antique Brass\\rLock Hardware Style = Traditional\\rNumber of Sash Locks = 1\\rLock Hardware Color/Finish = White (Factory Applied)\\rWindow Opening Control Device = No\\rSecurity Sensor Type = None\\rInsect Screen Type = Half Screen\\rInsect Screen Material = TruScene\\rInsect Screen Color = Sandtone\\rBay/Bow Option Type = Standard\\rBay/Bow/Box Extension Jamb Color = White - Painted\\rHead and Seat Board Species = Pine\\rHead and Seat Board Finish Color = White - Painted\\rOverall Wall Depth = 6 9/16\"\\rPlatform Boards = Top and Bottom Platforms\\rAngle Bay/Bow Supports = w/Cable Support System\\rTop Auxiliary Casing = Top Auxiliary\\rAuxiliary Casing Colors = Dark Bronze\\rCasing Application Location = Shipped Loose\\rTrim Board = Fibrex Cellular Trim Board\\rInstallation Material Options = No\\rRe-Order Item = No\\rRoom Location = None\\rUnit 1, 3: Unit U-Factor = ---\\rUnit 1, 3: Unit Solar Heat Gain Coefficient (SHGC) = ---',\n",
       "  '1',\n",
       "  '$10.50',\n",
       "  '$10.50'],\n",
       " ['12',\n",
       "  '300-8',\n",
       "  '400 Series Double-Hung Bay\\rOverall Joined Rough Opening = 79 1/8\" x 70 3/4\"\\rOverall Joined Unit = 80 7/16\" x 70 1/4\"\\rDimensional Entry Type = Standard Sizes (By Center\\rWidth)\\rInstallation Zip Code = 55082\\rU.S. ENERGY STAR® Climate Zone = Northern\\rSearch by Unit Code = No\\rUnit 1, 3: Frame Width = 21 5/8\\rUnit 1, 3: Frame Height = 68 7/8\\rUnit 2: Frame Width = 41 5/8\\rUnit 2: Frame Height = 68 7/8\\rUnit Code = TW45-3456-18\\rCombination Operation / Venting = Active (All)\\rVenting / Handing = AA\\rExterior Color = Dark Bronze\\rExterior Sash/Panel Color = Dark Bronze\\rInterior Species = Pine\\rInterior Finish Color = White - Painted\\rJamb Liner Color = White\\rGlass Construction Type = Dual Pane\\rGlass Option = Low-E4\\rHigh Altitude Breather Tubes = No\\rGlass Strength = Tempered\\rSpecialty Glass = Reed Vertical\\rGas Fill = Argon\\rNone\\rDP/PG Upgrade = No\\rSash Lift Type = Hand Lift\\rSash Lift Style = Traditional\\rSash Lift Color/Finish = Antique Brass\\rLock Hardware Style = Traditional\\rNumber of Sash Locks = 1\\rLock Hardware Color/Finish = White (Factory Applied)\\rWindow Opening Control Device = No\\rSecurity Sensor Type = None\\rInsect Screen Type = Half Screen\\rInsect Screen Material = TruScene\\rInsect Screen Color = Sandtone\\rBay/Bow Option Type = Standard\\rBay/Bow/Box Extension Jamb Color = White - Painted\\rHead and Seat Board Species = Pine\\rHead and Seat Board Finish Color = White - Painted\\rOverall Wall Depth = 6 9/16\"\\rPlatform Boards = Top and Bottom Platforms\\rAngle Bay/Bow Supports = w/Cable Support System\\rTop Auxiliary Casing = Top Auxiliary\\rAuxiliary Casing Colors = Dark Bronze\\rCasing Application Location = Shipped Loose\\rTrim Board = Fibrex Cellular Trim Board\\rInstallation Material Options = No\\rRe-Order Item = No\\rRoom Location = None\\rUnit 1, 3: Unit U-Factor = ---\\rUnit 1, 3: Unit Solar Heat Gain Coefficient (SHGC) = ---',\n",
       "  '1',\n",
       "  '$32.00',\n",
       "  '$32.00'],\n",
       " ['13',\n",
       "  '300-9',\n",
       "  '400 Series Double-Hung Bay\\rOverall Joined Rough Opening = 79 1/8\" x 70 3/4\"\\rOverall Joined Unit = 80 7/16\" x 70 1/4\"\\rDimensional Entry Type = Standard Sizes (By Center\\rWidth)\\rInstallation Zip Code = 55082\\rU.S. ENERGY STAR® Climate Zone = Northern\\rSearch by Unit Code = No\\rUnit 1, 3: Frame Width = 21 5/8\\rUnit 1, 3: Frame Height = 68 7/8\\rUnit 2: Frame Width = 41 5/8\\rUnit 2: Frame Height = 68 7/8\\rUnit Code = TW45-3456-18\\rCombination Operation / Venting = Active (All)\\rVenting / Handing = AA\\rExterior Color = Dark Bronze\\rExterior Sash/Panel Color = Dark Bronze\\rInterior Species = Pine\\rInterior Finish Color = White - Painted\\rJamb Liner Color = White\\rGlass Construction Type = Dual Pane\\rGlass Option = Low-E4\\rHigh Altitude Breather Tubes = No\\rGlass Strength = Tempered\\rSpecialty Glass = Reed Vertical\\rGas Fill = Argon\\rNone\\rDP/PG Upgrade = No\\rSash Lift Type = Hand Lift\\rSash Lift Style = Traditional\\rSash Lift Color/Finish = Antique Brass\\rLock Hardware Style = Traditional\\rNumber of Sash Locks = 1\\rLock Hardware Color/Finish = White (Factory Applied)\\rWindow Opening Control Device = No\\rSecurity Sensor Type = None\\rInsect Screen Type = Half Screen\\rInsect Screen Material = TruScene\\rInsect Screen Color = Sandtone\\rBay/Bow Option Type = Standard\\rBay/Bow/Box Extension Jamb Color = White - Painted\\rHead and Seat Board Species = Pine\\rHead and Seat Board Finish Color = White - Painted\\rOverall Wall Depth = 6 9/16\"\\rPlatform Boards = Top and Bottom Platforms\\rAngle Bay/Bow Supports = w/Cable Support System\\rTop Auxiliary Casing = Top Auxiliary\\rAuxiliary Casing Colors = Dark Bronze\\rCasing Application Location = Shipped Loose\\rTrim Board = Fibrex Cellular Trim Board\\rInstallation Material Options = No\\rRe-Order Item = No\\rRoom Location = None\\rUnit 1, 3: Unit U-Factor = ---\\rUnit 1, 3: Unit Solar Heat Gain Coefficient (SHGC) = ---',\n",
       "  '1',\n",
       "  '$175.00',\n",
       "  '$175.00'],\n",
       " ['14',\n",
       "  '300-10',\n",
       "  '400 Series Double-Hung Bay\\rOverall Joined Rough Opening = 79 1/8\" x 70 3/4\"\\rOverall Joined Unit = 80 7/16\" x 70 1/4\"\\rDimensional Entry Type = Standard Sizes (By Center\\rWidth)\\rInstallation Zip Code = 55082\\rU.S. ENERGY STAR® Climate Zone = Northern\\rSearch by Unit Code = No\\rUnit 1, 3: Frame Width = 21 5/8\\rUnit 1, 3: Frame Height = 68 7/8\\rUnit 2: Frame Width = 41 5/8\\rUnit 2: Frame Height = 68 7/8\\rUnit Code = TW45-3456-18\\rCombination Operation / Venting = Active (All)\\rVenting / Handing = AA\\rExterior Color = Dark Bronze\\rExterior Sash/Panel Color = Dark Bronze\\rInterior Species = Pine\\rInterior Finish Color = White - Painted\\rJamb Liner Color = White\\rGlass Construction Type = Dual Pane\\rGlass Option = Low-E4\\rHigh Altitude Breather Tubes = No\\rGlass Strength = Tempered\\rSpecialty Glass = Reed Vertical\\rGas Fill = Argon\\rNone\\rDP/PG Upgrade = No\\rSash Lift Type = Hand Lift\\rSash Lift Style = Traditional\\rSash Lift Color/Finish = Antique Brass\\rLock Hardware Style = Traditional\\rNumber of Sash Locks = 1\\rLock Hardware Color/Finish = White (Factory Applied)\\rWindow Opening Control Device = No\\rSecurity Sensor Type = None\\rInsect Screen Type = Half Screen\\rInsect Screen Material = TruScene\\rInsect Screen Color = Sandtone\\rBay/Bow Option Type = Standard\\rBay/Bow/Box Extension Jamb Color = White - Painted\\rHead and Seat Board Species = Pine\\rHead and Seat Board Finish Color = White - Painted\\rOverall Wall Depth = 6 9/16\"\\rPlatform Boards = Top and Bottom Platforms\\rAngle Bay/Bow Supports = w/Cable Support System\\rTop Auxiliary Casing = Top Auxiliary\\rAuxiliary Casing Colors = Dark Bronze\\rCasing Application Location = Shipped Loose\\rTrim Board = Fibrex Cellular Trim Board\\rInstallation Material Options = No\\rRe-Order Item = No\\rRoom Location = None\\rUnit 1, 3: Unit U-Factor = ---\\rUnit 1, 3: Unit Solar Heat Gain Coefficient (SHGC) = ---',\n",
       "  '1',\n",
       "  '$8.00',\n",
       "  '$8.00'],\n",
       " ['15',\n",
       "  '300-11',\n",
       "  '400 Series Double-Hung Bay\\rOverall Joined Rough Opening = 79 1/8\" x 70 3/4\"\\rOverall Joined Unit = 80 7/16\" x 70 1/4\"\\rDimensional Entry Type = Standard Sizes (By Center\\rWidth)\\rInstallation Zip Code = 55082\\rU.S. ENERGY STAR® Climate Zone = Northern\\rSearch by Unit Code = No\\rUnit 1, 3: Frame Width = 21 5/8\\rUnit 1, 3: Frame Height = 68 7/8\\rUnit 2: Frame Width = 41 5/8\\rUnit 2: Frame Height = 68 7/8\\rUnit Code = TW45-3456-18\\rCombination Operation / Venting = Active (All)\\rVenting / Handing = AA\\rExterior Color = Dark Bronze\\rExterior Sash/Panel Color = Dark Bronze\\rInterior Species = Pine\\rInterior Finish Color = White - Painted\\rJamb Liner Color = White\\rGlass Construction Type = Dual Pane\\rGlass Option = Low-E4\\rHigh Altitude Breather Tubes = No\\rGlass Strength = Tempered\\rSpecialty Glass = Reed Vertical\\rGas Fill = Argon\\rNone\\rDP/PG Upgrade = No\\rSash Lift Type = Hand Lift\\rSash Lift Style = Traditional\\rSash Lift Color/Finish = Antique Brass\\rLock Hardware Style = Traditional\\rNumber of Sash Locks = 1\\rLock Hardware Color/Finish = White (Factory Applied)\\rWindow Opening Control Device = No\\rSecurity Sensor Type = None\\rInsect Screen Type = Half Screen\\rInsect Screen Material = TruScene\\rInsect Screen Color = Sandtone\\rBay/Bow Option Type = Standard\\rBay/Bow/Box Extension Jamb Color = White - Painted\\rHead and Seat Board Species = Pine\\rHead and Seat Board Finish Color = White - Painted\\rOverall Wall Depth = 6 9/16\"\\rPlatform Boards = Top and Bottom Platforms\\rAngle Bay/Bow Supports = w/Cable Support System\\rTop Auxiliary Casing = Top Auxiliary\\rAuxiliary Casing Colors = Dark Bronze\\rCasing Application Location = Shipped Loose\\rTrim Board = Fibrex Cellular Trim Board\\rInstallation Material Options = No\\rRe-Order Item = No\\rRoom Location = None\\rUnit 1, 3: Unit U-Factor = ---\\rUnit 1, 3: Unit Solar Heat Gain Coefficient (SHGC) = ---',\n",
       "  '1',\n",
       "  '$66.50',\n",
       "  '$66.50'],\n",
       " ['16',\n",
       "  '300-12',\n",
       "  '400 Series Double-Hung Bay\\rOverall Joined Rough Opening = 79 1/8\" x 70 3/4\"\\rOverall Joined Unit = 80 7/16\" x 70 1/4\"\\rDimensional Entry Type = Standard Sizes (By Center\\rWidth)\\rInstallation Zip Code = 55082\\rU.S. ENERGY STAR® Climate Zone = Northern\\rSearch by Unit Code = No\\rUnit 1, 3: Frame Width = 21 5/8\\rUnit 1, 3: Frame Height = 68 7/8\\rUnit 2: Frame Width = 41 5/8\\rUnit 2: Frame Height = 68 7/8\\rUnit Code = TW45-3456-18\\rCombination Operation / Venting = Active (All)\\rVenting / Handing = AA\\rExterior Color = Dark Bronze\\rExterior Sash/Panel Color = Dark Bronze\\rInterior Species = Pine\\rInterior Finish Color = White - Painted\\rJamb Liner Color = White\\rGlass Construction Type = Dual Pane\\rGlass Option = Low-E4\\rHigh Altitude Breather Tubes = No\\rGlass Strength = Tempered\\rSpecialty Glass = Reed Vertical\\rGas Fill = Argon\\rNone\\rDP/PG Upgrade = No\\rSash Lift Type = Hand Lift\\rSash Lift Style = Traditional\\rSash Lift Color/Finish = Antique Brass\\rLock Hardware Style = Traditional\\rNumber of Sash Locks = 1\\rLock Hardware Color/Finish = White (Factory Applied)\\rWindow Opening Control Device = No\\rSecurity Sensor Type = None\\rInsect Screen Type = Half Screen\\rInsect Screen Material = TruScene\\rInsect Screen Color = Sandtone\\rBay/Bow Option Type = Standard\\rBay/Bow/Box Extension Jamb Color = White - Painted\\rHead and Seat Board Species = Pine\\rHead and Seat Board Finish Color = White - Painted\\rOverall Wall Depth = 6 9/16\"\\rPlatform Boards = Top and Bottom Platforms\\rAngle Bay/Bow Supports = w/Cable Support System\\rTop Auxiliary Casing = Top Auxiliary\\rAuxiliary Casing Colors = Dark Bronze\\rCasing Application Location = Shipped Loose\\rTrim Board = Fibrex Cellular Trim Board\\rInstallation Material Options = No\\rRe-Order Item = No\\rRoom Location = None\\rUnit 1, 3: Unit U-Factor = ---\\rUnit 1, 3: Unit Solar Heat Gain Coefficient (SHGC) = ---',\n",
       "  '1',\n",
       "  '$499.60',\n",
       "  '$499.60'],\n",
       " ['17',\n",
       "  '300-13',\n",
       "  '400 Series Double-Hung Bay\\rOverall Joined Rough Opening = 79 1/8\" x 70 3/4\"\\rOverall Joined Unit = 80 7/16\" x 70 1/4\"\\rDimensional Entry Type = Standard Sizes (By Center\\rWidth)\\rInstallation Zip Code = 55082\\rU.S. ENERGY STAR® Climate Zone = Northern\\rSearch by Unit Code = No\\rUnit 1, 3: Frame Width = 21 5/8\\rUnit 1, 3: Frame Height = 68 7/8\\rUnit 2: Frame Width = 41 5/8\\rUnit 2: Frame Height = 68 7/8\\rUnit Code = TW45-3456-18\\rCombination Operation / Venting = Active (All)\\rVenting / Handing = AA\\rExterior Color = Dark Bronze\\rExterior Sash/Panel Color = Dark Bronze\\rInterior Species = Pine\\rInterior Finish Color = White - Painted\\rJamb Liner Color = White\\rGlass Construction Type = Dual Pane\\rGlass Option = Low-E4\\rHigh Altitude Breather Tubes = No\\rGlass Strength = Tempered\\rSpecialty Glass = Reed Vertical\\rGas Fill = Argon\\rNone\\rDP/PG Upgrade = No\\rSash Lift Type = Hand Lift\\rSash Lift Style = Traditional\\rSash Lift Color/Finish = Antique Brass\\rLock Hardware Style = Traditional\\rNumber of Sash Locks = 1\\rLock Hardware Color/Finish = White (Factory Applied)\\rWindow Opening Control Device = No\\rSecurity Sensor Type = None\\rInsect Screen Type = Half Screen\\rInsect Screen Material = TruScene\\rInsect Screen Color = Sandtone\\rBay/Bow Option Type = Standard\\rBay/Bow/Box Extension Jamb Color = White - Painted\\rHead and Seat Board Species = Pine\\rHead and Seat Board Finish Color = White - Painted\\rOverall Wall Depth = 6 9/16\"\\rPlatform Boards = Top and Bottom Platforms\\rAngle Bay/Bow Supports = w/Cable Support System\\rTop Auxiliary Casing = Top Auxiliary\\rAuxiliary Casing Colors = Dark Bronze\\rCasing Application Location = Shipped Loose\\rTrim Board = Fibrex Cellular Trim Board\\rInstallation Material Options = No\\rRe-Order Item = No\\rRoom Location = None\\rUnit 1, 3: Unit U-Factor = ---\\rUnit 1, 3: Unit Solar Heat Gain Coefficient (SHGC) = ---',\n",
       "  '1',\n",
       "  '$51.40',\n",
       "  '$51.40'],\n",
       " ['32',\n",
       "  '300-14',\n",
       "  '400 Series Double-Hung Bay\\rOverall Joined Rough Opening = 79 1/8\" x 70 3/4\"\\rOverall Joined Unit = 80 7/16\" x 70 1/4\"\\rDimensional Entry Type = Standard Sizes (By Center\\rWidth)\\rInstallation Zip Code = 55082\\rU.S. ENERGY STAR® Climate Zone = Northern\\rSearch by Unit Code = No\\rUnit 1, 3: Frame Width = 21 5/8\\rUnit 1, 3: Frame Height = 68 7/8\\rUnit 2: Frame Width = 41 5/8\\rUnit 2: Frame Height = 68 7/8\\rUnit Code = TW45-3456-18\\rCombination Operation / Venting = Active (All)\\rVenting / Handing = AA\\rExterior Color = Dark Bronze\\rExterior Sash/Panel Color = Dark Bronze\\rInterior Species = Pine\\rInterior Finish Color = White - Painted\\rJamb Liner Color = White\\rGlass Construction Type = Dual Pane\\rGlass Option = Low-E4\\rHigh Altitude Breather Tubes = No\\rGlass Strength = Tempered\\rSpecialty Glass = Reed Vertical\\rGas Fill = Argon\\rNone\\rDP/PG Upgrade = No\\rSash Lift Type = Hand Lift\\rSash Lift Style = Traditional\\rSash Lift Color/Finish = Antique Brass\\rLock Hardware Style = Traditional\\rNumber of Sash Locks = 1\\rLock Hardware Color/Finish = White (Factory Applied)\\rWindow Opening Control Device = No\\rSecurity Sensor Type = None\\rInsect Screen Type = Half Screen\\rInsect Screen Material = TruScene\\rInsect Screen Color = Sandtone\\rBay/Bow Option Type = Standard\\rBay/Bow/Box Extension Jamb Color = White - Painted\\rHead and Seat Board Species = Pine\\rHead and Seat Board Finish Color = White - Painted\\rOverall Wall Depth = 6 9/16\"\\rPlatform Boards = Top and Bottom Platforms\\rAngle Bay/Bow Supports = w/Cable Support System\\rTop Auxiliary Casing = Top Auxiliary\\rAuxiliary Casing Colors = Dark Bronze\\rCasing Application Location = Shipped Loose\\rTrim Board = Fibrex Cellular Trim Board\\rInstallation Material Options = No\\rRe-Order Item = No\\rRoom Location = None\\rUnit 1, 3: Unit U-Factor = ---\\rUnit 1, 3: Unit Solar Heat Gain Coefficient (SHGC) = ---',\n",
       "  '1',\n",
       "  '$95.00',\n",
       "  '$95.00'],\n",
       " ['33',\n",
       "  '300-15',\n",
       "  '400 Series Double-Hung Bay\\rOverall Joined Rough Opening = 79 1/8\" x 70 3/4\"\\rOverall Joined Unit = 80 7/16\" x 70 1/4\"\\rDimensional Entry Type = Standard Sizes (By Center\\rWidth)\\rInstallation Zip Code = 55082\\rU.S. ENERGY STAR® Climate Zone = Northern\\rSearch by Unit Code = No\\rUnit 1, 3: Frame Width = 21 5/8\\rUnit 1, 3: Frame Height = 68 7/8\\rUnit 2: Frame Width = 41 5/8\\rUnit 2: Frame Height = 68 7/8\\rUnit Code = TW45-3456-18\\rCombination Operation / Venting = Active (All)\\rVenting / Handing = AA\\rExterior Color = Dark Bronze\\rExterior Sash/Panel Color = Dark Bronze\\rInterior Species = Pine\\rInterior Finish Color = White - Painted\\rJamb Liner Color = White\\rGlass Construction Type = Dual Pane\\rGlass Option = Low-E4\\rHigh Altitude Breather Tubes = No\\rGlass Strength = Tempered\\rSpecialty Glass = Reed Vertical\\rGas Fill = Argon\\rNone\\rDP/PG Upgrade = No\\rSash Lift Type = Hand Lift\\rSash Lift Style = Traditional\\rSash Lift Color/Finish = Antique Brass\\rLock Hardware Style = Traditional\\rNumber of Sash Locks = 1\\rLock Hardware Color/Finish = White (Factory Applied)\\rWindow Opening Control Device = No\\rSecurity Sensor Type = None\\rInsect Screen Type = Half Screen\\rInsect Screen Material = TruScene\\rInsect Screen Color = Sandtone\\rBay/Bow Option Type = Standard\\rBay/Bow/Box Extension Jamb Color = White - Painted\\rHead and Seat Board Species = Pine\\rHead and Seat Board Finish Color = White - Painted\\rOverall Wall Depth = 6 9/16\"\\rPlatform Boards = Top and Bottom Platforms\\rAngle Bay/Bow Supports = w/Cable Support System\\rTop Auxiliary Casing = Top Auxiliary\\rAuxiliary Casing Colors = Dark Bronze\\rCasing Application Location = Shipped Loose\\rTrim Board = Fibrex Cellular Trim Board\\rInstallation Material Options = No\\rRe-Order Item = No\\rRoom Location = None\\rUnit 1, 3: Unit U-Factor = ---\\rUnit 1, 3: Unit Solar Heat Gain Coefficient (SHGC) = ---',\n",
       "  '1',\n",
       "  '$135.80',\n",
       "  '$135.80'],\n",
       " ['18',\n",
       "  '400-1',\n",
       "  '400 Series Casement Bow\\rOverall Joined Rough Opening = 120 3/8\" x 73 7/8\"\\rOverall Joined Unit = 120 3/4\" x 73 3/8\"\\rDimensional Entry Type = Overall Width, Angle\\rInstallation Zip Code = 55082\\rU.S. ENERGY STAR® Climate Zone = Northern\\rSearch by Unit Code = No\\rFrame Width = 24 1/8\\rFrame Height = 71 7/8\\rUnit 1, 2, 4, 5: Unit Code = C56-BOW\\rUnit 1, 2, 4, 5: Combination Operation / Venting =\\rStationary-Stationary-Left-Stationary-Stationary\\rUnit 1, 2, 4, 5: Venting / Handing = Stationary\\rUnit 3: Unit Code = C56-BOW\\rUnit 3: Combination Operation / Venting =\\rStationary-Stationary-Left-Stationary-Stationary\\rUnit 3: Venting / Handing = Left\\rUnit 3: Hinge Style = Hinge with Wash Mode\\rExterior Color = White\\rExterior Sash/Panel Color = White\\rInterior Species = Pine\\rInterior Finish Color = White - Vinyl Wrapped\\rGlass Construction Type = Dual Pane\\rGlass Option = Low-E4 SmartSun\\rHigh Altitude Breather Tubes = No\\rGlass Strength = Tempered\\rGlass Tint = No Tint\\rSpecialty Glass = Fern\\rGas Fill = Argon\\rArt Glass Series = None\\rRemovable Interior Grille\\rColonial\\rGrille Pattern = Colonial\\rGrille Bar Width = 7/8\"\\rExterior Grille Color = White\\rInterior Grille Species = Maple\\rInterior Grille Color = White\\r2W6H\\rGrille Alignment Type = Standard Grille Alignment\\rDP/PG Upgrade = No\\rHardware Style = Contemporary Folding\\rHardware Color/Finish = Bright Brass\\rCorrosion Resistant Hardware = None\\rWindow Opening Control Device = No\\rSecurity Sensor Type = None\\rInsect Screen Type = Full Screen\\rInsect Screen Material = Aluminum\\rInsect Screen Color = White\\rBay/Bow Option Type = Walkout\\rBay/Bow/Box Extension Jamb Color = White - Painted\\rHead and Seat Board Species = Pine\\rHead and Seat Board Finish Color = White - Painted\\rOverall Wall Depth = 5 1/4\"\\rPlatform Boards = Top and Bottom Platforms\\rAngle Bay/Bow Supports = w/Cable Support System',\n",
       "  '1',\n",
       "  '$6,801.00',\n",
       "  '$6,801.00'],\n",
       " ['19',\n",
       "  '400-2',\n",
       "  '400 Series Casement Bow $75.60\\rOverall Joined Rough Opening = 120 3/8\" x 73 7/8\"\\rOverall Joined Unit = 120 3/4\" x 73 3/8\"\\rDimensional Entry Type = Overall Width, Angle\\rInstallation Zip Code = 55082\\rU.S. ENERGY STAR® Climate Zone = Northern\\rSearch by Unit Code = No\\rFrame Width = 24 1/8\\rFrame Height = 71 7/8\\rUnit 1, 2, 4, 5: Unit Code = C56-BOW\\rUnit 1, 2, 4, 5: Combination Operation / Venting =\\rStationary-Stationary-Left-Stationary-Stationary\\rUnit 1, 2, 4, 5: Venting / Handing = Stationary\\rUnit 3: Unit Code = C56-BOW\\rUnit 3: Combination Operation / Venting =\\rStationary-Stationary-Left-Stationary-Stationary\\rUnit 3: Venting / Handing = Left\\rUnit 3: Hinge Style = Hinge with Wash Mode\\rExterior Color = White\\rExterior Sash/Panel Color = White\\rInterior Species = Pine\\rInterior Finish Color = White - Vinyl Wrapped\\rGlass Construction Type = Dual Pane\\rGlass Option = Low-E4 SmartSun\\rHigh Altitude Breather Tubes = No\\rGlass Strength = Tempered\\rGlass Tint = No Tint\\rSpecialty Glass = Fern\\rGas Fill = Argon\\rArt Glass Series = None\\rRemovable Interior Grille\\rColonial\\rGrille Pattern = Colonial\\rGrille Bar Width = 7/8\"\\rExterior Grille Color = White\\rInterior Grille Species = Maple\\rInterior Grille Color = White\\r2W6H\\rGrille Alignment Type = Standard Grille Alignment\\rDP/PG Upgrade = No\\rHardware Style = Contemporary Folding\\rHardware Color/Finish = Bright Brass\\rCorrosion Resistant Hardware = None\\rWindow Opening Control Device = No\\rSecurity Sensor Type = None\\rInsect Screen Type = Full Screen\\rInsect Screen Material = Aluminum\\rInsect Screen Color = White\\rBay/Bow Option Type = Walkout\\rBay/Bow/Box Extension Jamb Color = White - Painted\\rHead and Seat Board Species = Pine\\rHead and Seat Board Finish Color = White - Painted\\rOverall Wall Depth = 5 1/4\"\\rPlatform Boards = Top and Bottom Platforms\\rAngle Bay/Bow Supports = w/Cable Support System',\n",
       "  '1',\n",
       "  '$75.60',\n",
       "  '$75.60'],\n",
       " ['20',\n",
       "  '400-3',\n",
       "  '400 Series Casement Bow\\rOverall Joined Rough Opening = 120 3/8\" x 73 7/8\"\\rOverall Joined Unit = 120 3/4\" x 73 3/8\"\\rDimensional Entry Type = Overall Width, Angle\\rInstallation Zip Code = 55082\\rU.S. ENERGY STAR® Climate Zone = Northern\\rSearch by Unit Code = No\\rFrame Width = 24 1/8\\rFrame Height = 71 7/8\\rUnit 1, 2, 4, 5: Unit Code = C56-BOW\\rUnit 1, 2, 4, 5: Combination Operation / Venting =\\rStationary-Stationary-Left-Stationary-Stationary\\rUnit 1, 2, 4, 5: Venting / Handing = Stationary\\rUnit 3: Unit Code = C56-BOW\\rUnit 3: Combination Operation / Venting =\\rStationary-Stationary-Left-Stationary-Stationary\\rUnit 3: Venting / Handing = Left\\rUnit 3: Hinge Style = Hinge with Wash Mode\\rExterior Color = White\\rExterior Sash/Panel Color = White\\rInterior Species = Pine\\rInterior Finish Color = White - Vinyl Wrapped\\rGlass Construction Type = Dual Pane\\rGlass Option = Low-E4 SmartSun\\rHigh Altitude Breather Tubes = No\\rGlass Strength = Tempered\\rGlass Tint = No Tint\\rSpecialty Glass = Fern\\rGas Fill = Argon\\rArt Glass Series = None\\rRemovable Interior Grille\\rColonial\\rGrille Pattern = Colonial\\rGrille Bar Width = 7/8\"\\rExterior Grille Color = White\\rInterior Grille Species = Maple\\rInterior Grille Color = White\\r2W6H\\rGrille Alignment Type = Standard Grille Alignment\\rDP/PG Upgrade = No\\rHardware Style = Contemporary Folding\\rHardware Color/Finish = Bright Brass\\rCorrosion Resistant Hardware = None\\rWindow Opening Control Device = No\\rSecurity Sensor Type = None\\rInsect Screen Type = Full Screen\\rInsect Screen Material = Aluminum\\rInsect Screen Color = White\\rBay/Bow Option Type = Walkout\\rBay/Bow/Box Extension Jamb Color = White - Painted\\rHead and Seat Board Species = Pine\\rHead and Seat Board Finish Color = White - Painted\\rOverall Wall Depth = 5 1/4\"\\rPlatform Boards = Top and Bottom Platforms\\rAngle Bay/Bow Supports = w/Cable Support System',\n",
       "  '1',\n",
       "  '$75.60',\n",
       "  '$75.60'],\n",
       " ['21',\n",
       "  '400-4',\n",
       "  '400 Series Casement Bow\\rOverall Joined Rough Opening = 120 3/8\" x 73 7/8\"\\rOverall Joined Unit = 120 3/4\" x 73 3/8\"\\rDimensional Entry Type = Overall Width, Angle\\rInstallation Zip Code = 55082\\rU.S. ENERGY STAR® Climate Zone = Northern\\rSearch by Unit Code = No\\rFrame Width = 24 1/8\\rFrame Height = 71 7/8\\rUnit 1, 2, 4, 5: Unit Code = C56-BOW\\rUnit 1, 2, 4, 5: Combination Operation / Venting =\\rStationary-Stationary-Left-Stationary-Stationary\\rUnit 1, 2, 4, 5: Venting / Handing = Stationary\\rUnit 3: Unit Code = C56-BOW\\rUnit 3: Combination Operation / Venting =\\rStationary-Stationary-Left-Stationary-Stationary\\rUnit 3: Venting / Handing = Left\\rUnit 3: Hinge Style = Hinge with Wash Mode\\rExterior Color = White\\rExterior Sash/Panel Color = White\\rInterior Species = Pine\\rInterior Finish Color = White - Vinyl Wrapped\\rGlass Construction Type = Dual Pane\\rGlass Option = Low-E4 SmartSun\\rHigh Altitude Breather Tubes = No\\rGlass Strength = Tempered\\rGlass Tint = No Tint\\rSpecialty Glass = Fern\\rGas Fill = Argon\\rArt Glass Series = None\\rRemovable Interior Grille\\rColonial\\rGrille Pattern = Colonial\\rGrille Bar Width = 7/8\"\\rExterior Grille Color = White\\rInterior Grille Species = Maple\\rInterior Grille Color = White\\r2W6H\\rGrille Alignment Type = Standard Grille Alignment\\rDP/PG Upgrade = No\\rHardware Style = Contemporary Folding\\rHardware Color/Finish = Bright Brass\\rCorrosion Resistant Hardware = None\\rWindow Opening Control Device = No\\rSecurity Sensor Type = None\\rInsect Screen Type = Full Screen\\rInsect Screen Material = Aluminum\\rInsect Screen Color = White\\rBay/Bow Option Type = Walkout\\rBay/Bow/Box Extension Jamb Color = White - Painted\\rHead and Seat Board Species = Pine\\rHead and Seat Board Finish Color = White - Painted\\rOverall Wall Depth = 5 1/4\"\\rPlatform Boards = Top and Bottom Platforms\\rAngle Bay/Bow Supports = w/Cable Support System',\n",
       "  '1',\n",
       "  '$76.70',\n",
       "  '$76.70'],\n",
       " ['22',\n",
       "  '400-5',\n",
       "  '400 Series Casement Bow\\rOverall Joined Rough Opening = 120 3/8\" x 73 7/8\"\\rOverall Joined Unit = 120 3/4\" x 73 3/8\"\\rDimensional Entry Type = Overall Width, Angle\\rInstallation Zip Code = 55082\\rU.S. ENERGY STAR® Climate Zone = Northern\\rSearch by Unit Code = No\\rFrame Width = 24 1/8\\rFrame Height = 71 7/8\\rUnit 1, 2, 4, 5: Unit Code = C56-BOW\\rUnit 1, 2, 4, 5: Combination Operation / Venting =\\rStationary-Stationary-Left-Stationary-Stationary\\rUnit 1, 2, 4, 5: Venting / Handing = Stationary\\rUnit 3: Unit Code = C56-BOW\\rUnit 3: Combination Operation / Venting =\\rStationary-Stationary-Left-Stationary-Stationary\\rUnit 3: Venting / Handing = Left\\rUnit 3: Hinge Style = Hinge with Wash Mode\\rExterior Color = White\\rExterior Sash/Panel Color = White\\rInterior Species = Pine\\rInterior Finish Color = White - Vinyl Wrapped\\rGlass Construction Type = Dual Pane\\rGlass Option = Low-E4 SmartSun\\rHigh Altitude Breather Tubes = No\\rGlass Strength = Tempered\\rGlass Tint = No Tint\\rSpecialty Glass = Fern\\rGas Fill = Argon\\rArt Glass Series = None\\rRemovable Interior Grille\\rColonial\\rGrille Pattern = Colonial\\rGrille Bar Width = 7/8\"\\rExterior Grille Color = White\\rInterior Grille Species = Maple\\rInterior Grille Color = White\\r2W6H\\rGrille Alignment Type = Standard Grille Alignment\\rDP/PG Upgrade = No\\rHardware Style = Contemporary Folding\\rHardware Color/Finish = Bright Brass\\rCorrosion Resistant Hardware = None\\rWindow Opening Control Device = No\\rSecurity Sensor Type = None\\rInsect Screen Type = Full Screen\\rInsect Screen Material = Aluminum\\rInsect Screen Color = White\\rBay/Bow Option Type = Walkout\\rBay/Bow/Box Extension Jamb Color = White - Painted\\rHead and Seat Board Species = Pine\\rHead and Seat Board Finish Color = White - Painted\\rOverall Wall Depth = 5 1/4\"\\rPlatform Boards = Top and Bottom Platforms\\rAngle Bay/Bow Supports = w/Cable Support System',\n",
       "  '1',\n",
       "  '$51.60',\n",
       "  '$51.60'],\n",
       " ['23',\n",
       "  '400-6',\n",
       "  '400 Series Casement Bow\\rOverall Joined Rough Opening = 120 3/8\" x 73 7/8\"\\rOverall Joined Unit = 120 3/4\" x 73 3/8\"\\rDimensional Entry Type = Overall Width, Angle\\rInstallation Zip Code = 55082\\rU.S. ENERGY STAR® Climate Zone = Northern\\rSearch by Unit Code = No\\rFrame Width = 24 1/8\\rFrame Height = 71 7/8\\rUnit 1, 2, 4, 5: Unit Code = C56-BOW\\rUnit 1, 2, 4, 5: Combination Operation / Venting =\\rStationary-Stationary-Left-Stationary-Stationary\\rUnit 1, 2, 4, 5: Venting / Handing = Stationary\\rUnit 3: Unit Code = C56-BOW\\rUnit 3: Combination Operation / Venting =\\rStationary-Stationary-Left-Stationary-Stationary\\rUnit 3: Venting / Handing = Left\\rUnit 3: Hinge Style = Hinge with Wash Mode\\rExterior Color = White\\rExterior Sash/Panel Color = White\\rInterior Species = Pine\\rInterior Finish Color = White - Vinyl Wrapped\\rGlass Construction Type = Dual Pane\\rGlass Option = Low-E4 SmartSun\\rHigh Altitude Breather Tubes = No\\rGlass Strength = Tempered\\rGlass Tint = No Tint\\rSpecialty Glass = Fern\\rGas Fill = Argon\\rArt Glass Series = None\\rRemovable Interior Grille\\rColonial\\rGrille Pattern = Colonial\\rGrille Bar Width = 7/8\"\\rExterior Grille Color = White\\rInterior Grille Species = Maple\\rInterior Grille Color = White\\r2W6H\\rGrille Alignment Type = Standard Grille Alignment\\rDP/PG Upgrade = No\\rHardware Style = Contemporary Folding\\rHardware Color/Finish = Bright Brass\\rCorrosion Resistant Hardware = None\\rWindow Opening Control Device = No\\rSecurity Sensor Type = None\\rInsect Screen Type = Full Screen\\rInsect Screen Material = Aluminum\\rInsect Screen Color = White\\rBay/Bow Option Type = Walkout\\rBay/Bow/Box Extension Jamb Color = White - Painted\\rHead and Seat Board Species = Pine\\rHead and Seat Board Finish Color = White - Painted\\rOverall Wall Depth = 5 1/4\"\\rPlatform Boards = Top and Bottom Platforms\\rAngle Bay/Bow Supports = w/Cable Support System',\n",
       "  nan,\n",
       "  '$75.60',\n",
       "  '$75.60'],\n",
       " ['24',\n",
       "  '400-7',\n",
       "  '400 Series Casement Bow\\rOverall Joined Rough Opening = 120 3/8\" x 73 7/8\"\\rOverall Joined Unit = 120 3/4\" x 73 3/8\"\\rDimensional Entry Type = Overall Width, Angle\\rInstallation Zip Code = 55082\\rU.S. ENERGY STAR® Climate Zone = Northern\\rSearch by Unit Code = No\\rFrame Width = 24 1/8\\rFrame Height = 71 7/8\\rUnit 1, 2, 4, 5: Unit Code = C56-BOW\\rUnit 1, 2, 4, 5: Combination Operation / Venting =\\rStationary-Stationary-Left-Stationary-Stationary\\rUnit 1, 2, 4, 5: Venting / Handing = Stationary\\rUnit 3: Unit Code = C56-BOW\\rUnit 3: Combination Operation / Venting =\\rStationary-Stationary-Left-Stationary-Stationary\\rUnit 3: Venting / Handing = Left\\rUnit 3: Hinge Style = Hinge with Wash Mode\\rExterior Color = White\\rExterior Sash/Panel Color = White\\rInterior Species = Pine\\rInterior Finish Color = White - Vinyl Wrapped\\rGlass Construction Type = Dual Pane\\rGlass Option = Low-E4 SmartSun\\rHigh Altitude Breather Tubes = No\\rGlass Strength = Tempered\\rGlass Tint = No Tint\\rSpecialty Glass = Fern\\rGas Fill = Argon\\rArt Glass Series = None\\rRemovable Interior Grille\\rColonial\\rGrille Pattern = Colonial\\rGrille Bar Width = 7/8\"\\rExterior Grille Color = White\\rInterior Grille Species = Maple\\rInterior Grille Color = White\\r2W6H\\rGrille Alignment Type = Standard Grille Alignment\\rDP/PG Upgrade = No\\rHardware Style = Contemporary Folding\\rHardware Color/Finish = Bright Brass\\rCorrosion Resistant Hardware = None\\rWindow Opening Control Device = No\\rSecurity Sensor Type = None\\rInsect Screen Type = Full Screen\\rInsect Screen Material = Aluminum\\rInsect Screen Color = White\\rBay/Bow Option Type = Walkout\\rBay/Bow/Box Extension Jamb Color = White - Painted\\rHead and Seat Board Species = Pine\\rHead and Seat Board Finish Color = White - Painted\\rOverall Wall Depth = 5 1/4\"\\rPlatform Boards = Top and Bottom Platforms\\rAngle Bay/Bow Supports = w/Cable Support System',\n",
       "  '1',\n",
       "  '$75.60',\n",
       "  '$75.60'],\n",
       " ['25',\n",
       "  '400-8',\n",
       "  '400 Series Casement Bow\\rOverall Joined Rough Opening = 120 3/8\" x 73 7/8\"\\rOverall Joined Unit = 120 3/4\" x 73 3/8\"\\rDimensional Entry Type = Overall Width, Angle\\rInstallation Zip Code = 55082\\rU.S. ENERGY STAR® Climate Zone = Northern\\rSearch by Unit Code = No\\rFrame Width = 24 1/8\\rFrame Height = 71 7/8\\rUnit 1, 2, 4, 5: Unit Code = C56-BOW\\rUnit 1, 2, 4, 5: Combination Operation / Venting =\\rStationary-Stationary-Left-Stationary-Stationary\\rUnit 1, 2, 4, 5: Venting / Handing = Stationary\\rUnit 3: Unit Code = C56-BOW\\rUnit 3: Combination Operation / Venting =\\rStationary-Stationary-Left-Stationary-Stationary\\rUnit 3: Venting / Handing = Left\\rUnit 3: Hinge Style = Hinge with Wash Mode\\rExterior Color = White\\rExterior Sash/Panel Color = White\\rInterior Species = Pine\\rInterior Finish Color = White - Vinyl Wrapped\\rGlass Construction Type = Dual Pane\\rGlass Option = Low-E4 SmartSun\\rHigh Altitude Breather Tubes = No\\rGlass Strength = Tempered\\rGlass Tint = No Tint\\rSpecialty Glass = Fern\\rGas Fill = Argon\\rArt Glass Series = None\\rRemovable Interior Grille\\rColonial\\rGrille Pattern = Colonial\\rGrille Bar Width = 7/8\"\\rExterior Grille Color = White\\rInterior Grille Species = Maple\\rInterior Grille Color = White\\r2W6H\\rGrille Alignment Type = Standard Grille Alignment\\rDP/PG Upgrade = No\\rHardware Style = Contemporary Folding\\rHardware Color/Finish = Bright Brass\\rCorrosion Resistant Hardware = None\\rWindow Opening Control Device = No\\rSecurity Sensor Type = None\\rInsect Screen Type = Full Screen\\rInsect Screen Material = Aluminum\\rInsect Screen Color = White\\rBay/Bow Option Type = Walkout\\rBay/Bow/Box Extension Jamb Color = White - Painted\\rHead and Seat Board Species = Pine\\rHead and Seat Board Finish Color = White - Painted\\rOverall Wall Depth = 5 1/4\"\\rPlatform Boards = Top and Bottom Platforms\\rAngle Bay/Bow Supports = w/Cable Support System',\n",
       "  '1',\n",
       "  '$75.60',\n",
       "  '$75.60'],\n",
       " ['26',\n",
       "  '400-9',\n",
       "  '400 Series Casement Bow\\rOverall Joined Rough Opening = 120 3/8\" x 73 7/8\"\\rOverall Joined Unit = 120 3/4\" x 73 3/8\"\\rDimensional Entry Type = Overall Width, Angle\\rInstallation Zip Code = 55082\\rU.S. ENERGY STAR® Climate Zone = Northern\\rSearch by Unit Code = No\\rFrame Width = 24 1/8\\rFrame Height = 71 7/8\\rUnit 1, 2, 4, 5: Unit Code = C56-BOW\\rUnit 1, 2, 4, 5: Combination Operation / Venting =\\rStationary-Stationary-Left-Stationary-Stationary\\rUnit 1, 2, 4, 5: Venting / Handing = Stationary\\rUnit 3: Unit Code = C56-BOW\\rUnit 3: Combination Operation / Venting =\\rStationary-Stationary-Left-Stationary-Stationary\\rUnit 3: Venting / Handing = Left\\rUnit 3: Hinge Style = Hinge with Wash Mode\\rExterior Color = White\\rExterior Sash/Panel Color = White\\rInterior Species = Pine\\rInterior Finish Color = White - Vinyl Wrapped\\rGlass Construction Type = Dual Pane\\rGlass Option = Low-E4 SmartSun\\rHigh Altitude Breather Tubes = No\\rGlass Strength = Tempered\\rGlass Tint = No Tint\\rSpecialty Glass = Fern\\rGas Fill = Argon\\rArt Glass Series = None\\rRemovable Interior Grille\\rColonial\\rGrille Pattern = Colonial\\rGrille Bar Width = 7/8\"\\rExterior Grille Color = White\\rInterior Grille Species = Maple\\rInterior Grille Color = White\\r2W6H\\rGrille Alignment Type = Standard Grille Alignment\\rDP/PG Upgrade = No\\rHardware Style = Contemporary Folding\\rHardware Color/Finish = Bright Brass\\rCorrosion Resistant Hardware = None\\rWindow Opening Control Device = No\\rSecurity Sensor Type = None\\rInsect Screen Type = Full Screen\\rInsect Screen Material = Aluminum\\rInsect Screen Color = White\\rBay/Bow Option Type = Walkout\\rBay/Bow/Box Extension Jamb Color = White - Painted\\rHead and Seat Board Species = Pine\\rHead and Seat Board Finish Color = White - Painted\\rOverall Wall Depth = 5 1/4\"\\rPlatform Boards = Top and Bottom Platforms\\rAngle Bay/Bow Supports = w/Cable Support System',\n",
       "  '1',\n",
       "  '$89.40',\n",
       "  '$89.40'],\n",
       " ['27',\n",
       "  '400-10',\n",
       "  '400 Series Casement Bow\\rOverall Joined Rough Opening = 120 3/8\" x 73 7/8\"\\rOverall Joined Unit = 120 3/4\" x 73 3/8\"\\rDimensional Entry Type = Overall Width, Angle\\rInstallation Zip Code = 55082\\rU.S. ENERGY STAR® Climate Zone = Northern\\rSearch by Unit Code = No\\rFrame Width = 24 1/8\\rFrame Height = 71 7/8\\rUnit 1, 2, 4, 5: Unit Code = C56-BOW\\rUnit 1, 2, 4, 5: Combination Operation / Venting =\\rStationary-Stationary-Left-Stationary-Stationary\\rUnit 1, 2, 4, 5: Venting / Handing = Stationary\\rUnit 3: Unit Code = C56-BOW\\rUnit 3: Combination Operation / Venting =\\rStationary-Stationary-Left-Stationary-Stationary\\rUnit 3: Venting / Handing = Left\\rUnit 3: Hinge Style = Hinge with Wash Mode\\rExterior Color = White\\rExterior Sash/Panel Color = White\\rInterior Species = Pine\\rInterior Finish Color = White - Vinyl Wrapped\\rGlass Construction Type = Dual Pane\\rGlass Option = Low-E4 SmartSun\\rHigh Altitude Breather Tubes = No\\rGlass Strength = Tempered\\rGlass Tint = No Tint\\rSpecialty Glass = Fern\\rGas Fill = Argon\\rArt Glass Series = None\\rRemovable Interior Grille\\rColonial\\rGrille Pattern = Colonial\\rGrille Bar Width = 7/8\"\\rExterior Grille Color = White\\rInterior Grille Species = Maple\\rInterior Grille Color = White\\r2W6H\\rGrille Alignment Type = Standard Grille Alignment\\rDP/PG Upgrade = No\\rHardware Style = Contemporary Folding\\rHardware Color/Finish = Bright Brass\\rCorrosion Resistant Hardware = None\\rWindow Opening Control Device = No\\rSecurity Sensor Type = None\\rInsect Screen Type = Full Screen\\rInsect Screen Material = Aluminum\\rInsect Screen Color = White\\rBay/Bow Option Type = Walkout\\rBay/Bow/Box Extension Jamb Color = White - Painted\\rHead and Seat Board Species = Pine\\rHead and Seat Board Finish Color = White - Painted\\rOverall Wall Depth = 5 1/4\"\\rPlatform Boards = Top and Bottom Platforms\\rAngle Bay/Bow Supports = w/Cable Support System',\n",
       "  '1',\n",
       "  '$303.50',\n",
       "  '$303.50'],\n",
       " ['28',\n",
       "  '400-11',\n",
       "  '400 Series Casement Bow\\rOverall Joined Rough Opening = 120 3/8\" x 73 7/8\"\\rOverall Joined Unit = 120 3/4\" x 73 3/8\"\\rDimensional Entry Type = Overall Width, Angle\\rInstallation Zip Code = 55082\\rU.S. ENERGY STAR® Climate Zone = Northern\\rSearch by Unit Code = No\\rFrame Width = 24 1/8\\rFrame Height = 71 7/8\\rUnit 1, 2, 4, 5: Unit Code = C56-BOW\\rUnit 1, 2, 4, 5: Combination Operation / Venting =\\rStationary-Stationary-Left-Stationary-Stationary\\rUnit 1, 2, 4, 5: Venting / Handing = Stationary\\rUnit 3: Unit Code = C56-BOW\\rUnit 3: Combination Operation / Venting =\\rStationary-Stationary-Left-Stationary-Stationary\\rUnit 3: Venting / Handing = Left\\rUnit 3: Hinge Style = Hinge with Wash Mode\\rExterior Color = White\\rExterior Sash/Panel Color = White\\rInterior Species = Pine\\rInterior Finish Color = White - Vinyl Wrapped\\rGlass Construction Type = Dual Pane\\rGlass Option = Low-E4 SmartSun\\rHigh Altitude Breather Tubes = No\\rGlass Strength = Tempered\\rGlass Tint = No Tint\\rSpecialty Glass = Fern\\rGas Fill = Argon\\rArt Glass Series = None\\rRemovable Interior Grille\\rColonial\\rGrille Pattern = Colonial\\rGrille Bar Width = 7/8\"\\rExterior Grille Color = White\\rInterior Grille Species = Maple\\rInterior Grille Color = White\\r2W6H\\rGrille Alignment Type = Standard Grille Alignment\\rDP/PG Upgrade = No\\rHardware Style = Contemporary Folding\\rHardware Color/Finish = Bright Brass\\rCorrosion Resistant Hardware = None\\rWindow Opening Control Device = No\\rSecurity Sensor Type = None\\rInsect Screen Type = Full Screen\\rInsect Screen Material = Aluminum\\rInsect Screen Color = White\\rBay/Bow Option Type = Walkout\\rBay/Bow/Box Extension Jamb Color = White - Painted\\rHead and Seat Board Species = Pine\\rHead and Seat Board Finish Color = White - Painted\\rOverall Wall Depth = 5 1/4\"\\rPlatform Boards = Top and Bottom Platforms\\rAngle Bay/Bow Supports = w/Cable Support System',\n",
       "  '1',\n",
       "  '$51.40',\n",
       "  '$51.40'],\n",
       " ['29',\n",
       "  '400-12',\n",
       "  '400 Series Casement Bow\\rOverall Joined Rough Opening = 120 3/8\" x 73 7/8\"\\rOverall Joined Unit = 120 3/4\" x 73 3/8\"\\rDimensional Entry Type = Overall Width, Angle\\rInstallation Zip Code = 55082\\rU.S. ENERGY STAR® Climate Zone = Northern\\rSearch by Unit Code = No\\rFrame Width = 24 1/8\\rFrame Height = 71 7/8\\rUnit 1, 2, 4, 5: Unit Code = C56-BOW\\rUnit 1, 2, 4, 5: Combination Operation / Venting =\\rStationary-Stationary-Left-Stationary-Stationary\\rUnit 1, 2, 4, 5: Venting / Handing = Stationary\\rUnit 3: Unit Code = C56-BOW\\rUnit 3: Combination Operation / Venting =\\rStationary-Stationary-Left-Stationary-Stationary\\rUnit 3: Venting / Handing = Left\\rUnit 3: Hinge Style = Hinge with Wash Mode\\rExterior Color = White\\rExterior Sash/Panel Color = White\\rInterior Species = Pine\\rInterior Finish Color = White - Vinyl Wrapped\\rGlass Construction Type = Dual Pane\\rGlass Option = Low-E4 SmartSun\\rHigh Altitude Breather Tubes = No\\rGlass Strength = Tempered\\rGlass Tint = No Tint\\rSpecialty Glass = Fern\\rGas Fill = Argon\\rArt Glass Series = None\\rRemovable Interior Grille\\rColonial\\rGrille Pattern = Colonial\\rGrille Bar Width = 7/8\"\\rExterior Grille Color = White\\rInterior Grille Species = Maple\\rInterior Grille Color = White\\r2W6H\\rGrille Alignment Type = Standard Grille Alignment\\rDP/PG Upgrade = No\\rHardware Style = Contemporary Folding\\rHardware Color/Finish = Bright Brass\\rCorrosion Resistant Hardware = None\\rWindow Opening Control Device = No\\rSecurity Sensor Type = None\\rInsect Screen Type = Full Screen\\rInsect Screen Material = Aluminum\\rInsect Screen Color = White\\rBay/Bow Option Type = Walkout\\rBay/Bow/Box Extension Jamb Color = White - Painted\\rHead and Seat Board Species = Pine\\rHead and Seat Board Finish Color = White - Painted\\rOverall Wall Depth = 5 1/4\"\\rPlatform Boards = Top and Bottom Platforms\\rAngle Bay/Bow Supports = w/Cable Support System',\n",
       "  '1',\n",
       "  '$95.00',\n",
       "  '$95.00'],\n",
       " ['31',\n",
       "  '500-1',\n",
       "  '100 Series Single Casement-CW\\rParts and Accessory Group = Hardware Components\\rHardware Component Type = Handle\\rHardware Handing = Left\\rHardware Color/Finish = White\\rRe-Order Item = No\\rRoom Location = None\\rHardware Component Part Number = 9123321\\rSKU = 288537\\rVendor Name = S/O ANDERSEN LOGISTICS\\rVendor Number = 60509030\\rCustomer Service = (888) 888-7020\\rCatalog Version Date = 06/18/2019',\n",
       "  '1',\n",
       "  '$7.70',\n",
       "  '$7.70']]"
      ]
     },
     "execution_count": 34,
     "metadata": {},
     "output_type": "execute_result"
    }
   ],
   "source": [
    "da1"
   ]
  },
  {
   "cell_type": "code",
   "execution_count": 35,
   "metadata": {
    "collapsed": true
   },
   "outputs": [],
   "source": [
    "a=set(data['UID'])\n",
    "b=set(data1['UID'])"
   ]
  },
  {
   "cell_type": "code",
   "execution_count": 36,
   "metadata": {},
   "outputs": [
    {
     "data": {
      "text/plain": [
       "{'30'}"
      ]
     },
     "execution_count": 36,
     "metadata": {},
     "output_type": "execute_result"
    }
   ],
   "source": [
    "a-b"
   ]
  },
  {
   "cell_type": "code",
   "execution_count": 37,
   "metadata": {},
   "outputs": [
    {
     "data": {
      "text/plain": [
       "{'32', '33'}"
      ]
     },
     "execution_count": 37,
     "metadata": {},
     "output_type": "execute_result"
    }
   ],
   "source": [
    "b-a"
   ]
  },
  {
   "cell_type": "code",
   "execution_count": 38,
   "metadata": {},
   "outputs": [
    {
     "name": "stdout",
     "output_type": "stream",
     "text": [
      "[['1', '100-1', '400 Series Awning\\rOverall Joined Rough Opening = 99 1/4\" x 24 5/8\"\\rOverall Joined Unit = 98 3/4\" x 24 1/8\"\\rInstallation Zip Code = 55082\\rU.S. ENERGY STAR® Climate Zone = Northern\\rSearch by Unit Code = No\\rStandard Width = RO: 24 5/8\" | UNIT: 24 1/8\"\\rStandard Height = RO: 24 5/8\" | UNIT: 24 1/8\"\\rFrame Width = 24 1/8\\rFrame Height = 24 1/8\\rUnit Code = A21\\rFrame Option = Installation Flange\\rCombination Operation / Venting = Vent(All)\\rVenting / Handing = Vent\\rElectric Operator Prep = No\\rExterior Color = Sandtone\\rInterior Species = Pine\\rInterior Finish Color = Unfinished\\rGlass Construction Type = Dual Pane\\rGlass Option = Low-E4\\rHigh Altitude Breather Tubes = No\\rGlass Strength = Standard\\rGlass Tint = No Tint\\rSpecialty Glass = None\\rGas Fill = Argon\\rArt Glass Series = None\\rNone\\rDP/PG Upgrade = Yes\\rHardware Style = Classic Series\\rHardware Color/Finish = White\\rCorrosion Resistant Hardware = None\\rSecurity Sensor Type = None\\rInsect Screen Type = None\\rExterior Trim Style = 3 1/2\" Flat\\rExterior Trim Type = Sill Nose\\rExterior Trim Color = White\\rExterior Trim Sill Size = 1 3/4\"\\rExterior Trim Application Method = Pre-cut Trim Kit\\rExtension Jamb Type = None\\rInstallation Material Options = No\\rRe-Order Item = No\\rRoom Location = None\\rUnit U-Factor = 0.28\\rUnit Solar Heat Gain Coefficient (SHGC) = 0.31\\rU.S. ENERGY STAR Certified = No\\rHardware Part Number = 1521026\\rVertical\\rFactory\\r0.75\" thick, 24.125\" length\\rSKU = 289185\\rVendor Name = S/O ANDERSEN LOGISTICS\\rVendor Number = 60509030\\rCustomer Service = (888) 888-7020\\rCatalog Version Date = 03/26/2019', '1', '$2,299.30', '$2,299.30'], ['2', '100-2', '400 Series Awning\\rOverall Joined Rough Opening = 99 1/4\" x 24 5/8\"\\rOverall Joined Unit = 98 3/4\" x 24 1/8\"\\rInstallation Zip Code = 55082\\rU.S. ENERGY STAR® Climate Zone = Northern\\rSearch by Unit Code = No\\rStandard Width = RO: 24 5/8\" | UNIT: 24 1/8\"\\rStandard Height = RO: 24 5/8\" | UNIT: 24 1/8\"\\rFrame Width = 24 1/8\\rFrame Height = 24 1/8\\rUnit Code = A21\\rFrame Option = Installation Flange\\rCombination Operation / Venting = Vent(All)\\rVenting / Handing = Vent\\rElectric Operator Prep = No\\rExterior Color = Sandtone\\rInterior Species = Pine\\rInterior Finish Color = Unfinished\\rGlass Construction Type = Dual Pane\\rGlass Option = Low-E4\\rHigh Altitude Breather Tubes = No\\rGlass Strength = Standard\\rGlass Tint = No Tint\\rSpecialty Glass = None\\rGas Fill = Argon\\rArt Glass Series = None\\rNone\\rDP/PG Upgrade = Yes\\rHardware Style = Classic Series\\rHardware Color/Finish = White\\rCorrosion Resistant Hardware = None\\rSecurity Sensor Type = None\\rInsect Screen Type = None\\rExterior Trim Style = 3 1/2\" Flat\\rExterior Trim Type = Sill Nose\\rExterior Trim Color = White\\rExterior Trim Sill Size = 1 3/4\"\\rExterior Trim Application Method = Pre-cut Trim Kit\\rExtension Jamb Type = None\\rInstallation Material Options = No\\rRe-Order Item = No\\rRoom Location = None\\rUnit U-Factor = 0.28\\rUnit Solar Heat Gain Coefficient (SHGC) = 0.31\\rU.S. ENERGY STAR Certified = No\\rHardware Part Number = 1521026\\rVertical\\rFactory\\r0.75\" thick, 24.125\" length\\rSKU = 289185\\rVendor Name = S/O ANDERSEN LOGISTICS\\rVendor Number = 60509030\\rCustomer Service = (888) 888-7020\\rCatalog Version Date = 03/26/2019', '1', '$13.80', '$13.80'], ['3', '100-3', '400 Series Awning\\rOverall Joined Rough Opening = 99 1/4\" x 24 5/8\"\\rOverall Joined Unit = 98 3/4\" x 24 1/8\"\\rInstallation Zip Code = 55082\\rU.S. ENERGY STAR® Climate Zone = Northern\\rSearch by Unit Code = No\\rStandard Width = RO: 24 5/8\" | UNIT: 24 1/8\"\\rStandard Height = RO: 24 5/8\" | UNIT: 24 1/8\"\\rFrame Width = 24 1/8\\rFrame Height = 24 1/8\\rUnit Code = A21\\rFrame Option = Installation Flange\\rCombination Operation / Venting = Vent(All)\\rVenting / Handing = Vent\\rElectric Operator Prep = No\\rExterior Color = Sandtone\\rInterior Species = Pine\\rInterior Finish Color = Unfinished\\rGlass Construction Type = Dual Pane\\rGlass Option = Low-E4\\rHigh Altitude Breather Tubes = No\\rGlass Strength = Standard\\rGlass Tint = No Tint\\rSpecialty Glass = None\\rGas Fill = Argon\\rArt Glass Series = None\\rNone\\rDP/PG Upgrade = Yes\\rHardware Style = Classic Series\\rHardware Color/Finish = White\\rCorrosion Resistant Hardware = None\\rSecurity Sensor Type = None\\rInsect Screen Type = None\\rExterior Trim Style = 3 1/2\" Flat\\rExterior Trim Type = Sill Nose\\rExterior Trim Color = White\\rExterior Trim Sill Size = 1 3/4\"\\rExterior Trim Application Method = Pre-cut Trim Kit\\rExtension Jamb Type = None\\rInstallation Material Options = No\\rRe-Order Item = No\\rRoom Location = None\\rUnit U-Factor = 0.28\\rUnit Solar Heat Gain Coefficient (SHGC) = 0.31\\rU.S. ENERGY STAR Certified = No\\rHardware Part Number = 1521026\\rVertical\\rFactory\\r0.75\" thick, 24.125\" length\\rSKU = 289185\\rVendor Name = S/O ANDERSEN LOGISTICS\\rVendor Number = 60509030\\rCustomer Service = (888) 888-7020\\rCatalog Version Date = 03/26/2019', '1', '$13.80', '$13.80'], ['4', '100-4', '400 Series Awning $13.80\\rOverall Joined Rough Opening = 99 1/4\" x 24 5/8\"\\rOverall Joined Unit = 98 3/4\" x 24 1/8\"\\rInstallation Zip Code = 55082\\rU.S. ENERGY STAR® Climate Zone = Northern\\rSearch by Unit Code = No\\rStandard Width = RO: 24 5/8\" | UNIT: 24 1/8\"\\rStandard Height = RO: 24 5/8\" | UNIT: 24 1/8\"\\rFrame Width = 24 1/8\\rFrame Height = 24 1/8\\rUnit Code = A21\\rFrame Option = Installation Flange\\rCombination Operation / Venting = Vent(All)\\rVenting / Handing = Vent\\rElectric Operator Prep = No\\rExterior Color = Sandtone\\rInterior Species = Pine\\rInterior Finish Color = Unfinished\\rGlass Construction Type = Dual Pane\\rGlass Option = Low-E4\\rHigh Altitude Breather Tubes = No\\rGlass Strength = Standard\\rGlass Tint = No Tint\\rSpecialty Glass = None\\rGas Fill = Argon\\rArt Glass Series = None\\rNone\\rDP/PG Upgrade = Yes\\rHardware Style = Classic Series\\rHardware Color/Finish = White\\rCorrosion Resistant Hardware = None\\rSecurity Sensor Type = None\\rInsect Screen Type = None\\rExterior Trim Style = 3 1/2\" Flat\\rExterior Trim Type = Sill Nose\\rExterior Trim Color = White\\rExterior Trim Sill Size = 1 3/4\"\\rExterior Trim Application Method = Pre-cut Trim Kit\\rExtension Jamb Type = None\\rInstallation Material Options = No\\rRe-Order Item = No\\rRoom Location = None\\rUnit U-Factor = 0.28\\rUnit Solar Heat Gain Coefficient (SHGC) = 0.31\\rU.S. ENERGY STAR Certified = No\\rHardware Part Number = 1521026\\rVertical\\rFactory\\r0.75\" thick, 24.125\" length\\rSKU = 289185\\rVendor Name = S/O ANDERSEN LOGISTICS\\rVendor Number = 60509030\\rCustomer Service = (888) 888-7020\\rCatalog Version Date = 03/26/2019', '1', '$13.80', '$13.80'], ['5', '300-1', '400 Series Double-Hung Bay\\rOverall Joined Rough Opening = 79 1/8\" x 70 3/4\"\\rOverall Joined Unit = 80 7/16\" x 70 1/4\"\\rDimensional Entry Type = Standard Sizes (By Center\\rWidth)\\rInstallation Zip Code = 55082\\rU.S. ENERGY STAR® Climate Zone = Northern\\rSearch by Unit Code = No\\rUnit 1, 3: Frame Width = 21 5/8\\rUnit 1, 3: Frame Height = 68 7/8\\rUnit 2: Frame Width = 41 5/8\\rUnit 2: Frame Height = 68 7/8\\rUnit Code = TW45-3456-18\\rCombination Operation / Venting = Active (All)\\rVenting / Handing = AA\\rExterior Color = Dark Bronze\\rExterior Sash/Panel Color = Dark Bronze\\rInterior Species = Pine\\rInterior Finish Color = White - Painted\\rJamb Liner Color = White\\rGlass Construction Type = Dual Pane\\rGlass Option = Low-E4\\rHigh Altitude Breather Tubes = No\\rGlass Strength = Tempered\\rSpecialty Glass = Reed Vertical\\rGas Fill = Argon\\rNone\\rDP/PG Upgrade = No\\rSash Lift Type = Hand Lift\\rSash Lift Style = Traditional\\rSash Lift Color/Finish = Antique Brass\\rLock Hardware Style = Traditional\\rNumber of Sash Locks = 1\\rLock Hardware Color/Finish = White (Factory Applied)\\rWindow Opening Control Device = No\\rSecurity Sensor Type = None\\rInsect Screen Type = Half Screen\\rInsect Screen Material = TruScene\\rInsect Screen Color = Sandtone\\rBay/Bow Option Type = Standard\\rBay/Bow/Box Extension Jamb Color = White - Painted\\rHead and Seat Board Species = Pine\\rHead and Seat Board Finish Color = White - Painted\\rOverall Wall Depth = 6 9/16\"\\rPlatform Boards = Top and Bottom Platforms\\rAngle Bay/Bow Supports = w/Cable Support System\\rTop Auxiliary Casing = Top Auxiliary\\rAuxiliary Casing Colors = Dark Bronze\\rCasing Application Location = Shipped Loose\\rTrim Board = Fibrex Cellular Trim Board\\rInstallation Material Options = No\\rRe-Order Item = No\\rRoom Location = None\\rUnit 1, 3: Unit U-Factor = ---\\rUnit 1, 3: Unit Solar Heat Gain Coefficient (SHGC) = ---', '1', '$4,186.20', '$4,186.20'], ['6', '300-2', '400 Series Double-Hung Bay\\rOverall Joined Rough Opening = 79 1/8\" x 70 3/4\"\\rOverall Joined Unit = 80 7/16\" x 70 1/4\"\\rDimensional Entry Type = Standard Sizes (By Center\\rWidth)\\rInstallation Zip Code = 55082\\rU.S. ENERGY STAR® Climate Zone = Northern\\rSearch by Unit Code = No\\rUnit 1, 3: Frame Width = 21 5/8\\rUnit 1, 3: Frame Height = 68 7/8\\rUnit 2: Frame Width = 41 5/8\\rUnit 2: Frame Height = 68 7/8\\rUnit Code = TW45-3456-18\\rCombination Operation / Venting = Active (All)\\rVenting / Handing = AA\\rExterior Color = Dark Bronze\\rExterior Sash/Panel Color = Dark Bronze\\rInterior Species = Pine\\rInterior Finish Color = White - Painted\\rJamb Liner Color = White\\rGlass Construction Type = Dual Pane\\rGlass Option = Low-E4\\rHigh Altitude Breather Tubes = No\\rGlass Strength = Tempered\\rSpecialty Glass = Reed Vertical\\rGas Fill = Argon\\rNone\\rDP/PG Upgrade = No\\rSash Lift Type = Hand Lift\\rSash Lift Style = Traditional\\rSash Lift Color/Finish = Antique Brass\\rLock Hardware Style = Traditional\\rNumber of Sash Locks = 1\\rLock Hardware Color/Finish = White (Factory Applied)\\rWindow Opening Control Device = No\\rSecurity Sensor Type = None\\rInsect Screen Type = Half Screen\\rInsect Screen Material = TruScene\\rInsect Screen Color = Sandtone\\rBay/Bow Option Type = Standard\\rBay/Bow/Box Extension Jamb Color = White - Painted\\rHead and Seat Board Species = Pine\\rHead and Seat Board Finish Color = White - Painted\\rOverall Wall Depth = 6 9/16\"\\rPlatform Boards = Top and Bottom Platforms\\rAngle Bay/Bow Supports = w/Cable Support System\\rTop Auxiliary Casing = Top Auxiliary\\rAuxiliary Casing Colors = Dark Bronze\\rCasing Application Location = Shipped Loose\\rTrim Board = Fibrex Cellular Trim Board\\rInstallation Material Options = No\\rRe-Order Item = No\\rRoom Location = None\\rUnit 1, 3: Unit U-Factor = ---\\rUnit 1, 3: Unit Solar Heat Gain Coefficient (SHGC) = ---', '1', '$32.00', '$32.00'], ['7', '300-3', '400 Series Double-Hung Bay\\rOverall Joined Rough Opening = 79 1/8\" x 70 3/4\"\\rOverall Joined Unit = 80 7/16\" x 70 1/4\"\\rDimensional Entry Type = Standard Sizes (By Center\\rWidth)\\rInstallation Zip Code = 55082\\rU.S. ENERGY STAR® Climate Zone = Northern\\rSearch by Unit Code = No\\rUnit 1, 3: Frame Width = 21 5/8\\rUnit 1, 3: Frame Height = 68 7/8\\rUnit 2: Frame Width = 41 5/8\\rUnit 2: Frame Height = 68 7/8\\rUnit Code = TW45-3456-18\\rCombination Operation / Venting = Active (All)\\rVenting / Handing = AA\\rExterior Color = Dark Bronze\\rExterior Sash/Panel Color = Dark Bronze\\rInterior Species = Pine\\rInterior Finish Color = White - Painted\\rJamb Liner Color = White\\rGlass Construction Type = Dual Pane\\rGlass Option = Low-E4\\rHigh Altitude Breather Tubes = No\\rGlass Strength = Tempered\\rSpecialty Glass = Reed Vertical\\rGas Fill = Argon\\rNone\\rDP/PG Upgrade = No\\rSash Lift Type = Hand Lift\\rSash Lift Style = Traditional\\rSash Lift Color/Finish = Antique Brass\\rLock Hardware Style = Traditional\\rNumber of Sash Locks = 1\\rLock Hardware Color/Finish = White (Factory Applied)\\rWindow Opening Control Device = No\\rSecurity Sensor Type = None\\rInsect Screen Type = Half Screen\\rInsect Screen Material = TruScene\\rInsect Screen Color = Sandtone\\rBay/Bow Option Type = Standard\\rBay/Bow/Box Extension Jamb Color = White - Painted\\rHead and Seat Board Species = Pine\\rHead and Seat Board Finish Color = White - Painted\\rOverall Wall Depth = 6 9/16\"\\rPlatform Boards = Top and Bottom Platforms\\rAngle Bay/Bow Supports = w/Cable Support System\\rTop Auxiliary Casing = Top Auxiliary\\rAuxiliary Casing Colors = Dark Bronze\\rCasing Application Location = Shipped Loose\\rTrim Board = Fibrex Cellular Trim Board\\rInstallation Material Options = No\\rRe-Order Item = No\\rRoom Location = None\\rUnit 1, 3: Unit U-Factor = ---\\rUnit 1, 3: Unit Solar Heat Gain Coefficient (SHGC) = ---', '1', '$175.00', '$175.00'], ['8', '300-4', '400 Series Double-Hung Bay\\rOverall Joined Rough Opening = 79 1/8\" x 70 3/4\"\\rOverall Joined Unit = 80 7/16\" x 70 1/4\"\\rDimensional Entry Type = Standard Sizes (By Center\\rWidth)\\rInstallation Zip Code = 55082\\rU.S. ENERGY STAR® Climate Zone = Northern\\rSearch by Unit Code = No\\rUnit 1, 3: Frame Width = 21 5/8\\rUnit 1, 3: Frame Height = 68 7/8\\rUnit 2: Frame Width = 41 5/8\\rUnit 2: Frame Height = 68 7/8\\rUnit Code = TW45-3456-18\\rCombination Operation / Venting = Active (All)\\rVenting / Handing = AA\\rExterior Color = Dark Bronze\\rExterior Sash/Panel Color = Dark Bronze\\rInterior Species = Pine\\rInterior Finish Color = White - Painted\\rJamb Liner Color = White\\rGlass Construction Type = Dual Pane\\rGlass Option = Low-E4\\rHigh Altitude Breather Tubes = No\\rGlass Strength = Tempered\\rSpecialty Glass = Reed Vertical\\rGas Fill = Argon\\rNone\\rDP/PG Upgrade = No\\rSash Lift Type = Hand Lift\\rSash Lift Style = Traditional\\rSash Lift Color/Finish = Antique Brass\\rLock Hardware Style = Traditional\\rNumber of Sash Locks = 1\\rLock Hardware Color/Finish = White (Factory Applied)\\rWindow Opening Control Device = No\\rSecurity Sensor Type = None\\rInsect Screen Type = Half Screen\\rInsect Screen Material = TruScene\\rInsect Screen Color = Sandtone\\rBay/Bow Option Type = Standard\\rBay/Bow/Box Extension Jamb Color = White - Painted\\rHead and Seat Board Species = Pine\\rHead and Seat Board Finish Color = White - Painted\\rOverall Wall Depth = 6 9/16\"\\rPlatform Boards = Top and Bottom Platforms\\rAngle Bay/Bow Supports = w/Cable Support System\\rTop Auxiliary Casing = Top Auxiliary\\rAuxiliary Casing Colors = Dark Bronze\\rCasing Application Location = Shipped Loose\\rTrim Board = Fibrex Cellular Trim Board\\rInstallation Material Options = No\\rRe-Order Item = No\\rRoom Location = None\\rUnit 1, 3: Unit U-Factor = ---\\rUnit 1, 3: Unit Solar Heat Gain Coefficient (SHGC) = ---', '1', '$32.00', '$32.00'], ['9', '300-5', '400 Series Double-Hung Bay\\rOverall Joined Rough Opening = 79 1/8\" x 70 3/4\"\\rOverall Joined Unit = 80 7/16\" x 70 1/4\"\\rDimensional Entry Type = Standard Sizes (By Center\\rWidth)\\rInstallation Zip Code = 55082\\rU.S. ENERGY STAR® Climate Zone = Northern\\rSearch by Unit Code = No\\rUnit 1, 3: Frame Width = 21 5/8\\rUnit 1, 3: Frame Height = 68 7/8\\rUnit 2: Frame Width = 41 5/8\\rUnit 2: Frame Height = 68 7/8\\rUnit Code = TW45-3456-18\\rCombination Operation / Venting = Active (All)\\rVenting / Handing = AA\\rExterior Color = Dark Bronze\\rExterior Sash/Panel Color = Dark Bronze\\rInterior Species = Pine\\rInterior Finish Color = White - Painted\\rJamb Liner Color = White\\rGlass Construction Type = Dual Pane\\rGlass Option = Low-E4\\rHigh Altitude Breather Tubes = No\\rGlass Strength = Tempered\\rSpecialty Glass = Reed Vertical\\rGas Fill = Argon\\rNone\\rDP/PG Upgrade = No\\rSash Lift Type = Hand Lift\\rSash Lift Style = Traditional\\rSash Lift Color/Finish = Antique Brass\\rLock Hardware Style = Traditional\\rNumber of Sash Locks = 1\\rLock Hardware Color/Finish = White (Factory Applied)\\rWindow Opening Control Device = No\\rSecurity Sensor Type = None\\rInsect Screen Type = Half Screen\\rInsect Screen Material = TruScene\\rInsect Screen Color = Sandtone\\rBay/Bow Option Type = Standard\\rBay/Bow/Box Extension Jamb Color = White - Painted\\rHead and Seat Board Species = Pine\\rHead and Seat Board Finish Color = White - Painted\\rOverall Wall Depth = 6 9/16\"\\rPlatform Boards = Top and Bottom Platforms\\rAngle Bay/Bow Supports = w/Cable Support System\\rTop Auxiliary Casing = Top Auxiliary\\rAuxiliary Casing Colors = Dark Bronze\\rCasing Application Location = Shipped Loose\\rTrim Board = Fibrex Cellular Trim Board\\rInstallation Material Options = No\\rRe-Order Item = No\\rRoom Location = None\\rUnit 1, 3: Unit U-Factor = ---\\rUnit 1, 3: Unit Solar Heat Gain Coefficient (SHGC) = ---', '1', '$201.80', '$201.80'], ['10', '300-6', '400 Series Double-Hung Bay\\rOverall Joined Rough Opening = 79 1/8\" x 70 3/4\"\\rOverall Joined Unit = 80 7/16\" x 70 1/4\"\\rDimensional Entry Type = Standard Sizes (By Center\\rWidth)\\rInstallation Zip Code = 55082\\rU.S. ENERGY STAR® Climate Zone = Northern\\rSearch by Unit Code = No\\rUnit 1, 3: Frame Width = 21 5/8\\rUnit 1, 3: Frame Height = 68 7/8\\rUnit 2: Frame Width = 41 5/8\\rUnit 2: Frame Height = 68 7/8\\rUnit Code = TW45-3456-18\\rCombination Operation / Venting = Active (All)\\rVenting / Handing = AA\\rExterior Color = Dark Bronze\\rExterior Sash/Panel Color = Dark Bronze\\rInterior Species = Pine\\rInterior Finish Color = White - Painted\\rJamb Liner Color = White\\rGlass Construction Type = Dual Pane\\rGlass Option = Low-E4\\rHigh Altitude Breather Tubes = No\\rGlass Strength = Tempered\\rSpecialty Glass = Reed Vertical\\rGas Fill = Argon\\rNone\\rDP/PG Upgrade = No\\rSash Lift Type = Hand Lift\\rSash Lift Style = Traditional\\rSash Lift Color/Finish = Antique Brass\\rLock Hardware Style = Traditional\\rNumber of Sash Locks = 1\\rLock Hardware Color/Finish = White (Factory Applied)\\rWindow Opening Control Device = No\\rSecurity Sensor Type = None\\rInsect Screen Type = Half Screen\\rInsect Screen Material = TruScene\\rInsect Screen Color = Sandtone\\rBay/Bow Option Type = Standard\\rBay/Bow/Box Extension Jamb Color = White - Painted\\rHead and Seat Board Species = Pine\\rHead and Seat Board Finish Color = White - Painted\\rOverall Wall Depth = 6 9/16\"\\rPlatform Boards = Top and Bottom Platforms\\rAngle Bay/Bow Supports = w/Cable Support System\\rTop Auxiliary Casing = Top Auxiliary\\rAuxiliary Casing Colors = Dark Bronze\\rCasing Application Location = Shipped Loose\\rTrim Board = Fibrex Cellular Trim Board\\rInstallation Material Options = No\\rRe-Order Item = No\\rRoom Location = None\\rUnit 1, 3: Unit U-Factor = ---\\rUnit 1, 3: Unit Solar Heat Gain Coefficient (SHGC) = ---', '1', '$32.00', '$32.00'], ['11', '300-7', '400 Series Double-Hung Bay\\rOverall Joined Rough Opening = 79 1/8\" x 70 3/4\"\\rOverall Joined Unit = 80 7/16\" x 70 1/4\"\\rDimensional Entry Type = Standard Sizes (By Center\\rWidth)\\rInstallation Zip Code = 55082\\rU.S. ENERGY STAR® Climate Zone = Northern\\rSearch by Unit Code = No\\rUnit 1, 3: Frame Width = 21 5/8\\rUnit 1, 3: Frame Height = 68 7/8\\rUnit 2: Frame Width = 41 5/8\\rUnit 2: Frame Height = 68 7/8\\rUnit Code = TW45-3456-18\\rCombination Operation / Venting = Active (All)\\rVenting / Handing = AA\\rExterior Color = Dark Bronze\\rExterior Sash/Panel Color = Dark Bronze\\rInterior Species = Pine\\rInterior Finish Color = White - Painted\\rJamb Liner Color = White\\rGlass Construction Type = Dual Pane\\rGlass Option = Low-E4\\rHigh Altitude Breather Tubes = No\\rGlass Strength = Tempered\\rSpecialty Glass = Reed Vertical\\rGas Fill = Argon\\rNone\\rDP/PG Upgrade = No\\rSash Lift Type = Hand Lift\\rSash Lift Style = Traditional\\rSash Lift Color/Finish = Antique Brass\\rLock Hardware Style = Traditional\\rNumber of Sash Locks = 1\\rLock Hardware Color/Finish = White (Factory Applied)\\rWindow Opening Control Device = No\\rSecurity Sensor Type = None\\rInsect Screen Type = Half Screen\\rInsect Screen Material = TruScene\\rInsect Screen Color = Sandtone\\rBay/Bow Option Type = Standard\\rBay/Bow/Box Extension Jamb Color = White - Painted\\rHead and Seat Board Species = Pine\\rHead and Seat Board Finish Color = White - Painted\\rOverall Wall Depth = 6 9/16\"\\rPlatform Boards = Top and Bottom Platforms\\rAngle Bay/Bow Supports = w/Cable Support System\\rTop Auxiliary Casing = Top Auxiliary\\rAuxiliary Casing Colors = Dark Bronze\\rCasing Application Location = Shipped Loose\\rTrim Board = Fibrex Cellular Trim Board\\rInstallation Material Options = No\\rRe-Order Item = No\\rRoom Location = None\\rUnit 1, 3: Unit U-Factor = ---\\rUnit 1, 3: Unit Solar Heat Gain Coefficient (SHGC) = ---', '1', '$175.00', '$175.00'], ['12', '300-8', '400 Series Double-Hung Bay $66.50\\rOverall Joined Rough Opening = 79 1/8\" x 70 3/4\"\\rOverall Joined Unit = 80 7/16\" x 70 1/4\"\\rDimensional Entry Type = Standard Sizes (By Center\\rWidth)\\rInstallation Zip Code = 55082\\rU.S. ENERGY STAR® Climate Zone = Northern\\rSearch by Unit Code = No\\rUnit 1, 3: Frame Width = 21 5/8\\rUnit 1, 3: Frame Height = 68 7/8\\rUnit 2: Frame Width = 41 5/8\\rUnit 2: Frame Height = 68 7/8\\rUnit Code = TW45-3456-18\\rCombination Operation / Venting = Active (All)\\rVenting / Handing = AA\\rExterior Color = Dark Bronze\\rExterior Sash/Panel Color = Dark Bronze\\rInterior Species = Pine\\rInterior Finish Color = White - Painted\\rJamb Liner Color = White\\rGlass Construction Type = Dual Pane\\rGlass Option = Low-E4\\rHigh Altitude Breather Tubes = No\\rGlass Strength = Tempered\\rSpecialty Glass = Reed Vertical\\rGas Fill = Argon\\rNone\\rDP/PG Upgrade = No\\rSash Lift Type = Hand Lift\\rSash Lift Style = Traditional\\rSash Lift Color/Finish = Antique Brass\\rLock Hardware Style = Traditional\\rNumber of Sash Locks = 1\\rLock Hardware Color/Finish = White (Factory Applied)\\rWindow Opening Control Device = No\\rSecurity Sensor Type = None\\rInsect Screen Type = Half Screen\\rInsect Screen Material = TruScene\\rInsect Screen Color = Sandtone\\rBay/Bow Option Type = Standard\\rBay/Bow/Box Extension Jamb Color = White - Painted\\rHead and Seat Board Species = Pine\\rHead and Seat Board Finish Color = White - Painted\\rOverall Wall Depth = 6 9/16\"\\rPlatform Boards = Top and Bottom Platforms\\rAngle Bay/Bow Supports = w/Cable Support System\\rTop Auxiliary Casing = Top Auxiliary\\rAuxiliary Casing Colors = Dark Bronze\\rCasing Application Location = Shipped Loose\\rTrim Board = Fibrex Cellular Trim Board\\rInstallation Material Options = No\\rRe-Order Item = No\\rRoom Location = None\\rUnit 1, 3: Unit U-Factor = ---\\rUnit 1, 3: Unit Solar Heat Gain Coefficient (SHGC) = ---', '1', '$66.50', '$66.50'], ['13', '300-9', '400 Series Double-Hung Bay\\rOverall Joined Rough Opening = 79 1/8\" x 70 3/4\"\\rOverall Joined Unit = 80 7/16\" x 70 1/4\"\\rDimensional Entry Type = Standard Sizes (By Center\\rWidth)\\rInstallation Zip Code = 55082\\rU.S. ENERGY STAR® Climate Zone = Northern\\rSearch by Unit Code = No\\rUnit 1, 3: Frame Width = 21 5/8\\rUnit 1, 3: Frame Height = 68 7/8\\rUnit 2: Frame Width = 41 5/8\\rUnit 2: Frame Height = 68 7/8\\rUnit Code = TW45-3456-18\\rCombination Operation / Venting = Active (All)\\rVenting / Handing = AA\\rExterior Color = Dark Bronze\\rExterior Sash/Panel Color = Dark Bronze\\rInterior Species = Pine\\rInterior Finish Color = White - Painted\\rJamb Liner Color = White\\rGlass Construction Type = Dual Pane\\rGlass Option = Low-E4\\rHigh Altitude Breather Tubes = No\\rGlass Strength = Tempered\\rSpecialty Glass = Reed Vertical\\rGas Fill = Argon\\rNone\\rDP/PG Upgrade = No\\rSash Lift Type = Hand Lift\\rSash Lift Style = Traditional\\rSash Lift Color/Finish = Antique Brass\\rLock Hardware Style = Traditional\\rNumber of Sash Locks = 1\\rLock Hardware Color/Finish = White (Factory Applied)\\rWindow Opening Control Device = No\\rSecurity Sensor Type = None\\rInsect Screen Type = Half Screen\\rInsect Screen Material = TruScene\\rInsect Screen Color = Sandtone\\rBay/Bow Option Type = Standard\\rBay/Bow/Box Extension Jamb Color = White - Painted\\rHead and Seat Board Species = Pine\\rHead and Seat Board Finish Color = White - Painted\\rOverall Wall Depth = 6 9/16\"\\rPlatform Boards = Top and Bottom Platforms\\rAngle Bay/Bow Supports = w/Cable Support System\\rTop Auxiliary Casing = Top Auxiliary\\rAuxiliary Casing Colors = Dark Bronze\\rCasing Application Location = Shipped Loose\\rTrim Board = Fibrex Cellular Trim Board\\rInstallation Material Options = No\\rRe-Order Item = No\\rRoom Location = None\\rUnit 1, 3: Unit U-Factor = ---\\rUnit 1, 3: Unit Solar Heat Gain Coefficient (SHGC) = ---', '1', '$499.60', '$499.60'], ['14', '300-10', '400 Series Double-Hung Bay\\rOverall Joined Rough Opening = 79 1/8\" x 70 3/4\"\\rOverall Joined Unit = 80 7/16\" x 70 1/4\"\\rDimensional Entry Type = Standard Sizes (By Center\\rWidth)\\rInstallation Zip Code = 55082\\rU.S. ENERGY STAR® Climate Zone = Northern\\rSearch by Unit Code = No\\rUnit 1, 3: Frame Width = 21 5/8\\rUnit 1, 3: Frame Height = 68 7/8\\rUnit 2: Frame Width = 41 5/8\\rUnit 2: Frame Height = 68 7/8\\rUnit Code = TW45-3456-18\\rCombination Operation / Venting = Active (All)\\rVenting / Handing = AA\\rExterior Color = Dark Bronze\\rExterior Sash/Panel Color = Dark Bronze\\rInterior Species = Pine\\rInterior Finish Color = White - Painted\\rJamb Liner Color = White\\rGlass Construction Type = Dual Pane\\rGlass Option = Low-E4\\rHigh Altitude Breather Tubes = No\\rGlass Strength = Tempered\\rSpecialty Glass = Reed Vertical\\rGas Fill = Argon\\rNone\\rDP/PG Upgrade = No\\rSash Lift Type = Hand Lift\\rSash Lift Style = Traditional\\rSash Lift Color/Finish = Antique Brass\\rLock Hardware Style = Traditional\\rNumber of Sash Locks = 1\\rLock Hardware Color/Finish = White (Factory Applied)\\rWindow Opening Control Device = No\\rSecurity Sensor Type = None\\rInsect Screen Type = Half Screen\\rInsect Screen Material = TruScene\\rInsect Screen Color = Sandtone\\rBay/Bow Option Type = Standard\\rBay/Bow/Box Extension Jamb Color = White - Painted\\rHead and Seat Board Species = Pine\\rHead and Seat Board Finish Color = White - Painted\\rOverall Wall Depth = 6 9/16\"\\rPlatform Boards = Top and Bottom Platforms\\rAngle Bay/Bow Supports = w/Cable Support System\\rTop Auxiliary Casing = Top Auxiliary\\rAuxiliary Casing Colors = Dark Bronze\\rCasing Application Location = Shipped Loose\\rTrim Board = Fibrex Cellular Trim Board\\rInstallation Material Options = No\\rRe-Order Item = No\\rRoom Location = None\\rUnit 1, 3: Unit U-Factor = ---\\rUnit 1, 3: Unit Solar Heat Gain Coefficient (SHGC) = ---', '1', '$190.00', '$190.00'], ['15', '300-11', '400 Series Double-Hung Bay\\rOverall Joined Rough Opening = 79 1/8\" x 70 3/4\"\\rOverall Joined Unit = 80 7/16\" x 70 1/4\"\\rDimensional Entry Type = Standard Sizes (By Center\\rWidth)\\rInstallation Zip Code = 55082\\rU.S. ENERGY STAR® Climate Zone = Northern\\rSearch by Unit Code = No\\rUnit 1, 3: Frame Width = 21 5/8\\rUnit 1, 3: Frame Height = 68 7/8\\rUnit 2: Frame Width = 41 5/8\\rUnit 2: Frame Height = 68 7/8\\rUnit Code = TW45-3456-18\\rCombination Operation / Venting = Active (All)\\rVenting / Handing = AA\\rExterior Color = Dark Bronze\\rExterior Sash/Panel Color = Dark Bronze\\rInterior Species = Pine\\rInterior Finish Color = White - Painted\\rJamb Liner Color = White\\rGlass Construction Type = Dual Pane\\rGlass Option = Low-E4\\rHigh Altitude Breather Tubes = No\\rGlass Strength = Tempered\\rSpecialty Glass = Reed Vertical\\rGas Fill = Argon\\rNone\\rDP/PG Upgrade = No\\rSash Lift Type = Hand Lift\\rSash Lift Style = Traditional\\rSash Lift Color/Finish = Antique Brass\\rLock Hardware Style = Traditional\\rNumber of Sash Locks = 1\\rLock Hardware Color/Finish = White (Factory Applied)\\rWindow Opening Control Device = No\\rSecurity Sensor Type = None\\rInsect Screen Type = Half Screen\\rInsect Screen Material = TruScene\\rInsect Screen Color = Sandtone\\rBay/Bow Option Type = Standard\\rBay/Bow/Box Extension Jamb Color = White - Painted\\rHead and Seat Board Species = Pine\\rHead and Seat Board Finish Color = White - Painted\\rOverall Wall Depth = 6 9/16\"\\rPlatform Boards = Top and Bottom Platforms\\rAngle Bay/Bow Supports = w/Cable Support System\\rTop Auxiliary Casing = Top Auxiliary\\rAuxiliary Casing Colors = Dark Bronze\\rCasing Application Location = Shipped Loose\\rTrim Board = Fibrex Cellular Trim Board\\rInstallation Material Options = No\\rRe-Order Item = No\\rRoom Location = None\\rUnit 1, 3: Unit U-Factor = ---\\rUnit 1, 3: Unit Solar Heat Gain Coefficient (SHGC) = ---', '1', '$51.40', '$51.40'], ['16', '300-12', '400 Series Double-Hung Bay\\rOverall Joined Rough Opening = 79 1/8\" x 70 3/4\"\\rOverall Joined Unit = 80 7/16\" x 70 1/4\"\\rDimensional Entry Type = Standard Sizes (By Center\\rWidth)\\rInstallation Zip Code = 55082\\rU.S. ENERGY STAR® Climate Zone = Northern\\rSearch by Unit Code = No\\rUnit 1, 3: Frame Width = 21 5/8\\rUnit 1, 3: Frame Height = 68 7/8\\rUnit 2: Frame Width = 41 5/8\\rUnit 2: Frame Height = 68 7/8\\rUnit Code = TW45-3456-18\\rCombination Operation / Venting = Active (All)\\rVenting / Handing = AA\\rExterior Color = Dark Bronze\\rExterior Sash/Panel Color = Dark Bronze\\rInterior Species = Pine\\rInterior Finish Color = White - Painted\\rJamb Liner Color = White\\rGlass Construction Type = Dual Pane\\rGlass Option = Low-E4\\rHigh Altitude Breather Tubes = No\\rGlass Strength = Tempered\\rSpecialty Glass = Reed Vertical\\rGas Fill = Argon\\rNone\\rDP/PG Upgrade = No\\rSash Lift Type = Hand Lift\\rSash Lift Style = Traditional\\rSash Lift Color/Finish = Antique Brass\\rLock Hardware Style = Traditional\\rNumber of Sash Locks = 1\\rLock Hardware Color/Finish = White (Factory Applied)\\rWindow Opening Control Device = No\\rSecurity Sensor Type = None\\rInsect Screen Type = Half Screen\\rInsect Screen Material = TruScene\\rInsect Screen Color = Sandtone\\rBay/Bow Option Type = Standard\\rBay/Bow/Box Extension Jamb Color = White - Painted\\rHead and Seat Board Species = Pine\\rHead and Seat Board Finish Color = White - Painted\\rOverall Wall Depth = 6 9/16\"\\rPlatform Boards = Top and Bottom Platforms\\rAngle Bay/Bow Supports = w/Cable Support System\\rTop Auxiliary Casing = Top Auxiliary\\rAuxiliary Casing Colors = Dark Bronze\\rCasing Application Location = Shipped Loose\\rTrim Board = Fibrex Cellular Trim Board\\rInstallation Material Options = No\\rRe-Order Item = No\\rRoom Location = None\\rUnit 1, 3: Unit U-Factor = ---\\rUnit 1, 3: Unit Solar Heat Gain Coefficient (SHGC) = ---', '1', '$95.00', '$95.00'], ['17', '300-13', '400 Series Double-Hung Bay\\rOverall Joined Rough Opening = 79 1/8\" x 70 3/4\"\\rOverall Joined Unit = 80 7/16\" x 70 1/4\"\\rDimensional Entry Type = Standard Sizes (By Center\\rWidth)\\rInstallation Zip Code = 55082\\rU.S. ENERGY STAR® Climate Zone = Northern\\rSearch by Unit Code = No\\rUnit 1, 3: Frame Width = 21 5/8\\rUnit 1, 3: Frame Height = 68 7/8\\rUnit 2: Frame Width = 41 5/8\\rUnit 2: Frame Height = 68 7/8\\rUnit Code = TW45-3456-18\\rCombination Operation / Venting = Active (All)\\rVenting / Handing = AA\\rExterior Color = Dark Bronze\\rExterior Sash/Panel Color = Dark Bronze\\rInterior Species = Pine\\rInterior Finish Color = White - Painted\\rJamb Liner Color = White\\rGlass Construction Type = Dual Pane\\rGlass Option = Low-E4\\rHigh Altitude Breather Tubes = No\\rGlass Strength = Tempered\\rSpecialty Glass = Reed Vertical\\rGas Fill = Argon\\rNone\\rDP/PG Upgrade = No\\rSash Lift Type = Hand Lift\\rSash Lift Style = Traditional\\rSash Lift Color/Finish = Antique Brass\\rLock Hardware Style = Traditional\\rNumber of Sash Locks = 1\\rLock Hardware Color/Finish = White (Factory Applied)\\rWindow Opening Control Device = No\\rSecurity Sensor Type = None\\rInsect Screen Type = Half Screen\\rInsect Screen Material = TruScene\\rInsect Screen Color = Sandtone\\rBay/Bow Option Type = Standard\\rBay/Bow/Box Extension Jamb Color = White - Painted\\rHead and Seat Board Species = Pine\\rHead and Seat Board Finish Color = White - Painted\\rOverall Wall Depth = 6 9/16\"\\rPlatform Boards = Top and Bottom Platforms\\rAngle Bay/Bow Supports = w/Cable Support System\\rTop Auxiliary Casing = Top Auxiliary\\rAuxiliary Casing Colors = Dark Bronze\\rCasing Application Location = Shipped Loose\\rTrim Board = Fibrex Cellular Trim Board\\rInstallation Material Options = No\\rRe-Order Item = No\\rRoom Location = None\\rUnit 1, 3: Unit U-Factor = ---\\rUnit 1, 3: Unit Solar Heat Gain Coefficient (SHGC) = ---', '1', '$135.80', '$135.80'], ['18', '400-1', '400 Series Casement Bow\\rOverall Joined Rough Opening = 120 3/8\" x 73 7/8\"\\rOverall Joined Unit = 120 3/4\" x 73 3/8\"\\rDimensional Entry Type = Overall Width, Angle\\rInstallation Zip Code = 55082\\rU.S. ENERGY STAR® Climate Zone = Northern\\rSearch by Unit Code = No\\rFrame Width = 24 1/8\\rFrame Height = 71 7/8\\rUnit 1, 2, 4, 5: Unit Code = C56-BOW\\rUnit 1, 2, 4, 5: Combination Operation / Venting =\\rStationary-Stationary-Left-Stationary-Stationary\\rUnit 1, 2, 4, 5: Venting / Handing = Stationary\\rUnit 3: Unit Code = C56-BOW\\rUnit 3: Combination Operation / Venting =\\rStationary-Stationary-Left-Stationary-Stationary\\rUnit 3: Venting / Handing = Left\\rUnit 3: Hinge Style = Hinge with Wash Mode\\rExterior Color = White\\rExterior Sash/Panel Color = White\\rInterior Species = Pine\\rInterior Finish Color = White - Vinyl Wrapped\\rGlass Construction Type = Dual Pane\\rGlass Option = Low-E4 SmartSun\\rHigh Altitude Breather Tubes = No\\rGlass Strength = Tempered\\rGlass Tint = No Tint\\rSpecialty Glass = Fern\\rGas Fill = Argon\\rArt Glass Series = None\\rRemovable Interior Grille\\rColonial\\rGrille Pattern = Colonial\\rGrille Bar Width = 7/8\"\\rExterior Grille Color = White\\rInterior Grille Species = Maple\\rInterior Grille Color = White\\r2W6H\\rGrille Alignment Type = Standard Grille Alignment\\rDP/PG Upgrade = No\\rHardware Style = Contemporary Folding\\rHardware Color/Finish = Bright Brass\\rCorrosion Resistant Hardware = None\\rWindow Opening Control Device = No\\rSecurity Sensor Type = None\\rInsect Screen Type = Full Screen\\rInsect Screen Material = Aluminum\\rInsect Screen Color = White\\rBay/Bow Option Type = Walkout\\rBay/Bow/Box Extension Jamb Color = White - Painted\\rHead and Seat Board Species = Pine\\rHead and Seat Board Finish Color = White - Painted\\rOverall Wall Depth = 5 1/4\"\\rPlatform Boards = Top and Bottom Platforms\\rAngle Bay/Bow Supports = w/Cable Support System', '1', '$6,609.40', '$6,609.40'], ['19', '400-2', '400 Series Casement Bow\\rOverall Joined Rough Opening = 120 3/8\" x 73 7/8\"\\rOverall Joined Unit = 120 3/4\" x 73 3/8\"\\rDimensional Entry Type = Overall Width, Angle\\rInstallation Zip Code = 55082\\rU.S. ENERGY STAR® Climate Zone = Northern\\rSearch by Unit Code = No\\rFrame Width = 24 1/8\\rFrame Height = 71 7/8\\rUnit 1, 2, 4, 5: Unit Code = C56-BOW\\rUnit 1, 2, 4, 5: Combination Operation / Venting =\\rStationary-Stationary-Left-Stationary-Stationary\\rUnit 1, 2, 4, 5: Venting / Handing = Stationary\\rUnit 3: Unit Code = C56-BOW\\rUnit 3: Combination Operation / Venting =\\rStationary-Stationary-Left-Stationary-Stationary\\rUnit 3: Venting / Handing = Left\\rUnit 3: Hinge Style = Hinge with Wash Mode\\rExterior Color = White\\rExterior Sash/Panel Color = White\\rInterior Species = Pine\\rInterior Finish Color = White - Vinyl Wrapped\\rGlass Construction Type = Dual Pane\\rGlass Option = Low-E4 SmartSun\\rHigh Altitude Breather Tubes = No\\rGlass Strength = Tempered\\rGlass Tint = No Tint\\rSpecialty Glass = Fern\\rGas Fill = Argon\\rArt Glass Series = None\\rRemovable Interior Grille\\rColonial\\rGrille Pattern = Colonial\\rGrille Bar Width = 7/8\"\\rExterior Grille Color = White\\rInterior Grille Species = Maple\\rInterior Grille Color = White\\r2W6H\\rGrille Alignment Type = Standard Grille Alignment\\rDP/PG Upgrade = No\\rHardware Style = Contemporary Folding\\rHardware Color/Finish = Bright Brass\\rCorrosion Resistant Hardware = None\\rWindow Opening Control Device = No\\rSecurity Sensor Type = None\\rInsect Screen Type = Full Screen\\rInsect Screen Material = Aluminum\\rInsect Screen Color = White\\rBay/Bow Option Type = Walkout\\rBay/Bow/Box Extension Jamb Color = White - Painted\\rHead and Seat Board Species = Pine\\rHead and Seat Board Finish Color = White - Painted\\rOverall Wall Depth = 5 1/4\"\\rPlatform Boards = Top and Bottom Platforms\\rAngle Bay/Bow Supports = w/Cable Support System', '1', '$75.60', '$75.60'], ['20', '400-3', '400 Series Casement Bow\\rOverall Joined Rough Opening = 120 3/8\" x 73 7/8\"\\rOverall Joined Unit = 120 3/4\" x 73 3/8\"\\rDimensional Entry Type = Overall Width, Angle\\rInstallation Zip Code = 55082\\rU.S. ENERGY STAR® Climate Zone = Northern\\rSearch by Unit Code = No\\rFrame Width = 24 1/8\\rFrame Height = 71 7/8\\rUnit 1, 2, 4, 5: Unit Code = C56-BOW\\rUnit 1, 2, 4, 5: Combination Operation / Venting =\\rStationary-Stationary-Left-Stationary-Stationary\\rUnit 1, 2, 4, 5: Venting / Handing = Stationary\\rUnit 3: Unit Code = C56-BOW\\rUnit 3: Combination Operation / Venting =\\rStationary-Stationary-Left-Stationary-Stationary\\rUnit 3: Venting / Handing = Left\\rUnit 3: Hinge Style = Hinge with Wash Mode\\rExterior Color = White\\rExterior Sash/Panel Color = White\\rInterior Species = Pine\\rInterior Finish Color = White - Vinyl Wrapped\\rGlass Construction Type = Dual Pane\\rGlass Option = Low-E4 SmartSun\\rHigh Altitude Breather Tubes = No\\rGlass Strength = Tempered\\rGlass Tint = No Tint\\rSpecialty Glass = Fern\\rGas Fill = Argon\\rArt Glass Series = None\\rRemovable Interior Grille\\rColonial\\rGrille Pattern = Colonial\\rGrille Bar Width = 7/8\"\\rExterior Grille Color = White\\rInterior Grille Species = Maple\\rInterior Grille Color = White\\r2W6H\\rGrille Alignment Type = Standard Grille Alignment\\rDP/PG Upgrade = No\\rHardware Style = Contemporary Folding\\rHardware Color/Finish = Bright Brass\\rCorrosion Resistant Hardware = None\\rWindow Opening Control Device = No\\rSecurity Sensor Type = None\\rInsect Screen Type = Full Screen\\rInsect Screen Material = Aluminum\\rInsect Screen Color = White\\rBay/Bow Option Type = Walkout\\rBay/Bow/Box Extension Jamb Color = White - Painted\\rHead and Seat Board Species = Pine\\rHead and Seat Board Finish Color = White - Painted\\rOverall Wall Depth = 5 1/4\"\\rPlatform Boards = Top and Bottom Platforms\\rAngle Bay/Bow Supports = w/Cable Support System', '1', '$75.60', '$75.60'], ['21', '400-4', '400 Series Casement Bow\\rOverall Joined Rough Opening = 120 3/8\" x 73 7/8\"\\rOverall Joined Unit = 120 3/4\" x 73 3/8\"\\rDimensional Entry Type = Overall Width, Angle\\rInstallation Zip Code = 55082\\rU.S. ENERGY STAR® Climate Zone = Northern\\rSearch by Unit Code = No\\rFrame Width = 24 1/8\\rFrame Height = 71 7/8\\rUnit 1, 2, 4, 5: Unit Code = C56-BOW\\rUnit 1, 2, 4, 5: Combination Operation / Venting =\\rStationary-Stationary-Left-Stationary-Stationary\\rUnit 1, 2, 4, 5: Venting / Handing = Stationary\\rUnit 3: Unit Code = C56-BOW\\rUnit 3: Combination Operation / Venting =\\rStationary-Stationary-Left-Stationary-Stationary\\rUnit 3: Venting / Handing = Left\\rUnit 3: Hinge Style = Hinge with Wash Mode\\rExterior Color = White\\rExterior Sash/Panel Color = White\\rInterior Species = Pine\\rInterior Finish Color = White - Vinyl Wrapped\\rGlass Construction Type = Dual Pane\\rGlass Option = Low-E4 SmartSun\\rHigh Altitude Breather Tubes = No\\rGlass Strength = Tempered\\rGlass Tint = No Tint\\rSpecialty Glass = Fern\\rGas Fill = Argon\\rArt Glass Series = None\\rRemovable Interior Grille\\rColonial\\rGrille Pattern = Colonial\\rGrille Bar Width = 7/8\"\\rExterior Grille Color = White\\rInterior Grille Species = Maple\\rInterior Grille Color = White\\r2W6H\\rGrille Alignment Type = Standard Grille Alignment\\rDP/PG Upgrade = No\\rHardware Style = Contemporary Folding\\rHardware Color/Finish = Bright Brass\\rCorrosion Resistant Hardware = None\\rWindow Opening Control Device = No\\rSecurity Sensor Type = None\\rInsect Screen Type = Full Screen\\rInsect Screen Material = Aluminum\\rInsect Screen Color = White\\rBay/Bow Option Type = Walkout\\rBay/Bow/Box Extension Jamb Color = White - Painted\\rHead and Seat Board Species = Pine\\rHead and Seat Board Finish Color = White - Painted\\rOverall Wall Depth = 5 1/4\"\\rPlatform Boards = Top and Bottom Platforms\\rAngle Bay/Bow Supports = w/Cable Support System', '1', '$76.70', '$76.70'], ['22', '400-5', '400 Series Casement Bow\\rOverall Joined Rough Opening = 120 3/8\" x 73 7/8\"\\rOverall Joined Unit = 120 3/4\" x 73 3/8\"\\rDimensional Entry Type = Overall Width, Angle\\rInstallation Zip Code = 55082\\rU.S. ENERGY STAR® Climate Zone = Northern\\rSearch by Unit Code = No\\rFrame Width = 24 1/8\\rFrame Height = 71 7/8\\rUnit 1, 2, 4, 5: Unit Code = C56-BOW\\rUnit 1, 2, 4, 5: Combination Operation / Venting =\\rStationary-Stationary-Left-Stationary-Stationary\\rUnit 1, 2, 4, 5: Venting / Handing = Stationary\\rUnit 3: Unit Code = C56-BOW\\rUnit 3: Combination Operation / Venting =\\rStationary-Stationary-Left-Stationary-Stationary\\rUnit 3: Venting / Handing = Left\\rUnit 3: Hinge Style = Hinge with Wash Mode\\rExterior Color = White\\rExterior Sash/Panel Color = White\\rInterior Species = Pine\\rInterior Finish Color = White - Vinyl Wrapped\\rGlass Construction Type = Dual Pane\\rGlass Option = Low-E4 SmartSun\\rHigh Altitude Breather Tubes = No\\rGlass Strength = Tempered\\rGlass Tint = No Tint\\rSpecialty Glass = Fern\\rGas Fill = Argon\\rArt Glass Series = None\\rRemovable Interior Grille\\rColonial\\rGrille Pattern = Colonial\\rGrille Bar Width = 7/8\"\\rExterior Grille Color = White\\rInterior Grille Species = Maple\\rInterior Grille Color = White\\r2W6H\\rGrille Alignment Type = Standard Grille Alignment\\rDP/PG Upgrade = No\\rHardware Style = Contemporary Folding\\rHardware Color/Finish = Bright Brass\\rCorrosion Resistant Hardware = None\\rWindow Opening Control Device = No\\rSecurity Sensor Type = None\\rInsect Screen Type = Full Screen\\rInsect Screen Material = Aluminum\\rInsect Screen Color = White\\rBay/Bow Option Type = Walkout\\rBay/Bow/Box Extension Jamb Color = White - Painted\\rHead and Seat Board Species = Pine\\rHead and Seat Board Finish Color = White - Painted\\rOverall Wall Depth = 5 1/4\"\\rPlatform Boards = Top and Bottom Platforms\\rAngle Bay/Bow Supports = w/Cable Support System', '1', '$51.60', '$51.60'], ['23', '400-6', '400 Series Casement Bow\\rOverall Joined Rough Opening = 120 3/8\" x 73 7/8\"\\rOverall Joined Unit = 120 3/4\" x 73 3/8\"\\rDimensional Entry Type = Overall Width, Angle\\rInstallation Zip Code = 55082\\rU.S. ENERGY STAR® Climate Zone = Northern\\rSearch by Unit Code = No\\rFrame Width = 24 1/8\\rFrame Height = 71 7/8\\rUnit 1, 2, 4, 5: Unit Code = C56-BOW\\rUnit 1, 2, 4, 5: Combination Operation / Venting =\\rStationary-Stationary-Left-Stationary-Stationary\\rUnit 1, 2, 4, 5: Venting / Handing = Stationary\\rUnit 3: Unit Code = C56-BOW\\rUnit 3: Combination Operation / Venting =\\rStationary-Stationary-Left-Stationary-Stationary\\rUnit 3: Venting / Handing = Left\\rUnit 3: Hinge Style = Hinge with Wash Mode\\rExterior Color = White\\rExterior Sash/Panel Color = White\\rInterior Species = Pine\\rInterior Finish Color = White - Vinyl Wrapped\\rGlass Construction Type = Dual Pane\\rGlass Option = Low-E4 SmartSun\\rHigh Altitude Breather Tubes = No\\rGlass Strength = Tempered\\rGlass Tint = No Tint\\rSpecialty Glass = Fern\\rGas Fill = Argon\\rArt Glass Series = None\\rRemovable Interior Grille\\rColonial\\rGrille Pattern = Colonial\\rGrille Bar Width = 7/8\"\\rExterior Grille Color = White\\rInterior Grille Species = Maple\\rInterior Grille Color = White\\r2W6H\\rGrille Alignment Type = Standard Grille Alignment\\rDP/PG Upgrade = No\\rHardware Style = Contemporary Folding\\rHardware Color/Finish = Bright Brass\\rCorrosion Resistant Hardware = None\\rWindow Opening Control Device = No\\rSecurity Sensor Type = None\\rInsect Screen Type = Full Screen\\rInsect Screen Material = Aluminum\\rInsect Screen Color = White\\rBay/Bow Option Type = Walkout\\rBay/Bow/Box Extension Jamb Color = White - Painted\\rHead and Seat Board Species = Pine\\rHead and Seat Board Finish Color = White - Painted\\rOverall Wall Depth = 5 1/4\"\\rPlatform Boards = Top and Bottom Platforms\\rAngle Bay/Bow Supports = w/Cable Support System', '1', '$75.60', '$75.60'], ['24', '400-7', '400 Series Casement Bow\\rOverall Joined Rough Opening = 120 3/8\" x 73 7/8\"\\rOverall Joined Unit = 120 3/4\" x 73 3/8\"\\rDimensional Entry Type = Overall Width, Angle\\rInstallation Zip Code = 55082\\rU.S. ENERGY STAR® Climate Zone = Northern\\rSearch by Unit Code = No\\rFrame Width = 24 1/8\\rFrame Height = 71 7/8\\rUnit 1, 2, 4, 5: Unit Code = C56-BOW\\rUnit 1, 2, 4, 5: Combination Operation / Venting =\\rStationary-Stationary-Left-Stationary-Stationary\\rUnit 1, 2, 4, 5: Venting / Handing = Stationary\\rUnit 3: Unit Code = C56-BOW\\rUnit 3: Combination Operation / Venting =\\rStationary-Stationary-Left-Stationary-Stationary\\rUnit 3: Venting / Handing = Left\\rUnit 3: Hinge Style = Hinge with Wash Mode\\rExterior Color = White\\rExterior Sash/Panel Color = White\\rInterior Species = Pine\\rInterior Finish Color = White - Vinyl Wrapped\\rGlass Construction Type = Dual Pane\\rGlass Option = Low-E4 SmartSun\\rHigh Altitude Breather Tubes = No\\rGlass Strength = Tempered\\rGlass Tint = No Tint\\rSpecialty Glass = Fern\\rGas Fill = Argon\\rArt Glass Series = None\\rRemovable Interior Grille\\rColonial\\rGrille Pattern = Colonial\\rGrille Bar Width = 7/8\"\\rExterior Grille Color = White\\rInterior Grille Species = Maple\\rInterior Grille Color = White\\r2W6H\\rGrille Alignment Type = Standard Grille Alignment\\rDP/PG Upgrade = No\\rHardware Style = Contemporary Folding\\rHardware Color/Finish = Bright Brass\\rCorrosion Resistant Hardware = None\\rWindow Opening Control Device = No\\rSecurity Sensor Type = None\\rInsect Screen Type = Full Screen\\rInsect Screen Material = Aluminum\\rInsect Screen Color = White\\rBay/Bow Option Type = Walkout\\rBay/Bow/Box Extension Jamb Color = White - Painted\\rHead and Seat Board Species = Pine\\rHead and Seat Board Finish Color = White - Painted\\rOverall Wall Depth = 5 1/4\"\\rPlatform Boards = Top and Bottom Platforms\\rAngle Bay/Bow Supports = w/Cable Support System', '1', '$75.60', '$75.60'], ['25', '400-8', '400 Series Casement Bow\\rOverall Joined Rough Opening = 120 3/8\" x 73 7/8\"\\rOverall Joined Unit = 120 3/4\" x 73 3/8\"\\rDimensional Entry Type = Overall Width, Angle\\rInstallation Zip Code = 55082\\rU.S. ENERGY STAR® Climate Zone = Northern\\rSearch by Unit Code = No\\rFrame Width = 24 1/8\\rFrame Height = 71 7/8\\rUnit 1, 2, 4, 5: Unit Code = C56-BOW\\rUnit 1, 2, 4, 5: Combination Operation / Venting =\\rStationary-Stationary-Left-Stationary-Stationary\\rUnit 1, 2, 4, 5: Venting / Handing = Stationary\\rUnit 3: Unit Code = C56-BOW\\rUnit 3: Combination Operation / Venting =\\rStationary-Stationary-Left-Stationary-Stationary\\rUnit 3: Venting / Handing = Left\\rUnit 3: Hinge Style = Hinge with Wash Mode\\rExterior Color = White\\rExterior Sash/Panel Color = White\\rInterior Species = Pine\\rInterior Finish Color = White - Vinyl Wrapped\\rGlass Construction Type = Dual Pane\\rGlass Option = Low-E4 SmartSun\\rHigh Altitude Breather Tubes = No\\rGlass Strength = Tempered\\rGlass Tint = No Tint\\rSpecialty Glass = Fern\\rGas Fill = Argon\\rArt Glass Series = None\\rRemovable Interior Grille\\rColonial\\rGrille Pattern = Colonial\\rGrille Bar Width = 7/8\"\\rExterior Grille Color = White\\rInterior Grille Species = Maple\\rInterior Grille Color = White\\r2W6H\\rGrille Alignment Type = Standard Grille Alignment\\rDP/PG Upgrade = No\\rHardware Style = Contemporary Folding\\rHardware Color/Finish = Bright Brass\\rCorrosion Resistant Hardware = None\\rWindow Opening Control Device = No\\rSecurity Sensor Type = None\\rInsect Screen Type = Full Screen\\rInsect Screen Material = Aluminum\\rInsect Screen Color = White\\rBay/Bow Option Type = Walkout\\rBay/Bow/Box Extension Jamb Color = White - Painted\\rHead and Seat Board Species = Pine\\rHead and Seat Board Finish Color = White - Painted\\rOverall Wall Depth = 5 1/4\"\\rPlatform Boards = Top and Bottom Platforms\\rAngle Bay/Bow Supports = w/Cable Support System', '1', '$75.60', '$75.60'], ['26', '400-9', '400 Series Casement Bow\\rOverall Joined Rough Opening = 120 3/8\" x 73 7/8\"\\rOverall Joined Unit = 120 3/4\" x 73 3/8\"\\rDimensional Entry Type = Overall Width, Angle\\rInstallation Zip Code = 55082\\rU.S. ENERGY STAR® Climate Zone = Northern\\rSearch by Unit Code = No\\rFrame Width = 24 1/8\\rFrame Height = 71 7/8\\rUnit 1, 2, 4, 5: Unit Code = C56-BOW\\rUnit 1, 2, 4, 5: Combination Operation / Venting =\\rStationary-Stationary-Left-Stationary-Stationary\\rUnit 1, 2, 4, 5: Venting / Handing = Stationary\\rUnit 3: Unit Code = C56-BOW\\rUnit 3: Combination Operation / Venting =\\rStationary-Stationary-Left-Stationary-Stationary\\rUnit 3: Venting / Handing = Left\\rUnit 3: Hinge Style = Hinge with Wash Mode\\rExterior Color = White\\rExterior Sash/Panel Color = White\\rInterior Species = Pine\\rInterior Finish Color = White - Vinyl Wrapped\\rGlass Construction Type = Dual Pane\\rGlass Option = Low-E4 SmartSun\\rHigh Altitude Breather Tubes = No\\rGlass Strength = Tempered\\rGlass Tint = No Tint\\rSpecialty Glass = Fern\\rGas Fill = Argon\\rArt Glass Series = None\\rRemovable Interior Grille\\rColonial\\rGrille Pattern = Colonial\\rGrille Bar Width = 7/8\"\\rExterior Grille Color = White\\rInterior Grille Species = Maple\\rInterior Grille Color = White\\r2W6H\\rGrille Alignment Type = Standard Grille Alignment\\rDP/PG Upgrade = No\\rHardware Style = Contemporary Folding\\rHardware Color/Finish = Bright Brass\\rCorrosion Resistant Hardware = None\\rWindow Opening Control Device = No\\rSecurity Sensor Type = None\\rInsect Screen Type = Full Screen\\rInsect Screen Material = Aluminum\\rInsect Screen Color = White\\rBay/Bow Option Type = Walkout\\rBay/Bow/Box Extension Jamb Color = White - Painted\\rHead and Seat Board Species = Pine\\rHead and Seat Board Finish Color = White - Painted\\rOverall Wall Depth = 5 1/4\"\\rPlatform Boards = Top and Bottom Platforms\\rAngle Bay/Bow Supports = w/Cable Support System', nan, '$89.40', '$89.40'], ['27', '400-10', '400 Series Casement Bow\\rOverall Joined Rough Opening = 120 3/8\" x 73 7/8\"\\rOverall Joined Unit = 120 3/4\" x 73 3/8\"\\rDimensional Entry Type = Overall Width, Angle\\rInstallation Zip Code = 55082\\rU.S. ENERGY STAR® Climate Zone = Northern\\rSearch by Unit Code = No\\rFrame Width = 24 1/8\\rFrame Height = 71 7/8\\rUnit 1, 2, 4, 5: Unit Code = C56-BOW\\rUnit 1, 2, 4, 5: Combination Operation / Venting =\\rStationary-Stationary-Left-Stationary-Stationary\\rUnit 1, 2, 4, 5: Venting / Handing = Stationary\\rUnit 3: Unit Code = C56-BOW\\rUnit 3: Combination Operation / Venting =\\rStationary-Stationary-Left-Stationary-Stationary\\rUnit 3: Venting / Handing = Left\\rUnit 3: Hinge Style = Hinge with Wash Mode\\rExterior Color = White\\rExterior Sash/Panel Color = White\\rInterior Species = Pine\\rInterior Finish Color = White - Vinyl Wrapped\\rGlass Construction Type = Dual Pane\\rGlass Option = Low-E4 SmartSun\\rHigh Altitude Breather Tubes = No\\rGlass Strength = Tempered\\rGlass Tint = No Tint\\rSpecialty Glass = Fern\\rGas Fill = Argon\\rArt Glass Series = None\\rRemovable Interior Grille\\rColonial\\rGrille Pattern = Colonial\\rGrille Bar Width = 7/8\"\\rExterior Grille Color = White\\rInterior Grille Species = Maple\\rInterior Grille Color = White\\r2W6H\\rGrille Alignment Type = Standard Grille Alignment\\rDP/PG Upgrade = No\\rHardware Style = Contemporary Folding\\rHardware Color/Finish = Bright Brass\\rCorrosion Resistant Hardware = None\\rWindow Opening Control Device = No\\rSecurity Sensor Type = None\\rInsect Screen Type = Full Screen\\rInsect Screen Material = Aluminum\\rInsect Screen Color = White\\rBay/Bow Option Type = Walkout\\rBay/Bow/Box Extension Jamb Color = White - Painted\\rHead and Seat Board Species = Pine\\rHead and Seat Board Finish Color = White - Painted\\rOverall Wall Depth = 5 1/4\"\\rPlatform Boards = Top and Bottom Platforms\\rAngle Bay/Bow Supports = w/Cable Support System', '1', '$303.50', '$303.50'], ['28', '400-11', '400 Series Casement Bow\\rOverall Joined Rough Opening = 120 3/8\" x 73 7/8\"\\rOverall Joined Unit = 120 3/4\" x 73 3/8\"\\rDimensional Entry Type = Overall Width, Angle\\rInstallation Zip Code = 55082\\rU.S. ENERGY STAR® Climate Zone = Northern\\rSearch by Unit Code = No\\rFrame Width = 24 1/8\\rFrame Height = 71 7/8\\rUnit 1, 2, 4, 5: Unit Code = C56-BOW\\rUnit 1, 2, 4, 5: Combination Operation / Venting =\\rStationary-Stationary-Left-Stationary-Stationary\\rUnit 1, 2, 4, 5: Venting / Handing = Stationary\\rUnit 3: Unit Code = C56-BOW\\rUnit 3: Combination Operation / Venting =\\rStationary-Stationary-Left-Stationary-Stationary\\rUnit 3: Venting / Handing = Left\\rUnit 3: Hinge Style = Hinge with Wash Mode\\rExterior Color = White\\rExterior Sash/Panel Color = White\\rInterior Species = Pine\\rInterior Finish Color = White - Vinyl Wrapped\\rGlass Construction Type = Dual Pane\\rGlass Option = Low-E4 SmartSun\\rHigh Altitude Breather Tubes = No\\rGlass Strength = Tempered\\rGlass Tint = No Tint\\rSpecialty Glass = Fern\\rGas Fill = Argon\\rArt Glass Series = None\\rRemovable Interior Grille\\rColonial\\rGrille Pattern = Colonial\\rGrille Bar Width = 7/8\"\\rExterior Grille Color = White\\rInterior Grille Species = Maple\\rInterior Grille Color = White\\r2W6H\\rGrille Alignment Type = Standard Grille Alignment\\rDP/PG Upgrade = No\\rHardware Style = Contemporary Folding\\rHardware Color/Finish = Bright Brass\\rCorrosion Resistant Hardware = None\\rWindow Opening Control Device = No\\rSecurity Sensor Type = None\\rInsect Screen Type = Full Screen\\rInsect Screen Material = Aluminum\\rInsect Screen Color = White\\rBay/Bow Option Type = Walkout\\rBay/Bow/Box Extension Jamb Color = White - Painted\\rHead and Seat Board Species = Pine\\rHead and Seat Board Finish Color = White - Painted\\rOverall Wall Depth = 5 1/4\"\\rPlatform Boards = Top and Bottom Platforms\\rAngle Bay/Bow Supports = w/Cable Support System', '1', '$191.60', '$191.60'], ['29', '400-12', '400 Series Casement Bow\\rOverall Joined Rough Opening = 120 3/8\" x 73 7/8\"\\rOverall Joined Unit = 120 3/4\" x 73 3/8\"\\rDimensional Entry Type = Overall Width, Angle\\rInstallation Zip Code = 55082\\rU.S. ENERGY STAR® Climate Zone = Northern\\rSearch by Unit Code = No\\rFrame Width = 24 1/8\\rFrame Height = 71 7/8\\rUnit 1, 2, 4, 5: Unit Code = C56-BOW\\rUnit 1, 2, 4, 5: Combination Operation / Venting =\\rStationary-Stationary-Left-Stationary-Stationary\\rUnit 1, 2, 4, 5: Venting / Handing = Stationary\\rUnit 3: Unit Code = C56-BOW\\rUnit 3: Combination Operation / Venting =\\rStationary-Stationary-Left-Stationary-Stationary\\rUnit 3: Venting / Handing = Left\\rUnit 3: Hinge Style = Hinge with Wash Mode\\rExterior Color = White\\rExterior Sash/Panel Color = White\\rInterior Species = Pine\\rInterior Finish Color = White - Vinyl Wrapped\\rGlass Construction Type = Dual Pane\\rGlass Option = Low-E4 SmartSun\\rHigh Altitude Breather Tubes = No\\rGlass Strength = Tempered\\rGlass Tint = No Tint\\rSpecialty Glass = Fern\\rGas Fill = Argon\\rArt Glass Series = None\\rRemovable Interior Grille\\rColonial\\rGrille Pattern = Colonial\\rGrille Bar Width = 7/8\"\\rExterior Grille Color = White\\rInterior Grille Species = Maple\\rInterior Grille Color = White\\r2W6H\\rGrille Alignment Type = Standard Grille Alignment\\rDP/PG Upgrade = No\\rHardware Style = Contemporary Folding\\rHardware Color/Finish = Bright Brass\\rCorrosion Resistant Hardware = None\\rWindow Opening Control Device = No\\rSecurity Sensor Type = None\\rInsect Screen Type = Full Screen\\rInsect Screen Material = Aluminum\\rInsect Screen Color = White\\rBay/Bow Option Type = Walkout\\rBay/Bow/Box Extension Jamb Color = White - Painted\\rHead and Seat Board Species = Pine\\rHead and Seat Board Finish Color = White - Painted\\rOverall Wall Depth = 5 1/4\"\\rPlatform Boards = Top and Bottom Platforms\\rAngle Bay/Bow Supports = w/Cable Support System', '1', '$51.40', '$51.40'], ['30', '400-13', '400 Series Casement Bow\\rOverall Joined Rough Opening = 120 3/8\" x 73 7/8\"\\rOverall Joined Unit = 120 3/4\" x 73 3/8\"\\rDimensional Entry Type = Overall Width, Angle\\rInstallation Zip Code = 55082\\rU.S. ENERGY STAR® Climate Zone = Northern\\rSearch by Unit Code = No\\rFrame Width = 24 1/8\\rFrame Height = 71 7/8\\rUnit 1, 2, 4, 5: Unit Code = C56-BOW\\rUnit 1, 2, 4, 5: Combination Operation / Venting =\\rStationary-Stationary-Left-Stationary-Stationary\\rUnit 1, 2, 4, 5: Venting / Handing = Stationary\\rUnit 3: Unit Code = C56-BOW\\rUnit 3: Combination Operation / Venting =\\rStationary-Stationary-Left-Stationary-Stationary\\rUnit 3: Venting / Handing = Left\\rUnit 3: Hinge Style = Hinge with Wash Mode\\rExterior Color = White\\rExterior Sash/Panel Color = White\\rInterior Species = Pine\\rInterior Finish Color = White - Vinyl Wrapped\\rGlass Construction Type = Dual Pane\\rGlass Option = Low-E4 SmartSun\\rHigh Altitude Breather Tubes = No\\rGlass Strength = Tempered\\rGlass Tint = No Tint\\rSpecialty Glass = Fern\\rGas Fill = Argon\\rArt Glass Series = None\\rRemovable Interior Grille\\rColonial\\rGrille Pattern = Colonial\\rGrille Bar Width = 7/8\"\\rExterior Grille Color = White\\rInterior Grille Species = Maple\\rInterior Grille Color = White\\r2W6H\\rGrille Alignment Type = Standard Grille Alignment\\rDP/PG Upgrade = No\\rHardware Style = Contemporary Folding\\rHardware Color/Finish = Bright Brass\\rCorrosion Resistant Hardware = None\\rWindow Opening Control Device = No\\rSecurity Sensor Type = None\\rInsect Screen Type = Full Screen\\rInsect Screen Material = Aluminum\\rInsect Screen Color = White\\rBay/Bow Option Type = Walkout\\rBay/Bow/Box Extension Jamb Color = White - Painted\\rHead and Seat Board Species = Pine\\rHead and Seat Board Finish Color = White - Painted\\rOverall Wall Depth = 5 1/4\"\\rPlatform Boards = Top and Bottom Platforms\\rAngle Bay/Bow Supports = w/Cable Support System', '1', '$95.00', '$95.00'], ['31', '500-1', '100 Series Single Casement-CW\\rParts and Accessory Group = Hardware Components\\rHardware Component Type = Handle\\rHardware Handing = Left\\rHardware Color/Finish = White\\rRe-Order Item = No\\rRoom Location = None\\rHardware Component Part Number = 9123321\\rSKU = 288537\\rVendor Name = S/O ANDERSEN LOGISTICS\\rVendor Number = 60509030\\rCustomer Service = (888) 888-7020\\rCatalog Version Date = 03/26/2019', nan, '$7.70', '$7.70']]\n"
     ]
    }
   ],
   "source": [
    " li = []\n",
    "for i in da:\n",
    "    li.append(i)\n",
    "print(li)"
   ]
  },
  {
   "cell_type": "code",
   "execution_count": 39,
   "metadata": {},
   "outputs": [
    {
     "name": "stdout",
     "output_type": "stream",
     "text": [
      "[['1', '100-1', '400 Series Awning\\rOverall Joined Rough Opening = 99 1/4\" x 24 5/8\"\\rOverall Joined Unit = 98 3/4\" x 24 1/8\"\\rInstallation Zip Code = 55082\\rU.S. ENERGY STAR® Climate Zone = Northern\\rSearch by Unit Code = No\\rStandard Width = RO: 24 5/8\" | UNIT: 24 1/8\"\\rStandard Height = RO: 24 5/8\" | UNIT: 24 1/8\"\\rFrame Width = 24 1/8\\rFrame Height = 24 1/8\\rUnit Code = A21\\rFrame Option = Installation Flange\\rCombination Operation / Venting = Vent(All)\\rVenting / Handing = Vent\\rElectric Operator Prep = No\\rExterior Color = Sandtone\\rInterior Species = Pine\\rInterior Finish Color = Unfinished\\rGlass Construction Type = Dual Pane\\rGlass Option = Low-E4\\rHigh Altitude Breather Tubes = No\\rGlass Strength = Standard\\rGlass Tint = No Tint\\rSpecialty Glass = None\\rGas Fill = Argon\\rArt Glass Series = None\\rNone\\rDP/PG Upgrade = Yes\\rHardware Style = Classic Series\\rHardware Color/Finish = White\\rCorrosion Resistant Hardware = None\\rSecurity Sensor Type = None\\rInsect Screen Type = None\\rExterior Trim Style = 3 1/2\" Flat\\rExterior Trim Type = Sill Nose\\rExterior Trim Color = White\\rExterior Trim Sill Size = 1 3/4\"\\rExterior Trim Application Method = Pre-cut Trim Kit\\rExtension Jamb Type = None\\rInstallation Material Options = No\\rRe-Order Item = No\\rRoom Location = None\\rUnit U-Factor = 0.28\\rUnit Solar Heat Gain Coefficient (SHGC) = 0.31\\rU.S. ENERGY STAR Certified = No\\rHardware Part Number = 1521026\\rVertical\\rFactory\\r0.75\" thick, 24.125\" length\\rSKU = 289185\\rVendor Name = S/O ANDERSEN LOGISTICS\\rVendor Number = 60509030\\rCustomer Service = (888) 888-7020\\rCatalog Version Date = 03/26/2019', '1', '$2,299.30', '$2,299.30'], ['2', '100-2', '400 Series Awning\\rOverall Joined Rough Opening = 99 1/4\" x 24 5/8\"\\rOverall Joined Unit = 98 3/4\" x 24 1/8\"\\rInstallation Zip Code = 55082\\rU.S. ENERGY STAR® Climate Zone = Northern\\rSearch by Unit Code = No\\rStandard Width = RO: 24 5/8\" | UNIT: 24 1/8\"\\rStandard Height = RO: 24 5/8\" | UNIT: 24 1/8\"\\rFrame Width = 24 1/8\\rFrame Height = 24 1/8\\rUnit Code = A21\\rFrame Option = Installation Flange\\rCombination Operation / Venting = Vent(All)\\rVenting / Handing = Vent\\rElectric Operator Prep = No\\rExterior Color = Sandtone\\rInterior Species = Pine\\rInterior Finish Color = Unfinished\\rGlass Construction Type = Dual Pane\\rGlass Option = Low-E4\\rHigh Altitude Breather Tubes = No\\rGlass Strength = Standard\\rGlass Tint = No Tint\\rSpecialty Glass = None\\rGas Fill = Argon\\rArt Glass Series = None\\rNone\\rDP/PG Upgrade = Yes\\rHardware Style = Classic Series\\rHardware Color/Finish = White\\rCorrosion Resistant Hardware = None\\rSecurity Sensor Type = None\\rInsect Screen Type = None\\rExterior Trim Style = 3 1/2\" Flat\\rExterior Trim Type = Sill Nose\\rExterior Trim Color = White\\rExterior Trim Sill Size = 1 3/4\"\\rExterior Trim Application Method = Pre-cut Trim Kit\\rExtension Jamb Type = None\\rInstallation Material Options = No\\rRe-Order Item = No\\rRoom Location = None\\rUnit U-Factor = 0.28\\rUnit Solar Heat Gain Coefficient (SHGC) = 0.31\\rU.S. ENERGY STAR Certified = No\\rHardware Part Number = 1521026\\rVertical\\rFactory\\r0.75\" thick, 24.125\" length\\rSKU = 289185\\rVendor Name = S/O ANDERSEN LOGISTICS\\rVendor Number = 60509030\\rCustomer Service = (888) 888-7020\\rCatalog Version Date = 03/26/2019', '1', '$13.80', '$13.80'], ['3', '100-3', '400 Series Awning\\rOverall Joined Rough Opening = 99 1/4\" x 24 5/8\"\\rOverall Joined Unit = 98 3/4\" x 24 1/8\"\\rInstallation Zip Code = 55082\\rU.S. ENERGY STAR® Climate Zone = Northern\\rSearch by Unit Code = No\\rStandard Width = RO: 24 5/8\" | UNIT: 24 1/8\"\\rStandard Height = RO: 24 5/8\" | UNIT: 24 1/8\"\\rFrame Width = 24 1/8\\rFrame Height = 24 1/8\\rUnit Code = A21\\rFrame Option = Installation Flange\\rCombination Operation / Venting = Vent(All)\\rVenting / Handing = Vent\\rElectric Operator Prep = No\\rExterior Color = Sandtone\\rInterior Species = Pine\\rInterior Finish Color = Unfinished\\rGlass Construction Type = Dual Pane\\rGlass Option = Low-E4\\rHigh Altitude Breather Tubes = No\\rGlass Strength = Standard\\rGlass Tint = No Tint\\rSpecialty Glass = None\\rGas Fill = Argon\\rArt Glass Series = None\\rNone\\rDP/PG Upgrade = Yes\\rHardware Style = Classic Series\\rHardware Color/Finish = White\\rCorrosion Resistant Hardware = None\\rSecurity Sensor Type = None\\rInsect Screen Type = None\\rExterior Trim Style = 3 1/2\" Flat\\rExterior Trim Type = Sill Nose\\rExterior Trim Color = White\\rExterior Trim Sill Size = 1 3/4\"\\rExterior Trim Application Method = Pre-cut Trim Kit\\rExtension Jamb Type = None\\rInstallation Material Options = No\\rRe-Order Item = No\\rRoom Location = None\\rUnit U-Factor = 0.28\\rUnit Solar Heat Gain Coefficient (SHGC) = 0.31\\rU.S. ENERGY STAR Certified = No\\rHardware Part Number = 1521026\\rVertical\\rFactory\\r0.75\" thick, 24.125\" length\\rSKU = 289185\\rVendor Name = S/O ANDERSEN LOGISTICS\\rVendor Number = 60509030\\rCustomer Service = (888) 888-7020\\rCatalog Version Date = 03/26/2019', '1', '$13.80', '$13.80'], ['4', '100-4', '400 Series Awning $13.80\\rOverall Joined Rough Opening = 99 1/4\" x 24 5/8\"\\rOverall Joined Unit = 98 3/4\" x 24 1/8\"\\rInstallation Zip Code = 55082\\rU.S. ENERGY STAR® Climate Zone = Northern\\rSearch by Unit Code = No\\rStandard Width = RO: 24 5/8\" | UNIT: 24 1/8\"\\rStandard Height = RO: 24 5/8\" | UNIT: 24 1/8\"\\rFrame Width = 24 1/8\\rFrame Height = 24 1/8\\rUnit Code = A21\\rFrame Option = Installation Flange\\rCombination Operation / Venting = Vent(All)\\rVenting / Handing = Vent\\rElectric Operator Prep = No\\rExterior Color = Sandtone\\rInterior Species = Pine\\rInterior Finish Color = Unfinished\\rGlass Construction Type = Dual Pane\\rGlass Option = Low-E4\\rHigh Altitude Breather Tubes = No\\rGlass Strength = Standard\\rGlass Tint = No Tint\\rSpecialty Glass = None\\rGas Fill = Argon\\rArt Glass Series = None\\rNone\\rDP/PG Upgrade = Yes\\rHardware Style = Classic Series\\rHardware Color/Finish = White\\rCorrosion Resistant Hardware = None\\rSecurity Sensor Type = None\\rInsect Screen Type = None\\rExterior Trim Style = 3 1/2\" Flat\\rExterior Trim Type = Sill Nose\\rExterior Trim Color = White\\rExterior Trim Sill Size = 1 3/4\"\\rExterior Trim Application Method = Pre-cut Trim Kit\\rExtension Jamb Type = None\\rInstallation Material Options = No\\rRe-Order Item = No\\rRoom Location = None\\rUnit U-Factor = 0.28\\rUnit Solar Heat Gain Coefficient (SHGC) = 0.31\\rU.S. ENERGY STAR Certified = No\\rHardware Part Number = 1521026\\rVertical\\rFactory\\r0.75\" thick, 24.125\" length\\rSKU = 289185\\rVendor Name = S/O ANDERSEN LOGISTICS\\rVendor Number = 60509030\\rCustomer Service = (888) 888-7020\\rCatalog Version Date = 03/26/2019', '1', '$13.80', '$13.80'], ['5', '300-1', '400 Series Double-Hung Bay\\rOverall Joined Rough Opening = 79 1/8\" x 70 3/4\"\\rOverall Joined Unit = 80 7/16\" x 70 1/4\"\\rDimensional Entry Type = Standard Sizes (By Center\\rWidth)\\rInstallation Zip Code = 55082\\rU.S. ENERGY STAR® Climate Zone = Northern\\rSearch by Unit Code = No\\rUnit 1, 3: Frame Width = 21 5/8\\rUnit 1, 3: Frame Height = 68 7/8\\rUnit 2: Frame Width = 41 5/8\\rUnit 2: Frame Height = 68 7/8\\rUnit Code = TW45-3456-18\\rCombination Operation / Venting = Active (All)\\rVenting / Handing = AA\\rExterior Color = Dark Bronze\\rExterior Sash/Panel Color = Dark Bronze\\rInterior Species = Pine\\rInterior Finish Color = White - Painted\\rJamb Liner Color = White\\rGlass Construction Type = Dual Pane\\rGlass Option = Low-E4\\rHigh Altitude Breather Tubes = No\\rGlass Strength = Tempered\\rSpecialty Glass = Reed Vertical\\rGas Fill = Argon\\rNone\\rDP/PG Upgrade = No\\rSash Lift Type = Hand Lift\\rSash Lift Style = Traditional\\rSash Lift Color/Finish = Antique Brass\\rLock Hardware Style = Traditional\\rNumber of Sash Locks = 1\\rLock Hardware Color/Finish = White (Factory Applied)\\rWindow Opening Control Device = No\\rSecurity Sensor Type = None\\rInsect Screen Type = Half Screen\\rInsect Screen Material = TruScene\\rInsect Screen Color = Sandtone\\rBay/Bow Option Type = Standard\\rBay/Bow/Box Extension Jamb Color = White - Painted\\rHead and Seat Board Species = Pine\\rHead and Seat Board Finish Color = White - Painted\\rOverall Wall Depth = 6 9/16\"\\rPlatform Boards = Top and Bottom Platforms\\rAngle Bay/Bow Supports = w/Cable Support System\\rTop Auxiliary Casing = Top Auxiliary\\rAuxiliary Casing Colors = Dark Bronze\\rCasing Application Location = Shipped Loose\\rTrim Board = Fibrex Cellular Trim Board\\rInstallation Material Options = No\\rRe-Order Item = No\\rRoom Location = None\\rUnit 1, 3: Unit U-Factor = ---\\rUnit 1, 3: Unit Solar Heat Gain Coefficient (SHGC) = ---', '1', '$4,376.20', '$4,376.20'], ['6', '300-2', '400 Series Double-Hung Bay\\rOverall Joined Rough Opening = 79 1/8\" x 70 3/4\"\\rOverall Joined Unit = 80 7/16\" x 70 1/4\"\\rDimensional Entry Type = Standard Sizes (By Center\\rWidth)\\rInstallation Zip Code = 55082\\rU.S. ENERGY STAR® Climate Zone = Northern\\rSearch by Unit Code = No\\rUnit 1, 3: Frame Width = 21 5/8\\rUnit 1, 3: Frame Height = 68 7/8\\rUnit 2: Frame Width = 41 5/8\\rUnit 2: Frame Height = 68 7/8\\rUnit Code = TW45-3456-18\\rCombination Operation / Venting = Active (All)\\rVenting / Handing = AA\\rExterior Color = Dark Bronze\\rExterior Sash/Panel Color = Dark Bronze\\rInterior Species = Pine\\rInterior Finish Color = White - Painted\\rJamb Liner Color = White\\rGlass Construction Type = Dual Pane\\rGlass Option = Low-E4\\rHigh Altitude Breather Tubes = No\\rGlass Strength = Tempered\\rSpecialty Glass = Reed Vertical\\rGas Fill = Argon\\rNone\\rDP/PG Upgrade = No\\rSash Lift Type = Hand Lift\\rSash Lift Style = Traditional\\rSash Lift Color/Finish = Antique Brass\\rLock Hardware Style = Traditional\\rNumber of Sash Locks = 1\\rLock Hardware Color/Finish = White (Factory Applied)\\rWindow Opening Control Device = No\\rSecurity Sensor Type = None\\rInsect Screen Type = Half Screen\\rInsect Screen Material = TruScene\\rInsect Screen Color = Sandtone\\rBay/Bow Option Type = Standard\\rBay/Bow/Box Extension Jamb Color = White - Painted\\rHead and Seat Board Species = Pine\\rHead and Seat Board Finish Color = White - Painted\\rOverall Wall Depth = 6 9/16\"\\rPlatform Boards = Top and Bottom Platforms\\rAngle Bay/Bow Supports = w/Cable Support System\\rTop Auxiliary Casing = Top Auxiliary\\rAuxiliary Casing Colors = Dark Bronze\\rCasing Application Location = Shipped Loose\\rTrim Board = Fibrex Cellular Trim Board\\rInstallation Material Options = No\\rRe-Order Item = No\\rRoom Location = None\\rUnit 1, 3: Unit U-Factor = ---\\rUnit 1, 3: Unit Solar Heat Gain Coefficient (SHGC) = ---', '1', '$32.00', '$32.00'], ['7', '300-3', '400 Series Double-Hung Bay\\rOverall Joined Rough Opening = 79 1/8\" x 70 3/4\"\\rOverall Joined Unit = 80 7/16\" x 70 1/4\"\\rDimensional Entry Type = Standard Sizes (By Center\\rWidth)\\rInstallation Zip Code = 55082\\rU.S. ENERGY STAR® Climate Zone = Northern\\rSearch by Unit Code = No\\rUnit 1, 3: Frame Width = 21 5/8\\rUnit 1, 3: Frame Height = 68 7/8\\rUnit 2: Frame Width = 41 5/8\\rUnit 2: Frame Height = 68 7/8\\rUnit Code = TW45-3456-18\\rCombination Operation / Venting = Active (All)\\rVenting / Handing = AA\\rExterior Color = Dark Bronze\\rExterior Sash/Panel Color = Dark Bronze\\rInterior Species = Pine\\rInterior Finish Color = White - Painted\\rJamb Liner Color = White\\rGlass Construction Type = Dual Pane\\rGlass Option = Low-E4\\rHigh Altitude Breather Tubes = No\\rGlass Strength = Tempered\\rSpecialty Glass = Reed Vertical\\rGas Fill = Argon\\rNone\\rDP/PG Upgrade = No\\rSash Lift Type = Hand Lift\\rSash Lift Style = Traditional\\rSash Lift Color/Finish = Antique Brass\\rLock Hardware Style = Traditional\\rNumber of Sash Locks = 1\\rLock Hardware Color/Finish = White (Factory Applied)\\rWindow Opening Control Device = No\\rSecurity Sensor Type = None\\rInsect Screen Type = Half Screen\\rInsect Screen Material = TruScene\\rInsect Screen Color = Sandtone\\rBay/Bow Option Type = Standard\\rBay/Bow/Box Extension Jamb Color = White - Painted\\rHead and Seat Board Species = Pine\\rHead and Seat Board Finish Color = White - Painted\\rOverall Wall Depth = 6 9/16\"\\rPlatform Boards = Top and Bottom Platforms\\rAngle Bay/Bow Supports = w/Cable Support System\\rTop Auxiliary Casing = Top Auxiliary\\rAuxiliary Casing Colors = Dark Bronze\\rCasing Application Location = Shipped Loose\\rTrim Board = Fibrex Cellular Trim Board\\rInstallation Material Options = No\\rRe-Order Item = No\\rRoom Location = None\\rUnit 1, 3: Unit U-Factor = ---\\rUnit 1, 3: Unit Solar Heat Gain Coefficient (SHGC) = ---', '1', '$175.00', '$175.00'], ['8', '300-4', '400 Series Double-Hung Bay\\rOverall Joined Rough Opening = 79 1/8\" x 70 3/4\"\\rOverall Joined Unit = 80 7/16\" x 70 1/4\"\\rDimensional Entry Type = Standard Sizes (By Center\\rWidth)\\rInstallation Zip Code = 55082\\rU.S. ENERGY STAR® Climate Zone = Northern\\rSearch by Unit Code = No\\rUnit 1, 3: Frame Width = 21 5/8\\rUnit 1, 3: Frame Height = 68 7/8\\rUnit 2: Frame Width = 41 5/8\\rUnit 2: Frame Height = 68 7/8\\rUnit Code = TW45-3456-18\\rCombination Operation / Venting = Active (All)\\rVenting / Handing = AA\\rExterior Color = Dark Bronze\\rExterior Sash/Panel Color = Dark Bronze\\rInterior Species = Pine\\rInterior Finish Color = White - Painted\\rJamb Liner Color = White\\rGlass Construction Type = Dual Pane\\rGlass Option = Low-E4\\rHigh Altitude Breather Tubes = No\\rGlass Strength = Tempered\\rSpecialty Glass = Reed Vertical\\rGas Fill = Argon\\rNone\\rDP/PG Upgrade = No\\rSash Lift Type = Hand Lift\\rSash Lift Style = Traditional\\rSash Lift Color/Finish = Antique Brass\\rLock Hardware Style = Traditional\\rNumber of Sash Locks = 1\\rLock Hardware Color/Finish = White (Factory Applied)\\rWindow Opening Control Device = No\\rSecurity Sensor Type = None\\rInsect Screen Type = Half Screen\\rInsect Screen Material = TruScene\\rInsect Screen Color = Sandtone\\rBay/Bow Option Type = Standard\\rBay/Bow/Box Extension Jamb Color = White - Painted\\rHead and Seat Board Species = Pine\\rHead and Seat Board Finish Color = White - Painted\\rOverall Wall Depth = 6 9/16\"\\rPlatform Boards = Top and Bottom Platforms\\rAngle Bay/Bow Supports = w/Cable Support System\\rTop Auxiliary Casing = Top Auxiliary\\rAuxiliary Casing Colors = Dark Bronze\\rCasing Application Location = Shipped Loose\\rTrim Board = Fibrex Cellular Trim Board\\rInstallation Material Options = No\\rRe-Order Item = No\\rRoom Location = None\\rUnit 1, 3: Unit U-Factor = ---\\rUnit 1, 3: Unit Solar Heat Gain Coefficient (SHGC) = ---', '1', '$8.00', '$8.00'], ['9', '300-5', '400 Series Double-Hung Bay\\rOverall Joined Rough Opening = 79 1/8\" x 70 3/4\"\\rOverall Joined Unit = 80 7/16\" x 70 1/4\"\\rDimensional Entry Type = Standard Sizes (By Center\\rWidth)\\rInstallation Zip Code = 55082\\rU.S. ENERGY STAR® Climate Zone = Northern\\rSearch by Unit Code = No\\rUnit 1, 3: Frame Width = 21 5/8\\rUnit 1, 3: Frame Height = 68 7/8\\rUnit 2: Frame Width = 41 5/8\\rUnit 2: Frame Height = 68 7/8\\rUnit Code = TW45-3456-18\\rCombination Operation / Venting = Active (All)\\rVenting / Handing = AA\\rExterior Color = Dark Bronze\\rExterior Sash/Panel Color = Dark Bronze\\rInterior Species = Pine\\rInterior Finish Color = White - Painted\\rJamb Liner Color = White\\rGlass Construction Type = Dual Pane\\rGlass Option = Low-E4\\rHigh Altitude Breather Tubes = No\\rGlass Strength = Tempered\\rSpecialty Glass = Reed Vertical\\rGas Fill = Argon\\rNone\\rDP/PG Upgrade = No\\rSash Lift Type = Hand Lift\\rSash Lift Style = Traditional\\rSash Lift Color/Finish = Antique Brass\\rLock Hardware Style = Traditional\\rNumber of Sash Locks = 1\\rLock Hardware Color/Finish = White (Factory Applied)\\rWindow Opening Control Device = No\\rSecurity Sensor Type = None\\rInsect Screen Type = Half Screen\\rInsect Screen Material = TruScene\\rInsect Screen Color = Sandtone\\rBay/Bow Option Type = Standard\\rBay/Bow/Box Extension Jamb Color = White - Painted\\rHead and Seat Board Species = Pine\\rHead and Seat Board Finish Color = White - Painted\\rOverall Wall Depth = 6 9/16\"\\rPlatform Boards = Top and Bottom Platforms\\rAngle Bay/Bow Supports = w/Cable Support System\\rTop Auxiliary Casing = Top Auxiliary\\rAuxiliary Casing Colors = Dark Bronze\\rCasing Application Location = Shipped Loose\\rTrim Board = Fibrex Cellular Trim Board\\rInstallation Material Options = No\\rRe-Order Item = No\\rRoom Location = None\\rUnit 1, 3: Unit U-Factor = ---\\rUnit 1, 3: Unit Solar Heat Gain Coefficient (SHGC) = ---', '1', '$32.00', '$32.00'], ['10', '300-6', '400 Series Double-Hung Bay\\rOverall Joined Rough Opening = 79 1/8\" x 70 3/4\"\\rOverall Joined Unit = 80 7/16\" x 70 1/4\"\\rDimensional Entry Type = Standard Sizes (By Center\\rWidth)\\rInstallation Zip Code = 55082\\rU.S. ENERGY STAR® Climate Zone = Northern\\rSearch by Unit Code = No\\rUnit 1, 3: Frame Width = 21 5/8\\rUnit 1, 3: Frame Height = 68 7/8\\rUnit 2: Frame Width = 41 5/8\\rUnit 2: Frame Height = 68 7/8\\rUnit Code = TW45-3456-18\\rCombination Operation / Venting = Active (All)\\rVenting / Handing = AA\\rExterior Color = Dark Bronze\\rExterior Sash/Panel Color = Dark Bronze\\rInterior Species = Pine\\rInterior Finish Color = White - Painted\\rJamb Liner Color = White\\rGlass Construction Type = Dual Pane\\rGlass Option = Low-E4\\rHigh Altitude Breather Tubes = No\\rGlass Strength = Tempered\\rSpecialty Glass = Reed Vertical\\rGas Fill = Argon\\rNone\\rDP/PG Upgrade = No\\rSash Lift Type = Hand Lift\\rSash Lift Style = Traditional\\rSash Lift Color/Finish = Antique Brass\\rLock Hardware Style = Traditional\\rNumber of Sash Locks = 1\\rLock Hardware Color/Finish = White (Factory Applied)\\rWindow Opening Control Device = No\\rSecurity Sensor Type = None\\rInsect Screen Type = Half Screen\\rInsect Screen Material = TruScene\\rInsect Screen Color = Sandtone\\rBay/Bow Option Type = Standard\\rBay/Bow/Box Extension Jamb Color = White - Painted\\rHead and Seat Board Species = Pine\\rHead and Seat Board Finish Color = White - Painted\\rOverall Wall Depth = 6 9/16\"\\rPlatform Boards = Top and Bottom Platforms\\rAngle Bay/Bow Supports = w/Cable Support System\\rTop Auxiliary Casing = Top Auxiliary\\rAuxiliary Casing Colors = Dark Bronze\\rCasing Application Location = Shipped Loose\\rTrim Board = Fibrex Cellular Trim Board\\rInstallation Material Options = No\\rRe-Order Item = No\\rRoom Location = None\\rUnit 1, 3: Unit U-Factor = ---\\rUnit 1, 3: Unit Solar Heat Gain Coefficient (SHGC) = ---', '1', '$201.80', '$201.80'], ['11', '300-7', '400 Series Double-Hung Bay\\rOverall Joined Rough Opening = 79 1/8\" x 70 3/4\"\\rOverall Joined Unit = 80 7/16\" x 70 1/4\"\\rDimensional Entry Type = Standard Sizes (By Center\\rWidth)\\rInstallation Zip Code = 55082\\rU.S. ENERGY STAR® Climate Zone = Northern\\rSearch by Unit Code = No\\rUnit 1, 3: Frame Width = 21 5/8\\rUnit 1, 3: Frame Height = 68 7/8\\rUnit 2: Frame Width = 41 5/8\\rUnit 2: Frame Height = 68 7/8\\rUnit Code = TW45-3456-18\\rCombination Operation / Venting = Active (All)\\rVenting / Handing = AA\\rExterior Color = Dark Bronze\\rExterior Sash/Panel Color = Dark Bronze\\rInterior Species = Pine\\rInterior Finish Color = White - Painted\\rJamb Liner Color = White\\rGlass Construction Type = Dual Pane\\rGlass Option = Low-E4\\rHigh Altitude Breather Tubes = No\\rGlass Strength = Tempered\\rSpecialty Glass = Reed Vertical\\rGas Fill = Argon\\rNone\\rDP/PG Upgrade = No\\rSash Lift Type = Hand Lift\\rSash Lift Style = Traditional\\rSash Lift Color/Finish = Antique Brass\\rLock Hardware Style = Traditional\\rNumber of Sash Locks = 1\\rLock Hardware Color/Finish = White (Factory Applied)\\rWindow Opening Control Device = No\\rSecurity Sensor Type = None\\rInsect Screen Type = Half Screen\\rInsect Screen Material = TruScene\\rInsect Screen Color = Sandtone\\rBay/Bow Option Type = Standard\\rBay/Bow/Box Extension Jamb Color = White - Painted\\rHead and Seat Board Species = Pine\\rHead and Seat Board Finish Color = White - Painted\\rOverall Wall Depth = 6 9/16\"\\rPlatform Boards = Top and Bottom Platforms\\rAngle Bay/Bow Supports = w/Cable Support System\\rTop Auxiliary Casing = Top Auxiliary\\rAuxiliary Casing Colors = Dark Bronze\\rCasing Application Location = Shipped Loose\\rTrim Board = Fibrex Cellular Trim Board\\rInstallation Material Options = No\\rRe-Order Item = No\\rRoom Location = None\\rUnit 1, 3: Unit U-Factor = ---\\rUnit 1, 3: Unit Solar Heat Gain Coefficient (SHGC) = ---', '1', '$10.50', '$10.50'], ['12', '300-8', '400 Series Double-Hung Bay\\rOverall Joined Rough Opening = 79 1/8\" x 70 3/4\"\\rOverall Joined Unit = 80 7/16\" x 70 1/4\"\\rDimensional Entry Type = Standard Sizes (By Center\\rWidth)\\rInstallation Zip Code = 55082\\rU.S. ENERGY STAR® Climate Zone = Northern\\rSearch by Unit Code = No\\rUnit 1, 3: Frame Width = 21 5/8\\rUnit 1, 3: Frame Height = 68 7/8\\rUnit 2: Frame Width = 41 5/8\\rUnit 2: Frame Height = 68 7/8\\rUnit Code = TW45-3456-18\\rCombination Operation / Venting = Active (All)\\rVenting / Handing = AA\\rExterior Color = Dark Bronze\\rExterior Sash/Panel Color = Dark Bronze\\rInterior Species = Pine\\rInterior Finish Color = White - Painted\\rJamb Liner Color = White\\rGlass Construction Type = Dual Pane\\rGlass Option = Low-E4\\rHigh Altitude Breather Tubes = No\\rGlass Strength = Tempered\\rSpecialty Glass = Reed Vertical\\rGas Fill = Argon\\rNone\\rDP/PG Upgrade = No\\rSash Lift Type = Hand Lift\\rSash Lift Style = Traditional\\rSash Lift Color/Finish = Antique Brass\\rLock Hardware Style = Traditional\\rNumber of Sash Locks = 1\\rLock Hardware Color/Finish = White (Factory Applied)\\rWindow Opening Control Device = No\\rSecurity Sensor Type = None\\rInsect Screen Type = Half Screen\\rInsect Screen Material = TruScene\\rInsect Screen Color = Sandtone\\rBay/Bow Option Type = Standard\\rBay/Bow/Box Extension Jamb Color = White - Painted\\rHead and Seat Board Species = Pine\\rHead and Seat Board Finish Color = White - Painted\\rOverall Wall Depth = 6 9/16\"\\rPlatform Boards = Top and Bottom Platforms\\rAngle Bay/Bow Supports = w/Cable Support System\\rTop Auxiliary Casing = Top Auxiliary\\rAuxiliary Casing Colors = Dark Bronze\\rCasing Application Location = Shipped Loose\\rTrim Board = Fibrex Cellular Trim Board\\rInstallation Material Options = No\\rRe-Order Item = No\\rRoom Location = None\\rUnit 1, 3: Unit U-Factor = ---\\rUnit 1, 3: Unit Solar Heat Gain Coefficient (SHGC) = ---', '1', '$32.00', '$32.00'], ['13', '300-9', '400 Series Double-Hung Bay\\rOverall Joined Rough Opening = 79 1/8\" x 70 3/4\"\\rOverall Joined Unit = 80 7/16\" x 70 1/4\"\\rDimensional Entry Type = Standard Sizes (By Center\\rWidth)\\rInstallation Zip Code = 55082\\rU.S. ENERGY STAR® Climate Zone = Northern\\rSearch by Unit Code = No\\rUnit 1, 3: Frame Width = 21 5/8\\rUnit 1, 3: Frame Height = 68 7/8\\rUnit 2: Frame Width = 41 5/8\\rUnit 2: Frame Height = 68 7/8\\rUnit Code = TW45-3456-18\\rCombination Operation / Venting = Active (All)\\rVenting / Handing = AA\\rExterior Color = Dark Bronze\\rExterior Sash/Panel Color = Dark Bronze\\rInterior Species = Pine\\rInterior Finish Color = White - Painted\\rJamb Liner Color = White\\rGlass Construction Type = Dual Pane\\rGlass Option = Low-E4\\rHigh Altitude Breather Tubes = No\\rGlass Strength = Tempered\\rSpecialty Glass = Reed Vertical\\rGas Fill = Argon\\rNone\\rDP/PG Upgrade = No\\rSash Lift Type = Hand Lift\\rSash Lift Style = Traditional\\rSash Lift Color/Finish = Antique Brass\\rLock Hardware Style = Traditional\\rNumber of Sash Locks = 1\\rLock Hardware Color/Finish = White (Factory Applied)\\rWindow Opening Control Device = No\\rSecurity Sensor Type = None\\rInsect Screen Type = Half Screen\\rInsect Screen Material = TruScene\\rInsect Screen Color = Sandtone\\rBay/Bow Option Type = Standard\\rBay/Bow/Box Extension Jamb Color = White - Painted\\rHead and Seat Board Species = Pine\\rHead and Seat Board Finish Color = White - Painted\\rOverall Wall Depth = 6 9/16\"\\rPlatform Boards = Top and Bottom Platforms\\rAngle Bay/Bow Supports = w/Cable Support System\\rTop Auxiliary Casing = Top Auxiliary\\rAuxiliary Casing Colors = Dark Bronze\\rCasing Application Location = Shipped Loose\\rTrim Board = Fibrex Cellular Trim Board\\rInstallation Material Options = No\\rRe-Order Item = No\\rRoom Location = None\\rUnit 1, 3: Unit U-Factor = ---\\rUnit 1, 3: Unit Solar Heat Gain Coefficient (SHGC) = ---', '1', '$175.00', '$175.00'], ['14', '300-10', '400 Series Double-Hung Bay\\rOverall Joined Rough Opening = 79 1/8\" x 70 3/4\"\\rOverall Joined Unit = 80 7/16\" x 70 1/4\"\\rDimensional Entry Type = Standard Sizes (By Center\\rWidth)\\rInstallation Zip Code = 55082\\rU.S. ENERGY STAR® Climate Zone = Northern\\rSearch by Unit Code = No\\rUnit 1, 3: Frame Width = 21 5/8\\rUnit 1, 3: Frame Height = 68 7/8\\rUnit 2: Frame Width = 41 5/8\\rUnit 2: Frame Height = 68 7/8\\rUnit Code = TW45-3456-18\\rCombination Operation / Venting = Active (All)\\rVenting / Handing = AA\\rExterior Color = Dark Bronze\\rExterior Sash/Panel Color = Dark Bronze\\rInterior Species = Pine\\rInterior Finish Color = White - Painted\\rJamb Liner Color = White\\rGlass Construction Type = Dual Pane\\rGlass Option = Low-E4\\rHigh Altitude Breather Tubes = No\\rGlass Strength = Tempered\\rSpecialty Glass = Reed Vertical\\rGas Fill = Argon\\rNone\\rDP/PG Upgrade = No\\rSash Lift Type = Hand Lift\\rSash Lift Style = Traditional\\rSash Lift Color/Finish = Antique Brass\\rLock Hardware Style = Traditional\\rNumber of Sash Locks = 1\\rLock Hardware Color/Finish = White (Factory Applied)\\rWindow Opening Control Device = No\\rSecurity Sensor Type = None\\rInsect Screen Type = Half Screen\\rInsect Screen Material = TruScene\\rInsect Screen Color = Sandtone\\rBay/Bow Option Type = Standard\\rBay/Bow/Box Extension Jamb Color = White - Painted\\rHead and Seat Board Species = Pine\\rHead and Seat Board Finish Color = White - Painted\\rOverall Wall Depth = 6 9/16\"\\rPlatform Boards = Top and Bottom Platforms\\rAngle Bay/Bow Supports = w/Cable Support System\\rTop Auxiliary Casing = Top Auxiliary\\rAuxiliary Casing Colors = Dark Bronze\\rCasing Application Location = Shipped Loose\\rTrim Board = Fibrex Cellular Trim Board\\rInstallation Material Options = No\\rRe-Order Item = No\\rRoom Location = None\\rUnit 1, 3: Unit U-Factor = ---\\rUnit 1, 3: Unit Solar Heat Gain Coefficient (SHGC) = ---', '1', '$8.00', '$8.00'], ['15', '300-11', '400 Series Double-Hung Bay\\rOverall Joined Rough Opening = 79 1/8\" x 70 3/4\"\\rOverall Joined Unit = 80 7/16\" x 70 1/4\"\\rDimensional Entry Type = Standard Sizes (By Center\\rWidth)\\rInstallation Zip Code = 55082\\rU.S. ENERGY STAR® Climate Zone = Northern\\rSearch by Unit Code = No\\rUnit 1, 3: Frame Width = 21 5/8\\rUnit 1, 3: Frame Height = 68 7/8\\rUnit 2: Frame Width = 41 5/8\\rUnit 2: Frame Height = 68 7/8\\rUnit Code = TW45-3456-18\\rCombination Operation / Venting = Active (All)\\rVenting / Handing = AA\\rExterior Color = Dark Bronze\\rExterior Sash/Panel Color = Dark Bronze\\rInterior Species = Pine\\rInterior Finish Color = White - Painted\\rJamb Liner Color = White\\rGlass Construction Type = Dual Pane\\rGlass Option = Low-E4\\rHigh Altitude Breather Tubes = No\\rGlass Strength = Tempered\\rSpecialty Glass = Reed Vertical\\rGas Fill = Argon\\rNone\\rDP/PG Upgrade = No\\rSash Lift Type = Hand Lift\\rSash Lift Style = Traditional\\rSash Lift Color/Finish = Antique Brass\\rLock Hardware Style = Traditional\\rNumber of Sash Locks = 1\\rLock Hardware Color/Finish = White (Factory Applied)\\rWindow Opening Control Device = No\\rSecurity Sensor Type = None\\rInsect Screen Type = Half Screen\\rInsect Screen Material = TruScene\\rInsect Screen Color = Sandtone\\rBay/Bow Option Type = Standard\\rBay/Bow/Box Extension Jamb Color = White - Painted\\rHead and Seat Board Species = Pine\\rHead and Seat Board Finish Color = White - Painted\\rOverall Wall Depth = 6 9/16\"\\rPlatform Boards = Top and Bottom Platforms\\rAngle Bay/Bow Supports = w/Cable Support System\\rTop Auxiliary Casing = Top Auxiliary\\rAuxiliary Casing Colors = Dark Bronze\\rCasing Application Location = Shipped Loose\\rTrim Board = Fibrex Cellular Trim Board\\rInstallation Material Options = No\\rRe-Order Item = No\\rRoom Location = None\\rUnit 1, 3: Unit U-Factor = ---\\rUnit 1, 3: Unit Solar Heat Gain Coefficient (SHGC) = ---', '1', '$66.50', '$66.50'], ['16', '300-12', '400 Series Double-Hung Bay\\rOverall Joined Rough Opening = 79 1/8\" x 70 3/4\"\\rOverall Joined Unit = 80 7/16\" x 70 1/4\"\\rDimensional Entry Type = Standard Sizes (By Center\\rWidth)\\rInstallation Zip Code = 55082\\rU.S. ENERGY STAR® Climate Zone = Northern\\rSearch by Unit Code = No\\rUnit 1, 3: Frame Width = 21 5/8\\rUnit 1, 3: Frame Height = 68 7/8\\rUnit 2: Frame Width = 41 5/8\\rUnit 2: Frame Height = 68 7/8\\rUnit Code = TW45-3456-18\\rCombination Operation / Venting = Active (All)\\rVenting / Handing = AA\\rExterior Color = Dark Bronze\\rExterior Sash/Panel Color = Dark Bronze\\rInterior Species = Pine\\rInterior Finish Color = White - Painted\\rJamb Liner Color = White\\rGlass Construction Type = Dual Pane\\rGlass Option = Low-E4\\rHigh Altitude Breather Tubes = No\\rGlass Strength = Tempered\\rSpecialty Glass = Reed Vertical\\rGas Fill = Argon\\rNone\\rDP/PG Upgrade = No\\rSash Lift Type = Hand Lift\\rSash Lift Style = Traditional\\rSash Lift Color/Finish = Antique Brass\\rLock Hardware Style = Traditional\\rNumber of Sash Locks = 1\\rLock Hardware Color/Finish = White (Factory Applied)\\rWindow Opening Control Device = No\\rSecurity Sensor Type = None\\rInsect Screen Type = Half Screen\\rInsect Screen Material = TruScene\\rInsect Screen Color = Sandtone\\rBay/Bow Option Type = Standard\\rBay/Bow/Box Extension Jamb Color = White - Painted\\rHead and Seat Board Species = Pine\\rHead and Seat Board Finish Color = White - Painted\\rOverall Wall Depth = 6 9/16\"\\rPlatform Boards = Top and Bottom Platforms\\rAngle Bay/Bow Supports = w/Cable Support System\\rTop Auxiliary Casing = Top Auxiliary\\rAuxiliary Casing Colors = Dark Bronze\\rCasing Application Location = Shipped Loose\\rTrim Board = Fibrex Cellular Trim Board\\rInstallation Material Options = No\\rRe-Order Item = No\\rRoom Location = None\\rUnit 1, 3: Unit U-Factor = ---\\rUnit 1, 3: Unit Solar Heat Gain Coefficient (SHGC) = ---', '1', '$499.60', '$499.60'], ['17', '300-13', '400 Series Double-Hung Bay\\rOverall Joined Rough Opening = 79 1/8\" x 70 3/4\"\\rOverall Joined Unit = 80 7/16\" x 70 1/4\"\\rDimensional Entry Type = Standard Sizes (By Center\\rWidth)\\rInstallation Zip Code = 55082\\rU.S. ENERGY STAR® Climate Zone = Northern\\rSearch by Unit Code = No\\rUnit 1, 3: Frame Width = 21 5/8\\rUnit 1, 3: Frame Height = 68 7/8\\rUnit 2: Frame Width = 41 5/8\\rUnit 2: Frame Height = 68 7/8\\rUnit Code = TW45-3456-18\\rCombination Operation / Venting = Active (All)\\rVenting / Handing = AA\\rExterior Color = Dark Bronze\\rExterior Sash/Panel Color = Dark Bronze\\rInterior Species = Pine\\rInterior Finish Color = White - Painted\\rJamb Liner Color = White\\rGlass Construction Type = Dual Pane\\rGlass Option = Low-E4\\rHigh Altitude Breather Tubes = No\\rGlass Strength = Tempered\\rSpecialty Glass = Reed Vertical\\rGas Fill = Argon\\rNone\\rDP/PG Upgrade = No\\rSash Lift Type = Hand Lift\\rSash Lift Style = Traditional\\rSash Lift Color/Finish = Antique Brass\\rLock Hardware Style = Traditional\\rNumber of Sash Locks = 1\\rLock Hardware Color/Finish = White (Factory Applied)\\rWindow Opening Control Device = No\\rSecurity Sensor Type = None\\rInsect Screen Type = Half Screen\\rInsect Screen Material = TruScene\\rInsect Screen Color = Sandtone\\rBay/Bow Option Type = Standard\\rBay/Bow/Box Extension Jamb Color = White - Painted\\rHead and Seat Board Species = Pine\\rHead and Seat Board Finish Color = White - Painted\\rOverall Wall Depth = 6 9/16\"\\rPlatform Boards = Top and Bottom Platforms\\rAngle Bay/Bow Supports = w/Cable Support System\\rTop Auxiliary Casing = Top Auxiliary\\rAuxiliary Casing Colors = Dark Bronze\\rCasing Application Location = Shipped Loose\\rTrim Board = Fibrex Cellular Trim Board\\rInstallation Material Options = No\\rRe-Order Item = No\\rRoom Location = None\\rUnit 1, 3: Unit U-Factor = ---\\rUnit 1, 3: Unit Solar Heat Gain Coefficient (SHGC) = ---', '1', '$51.40', '$51.40'], ['32', '300-14', '400 Series Double-Hung Bay\\rOverall Joined Rough Opening = 79 1/8\" x 70 3/4\"\\rOverall Joined Unit = 80 7/16\" x 70 1/4\"\\rDimensional Entry Type = Standard Sizes (By Center\\rWidth)\\rInstallation Zip Code = 55082\\rU.S. ENERGY STAR® Climate Zone = Northern\\rSearch by Unit Code = No\\rUnit 1, 3: Frame Width = 21 5/8\\rUnit 1, 3: Frame Height = 68 7/8\\rUnit 2: Frame Width = 41 5/8\\rUnit 2: Frame Height = 68 7/8\\rUnit Code = TW45-3456-18\\rCombination Operation / Venting = Active (All)\\rVenting / Handing = AA\\rExterior Color = Dark Bronze\\rExterior Sash/Panel Color = Dark Bronze\\rInterior Species = Pine\\rInterior Finish Color = White - Painted\\rJamb Liner Color = White\\rGlass Construction Type = Dual Pane\\rGlass Option = Low-E4\\rHigh Altitude Breather Tubes = No\\rGlass Strength = Tempered\\rSpecialty Glass = Reed Vertical\\rGas Fill = Argon\\rNone\\rDP/PG Upgrade = No\\rSash Lift Type = Hand Lift\\rSash Lift Style = Traditional\\rSash Lift Color/Finish = Antique Brass\\rLock Hardware Style = Traditional\\rNumber of Sash Locks = 1\\rLock Hardware Color/Finish = White (Factory Applied)\\rWindow Opening Control Device = No\\rSecurity Sensor Type = None\\rInsect Screen Type = Half Screen\\rInsect Screen Material = TruScene\\rInsect Screen Color = Sandtone\\rBay/Bow Option Type = Standard\\rBay/Bow/Box Extension Jamb Color = White - Painted\\rHead and Seat Board Species = Pine\\rHead and Seat Board Finish Color = White - Painted\\rOverall Wall Depth = 6 9/16\"\\rPlatform Boards = Top and Bottom Platforms\\rAngle Bay/Bow Supports = w/Cable Support System\\rTop Auxiliary Casing = Top Auxiliary\\rAuxiliary Casing Colors = Dark Bronze\\rCasing Application Location = Shipped Loose\\rTrim Board = Fibrex Cellular Trim Board\\rInstallation Material Options = No\\rRe-Order Item = No\\rRoom Location = None\\rUnit 1, 3: Unit U-Factor = ---\\rUnit 1, 3: Unit Solar Heat Gain Coefficient (SHGC) = ---', '1', '$95.00', '$95.00'], ['33', '300-15', '400 Series Double-Hung Bay\\rOverall Joined Rough Opening = 79 1/8\" x 70 3/4\"\\rOverall Joined Unit = 80 7/16\" x 70 1/4\"\\rDimensional Entry Type = Standard Sizes (By Center\\rWidth)\\rInstallation Zip Code = 55082\\rU.S. ENERGY STAR® Climate Zone = Northern\\rSearch by Unit Code = No\\rUnit 1, 3: Frame Width = 21 5/8\\rUnit 1, 3: Frame Height = 68 7/8\\rUnit 2: Frame Width = 41 5/8\\rUnit 2: Frame Height = 68 7/8\\rUnit Code = TW45-3456-18\\rCombination Operation / Venting = Active (All)\\rVenting / Handing = AA\\rExterior Color = Dark Bronze\\rExterior Sash/Panel Color = Dark Bronze\\rInterior Species = Pine\\rInterior Finish Color = White - Painted\\rJamb Liner Color = White\\rGlass Construction Type = Dual Pane\\rGlass Option = Low-E4\\rHigh Altitude Breather Tubes = No\\rGlass Strength = Tempered\\rSpecialty Glass = Reed Vertical\\rGas Fill = Argon\\rNone\\rDP/PG Upgrade = No\\rSash Lift Type = Hand Lift\\rSash Lift Style = Traditional\\rSash Lift Color/Finish = Antique Brass\\rLock Hardware Style = Traditional\\rNumber of Sash Locks = 1\\rLock Hardware Color/Finish = White (Factory Applied)\\rWindow Opening Control Device = No\\rSecurity Sensor Type = None\\rInsect Screen Type = Half Screen\\rInsect Screen Material = TruScene\\rInsect Screen Color = Sandtone\\rBay/Bow Option Type = Standard\\rBay/Bow/Box Extension Jamb Color = White - Painted\\rHead and Seat Board Species = Pine\\rHead and Seat Board Finish Color = White - Painted\\rOverall Wall Depth = 6 9/16\"\\rPlatform Boards = Top and Bottom Platforms\\rAngle Bay/Bow Supports = w/Cable Support System\\rTop Auxiliary Casing = Top Auxiliary\\rAuxiliary Casing Colors = Dark Bronze\\rCasing Application Location = Shipped Loose\\rTrim Board = Fibrex Cellular Trim Board\\rInstallation Material Options = No\\rRe-Order Item = No\\rRoom Location = None\\rUnit 1, 3: Unit U-Factor = ---\\rUnit 1, 3: Unit Solar Heat Gain Coefficient (SHGC) = ---', '1', '$135.80', '$135.80'], ['18', '400-1', '400 Series Casement Bow\\rOverall Joined Rough Opening = 120 3/8\" x 73 7/8\"\\rOverall Joined Unit = 120 3/4\" x 73 3/8\"\\rDimensional Entry Type = Overall Width, Angle\\rInstallation Zip Code = 55082\\rU.S. ENERGY STAR® Climate Zone = Northern\\rSearch by Unit Code = No\\rFrame Width = 24 1/8\\rFrame Height = 71 7/8\\rUnit 1, 2, 4, 5: Unit Code = C56-BOW\\rUnit 1, 2, 4, 5: Combination Operation / Venting =\\rStationary-Stationary-Left-Stationary-Stationary\\rUnit 1, 2, 4, 5: Venting / Handing = Stationary\\rUnit 3: Unit Code = C56-BOW\\rUnit 3: Combination Operation / Venting =\\rStationary-Stationary-Left-Stationary-Stationary\\rUnit 3: Venting / Handing = Left\\rUnit 3: Hinge Style = Hinge with Wash Mode\\rExterior Color = White\\rExterior Sash/Panel Color = White\\rInterior Species = Pine\\rInterior Finish Color = White - Vinyl Wrapped\\rGlass Construction Type = Dual Pane\\rGlass Option = Low-E4 SmartSun\\rHigh Altitude Breather Tubes = No\\rGlass Strength = Tempered\\rGlass Tint = No Tint\\rSpecialty Glass = Fern\\rGas Fill = Argon\\rArt Glass Series = None\\rRemovable Interior Grille\\rColonial\\rGrille Pattern = Colonial\\rGrille Bar Width = 7/8\"\\rExterior Grille Color = White\\rInterior Grille Species = Maple\\rInterior Grille Color = White\\r2W6H\\rGrille Alignment Type = Standard Grille Alignment\\rDP/PG Upgrade = No\\rHardware Style = Contemporary Folding\\rHardware Color/Finish = Bright Brass\\rCorrosion Resistant Hardware = None\\rWindow Opening Control Device = No\\rSecurity Sensor Type = None\\rInsect Screen Type = Full Screen\\rInsect Screen Material = Aluminum\\rInsect Screen Color = White\\rBay/Bow Option Type = Walkout\\rBay/Bow/Box Extension Jamb Color = White - Painted\\rHead and Seat Board Species = Pine\\rHead and Seat Board Finish Color = White - Painted\\rOverall Wall Depth = 5 1/4\"\\rPlatform Boards = Top and Bottom Platforms\\rAngle Bay/Bow Supports = w/Cable Support System', '1', '$6,801.00', '$6,801.00'], ['19', '400-2', '400 Series Casement Bow $75.60\\rOverall Joined Rough Opening = 120 3/8\" x 73 7/8\"\\rOverall Joined Unit = 120 3/4\" x 73 3/8\"\\rDimensional Entry Type = Overall Width, Angle\\rInstallation Zip Code = 55082\\rU.S. ENERGY STAR® Climate Zone = Northern\\rSearch by Unit Code = No\\rFrame Width = 24 1/8\\rFrame Height = 71 7/8\\rUnit 1, 2, 4, 5: Unit Code = C56-BOW\\rUnit 1, 2, 4, 5: Combination Operation / Venting =\\rStationary-Stationary-Left-Stationary-Stationary\\rUnit 1, 2, 4, 5: Venting / Handing = Stationary\\rUnit 3: Unit Code = C56-BOW\\rUnit 3: Combination Operation / Venting =\\rStationary-Stationary-Left-Stationary-Stationary\\rUnit 3: Venting / Handing = Left\\rUnit 3: Hinge Style = Hinge with Wash Mode\\rExterior Color = White\\rExterior Sash/Panel Color = White\\rInterior Species = Pine\\rInterior Finish Color = White - Vinyl Wrapped\\rGlass Construction Type = Dual Pane\\rGlass Option = Low-E4 SmartSun\\rHigh Altitude Breather Tubes = No\\rGlass Strength = Tempered\\rGlass Tint = No Tint\\rSpecialty Glass = Fern\\rGas Fill = Argon\\rArt Glass Series = None\\rRemovable Interior Grille\\rColonial\\rGrille Pattern = Colonial\\rGrille Bar Width = 7/8\"\\rExterior Grille Color = White\\rInterior Grille Species = Maple\\rInterior Grille Color = White\\r2W6H\\rGrille Alignment Type = Standard Grille Alignment\\rDP/PG Upgrade = No\\rHardware Style = Contemporary Folding\\rHardware Color/Finish = Bright Brass\\rCorrosion Resistant Hardware = None\\rWindow Opening Control Device = No\\rSecurity Sensor Type = None\\rInsect Screen Type = Full Screen\\rInsect Screen Material = Aluminum\\rInsect Screen Color = White\\rBay/Bow Option Type = Walkout\\rBay/Bow/Box Extension Jamb Color = White - Painted\\rHead and Seat Board Species = Pine\\rHead and Seat Board Finish Color = White - Painted\\rOverall Wall Depth = 5 1/4\"\\rPlatform Boards = Top and Bottom Platforms\\rAngle Bay/Bow Supports = w/Cable Support System', '1', '$75.60', '$75.60'], ['20', '400-3', '400 Series Casement Bow\\rOverall Joined Rough Opening = 120 3/8\" x 73 7/8\"\\rOverall Joined Unit = 120 3/4\" x 73 3/8\"\\rDimensional Entry Type = Overall Width, Angle\\rInstallation Zip Code = 55082\\rU.S. ENERGY STAR® Climate Zone = Northern\\rSearch by Unit Code = No\\rFrame Width = 24 1/8\\rFrame Height = 71 7/8\\rUnit 1, 2, 4, 5: Unit Code = C56-BOW\\rUnit 1, 2, 4, 5: Combination Operation / Venting =\\rStationary-Stationary-Left-Stationary-Stationary\\rUnit 1, 2, 4, 5: Venting / Handing = Stationary\\rUnit 3: Unit Code = C56-BOW\\rUnit 3: Combination Operation / Venting =\\rStationary-Stationary-Left-Stationary-Stationary\\rUnit 3: Venting / Handing = Left\\rUnit 3: Hinge Style = Hinge with Wash Mode\\rExterior Color = White\\rExterior Sash/Panel Color = White\\rInterior Species = Pine\\rInterior Finish Color = White - Vinyl Wrapped\\rGlass Construction Type = Dual Pane\\rGlass Option = Low-E4 SmartSun\\rHigh Altitude Breather Tubes = No\\rGlass Strength = Tempered\\rGlass Tint = No Tint\\rSpecialty Glass = Fern\\rGas Fill = Argon\\rArt Glass Series = None\\rRemovable Interior Grille\\rColonial\\rGrille Pattern = Colonial\\rGrille Bar Width = 7/8\"\\rExterior Grille Color = White\\rInterior Grille Species = Maple\\rInterior Grille Color = White\\r2W6H\\rGrille Alignment Type = Standard Grille Alignment\\rDP/PG Upgrade = No\\rHardware Style = Contemporary Folding\\rHardware Color/Finish = Bright Brass\\rCorrosion Resistant Hardware = None\\rWindow Opening Control Device = No\\rSecurity Sensor Type = None\\rInsect Screen Type = Full Screen\\rInsect Screen Material = Aluminum\\rInsect Screen Color = White\\rBay/Bow Option Type = Walkout\\rBay/Bow/Box Extension Jamb Color = White - Painted\\rHead and Seat Board Species = Pine\\rHead and Seat Board Finish Color = White - Painted\\rOverall Wall Depth = 5 1/4\"\\rPlatform Boards = Top and Bottom Platforms\\rAngle Bay/Bow Supports = w/Cable Support System', '1', '$75.60', '$75.60'], ['21', '400-4', '400 Series Casement Bow\\rOverall Joined Rough Opening = 120 3/8\" x 73 7/8\"\\rOverall Joined Unit = 120 3/4\" x 73 3/8\"\\rDimensional Entry Type = Overall Width, Angle\\rInstallation Zip Code = 55082\\rU.S. ENERGY STAR® Climate Zone = Northern\\rSearch by Unit Code = No\\rFrame Width = 24 1/8\\rFrame Height = 71 7/8\\rUnit 1, 2, 4, 5: Unit Code = C56-BOW\\rUnit 1, 2, 4, 5: Combination Operation / Venting =\\rStationary-Stationary-Left-Stationary-Stationary\\rUnit 1, 2, 4, 5: Venting / Handing = Stationary\\rUnit 3: Unit Code = C56-BOW\\rUnit 3: Combination Operation / Venting =\\rStationary-Stationary-Left-Stationary-Stationary\\rUnit 3: Venting / Handing = Left\\rUnit 3: Hinge Style = Hinge with Wash Mode\\rExterior Color = White\\rExterior Sash/Panel Color = White\\rInterior Species = Pine\\rInterior Finish Color = White - Vinyl Wrapped\\rGlass Construction Type = Dual Pane\\rGlass Option = Low-E4 SmartSun\\rHigh Altitude Breather Tubes = No\\rGlass Strength = Tempered\\rGlass Tint = No Tint\\rSpecialty Glass = Fern\\rGas Fill = Argon\\rArt Glass Series = None\\rRemovable Interior Grille\\rColonial\\rGrille Pattern = Colonial\\rGrille Bar Width = 7/8\"\\rExterior Grille Color = White\\rInterior Grille Species = Maple\\rInterior Grille Color = White\\r2W6H\\rGrille Alignment Type = Standard Grille Alignment\\rDP/PG Upgrade = No\\rHardware Style = Contemporary Folding\\rHardware Color/Finish = Bright Brass\\rCorrosion Resistant Hardware = None\\rWindow Opening Control Device = No\\rSecurity Sensor Type = None\\rInsect Screen Type = Full Screen\\rInsect Screen Material = Aluminum\\rInsect Screen Color = White\\rBay/Bow Option Type = Walkout\\rBay/Bow/Box Extension Jamb Color = White - Painted\\rHead and Seat Board Species = Pine\\rHead and Seat Board Finish Color = White - Painted\\rOverall Wall Depth = 5 1/4\"\\rPlatform Boards = Top and Bottom Platforms\\rAngle Bay/Bow Supports = w/Cable Support System', '1', '$76.70', '$76.70'], ['22', '400-5', '400 Series Casement Bow\\rOverall Joined Rough Opening = 120 3/8\" x 73 7/8\"\\rOverall Joined Unit = 120 3/4\" x 73 3/8\"\\rDimensional Entry Type = Overall Width, Angle\\rInstallation Zip Code = 55082\\rU.S. ENERGY STAR® Climate Zone = Northern\\rSearch by Unit Code = No\\rFrame Width = 24 1/8\\rFrame Height = 71 7/8\\rUnit 1, 2, 4, 5: Unit Code = C56-BOW\\rUnit 1, 2, 4, 5: Combination Operation / Venting =\\rStationary-Stationary-Left-Stationary-Stationary\\rUnit 1, 2, 4, 5: Venting / Handing = Stationary\\rUnit 3: Unit Code = C56-BOW\\rUnit 3: Combination Operation / Venting =\\rStationary-Stationary-Left-Stationary-Stationary\\rUnit 3: Venting / Handing = Left\\rUnit 3: Hinge Style = Hinge with Wash Mode\\rExterior Color = White\\rExterior Sash/Panel Color = White\\rInterior Species = Pine\\rInterior Finish Color = White - Vinyl Wrapped\\rGlass Construction Type = Dual Pane\\rGlass Option = Low-E4 SmartSun\\rHigh Altitude Breather Tubes = No\\rGlass Strength = Tempered\\rGlass Tint = No Tint\\rSpecialty Glass = Fern\\rGas Fill = Argon\\rArt Glass Series = None\\rRemovable Interior Grille\\rColonial\\rGrille Pattern = Colonial\\rGrille Bar Width = 7/8\"\\rExterior Grille Color = White\\rInterior Grille Species = Maple\\rInterior Grille Color = White\\r2W6H\\rGrille Alignment Type = Standard Grille Alignment\\rDP/PG Upgrade = No\\rHardware Style = Contemporary Folding\\rHardware Color/Finish = Bright Brass\\rCorrosion Resistant Hardware = None\\rWindow Opening Control Device = No\\rSecurity Sensor Type = None\\rInsect Screen Type = Full Screen\\rInsect Screen Material = Aluminum\\rInsect Screen Color = White\\rBay/Bow Option Type = Walkout\\rBay/Bow/Box Extension Jamb Color = White - Painted\\rHead and Seat Board Species = Pine\\rHead and Seat Board Finish Color = White - Painted\\rOverall Wall Depth = 5 1/4\"\\rPlatform Boards = Top and Bottom Platforms\\rAngle Bay/Bow Supports = w/Cable Support System', '1', '$51.60', '$51.60'], ['23', '400-6', '400 Series Casement Bow\\rOverall Joined Rough Opening = 120 3/8\" x 73 7/8\"\\rOverall Joined Unit = 120 3/4\" x 73 3/8\"\\rDimensional Entry Type = Overall Width, Angle\\rInstallation Zip Code = 55082\\rU.S. ENERGY STAR® Climate Zone = Northern\\rSearch by Unit Code = No\\rFrame Width = 24 1/8\\rFrame Height = 71 7/8\\rUnit 1, 2, 4, 5: Unit Code = C56-BOW\\rUnit 1, 2, 4, 5: Combination Operation / Venting =\\rStationary-Stationary-Left-Stationary-Stationary\\rUnit 1, 2, 4, 5: Venting / Handing = Stationary\\rUnit 3: Unit Code = C56-BOW\\rUnit 3: Combination Operation / Venting =\\rStationary-Stationary-Left-Stationary-Stationary\\rUnit 3: Venting / Handing = Left\\rUnit 3: Hinge Style = Hinge with Wash Mode\\rExterior Color = White\\rExterior Sash/Panel Color = White\\rInterior Species = Pine\\rInterior Finish Color = White - Vinyl Wrapped\\rGlass Construction Type = Dual Pane\\rGlass Option = Low-E4 SmartSun\\rHigh Altitude Breather Tubes = No\\rGlass Strength = Tempered\\rGlass Tint = No Tint\\rSpecialty Glass = Fern\\rGas Fill = Argon\\rArt Glass Series = None\\rRemovable Interior Grille\\rColonial\\rGrille Pattern = Colonial\\rGrille Bar Width = 7/8\"\\rExterior Grille Color = White\\rInterior Grille Species = Maple\\rInterior Grille Color = White\\r2W6H\\rGrille Alignment Type = Standard Grille Alignment\\rDP/PG Upgrade = No\\rHardware Style = Contemporary Folding\\rHardware Color/Finish = Bright Brass\\rCorrosion Resistant Hardware = None\\rWindow Opening Control Device = No\\rSecurity Sensor Type = None\\rInsect Screen Type = Full Screen\\rInsect Screen Material = Aluminum\\rInsect Screen Color = White\\rBay/Bow Option Type = Walkout\\rBay/Bow/Box Extension Jamb Color = White - Painted\\rHead and Seat Board Species = Pine\\rHead and Seat Board Finish Color = White - Painted\\rOverall Wall Depth = 5 1/4\"\\rPlatform Boards = Top and Bottom Platforms\\rAngle Bay/Bow Supports = w/Cable Support System', nan, '$75.60', '$75.60'], ['24', '400-7', '400 Series Casement Bow\\rOverall Joined Rough Opening = 120 3/8\" x 73 7/8\"\\rOverall Joined Unit = 120 3/4\" x 73 3/8\"\\rDimensional Entry Type = Overall Width, Angle\\rInstallation Zip Code = 55082\\rU.S. ENERGY STAR® Climate Zone = Northern\\rSearch by Unit Code = No\\rFrame Width = 24 1/8\\rFrame Height = 71 7/8\\rUnit 1, 2, 4, 5: Unit Code = C56-BOW\\rUnit 1, 2, 4, 5: Combination Operation / Venting =\\rStationary-Stationary-Left-Stationary-Stationary\\rUnit 1, 2, 4, 5: Venting / Handing = Stationary\\rUnit 3: Unit Code = C56-BOW\\rUnit 3: Combination Operation / Venting =\\rStationary-Stationary-Left-Stationary-Stationary\\rUnit 3: Venting / Handing = Left\\rUnit 3: Hinge Style = Hinge with Wash Mode\\rExterior Color = White\\rExterior Sash/Panel Color = White\\rInterior Species = Pine\\rInterior Finish Color = White - Vinyl Wrapped\\rGlass Construction Type = Dual Pane\\rGlass Option = Low-E4 SmartSun\\rHigh Altitude Breather Tubes = No\\rGlass Strength = Tempered\\rGlass Tint = No Tint\\rSpecialty Glass = Fern\\rGas Fill = Argon\\rArt Glass Series = None\\rRemovable Interior Grille\\rColonial\\rGrille Pattern = Colonial\\rGrille Bar Width = 7/8\"\\rExterior Grille Color = White\\rInterior Grille Species = Maple\\rInterior Grille Color = White\\r2W6H\\rGrille Alignment Type = Standard Grille Alignment\\rDP/PG Upgrade = No\\rHardware Style = Contemporary Folding\\rHardware Color/Finish = Bright Brass\\rCorrosion Resistant Hardware = None\\rWindow Opening Control Device = No\\rSecurity Sensor Type = None\\rInsect Screen Type = Full Screen\\rInsect Screen Material = Aluminum\\rInsect Screen Color = White\\rBay/Bow Option Type = Walkout\\rBay/Bow/Box Extension Jamb Color = White - Painted\\rHead and Seat Board Species = Pine\\rHead and Seat Board Finish Color = White - Painted\\rOverall Wall Depth = 5 1/4\"\\rPlatform Boards = Top and Bottom Platforms\\rAngle Bay/Bow Supports = w/Cable Support System', '1', '$75.60', '$75.60'], ['25', '400-8', '400 Series Casement Bow\\rOverall Joined Rough Opening = 120 3/8\" x 73 7/8\"\\rOverall Joined Unit = 120 3/4\" x 73 3/8\"\\rDimensional Entry Type = Overall Width, Angle\\rInstallation Zip Code = 55082\\rU.S. ENERGY STAR® Climate Zone = Northern\\rSearch by Unit Code = No\\rFrame Width = 24 1/8\\rFrame Height = 71 7/8\\rUnit 1, 2, 4, 5: Unit Code = C56-BOW\\rUnit 1, 2, 4, 5: Combination Operation / Venting =\\rStationary-Stationary-Left-Stationary-Stationary\\rUnit 1, 2, 4, 5: Venting / Handing = Stationary\\rUnit 3: Unit Code = C56-BOW\\rUnit 3: Combination Operation / Venting =\\rStationary-Stationary-Left-Stationary-Stationary\\rUnit 3: Venting / Handing = Left\\rUnit 3: Hinge Style = Hinge with Wash Mode\\rExterior Color = White\\rExterior Sash/Panel Color = White\\rInterior Species = Pine\\rInterior Finish Color = White - Vinyl Wrapped\\rGlass Construction Type = Dual Pane\\rGlass Option = Low-E4 SmartSun\\rHigh Altitude Breather Tubes = No\\rGlass Strength = Tempered\\rGlass Tint = No Tint\\rSpecialty Glass = Fern\\rGas Fill = Argon\\rArt Glass Series = None\\rRemovable Interior Grille\\rColonial\\rGrille Pattern = Colonial\\rGrille Bar Width = 7/8\"\\rExterior Grille Color = White\\rInterior Grille Species = Maple\\rInterior Grille Color = White\\r2W6H\\rGrille Alignment Type = Standard Grille Alignment\\rDP/PG Upgrade = No\\rHardware Style = Contemporary Folding\\rHardware Color/Finish = Bright Brass\\rCorrosion Resistant Hardware = None\\rWindow Opening Control Device = No\\rSecurity Sensor Type = None\\rInsect Screen Type = Full Screen\\rInsect Screen Material = Aluminum\\rInsect Screen Color = White\\rBay/Bow Option Type = Walkout\\rBay/Bow/Box Extension Jamb Color = White - Painted\\rHead and Seat Board Species = Pine\\rHead and Seat Board Finish Color = White - Painted\\rOverall Wall Depth = 5 1/4\"\\rPlatform Boards = Top and Bottom Platforms\\rAngle Bay/Bow Supports = w/Cable Support System', '1', '$75.60', '$75.60'], ['26', '400-9', '400 Series Casement Bow\\rOverall Joined Rough Opening = 120 3/8\" x 73 7/8\"\\rOverall Joined Unit = 120 3/4\" x 73 3/8\"\\rDimensional Entry Type = Overall Width, Angle\\rInstallation Zip Code = 55082\\rU.S. ENERGY STAR® Climate Zone = Northern\\rSearch by Unit Code = No\\rFrame Width = 24 1/8\\rFrame Height = 71 7/8\\rUnit 1, 2, 4, 5: Unit Code = C56-BOW\\rUnit 1, 2, 4, 5: Combination Operation / Venting =\\rStationary-Stationary-Left-Stationary-Stationary\\rUnit 1, 2, 4, 5: Venting / Handing = Stationary\\rUnit 3: Unit Code = C56-BOW\\rUnit 3: Combination Operation / Venting =\\rStationary-Stationary-Left-Stationary-Stationary\\rUnit 3: Venting / Handing = Left\\rUnit 3: Hinge Style = Hinge with Wash Mode\\rExterior Color = White\\rExterior Sash/Panel Color = White\\rInterior Species = Pine\\rInterior Finish Color = White - Vinyl Wrapped\\rGlass Construction Type = Dual Pane\\rGlass Option = Low-E4 SmartSun\\rHigh Altitude Breather Tubes = No\\rGlass Strength = Tempered\\rGlass Tint = No Tint\\rSpecialty Glass = Fern\\rGas Fill = Argon\\rArt Glass Series = None\\rRemovable Interior Grille\\rColonial\\rGrille Pattern = Colonial\\rGrille Bar Width = 7/8\"\\rExterior Grille Color = White\\rInterior Grille Species = Maple\\rInterior Grille Color = White\\r2W6H\\rGrille Alignment Type = Standard Grille Alignment\\rDP/PG Upgrade = No\\rHardware Style = Contemporary Folding\\rHardware Color/Finish = Bright Brass\\rCorrosion Resistant Hardware = None\\rWindow Opening Control Device = No\\rSecurity Sensor Type = None\\rInsect Screen Type = Full Screen\\rInsect Screen Material = Aluminum\\rInsect Screen Color = White\\rBay/Bow Option Type = Walkout\\rBay/Bow/Box Extension Jamb Color = White - Painted\\rHead and Seat Board Species = Pine\\rHead and Seat Board Finish Color = White - Painted\\rOverall Wall Depth = 5 1/4\"\\rPlatform Boards = Top and Bottom Platforms\\rAngle Bay/Bow Supports = w/Cable Support System', '1', '$89.40', '$89.40'], ['27', '400-10', '400 Series Casement Bow\\rOverall Joined Rough Opening = 120 3/8\" x 73 7/8\"\\rOverall Joined Unit = 120 3/4\" x 73 3/8\"\\rDimensional Entry Type = Overall Width, Angle\\rInstallation Zip Code = 55082\\rU.S. ENERGY STAR® Climate Zone = Northern\\rSearch by Unit Code = No\\rFrame Width = 24 1/8\\rFrame Height = 71 7/8\\rUnit 1, 2, 4, 5: Unit Code = C56-BOW\\rUnit 1, 2, 4, 5: Combination Operation / Venting =\\rStationary-Stationary-Left-Stationary-Stationary\\rUnit 1, 2, 4, 5: Venting / Handing = Stationary\\rUnit 3: Unit Code = C56-BOW\\rUnit 3: Combination Operation / Venting =\\rStationary-Stationary-Left-Stationary-Stationary\\rUnit 3: Venting / Handing = Left\\rUnit 3: Hinge Style = Hinge with Wash Mode\\rExterior Color = White\\rExterior Sash/Panel Color = White\\rInterior Species = Pine\\rInterior Finish Color = White - Vinyl Wrapped\\rGlass Construction Type = Dual Pane\\rGlass Option = Low-E4 SmartSun\\rHigh Altitude Breather Tubes = No\\rGlass Strength = Tempered\\rGlass Tint = No Tint\\rSpecialty Glass = Fern\\rGas Fill = Argon\\rArt Glass Series = None\\rRemovable Interior Grille\\rColonial\\rGrille Pattern = Colonial\\rGrille Bar Width = 7/8\"\\rExterior Grille Color = White\\rInterior Grille Species = Maple\\rInterior Grille Color = White\\r2W6H\\rGrille Alignment Type = Standard Grille Alignment\\rDP/PG Upgrade = No\\rHardware Style = Contemporary Folding\\rHardware Color/Finish = Bright Brass\\rCorrosion Resistant Hardware = None\\rWindow Opening Control Device = No\\rSecurity Sensor Type = None\\rInsect Screen Type = Full Screen\\rInsect Screen Material = Aluminum\\rInsect Screen Color = White\\rBay/Bow Option Type = Walkout\\rBay/Bow/Box Extension Jamb Color = White - Painted\\rHead and Seat Board Species = Pine\\rHead and Seat Board Finish Color = White - Painted\\rOverall Wall Depth = 5 1/4\"\\rPlatform Boards = Top and Bottom Platforms\\rAngle Bay/Bow Supports = w/Cable Support System', '1', '$303.50', '$303.50'], ['28', '400-11', '400 Series Casement Bow\\rOverall Joined Rough Opening = 120 3/8\" x 73 7/8\"\\rOverall Joined Unit = 120 3/4\" x 73 3/8\"\\rDimensional Entry Type = Overall Width, Angle\\rInstallation Zip Code = 55082\\rU.S. ENERGY STAR® Climate Zone = Northern\\rSearch by Unit Code = No\\rFrame Width = 24 1/8\\rFrame Height = 71 7/8\\rUnit 1, 2, 4, 5: Unit Code = C56-BOW\\rUnit 1, 2, 4, 5: Combination Operation / Venting =\\rStationary-Stationary-Left-Stationary-Stationary\\rUnit 1, 2, 4, 5: Venting / Handing = Stationary\\rUnit 3: Unit Code = C56-BOW\\rUnit 3: Combination Operation / Venting =\\rStationary-Stationary-Left-Stationary-Stationary\\rUnit 3: Venting / Handing = Left\\rUnit 3: Hinge Style = Hinge with Wash Mode\\rExterior Color = White\\rExterior Sash/Panel Color = White\\rInterior Species = Pine\\rInterior Finish Color = White - Vinyl Wrapped\\rGlass Construction Type = Dual Pane\\rGlass Option = Low-E4 SmartSun\\rHigh Altitude Breather Tubes = No\\rGlass Strength = Tempered\\rGlass Tint = No Tint\\rSpecialty Glass = Fern\\rGas Fill = Argon\\rArt Glass Series = None\\rRemovable Interior Grille\\rColonial\\rGrille Pattern = Colonial\\rGrille Bar Width = 7/8\"\\rExterior Grille Color = White\\rInterior Grille Species = Maple\\rInterior Grille Color = White\\r2W6H\\rGrille Alignment Type = Standard Grille Alignment\\rDP/PG Upgrade = No\\rHardware Style = Contemporary Folding\\rHardware Color/Finish = Bright Brass\\rCorrosion Resistant Hardware = None\\rWindow Opening Control Device = No\\rSecurity Sensor Type = None\\rInsect Screen Type = Full Screen\\rInsect Screen Material = Aluminum\\rInsect Screen Color = White\\rBay/Bow Option Type = Walkout\\rBay/Bow/Box Extension Jamb Color = White - Painted\\rHead and Seat Board Species = Pine\\rHead and Seat Board Finish Color = White - Painted\\rOverall Wall Depth = 5 1/4\"\\rPlatform Boards = Top and Bottom Platforms\\rAngle Bay/Bow Supports = w/Cable Support System', '1', '$51.40', '$51.40'], ['29', '400-12', '400 Series Casement Bow\\rOverall Joined Rough Opening = 120 3/8\" x 73 7/8\"\\rOverall Joined Unit = 120 3/4\" x 73 3/8\"\\rDimensional Entry Type = Overall Width, Angle\\rInstallation Zip Code = 55082\\rU.S. ENERGY STAR® Climate Zone = Northern\\rSearch by Unit Code = No\\rFrame Width = 24 1/8\\rFrame Height = 71 7/8\\rUnit 1, 2, 4, 5: Unit Code = C56-BOW\\rUnit 1, 2, 4, 5: Combination Operation / Venting =\\rStationary-Stationary-Left-Stationary-Stationary\\rUnit 1, 2, 4, 5: Venting / Handing = Stationary\\rUnit 3: Unit Code = C56-BOW\\rUnit 3: Combination Operation / Venting =\\rStationary-Stationary-Left-Stationary-Stationary\\rUnit 3: Venting / Handing = Left\\rUnit 3: Hinge Style = Hinge with Wash Mode\\rExterior Color = White\\rExterior Sash/Panel Color = White\\rInterior Species = Pine\\rInterior Finish Color = White - Vinyl Wrapped\\rGlass Construction Type = Dual Pane\\rGlass Option = Low-E4 SmartSun\\rHigh Altitude Breather Tubes = No\\rGlass Strength = Tempered\\rGlass Tint = No Tint\\rSpecialty Glass = Fern\\rGas Fill = Argon\\rArt Glass Series = None\\rRemovable Interior Grille\\rColonial\\rGrille Pattern = Colonial\\rGrille Bar Width = 7/8\"\\rExterior Grille Color = White\\rInterior Grille Species = Maple\\rInterior Grille Color = White\\r2W6H\\rGrille Alignment Type = Standard Grille Alignment\\rDP/PG Upgrade = No\\rHardware Style = Contemporary Folding\\rHardware Color/Finish = Bright Brass\\rCorrosion Resistant Hardware = None\\rWindow Opening Control Device = No\\rSecurity Sensor Type = None\\rInsect Screen Type = Full Screen\\rInsect Screen Material = Aluminum\\rInsect Screen Color = White\\rBay/Bow Option Type = Walkout\\rBay/Bow/Box Extension Jamb Color = White - Painted\\rHead and Seat Board Species = Pine\\rHead and Seat Board Finish Color = White - Painted\\rOverall Wall Depth = 5 1/4\"\\rPlatform Boards = Top and Bottom Platforms\\rAngle Bay/Bow Supports = w/Cable Support System', '1', '$95.00', '$95.00'], ['31', '500-1', '100 Series Single Casement-CW\\rParts and Accessory Group = Hardware Components\\rHardware Component Type = Handle\\rHardware Handing = Left\\rHardware Color/Finish = White\\rRe-Order Item = No\\rRoom Location = None\\rHardware Component Part Number = 9123321\\rSKU = 288537\\rVendor Name = S/O ANDERSEN LOGISTICS\\rVendor Number = 60509030\\rCustomer Service = (888) 888-7020\\rCatalog Version Date = 06/18/2019', '1', '$7.70', '$7.70']]\n"
     ]
    }
   ],
   "source": [
    " li1 = []\n",
    "for i in da1:\n",
    "    li1.append(i)\n",
    "print(li1)"
   ]
  },
  {
   "cell_type": "code",
   "execution_count": 40,
   "metadata": {},
   "outputs": [
    {
     "name": "stdout",
     "output_type": "stream",
     "text": [
      "31\n"
     ]
    }
   ],
   "source": [
    "r = len(li)\n",
    "print(r)"
   ]
  },
  {
   "cell_type": "code",
   "execution_count": 41,
   "metadata": {},
   "outputs": [
    {
     "data": {
      "text/plain": [
       "32"
      ]
     },
     "execution_count": 41,
     "metadata": {},
     "output_type": "execute_result"
    }
   ],
   "source": [
    "t = len(li1)\n",
    "t"
   ]
  },
  {
   "cell_type": "code",
   "execution_count": 151,
   "metadata": {},
   "outputs": [
    {
     "name": "stdout",
     "output_type": "stream",
     "text": [
      "cycle: {'12': {'300-8': '+ 400 Series Double-Hung Bay'}, '19': {'400-2': '+ 400 Series Casement Bow $75.60'}}\n",
      "base: {'12': {'300-8': '- 400 Series Double-Hung Bay $66.50'}, '19': {'400-2': '- 400 Series Casement Bow'}}\n",
      "[]\n"
     ]
    }
   ],
   "source": [
    "import difflib\n",
    "cd1 = {}\n",
    "cd2 = {}\n",
    "a = []\n",
    "for i in range(r):\n",
    "    for j in range(r):\n",
    "        if li[i][0] == li1[j][0]:\n",
    "            ba = li[i][2].splitlines()\n",
    "            cy = li1[j][2].splitlines()\n",
    "            di = difflib.Differ()\n",
    "            diff = di.compare(ba,cy)\n",
    "            #print(li[i][0],li1[j][0])\n",
    "            #print ('\\n'.join(diff))\n",
    "            diff2 = '\\n'.join(diff)\n",
    "            \n",
    "            changes = [l for l in diff2.splitlines() if l.startswith('+ ')]\n",
    "            for c in changes:\n",
    "                #a.append(li[i][0] )\n",
    "                #cd1.append(li[i][0])\n",
    "                cd1.update( {li[i][0]:{li[i][1]:c}} )\n",
    "                \n",
    "            chang = [l for l in diff2.splitlines() if l.startswith('- ')]\n",
    "            for d in chang:\n",
    "                #cd1.append(li[i][0])\n",
    "                cd2.update( {li[i][0]:{li[i][1]:d}} )\n",
    "                \n",
    "            #print(len(c))\n",
    "            #diff2.append('\\n'.join(diff))\n",
    "\n",
    "        #else:\n",
    "            #print(\"\")\n",
    "        j+=1\n",
    "        \n",
    "    i+=1\n",
    "\n",
    "\n",
    "print(\"cycle:\",cd1)\n",
    "print(\"base:\",cd2)\n",
    "print(a)\n",
    "  "
   ]
  },
  {
   "cell_type": "code",
   "execution_count": 147,
   "metadata": {},
   "outputs": [
    {
     "data": {
      "text/plain": [
       "dict_values(['12', '19'])"
      ]
     },
     "execution_count": 147,
     "metadata": {},
     "output_type": "execute_result"
    }
   ],
   "source": [
    "dictOfWords = {i : a[i] for i in range(0,len(a)) }\n",
    "z=dictOfWords.values()\n",
    "z"
   ]
  },
  {
   "cell_type": "code",
   "execution_count": 152,
   "metadata": {},
   "outputs": [],
   "source": [
    "df = pd.DataFrame({'cycle': cd1,'base': cd2})\n",
    "#df.set_index(a)\n",
    "#df.to_csv(\"report.csv\")\n",
    "df.to_excel(\"report.xlsx\")"
   ]
  },
  {
   "cell_type": "code",
   "execution_count": null,
   "metadata": {
    "collapsed": true
   },
   "outputs": [],
   "source": []
  }
 ],
 "metadata": {
  "kernelspec": {
   "display_name": "Python 3",
   "language": "python",
   "name": "python3"
  },
  "language_info": {
   "codemirror_mode": {
    "name": "ipython",
    "version": 3
   },
   "file_extension": ".py",
   "mimetype": "text/x-python",
   "name": "python",
   "nbconvert_exporter": "python",
   "pygments_lexer": "ipython3",
   "version": "3.5.2"
  }
 },
 "nbformat": 4,
 "nbformat_minor": 2
}
